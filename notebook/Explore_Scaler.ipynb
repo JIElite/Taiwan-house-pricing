{
 "cells": [
  {
   "cell_type": "code",
   "execution_count": 5,
   "id": "3bc2cba9",
   "metadata": {},
   "outputs": [],
   "source": [
    "import pandas as pd\n",
    "import matplotlib.pyplot as plt"
   ]
  },
  {
   "cell_type": "code",
   "execution_count": 2,
   "id": "7385ea98",
   "metadata": {},
   "outputs": [],
   "source": [
    "def clean_and_drop(df):\n",
    "    # 只篩選有包含 '住' 用途的交易案\n",
    "    df = df.loc[df['Main_Usage_Living'] == 1]\n",
    "    df = df.drop(columns=['Main_Usage_Living'])\n",
    "\n",
    "    # 因為都是 0\n",
    "    df = df.drop(columns=['Non_City_Land_Usage', 'Main_Usage_Walk',\n",
    "                          'Main_Usage_Selling',\n",
    "                          'Main_Usage_SnE'])\n",
    "\n",
    "    # 只有 344 筆是包含工廠用途，且都不具住宅用途，故剔除\n",
    "    df = df.loc[df['Main_Usage_Manufacturing'] == 0]\n",
    "    df = df.drop(columns=['Main_Usage_Manufacturing'])\n",
    "\n",
    "    # 只有 76 筆是包含停車用途，且都不具住宅用途，故剔除\n",
    "    df = df.loc[df['Main_Usage_Parking'] == 0]\n",
    "    df = df.drop(columns=['Main_Usage_Parking'])\n",
    "\n",
    "    # 只有 78 筆有農業用途，且都不具住宅用途，故剔除\n",
    "    df = df.loc[df['Main_Usage_Farm'] == 0]\n",
    "    df = df.drop(columns=['Main_Usage_Farm'])\n",
    "\n",
    "    # NOTICE: 我沒有錢，所以我先只買 6 房以下的\n",
    "    df = df.loc[df['room'] < 6]\n",
    "\n",
    "    df = df.loc[df['trading_floors_count'] == 1]\n",
    "\n",
    "    # 雖然有 95 個樣本包含地下室，但是樣本太少，可能不足以推廣\n",
    "    # 所以先剔除，剔除完後，都是 0 所以直接 drop\n",
    "    df = df.loc[df['including_basement'] == 0]\n",
    "    df = df.drop(columns=['including_basement'])\n",
    "\n",
    "    # 所有的樣本都不包含人行道，所以直接去除這個 feature\n",
    "    df = df.drop(columns=['including_arcade'])\n",
    "\n",
    "    # 剔除交易樓層高度是 -1 (原本有一個樣本)\n",
    "    df = df.loc[df['min_floors_height'] != -1]\n",
    "\n",
    "    # 剔除交易建物是 0 個樓層的情況\n",
    "    df = df.loc[df['building_total_floors'] != 0]\n",
    "\n",
    "    # 因為車位交易 50 坪以上的資料只有 22 筆，所以先去除\n",
    "    # 因為浮點數在硬體儲存會有小數點，故不能直接用 == 50.0 去比較\n",
    "    df = df.loc[df['Parking_Area'] < 49.5]\n",
    "\n",
    "    # 把農舍，廠辦踢掉\n",
    "    df = df.loc[df['Building_Types'] < 8]\n",
    "\n",
    "    # 把超大轉移坪數刪掉\n",
    "    df = df.loc[df['Transfer_Total_Ping'] < 150]\n",
    "\n",
    "    # Transaction_Land == 0 只有 5 筆\n",
    "    df = df.loc[df['Transaction_Land'] != 0]\n",
    "\n",
    "    # 只取交易一個建物的案子\n",
    "    df = df.loc[df['Transaction_Building'] == 1]\n",
    "\n",
    "    # 交易車位數 > 3 只有 98 個案例，比較少，故去除\n",
    "    df = df.loc[df['Transaction_Parking'] <= 3]\n",
    "\n",
    "    # 目前不特別區分備註欄位是不是空的，因為用 one-hot encoding\n",
    "    # 處理了，所以 Note_<tag> 不是全部都是 0 就代表有備註的項目\n",
    "    df = df.drop(columns=['Note_Null'])\n",
    "\n",
    "    # 去除政府承購, 去除後在 future data 中皆為 0\n",
    "    df = df.loc[df['Note_Gov'] == 0]\n",
    "    df = df.drop(columns=['Note_Gov'])\n",
    "\n",
    "    # Only 85 cases in the dataset\n",
    "    df = df.drop(columns=['Note_Layer'])\n",
    "\n",
    "    # 毛胚屋，去除後皆為 0\n",
    "    df = df.loc[df['Note_BlankHouse'] == 0]\n",
    "    df = df.drop(columns=['Note_BlankHouse'])\n",
    "\n",
    "    # 債權相關，只有 3 個，去除後皆為 0\n",
    "    df = df.loc[df['Note_Debt'] == 0]\n",
    "    df = df.drop(columns=['Note_Debt'])\n",
    "\n",
    "    # 備註中有提到有電梯的只有 2 筆\n",
    "    df = df.loc[df['Note_Elevator'] == 0]\n",
    "    df = df.drop(columns=['Note_Elevator'])\n",
    "\n",
    "    # Note_Shop, 只有 110 筆\n",
    "    df = df.loc[df['Note_Shop'] == 0]\n",
    "    df = df.drop(columns=['Note_Shop'])\n",
    "\n",
    "    # All 00\n",
    "    df = df.drop(columns=['Note_Additions', 'Note_Balcony',\n",
    "                          'Note_PublicUtilities', 'Note_PartRegister',\n",
    "                          'Note_Negotiate', 'Note_OnlyParking',\n",
    "                          'Note_Overbuild', 'Note_BuildWithLandholder',\n",
    "                          'Note_Defect', 'Note_Renewal', 'Note_DistressSale ',\n",
    "                          'Note_OverdueInherit', 'Note_DeformedLand'])\n",
    "\n",
    "    # **Notice**\n",
    "    # 因為 future price data 應該是預設屋的資料，所以每一欄位的 presold 應該都要是 1\n",
    "    # 但是有其他是 0, 所以直接刪掉這個欄位\n",
    "    df = df.drop(columns=['Note_Presold'])\n",
    "\n",
    "    # 只取跟親友無關的交易\n",
    "    df = df.loc[df['Note_Relationships'] == 0]\n",
    "\n",
    "    # 我先刪除 area_m2, 因為覺得跟 area_ping 的意義很類似，但是不確定會不會有些微差距。\n",
    "    # 因為在 future data 中，manager 都是 0，所以也把這個欄位刪除\n",
    "    # trading_floor_count 有 0 的情況，這樣應該不是房屋交易\n",
    "    df = df.drop(columns=['address', 'area_m2', 'manager', 'Building_Material_stone',\n",
    "                          'TDATE', 'Total_price', '編號'])\n",
    "\n",
    "    # Convert the categorical features' dtype to 'category'\n",
    "    category_columns = ['Type', 'Month', 'Month_raw',\n",
    "                        'room', 'City_Land_Usage', 'Main_Usage_Business',\n",
    "                        'Building_Material_S', 'Building_Material_R', 'Building_Material_C',\n",
    "                        'Building_Material_steel', 'Building_Material_B',\n",
    "                        'Building_Material_W', 'Building_Material_iron',\n",
    "                        'Building_Material_tile', 'Building_Material_clay',\n",
    "                        'Building_Material_RC_reinforce',\n",
    "                        'Parking_Space_Types', 'Building_Types']\n",
    "    df.loc[:, category_columns] = df.loc[:,\n",
    "                                         category_columns].astype('category')\n",
    "    return df\n"
   ]
  },
  {
   "cell_type": "code",
   "execution_count": 3,
   "id": "a4b28105",
   "metadata": {},
   "outputs": [],
   "source": [
    "df_future = pd.read_csv('../merged_data/clean_data_future_train.csv')"
   ]
  },
  {
   "cell_type": "code",
   "execution_count": 47,
   "id": "497d03d1",
   "metadata": {},
   "outputs": [
    {
     "data": {
      "text/plain": [
       "Text(0, 0.5, 'frequency')"
      ]
     },
     "execution_count": 47,
     "metadata": {},
     "output_type": "execute_result"
    },
    {
     "data": {
      "image/png": "[encoded data removed]",
      "text/plain": [
       "<Figure size 432x288 with 1 Axes>"
      ]
     },
     "metadata": {
      "needs_background": "light"
     },
     "output_type": "display_data"
    }
   ],
   "source": [
    "df_future_ = clean_and_drop(df_future)\n",
    "plt.hist(df_future_['Unit_Price_Ping'], log=False, bins=20)\n",
    "plt.title('Histogram of Unit_Price_Ping (future data)')\n",
    "plt.xlabel('Price per Ping')\n",
    "plt.ylabel('frequency')"
   ]
  },
  {
   "cell_type": "code",
   "execution_count": 49,
   "id": "740873f1",
   "metadata": {},
   "outputs": [
    {
     "data": {
      "text/plain": [
       "(array([5.0000e+01, 4.9217e+04, 7.2055e+04, 3.0816e+04, 1.4565e+04,\n",
       "        6.9280e+03, 2.5580e+03, 2.0290e+03, 1.0060e+03, 4.8000e+02,\n",
       "        3.7900e+02, 2.2700e+02, 2.2600e+02, 2.0900e+02, 6.1000e+01,\n",
       "        3.3000e+01, 1.0000e+01, 9.0000e+00, 3.0000e+00, 4.0000e+00]),\n",
       " array([-1.87678621, -1.22471228, -0.57263835,  0.07943559,  0.73150952,\n",
       "         1.38358345,  2.03565739,  2.68773132,  3.33980525,  3.99187918,\n",
       "         4.64395312,  5.29602705,  5.94810098,  6.60017492,  7.25224885,\n",
       "         7.90432278,  8.55639672,  9.20847065,  9.86054458, 10.51261852,\n",
       "        11.16469245]),\n",
       " <BarContainer object of 20 artists>)"
      ]
     },
     "execution_count": 49,
     "metadata": {},
     "output_type": "execute_result"
    },
    {
     "data": {
      "image/png": "[encoded data removed]",
      "text/plain": [
       "<Figure size 432x288 with 1 Axes>"
      ]
     },
     "metadata": {
      "needs_background": "light"
     },
     "output_type": "display_data"
    }
   ],
   "source": [
    "\"\"\"\n",
    "Centering and scaling happen independently on each feature by computing\n",
    "the relevant statistics on the samples in the training set. Mean and\n",
    "standard deviation are then stored to be used on later data using\n",
    ":meth:`transform`.\n",
    "\n",
    "Standardization of a dataset is a common requirement for many\n",
    "machine learning estimators: they might behave badly if the\n",
    "individual features do not more or less look like standard normally\n",
    "distributed data (e.g. Gaussian with 0 mean and unit variance).\n",
    "\"\"\"\n",
    "from sklearn.preprocessing import StandardScaler\n",
    "\n",
    "scaler = StandardScaler()\n",
    "data = df_future_['Unit_Price_Ping'].array.reshape(-1, 1)\n",
    "scaler.fit(data)\n",
    "normalized_data = scaler.transform(data)\n",
    "plt.hist(normalized_data, bins=20)"
   ]
  },
  {
   "cell_type": "code",
   "execution_count": 51,
   "id": "86b7cd37",
   "metadata": {},
   "outputs": [],
   "source": [
    "from sklearn.preprocessing import MinMaxScaler\n",
    "\n",
    "min_max_scaler = MinMaxScaler()\n",
    "min_max_scaler.fit(data)\n",
    "min_max_normalized_data = min_max_scaler.transform(data)"
   ]
  },
  {
   "cell_type": "code",
   "execution_count": 52,
   "id": "824931b5",
   "metadata": {},
   "outputs": [
    {
     "data": {
      "text/plain": [
       "(array([5.0000e+01, 4.9217e+04, 7.2055e+04, 3.0816e+04, 1.4565e+04,\n",
       "        6.9280e+03, 2.5580e+03, 2.0290e+03, 1.0060e+03, 4.8000e+02,\n",
       "        3.7900e+02, 2.2700e+02, 2.2600e+02, 2.0900e+02, 6.1000e+01,\n",
       "        3.3000e+01, 1.0000e+01, 9.0000e+00, 3.0000e+00, 4.0000e+00]),\n",
       " array([0.  , 0.05, 0.1 , 0.15, 0.2 , 0.25, 0.3 , 0.35, 0.4 , 0.45, 0.5 ,\n",
       "        0.55, 0.6 , 0.65, 0.7 , 0.75, 0.8 , 0.85, 0.9 , 0.95, 1.  ]),\n",
       " <BarContainer object of 20 artists>)"
      ]
     },
     "execution_count": 52,
     "metadata": {},
     "output_type": "execute_result"
    },
    {
     "data": {
      "image/png": "[encoded data removed]",
      "text/plain": [
       "<Figure size 432x288 with 1 Axes>"
      ]
     },
     "metadata": {
      "needs_background": "light"
     },
     "output_type": "display_data"
    }
   ],
   "source": [
    "plt.hist(min_max_normalized_data, bins=20)"
   ]
  },
  {
   "cell_type": "code",
   "execution_count": 56,
   "id": "38317968",
   "metadata": {},
   "outputs": [],
   "source": [
    "from sklearn.preprocessing import MaxAbsScaler\n",
    "\n",
    "max_abs_scaler = MaxAbsScaler()\n",
    "max_abs_scaler.fit(data)\n",
    "max_abs_normalized_data = max_abs_scaler.transform(data)"
   ]
  },
  {
   "cell_type": "code",
   "execution_count": 58,
   "id": "f835c743",
   "metadata": {},
   "outputs": [
    {
     "data": {
      "text/plain": [
       "(array([5.0000e+01, 4.9217e+04, 7.2055e+04, 3.0816e+04, 1.4565e+04,\n",
       "        6.9280e+03, 2.5580e+03, 2.0290e+03, 1.0060e+03, 4.8000e+02,\n",
       "        3.7900e+02, 2.2700e+02, 2.2600e+02, 2.0900e+02, 6.1000e+01,\n",
       "        3.3000e+01, 1.0000e+01, 9.0000e+00, 3.0000e+00, 4.0000e+00]),\n",
       " array([7.25330424e-06, 5.00068906e-02, 1.00006528e-01, 1.50006165e-01,\n",
       "        2.00005803e-01, 2.50005440e-01, 3.00005077e-01, 3.50004715e-01,\n",
       "        4.00004352e-01, 4.50003989e-01, 5.00003627e-01, 5.50003264e-01,\n",
       "        6.00002901e-01, 6.50002539e-01, 7.00002176e-01, 7.50001813e-01,\n",
       "        8.00001451e-01, 8.50001088e-01, 9.00000725e-01, 9.50000363e-01,\n",
       "        1.00000000e+00]),\n",
       " <BarContainer object of 20 artists>)"
      ]
     },
     "execution_count": 58,
     "metadata": {},
     "output_type": "execute_result"
    },
    {
     "data": {
      "image/png": "[encoded data removed]",
      "text/plain": [
       "<Figure size 432x288 with 1 Axes>"
      ]
     },
     "metadata": {
      "needs_background": "light"
     },
     "output_type": "display_data"
    }
   ],
   "source": [
    "plt.hist(max_abs_normalized_data, bins=20)"
   ]
  },
  {
   "cell_type": "code",
   "execution_count": 62,
   "id": "63587d78",
   "metadata": {},
   "outputs": [
    {
     "data": {
      "text/plain": [
       "(array([2.0200e+02, 3.8300e+03, 1.3022e+04, 2.9246e+04, 4.3678e+04,\n",
       "        4.6942e+04, 2.4144e+04, 8.9610e+03, 4.8140e+03, 2.6490e+03,\n",
       "        1.5150e+03, 7.5700e+02, 4.9400e+02, 2.2400e+02, 1.2500e+02,\n",
       "        6.8000e+01, 6.9000e+01, 4.3000e+01, 4.6000e+01, 3.6000e+01]),\n",
       " array([  4. ,  11.2,  18.4,  25.6,  32.8,  40. ,  47.2,  54.4,  61.6,\n",
       "         68.8,  76. ,  83.2,  90.4,  97.6, 104.8, 112. , 119.2, 126.4,\n",
       "        133.6, 140.8, 148. ]),\n",
       " <BarContainer object of 20 artists>)"
      ]
     },
     "execution_count": 62,
     "metadata": {},
     "output_type": "execute_result"
    },
    {
     "data": {
      "image/png": "[encoded data removed]",
      "text/plain": [
       "<Figure size 432x288 with 1 Axes>"
      ]
     },
     "metadata": {
      "needs_background": "light"
     },
     "output_type": "display_data"
    }
   ],
   "source": [
    "plt.hist(df_future_['Transfer_Total_Ping'], bins=20)"
   ]
  },
  {
   "cell_type": "code",
   "execution_count": 61,
   "id": "08160a93",
   "metadata": {},
   "outputs": [
    {
     "data": {
      "text/plain": [
       "(array([2.0200e+02, 3.8300e+03, 1.3022e+04, 2.9246e+04, 4.3678e+04,\n",
       "        4.6942e+04, 2.4144e+04, 8.9610e+03, 4.8140e+03, 2.6490e+03,\n",
       "        1.5150e+03, 7.5700e+02, 4.9400e+02, 2.2400e+02, 1.2500e+02,\n",
       "        6.8000e+01, 6.9000e+01, 4.3000e+01, 4.6000e+01, 3.6000e+01]),\n",
       " array([-2.79188259, -2.24496028, -1.69803798, -1.15111567, -0.60419336,\n",
       "        -0.05727105,  0.48965126,  1.03657356,  1.58349587,  2.13041818,\n",
       "         2.67734049,  3.2242628 ,  3.7711851 ,  4.31810741,  4.86502972,\n",
       "         5.41195203,  5.95887434,  6.50579665,  7.05271895,  7.59964126,\n",
       "         8.14656357]),\n",
       " <BarContainer object of 20 artists>)"
      ]
     },
     "execution_count": 61,
     "metadata": {},
     "output_type": "execute_result"
    },
    {
     "data": {
      "image/png": "[encoded data removed]",
      "text/plain": [
       "<Figure size 432x288 with 1 Axes>"
      ]
     },
     "metadata": {
      "needs_background": "light"
     },
     "output_type": "display_data"
    }
   ],
   "source": [
    "scaler = StandardScaler()\n",
    "data = df_future_['Transfer_Total_Ping'].array.reshape(-1, 1)\n",
    "scaler.fit(data)\n",
    "normalized_data = scaler.transform(data)\n",
    "plt.hist(normalized_data, bins=20)"
   ]
  },
  {
   "cell_type": "code",
   "execution_count": 64,
   "id": "df05325d",
   "metadata": {},
   "outputs": [
    {
     "data": {
      "text/plain": [
       "(array([2.0200e+02, 3.8300e+03, 1.3022e+04, 2.9246e+04, 4.3678e+04,\n",
       "        4.6942e+04, 2.4144e+04, 8.9610e+03, 4.8140e+03, 2.6490e+03,\n",
       "        1.5150e+03, 7.5700e+02, 4.9400e+02, 2.2400e+02, 1.2500e+02,\n",
       "        6.8000e+01, 6.9000e+01, 4.3000e+01, 4.6000e+01, 3.6000e+01]),\n",
       " array([0.  , 0.05, 0.1 , 0.15, 0.2 , 0.25, 0.3 , 0.35, 0.4 , 0.45, 0.5 ,\n",
       "        0.55, 0.6 , 0.65, 0.7 , 0.75, 0.8 , 0.85, 0.9 , 0.95, 1.  ]),\n",
       " <BarContainer object of 20 artists>)"
      ]
     },
     "execution_count": 64,
     "metadata": {},
     "output_type": "execute_result"
    },
    {
     "data": {
      "image/png": "[encoded data removed]",
      "text/plain": [
       "<Figure size 432x288 with 1 Axes>"
      ]
     },
     "metadata": {
      "needs_background": "light"
     },
     "output_type": "display_data"
    }
   ],
   "source": [
    "from sklearn.preprocessing import MinMaxScaler\n",
    "\n",
    "min_max_scaler = MinMaxScaler()\n",
    "min_max_scaler.fit(data)\n",
    "min_max_normalized_data = min_max_scaler.transform(data)\n",
    "plt.hist(min_max_normalized_data, bins=20)"
   ]
  },
  {
   "cell_type": "code",
   "execution_count": 65,
   "id": "72af591d",
   "metadata": {},
   "outputs": [
    {
     "data": {
      "text/plain": [
       "(array([2.0200e+02, 3.8300e+03, 1.3022e+04, 2.9246e+04, 4.3678e+04,\n",
       "        4.6942e+04, 2.4144e+04, 8.9610e+03, 4.8140e+03, 2.8960e+03,\n",
       "        1.2680e+03, 7.5700e+02, 4.9400e+02, 2.2400e+02, 1.2500e+02,\n",
       "        6.8000e+01, 6.9000e+01, 4.3000e+01, 4.6000e+01, 3.6000e+01]),\n",
       " array([0.02702703, 0.07567568, 0.12432432, 0.17297297, 0.22162162,\n",
       "        0.27027027, 0.31891892, 0.36756757, 0.41621622, 0.46486486,\n",
       "        0.51351351, 0.56216216, 0.61081081, 0.65945946, 0.70810811,\n",
       "        0.75675676, 0.80540541, 0.85405405, 0.9027027 , 0.95135135,\n",
       "        1.        ]),\n",
       " <BarContainer object of 20 artists>)"
      ]
     },
     "execution_count": 65,
     "metadata": {},
     "output_type": "execute_result"
    },
    {
     "data": {
      "image/png": "[encoded data removed]",
      "text/plain": [
       "<Figure size 432x288 with 1 Axes>"
      ]
     },
     "metadata": {
      "needs_background": "light"
     },
     "output_type": "display_data"
    }
   ],
   "source": [
    "from sklearn.preprocessing import MaxAbsScaler\n",
    "\n",
    "max_abs_scaler = MaxAbsScaler()\n",
    "max_abs_scaler.fit(data)\n",
    "max_abs_normalized_data = max_abs_scaler.transform(data)\n",
    "plt.hist(max_abs_normalized_data, bins=20)"
   ]
  },
  {
   "cell_type": "code",
   "execution_count": null,
   "id": "3abf0f9b",
   "metadata": {},
   "outputs": [],
   "source": []
  }
 ],
 "metadata": {
  "kernelspec": {
   "display_name": "Python 3 (ipykernel)",
   "language": "python",
   "name": "python3"
  },
  "language_info": {
   "codemirror_mode": {
    "name": "ipython",
    "version": 3
   },
   "file_extension": ".py",
   "mimetype": "text/x-python",
   "name": "python",
   "nbconvert_exporter": "python",
   "pygments_lexer": "ipython3",
   "version": "3.10.4"
  }
 },
 "nbformat": 4,
 "nbformat_minor": 5
}
