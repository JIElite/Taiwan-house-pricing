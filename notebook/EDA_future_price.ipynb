{
 "cells": [
  {
   "cell_type": "code",
   "execution_count": 1,
   "id": "7f674ca2",
   "metadata": {},
   "outputs": [],
   "source": [
    "import pandas as pd\n",
    "from pandas.plotting import scatter_matrix\n",
    "import matplotlib.pyplot as plt"
   ]
  },
  {
   "cell_type": "code",
   "execution_count": 2,
   "id": "9309b5b7",
   "metadata": {},
   "outputs": [],
   "source": [
    "pd.set_option('display.max_columns', 120)\n",
    "pd.set_option('display.max_rows', 120)"
   ]
  },
  {
   "cell_type": "code",
   "execution_count": 3,
   "id": "90151ea2",
   "metadata": {},
   "outputs": [],
   "source": [
    "def clean_and_drop(df):\n",
    "    # 只篩選有包含 '住' 用途的交易案\n",
    "    df = df.loc[df['Main_Usage_Living'] == 1]\n",
    "    df = df.drop(columns=['Main_Usage_Living'])\n",
    "    \n",
    "    # 因為都是 0\n",
    "    df = df.drop(columns=['Non_City_Land_Usage', 'Main_Usage_Walk', \n",
    "                          'Main_Usage_Selling',\n",
    "                          'Main_Usage_SnE'])\n",
    "    \n",
    "    # 只有 344 筆是包含工廠用途，且都不具住宅用途，故剔除\n",
    "    df = df.loc[df['Main_Usage_Manufacturing'] == 0]\n",
    "    df = df.drop(columns=['Main_Usage_Manufacturing'])\n",
    "    \n",
    "    # 只有 76 筆是包含停車用途，且都不具住宅用途，故剔除\n",
    "    df = df.loc[df['Main_Usage_Parking'] == 0]\n",
    "    df = df.drop(columns=['Main_Usage_Parking'])\n",
    "    \n",
    "    # 只有 78 筆有農業用途，且都不具住宅用途，故剔除\n",
    "    df = df.loc[df['Main_Usage_Farm'] == 0]\n",
    "    df = df.drop(columns=['Main_Usage_Farm'])\n",
    "    \n",
    "    # NOTICE: 我沒有錢，所以我先只買 6 房以下的\n",
    "    df = df.loc[df['room'] < 6]\n",
    "    \n",
    "    df = df.loc[df['trading_floors_count'] == 1]\n",
    "    \n",
    "    # 雖然有 95 個樣本包含地下室，但是樣本太少，可能不足以推廣\n",
    "    # 所以先剔除，剔除完後，都是 0 所以直接 drop\n",
    "    df = df.loc[df['including_basement'] == 0]\n",
    "    df = df.drop(columns=['including_basement'])\n",
    "    \n",
    "    # 所有的樣本都不包含人行道，所以直接去除這個 feature\n",
    "    df = df.drop(columns=['including_arcade'])\n",
    "\n",
    "    # 剔除交易樓層高度是 -1 (原本有一個樣本)\n",
    "    df = df.loc[df['min_floors_height'] != -1]\n",
    "\n",
    "    # 剔除交易建物是 0 個樓層的情況\n",
    "    df = df.loc[df['building_total_floors'] != 0]\n",
    "    \n",
    "    # 因為車位交易 50 坪以上的資料只有 22 筆，所以先去除\n",
    "    # 因為浮點數在硬體儲存會有小數點，故不能直接用 == 50.0 去比較\n",
    "    df = df.loc[df['Parking_Area'] < 49.5]\n",
    "    \n",
    "    # 把農舍，廠辦踢掉\n",
    "    df = df.loc[df['Building_Types'] < 8]\n",
    "\n",
    "    # 把超大轉移坪數刪掉\n",
    "    df = df.loc[df['Transfer_Total_Ping'] < 150]\n",
    "    \n",
    "    # Transaction_Land == 0 只有 5 筆\n",
    "    df = df.loc[df['Transaction_Land'] != 0]\n",
    "    \n",
    "    # 只取交易一個建物的案子\n",
    "    df = df.loc[df['Transaction_Building'] == 1]\n",
    "    \n",
    "    # 交易車位數 > 3 只有 98 個案例，比較少，故去除\n",
    "    df = df.loc[df['Transaction_Parking'] <= 3]\n",
    "    \n",
    "    # 目前不特別區分備註欄位是不是空的，因為用 one-hot encoding\n",
    "    # 處理了，所以 Note_<tag> 不是全部都是 0 就代表有備註的項目\n",
    "    df = df.drop(columns=['Note_Null'])\n",
    "    \n",
    "    # 去除政府承購, 去除後在 future data 中皆為 0\n",
    "    df = df.loc[df['Note_Gov'] == 0]\n",
    "    df = df.drop(columns=['Note_Gov'])\n",
    "    \n",
    "    # Only 85 cases in the dataset\n",
    "    df = df.drop(columns=['Note_Layer'])\n",
    "\n",
    "    # 毛胚屋，去除後皆為 0\n",
    "    df = df.loc[df['Note_BlankHouse'] == 0]\n",
    "    df = df.drop(columns=['Note_BlankHouse'])\n",
    "    \n",
    "    # 債權相關，只有 3 個，去除後皆為 0\n",
    "    df = df.loc[df['Note_Debt'] == 0]\n",
    "    df = df.drop(columns=['Note_Debt'])\n",
    "    \n",
    "    # 備註中有提到有電梯的只有 2 筆\n",
    "    df = df.loc[df['Note_Elevator'] == 0]\n",
    "    df = df.drop(columns=['Note_Elevator'])\n",
    "\n",
    "    # Note_Shop, 只有 110 筆\n",
    "    df = df.loc[df['Note_Shop'] == 0]\n",
    "    df = df.drop(columns=['Note_Shop'])\n",
    "\n",
    "    # All 0\n",
    "    df = df.drop(columns=['Note_Additions', 'Note_Balcony', \n",
    "                          'Note_PublicUtilities', 'Note_PartRegister',\n",
    "                          'Note_Negotiate', 'Note_OnlyParking',\n",
    "                          'Note_Overbuild', 'Note_BuildWithLandholder',\n",
    "                          'Note_Defect', 'Note_Renewal', 'Note_DistressSale ',\n",
    "                          'Note_OverdueInherit', 'Note_DeformedLand'])\n",
    "    \n",
    "    # **Notice** \n",
    "    # 因為 future price data 應該是預設屋的資料，所以每一欄位的 presold 應該都要是 1\n",
    "    # 但是有其他是 0, 所以直接刪掉這個欄位\n",
    "    df = df.drop(columns=['Note_Presold'])\n",
    "    \n",
    "    # 只取跟親友無關的交易\n",
    "    df = df.loc[df['Note_Relationships'] == 0]\n",
    "    \n",
    "    # 我先刪除 area_m2, 因為覺得跟 area_ping 的意義很類似，但是不確定會不會有些微差距。\n",
    "    # 因為在 future data 中，manager 都是 0，所以也把這個欄位刪除\n",
    "    # trading_floor_count 有 0 的情況，這樣應該不是房屋交易\n",
    "    df = df.drop(columns=['address', 'area_m2', 'manager', 'Building_Material_stone', \n",
    "                     'TDATE', 'Total_price', '編號'])\n",
    "    \n",
    "    # Convert the categorical features' dtype to 'category'\n",
    "    category_columns = ['Type', 'Month', 'Month_raw',\n",
    "                       'room', 'City_Land_Usage', 'Main_Usage_Business',\n",
    "                       'Building_Material_S', 'Building_Material_R', 'Building_Material_C',\n",
    "                       'Building_Material_steel', 'Building_Material_B', \n",
    "                       'Building_Material_W', 'Building_Material_iron',\n",
    "                       'Building_Material_tile', 'Building_Material_clay',\n",
    "                       'Building_Material_RC_reinforce',\n",
    "                       'Parking_Space_Types', 'Building_Types']\n",
    "    df.loc[:, category_columns] = df.loc[:, category_columns].astype('category')\n",
    "    return df"
   ]
  },
  {
   "cell_type": "code",
   "execution_count": 4,
   "id": "66e77973",
   "metadata": {},
   "outputs": [],
   "source": [
    "df = pd.read_csv('../merged_data/clean_data_future_train.csv')"
   ]
  },
  {
   "cell_type": "code",
   "execution_count": 5,
   "id": "9b7d596d",
   "metadata": {},
   "outputs": [
    {
     "data": {
      "text/plain": [
       "Index(['Place_id', 'Type', 'area_m2', 'area_ping', 'TDATE', 'Month', 'room',\n",
       "       'hall', 'bathroom', 'compartment', 'manager', 'Total_price',\n",
       "       'parking_price', '編號', 'address', 'trading_floors_count',\n",
       "       'building_total_floors', 'min_floors_height', 'including_basement',\n",
       "       'including_arcade', 'City_Land_Usage', 'Parking_Area',\n",
       "       'Main_Usage_Walk', 'Main_Usage_Living', 'Main_Usage_Selling',\n",
       "       'Main_Usage_Manufacturing', 'Main_Usage_Business', 'Main_Usage_Parking',\n",
       "       'Main_Usage_SnE', 'Main_Usage_Farm', 'Building_Material_S',\n",
       "       'Building_Material_R', 'Building_Material_C', 'Building_Material_steel',\n",
       "       'Building_Material_stone', 'Building_Material_B', 'Building_Material_W',\n",
       "       'Building_Material_iron', 'Building_Material_tile',\n",
       "       'Building_Material_clay', 'Building_Material_RC_reinforce',\n",
       "       'Non_City_Land_Usage', 'Parking_Space_Types', 'Building_Types',\n",
       "       'Unit_Price_Ping', 'Transfer_Total_Ping', 'Non_City_Land_Code',\n",
       "       'Transaction_Land', 'Transaction_Building', 'Transaction_Parking',\n",
       "       'Note_Null', 'Note_Additions', 'Note_Presold', 'Note_Relationships',\n",
       "       'Note_Balcony', 'Note_PublicUtilities', 'Note_PartRegister',\n",
       "       'Note_Negotiate', 'Note_Parking', 'Note_OnlyParking', 'Note_Gov',\n",
       "       'Note_Overbuild', 'Note_Decoration', 'Note_Furniture', 'Note_Layer',\n",
       "       'Note_BuildWithLandholder', 'Note_BlankHouse', 'Note_Defect',\n",
       "       'Note_Debt', 'Note_Elevator', 'Note_Renewal', 'Note_DistressSale ',\n",
       "       'Note_OverdueInherit', 'Note_DeformedLand', 'Note_Shop', 'Month_raw',\n",
       "       'CPI', 'CPI_rate', 'unemployment rate', 'Pain_index_3month',\n",
       "       'ppen_price', 'high_price', 'low_price', 'close_price', 'qmatch',\n",
       "       'amt_millon', 'return_rate_month', 'Turnover_rate_month',\n",
       "       'outstanding_share_thousand', 'Capitalization_million',\n",
       "       'excess total _ million_usdollars', 'import_price_index_usdollars',\n",
       "       'export_price_index_usdollars', 'export_million_usdollars',\n",
       "       'import_million_usdollars', 'survival_mobility_rate',\n",
       "       'live_deposit_mobility_interest_rate', 'CCI_3month',\n",
       "       'construction_engineering_index'],\n",
       "      dtype='object')"
      ]
     },
     "execution_count": 5,
     "metadata": {},
     "output_type": "execute_result"
    }
   ],
   "source": [
    "df.columns"
   ]
  },
  {
   "cell_type": "markdown",
   "id": "ec61a7f1",
   "metadata": {},
   "source": [
    "以 Place_id(市政區) 來看, 是 heavy-tailed distribution, 而且很多市政區的資料 \\\n",
    "剩下來的 data 有多少種不同的行政區，可以藉由下面的程式碼查看\n",
    "```\n",
    "df_future['Place_id'].unique().shape # original: (226,)\n",
    "```"
   ]
  },
  {
   "cell_type": "code",
   "execution_count": 6,
   "id": "1e18cb1b",
   "metadata": {},
   "outputs": [
    {
     "name": "stdout",
     "output_type": "stream",
     "text": [
      "Number of distinct districts in the data: 226\n"
     ]
    },
    {
     "data": {
      "image/png": "[encoded data removed]",
      "text/plain": [
       "<Figure size 432x288 with 1 Axes>"
      ]
     },
     "metadata": {
      "needs_background": "light"
     },
     "output_type": "display_data"
    }
   ],
   "source": [
    "plt.hist(df['Place_id'].value_counts(), bins=30)\n",
    "plt.xlabel('number of cases(samples) in the specific district')\n",
    "plt.ylabel('frequency')\n",
    "print('Number of distinct districts in the data:', df['Place_id'].unique().shape[0])"
   ]
  },
  {
   "cell_type": "code",
   "execution_count": 7,
   "id": "a2da690a",
   "metadata": {},
   "outputs": [
    {
     "data": {
      "text/plain": [
       "3.0     89166\n",
       "2.0     77696\n",
       "4.0     15650\n",
       "1.0      9863\n",
       "0.0      9342\n",
       "5.0      1889\n",
       "6.0       127\n",
       "7.0        10\n",
       "10.0        7\n",
       "9.0         1\n",
       "Name: room, dtype: int64"
      ]
     },
     "execution_count": 7,
     "metadata": {},
     "output_type": "execute_result"
    }
   ],
   "source": [
    "df['room'].value_counts()"
   ]
  },
  {
   "cell_type": "code",
   "execution_count": 8,
   "id": "e1b9ce34",
   "metadata": {},
   "outputs": [
    {
     "name": "stdout",
     "output_type": "stream",
     "text": [
      "1    8618\n",
      "0     499\n",
      "2       1\n",
      "Name: Type, dtype: int64\n"
     ]
    }
   ],
   "source": [
    "# 查看賣出 0 樓層的交易類型是什麼? {'車位': 0, '房地(土地+建物)': 1, '房地(土地+建物)+車位': 2, '建物': 3}\n",
    "print(df.loc[df['trading_floors_count'] == 0, 'Type'].value_counts())"
   ]
  },
  {
   "cell_type": "code",
   "execution_count": 9,
   "id": "b447c416",
   "metadata": {},
   "outputs": [
    {
     "data": {
      "text/plain": [
       " 5     14972\n",
       " 4     14955\n",
       " 3     14085\n",
       " 6     13905\n",
       " 7     13324\n",
       " 1     13281\n",
       " 8     12367\n",
       " 9     12248\n",
       " 10    11572\n",
       " 11    11159\n",
       " 2     11158\n",
       " 12    10487\n",
       " 13     9845\n",
       " 14     8726\n",
       " 15     6985\n",
       " 16     3097\n",
       " 17     3040\n",
       " 18     2828\n",
       " 19     2639\n",
       " 20     2238\n",
       " 21     2031\n",
       " 22     1781\n",
       " 23     1511\n",
       " 24     1295\n",
       " 25      728\n",
       " 26      684\n",
       " 27      633\n",
       " 28      593\n",
       " 29      428\n",
       " 30      235\n",
       " 31      208\n",
       " 32      174\n",
       " 33      173\n",
       " 34      112\n",
       " 35       91\n",
       " 36       52\n",
       " 38       18\n",
       " 37       17\n",
       " 40        7\n",
       " 43        6\n",
       " 48        6\n",
       " 54        5\n",
       " 41        5\n",
       " 44        5\n",
       " 55        5\n",
       " 52        5\n",
       " 42        4\n",
       " 51        4\n",
       " 49        4\n",
       " 46        4\n",
       " 39        4\n",
       " 53        3\n",
       " 47        3\n",
       " 56        2\n",
       " 77        2\n",
       " 45        1\n",
       "-1         1\n",
       "Name: min_floors_height, dtype: int64"
      ]
     },
     "execution_count": 9,
     "metadata": {},
     "output_type": "execute_result"
    }
   ],
   "source": [
    "df['min_floors_height'].value_counts()"
   ]
  },
  {
   "cell_type": "code",
   "execution_count": 10,
   "id": "5d922b65",
   "metadata": {},
   "outputs": [
    {
     "data": {
      "text/plain": [
       "array([0])"
      ]
     },
     "execution_count": 10,
     "metadata": {},
     "output_type": "execute_result"
    }
   ],
   "source": [
    "df['including_arcade'].unique()"
   ]
  },
  {
   "cell_type": "code",
   "execution_count": 11,
   "id": "6550c636",
   "metadata": {},
   "outputs": [
    {
     "data": {
      "text/plain": [
       "0    203751\n",
       "Name: including_arcade, dtype: int64"
      ]
     },
     "execution_count": 11,
     "metadata": {},
     "output_type": "execute_result"
    }
   ],
   "source": [
    "df['including_arcade'].value_counts()"
   ]
  },
  {
   "cell_type": "code",
   "execution_count": 12,
   "id": "59fe316e",
   "metadata": {},
   "outputs": [
    {
     "name": "stdout",
     "output_type": "stream",
     "text": [
      "Parking Area > 50: 22\n",
      "0.0      34428\n",
      "9.0      31147\n",
      "8.0      27541\n",
      "10.0     25689\n",
      "7.0      19023\n",
      "11.0     17825\n",
      "12.0      7774\n",
      "6.0       6960\n",
      "5.0       5817\n",
      "4.0       4415\n",
      "13.0      3269\n",
      "3.0       2856\n",
      "14.0      2377\n",
      "2.0       1727\n",
      "18.0      1622\n",
      "17.0      1605\n",
      "15.0      1600\n",
      "19.0      1484\n",
      "16.0      1427\n",
      "20.0      1178\n",
      "22.0       883\n",
      "21.0       808\n",
      "23.0       738\n",
      "24.0       354\n",
      "25.0       244\n",
      "26.0       167\n",
      "27.0       147\n",
      "1.0        109\n",
      "28.0        82\n",
      "29.0        75\n",
      "31.0        66\n",
      "30.0        60\n",
      "32.0        41\n",
      "36.0        39\n",
      "34.0        27\n",
      "35.0        20\n",
      "41.0        19\n",
      "38.0        18\n",
      "37.0        14\n",
      "40.0        13\n",
      "33.0        12\n",
      "39.0         8\n",
      "45.0         5\n",
      "47.0         5\n",
      "53.0         4\n",
      "43.0         3\n",
      "46.0         3\n",
      "48.0         3\n",
      "51.0         2\n",
      "72.0         2\n",
      "89.0         1\n",
      "155.0        1\n",
      "153.0        1\n",
      "143.0        1\n",
      "138.0        1\n",
      "122.0        1\n",
      "96.0         1\n",
      "60.0         1\n",
      "88.0         1\n",
      "86.0         1\n",
      "76.0         1\n",
      "42.0         1\n",
      "52.0         1\n",
      "50.0         1\n",
      "49.0         1\n",
      "191.0        1\n",
      "Name: Parking_Area, dtype: int64\n"
     ]
    },
    {
     "data": {
      "text/plain": [
       "Text(0, 0.5, 'frequency')"
      ]
     },
     "execution_count": 12,
     "metadata": {},
     "output_type": "execute_result"
    },
    {
     "data": {
      "image/png": "[encoded data removed]",
      "text/plain": [
       "<Figure size 432x288 with 1 Axes>"
      ]
     },
     "metadata": {
      "needs_background": "light"
     },
     "output_type": "display_data"
    }
   ],
   "source": [
    "print('Parking Area > 50:', df.loc[df['Parking_Area'] > 49.5].shape[0])\n",
    "print(df['Parking_Area'].sort_values().value_counts())\n",
    "plt.hist(df['Parking_Area'], bins=50, log=True)\n",
    "plt.xlabel('parking area')\n",
    "plt.ylabel('frequency')"
   ]
  },
  {
   "cell_type": "code",
   "execution_count": 13,
   "id": "9506e3b3",
   "metadata": {},
   "outputs": [
    {
     "data": {
      "text/plain": [
       "1    130024\n",
       "4     54333\n",
       "0     10977\n",
       "7      7320\n",
       "2       699\n",
       "3       398\n",
       "Name: City_Land_Usage, dtype: int64"
      ]
     },
     "execution_count": 13,
     "metadata": {},
     "output_type": "execute_result"
    }
   ],
   "source": [
    "df['City_Land_Usage'].value_counts()"
   ]
  },
  {
   "cell_type": "code",
   "execution_count": 14,
   "id": "8566dc6b",
   "metadata": {},
   "outputs": [
    {
     "data": {
      "text/plain": [
       "array([0])"
      ]
     },
     "execution_count": 14,
     "metadata": {},
     "output_type": "execute_result"
    }
   ],
   "source": [
    "df['Non_City_Land_Usage'].unique()"
   ]
  },
  {
   "cell_type": "code",
   "execution_count": 15,
   "id": "d2effaa1",
   "metadata": {},
   "outputs": [
    {
     "data": {
      "text/plain": [
       "0    203407\n",
       "1       344\n",
       "Name: Main_Usage_Manufacturing, dtype: int64"
      ]
     },
     "execution_count": 15,
     "metadata": {},
     "output_type": "execute_result"
    }
   ],
   "source": [
    "df['Main_Usage_Manufacturing'].value_counts()"
   ]
  },
  {
   "cell_type": "code",
   "execution_count": 16,
   "id": "0040a367",
   "metadata": {},
   "outputs": [
    {
     "data": {
      "text/plain": [
       "0    344\n",
       "Name: Main_Usage_Living, dtype: int64"
      ]
     },
     "execution_count": 16,
     "metadata": {},
     "output_type": "execute_result"
    }
   ],
   "source": [
    "df.loc[df['Main_Usage_Manufacturing'] == 1, 'Main_Usage_Living'].value_counts()"
   ]
  },
  {
   "cell_type": "code",
   "execution_count": 17,
   "id": "4b7eb2d7",
   "metadata": {},
   "outputs": [
    {
     "data": {
      "text/plain": [
       "0    203675\n",
       "1        76\n",
       "Name: Main_Usage_Parking, dtype: int64"
      ]
     },
     "execution_count": 17,
     "metadata": {},
     "output_type": "execute_result"
    }
   ],
   "source": [
    "df['Main_Usage_Parking'].value_counts()"
   ]
  },
  {
   "cell_type": "code",
   "execution_count": 18,
   "id": "342ae9d2",
   "metadata": {},
   "outputs": [
    {
     "data": {
      "text/plain": [
       "0    76\n",
       "Name: Main_Usage_Living, dtype: int64"
      ]
     },
     "execution_count": 18,
     "metadata": {},
     "output_type": "execute_result"
    }
   ],
   "source": [
    "df.loc[df['Main_Usage_Parking'] == 1, 'Main_Usage_Living'].value_counts()"
   ]
  },
  {
   "cell_type": "code",
   "execution_count": 19,
   "id": "abc498e8",
   "metadata": {},
   "outputs": [
    {
     "data": {
      "text/plain": [
       "0    193293\n",
       "1     10458\n",
       "Name: Main_Usage_Business, dtype: int64"
      ]
     },
     "execution_count": 19,
     "metadata": {},
     "output_type": "execute_result"
    }
   ],
   "source": [
    "df['Main_Usage_Business'].value_counts()"
   ]
  },
  {
   "cell_type": "code",
   "execution_count": 20,
   "id": "3a6f7879",
   "metadata": {},
   "outputs": [
    {
     "data": {
      "text/plain": [
       "array([0])"
      ]
     },
     "execution_count": 20,
     "metadata": {},
     "output_type": "execute_result"
    }
   ],
   "source": [
    "df['Main_Usage_SnE'].unique()"
   ]
  },
  {
   "cell_type": "code",
   "execution_count": 21,
   "id": "5f628066",
   "metadata": {},
   "outputs": [
    {
     "data": {
      "text/plain": [
       "0    203673\n",
       "1        78\n",
       "Name: Main_Usage_Farm, dtype: int64"
      ]
     },
     "execution_count": 21,
     "metadata": {},
     "output_type": "execute_result"
    }
   ],
   "source": [
    "df['Main_Usage_Farm'].value_counts()"
   ]
  },
  {
   "cell_type": "code",
   "execution_count": 22,
   "id": "d7347d51",
   "metadata": {},
   "outputs": [
    {
     "data": {
      "text/plain": [
       "0    78\n",
       "Name: Main_Usage_Living, dtype: int64"
      ]
     },
     "execution_count": 22,
     "metadata": {},
     "output_type": "execute_result"
    }
   ],
   "source": [
    "df.loc[df['Main_Usage_Farm'] == 1, 'Main_Usage_Living'].value_counts()"
   ]
  },
  {
   "cell_type": "code",
   "execution_count": 23,
   "id": "78453073",
   "metadata": {},
   "outputs": [
    {
     "data": {
      "text/plain": [
       "0    153632\n",
       "1     31285\n",
       "2     10873\n",
       "3      3493\n",
       "4      1932\n",
       "5      1248\n",
       "6       703\n",
       "7       585\n",
       "Name: Parking_Space_Types, dtype: int64"
      ]
     },
     "execution_count": 23,
     "metadata": {},
     "output_type": "execute_result"
    }
   ],
   "source": [
    "df['Parking_Space_Types'].value_counts()"
   ]
  },
  {
   "cell_type": "code",
   "execution_count": 24,
   "id": "95fd5808",
   "metadata": {},
   "outputs": [
    {
     "data": {
      "text/plain": [
       "0    169537\n",
       "1     19747\n",
       "2      8947\n",
       "3      2134\n",
       "4      1619\n",
       "5       904\n",
       "6       342\n",
       "7       311\n",
       "8       168\n",
       "9        42\n",
       "Name: Building_Types, dtype: int64"
      ]
     },
     "execution_count": 24,
     "metadata": {},
     "output_type": "execute_result"
    }
   ],
   "source": [
    "# 住宅大樓(11層含以上有電梯): 0\n",
    "# 其他: 1\n",
    "# 透天厝: 2\n",
    "# 華廈(10層含以下有電梯): 3\n",
    "# 公寓(5樓含以下無電梯): 4\n",
    "# 套房(1房1廳1衛): 5\n",
    "# 店面(店鋪): 6\n",
    "# 辦公商業大樓: 7\n",
    "# 廠辦: 8\n",
    "# 農舍: 9\n",
    "# 工廠: 10\n",
    "# 倉庫: 11\n",
    "df['Building_Types'].value_counts()"
   ]
  },
  {
   "cell_type": "code",
   "execution_count": 25,
   "id": "6abf9a32",
   "metadata": {},
   "outputs": [
    {
     "data": {
      "text/plain": [
       "2021-09-18    636\n",
       "2021-09-11    609\n",
       "2021-11-05    585\n",
       "2021-09-26    575\n",
       "2021-11-06    563\n",
       "             ... \n",
       "2017-01-30      2\n",
       "2018-02-15      2\n",
       "2017-01-27      2\n",
       "2017-02-01      1\n",
       "2017-01-29      1\n",
       "Name: TDATE, Length: 1825, dtype: int64"
      ]
     },
     "execution_count": 25,
     "metadata": {},
     "output_type": "execute_result"
    }
   ],
   "source": [
    "# Redudant (compared to 'Month')\n",
    "df['TDATE'].value_counts()"
   ]
  },
  {
   "cell_type": "code",
   "execution_count": 26,
   "id": "fa9863ba",
   "metadata": {},
   "outputs": [
    {
     "data": {
      "text/plain": [
       "Text(0, 0.5, 'frequency')"
      ]
     },
     "execution_count": 26,
     "metadata": {},
     "output_type": "execute_result"
    },
    {
     "data": {
      "image/png": "[encoded data removed]",
      "text/plain": [
       "<Figure size 432x288 with 1 Axes>"
      ]
     },
     "metadata": {
      "needs_background": "light"
     },
     "output_type": "display_data"
    }
   ],
   "source": [
    "plt.hist(df['Transfer_Total_Ping'].value_counts(), bins=100)\n",
    "plt.xlabel('transfer number of ping')\n",
    "plt.ylabel('frequency')"
   ]
  },
  {
   "cell_type": "code",
   "execution_count": 27,
   "id": "2f1cfded",
   "metadata": {},
   "outputs": [
    {
     "data": {
      "text/plain": [
       "2126.0      178\n",
       "177.0        38\n",
       "207.0        19\n",
       "151.0        13\n",
       "159.0         7\n",
       "174.0         7\n",
       "171.0         7\n",
       "173.0         7\n",
       "175.0         6\n",
       "189.0         6\n",
       "161.0         6\n",
       "183.0         5\n",
       "163.0         5\n",
       "219.0         5\n",
       "204.0         5\n",
       "176.0         5\n",
       "162.0         5\n",
       "193.0         4\n",
       "155.0         4\n",
       "165.0         4\n",
       "153.0         4\n",
       "202.0         3\n",
       "190.0         3\n",
       "160.0         3\n",
       "359.0         3\n",
       "209.0         3\n",
       "156.0         3\n",
       "197.0         2\n",
       "186.0         2\n",
       "168.0         2\n",
       "187.0         2\n",
       "181.0         2\n",
       "182.0         2\n",
       "213.0         2\n",
       "201.0         2\n",
       "172.0         2\n",
       "169.0         2\n",
       "299.0         2\n",
       "194.0         1\n",
       "214.0         1\n",
       "195.0         1\n",
       "627.0         1\n",
       "301.0         1\n",
       "457.0         1\n",
       "342.0         1\n",
       "272.0         1\n",
       "211.0         1\n",
       "293.0         1\n",
       "320895.0      1\n",
       "198.0         1\n",
       "320.0         1\n",
       "205.0         1\n",
       "291.0         1\n",
       "529.0         1\n",
       "273.0         1\n",
       "289.0         1\n",
       "221.0         1\n",
       "154.0         1\n",
       "252.0         1\n",
       "167.0         1\n",
       "223.0         1\n",
       "170.0         1\n",
       "152.0         1\n",
       "265.0         1\n",
       "349.0         1\n",
       "232.0         1\n",
       "315.0         1\n",
       "210.0         1\n",
       "220.0         1\n",
       "200.0         1\n",
       "229.0         1\n",
       "208.0         1\n",
       "466.0         1\n",
       "Name: Transfer_Total_Ping, dtype: int64"
      ]
     },
     "execution_count": 27,
     "metadata": {},
     "output_type": "execute_result"
    }
   ],
   "source": [
    "df.loc[df['Transfer_Total_Ping'] > 150, 'Transfer_Total_Ping'].value_counts()"
   ]
  },
  {
   "cell_type": "code",
   "execution_count": 28,
   "id": "5a33a411",
   "metadata": {},
   "outputs": [
    {
     "data": {
      "text/html": [
       "<div>\n",
       "<style scoped>\n",
       "    .dataframe tbody tr th:only-of-type {\n",
       "        vertical-align: middle;\n",
       "    }\n",
       "\n",
       "    .dataframe tbody tr th {\n",
       "        vertical-align: top;\n",
       "    }\n",
       "\n",
       "    .dataframe thead th {\n",
       "        text-align: right;\n",
       "    }\n",
       "</style>\n",
       "<table border=\"1\" class=\"dataframe\">\n",
       "  <thead>\n",
       "    <tr style=\"text-align: right;\">\n",
       "      <th></th>\n",
       "      <th>Month_raw</th>\n",
       "      <th>Month</th>\n",
       "      <th>TDATE</th>\n",
       "    </tr>\n",
       "  </thead>\n",
       "  <tbody>\n",
       "    <tr>\n",
       "      <th>0</th>\n",
       "      <td>201612</td>\n",
       "      <td>201701</td>\n",
       "      <td>2017-01-02</td>\n",
       "    </tr>\n",
       "    <tr>\n",
       "      <th>1</th>\n",
       "      <td>201612</td>\n",
       "      <td>201701</td>\n",
       "      <td>2017-01-21</td>\n",
       "    </tr>\n",
       "    <tr>\n",
       "      <th>2</th>\n",
       "      <td>201701</td>\n",
       "      <td>201702</td>\n",
       "      <td>2017-02-09</td>\n",
       "    </tr>\n",
       "    <tr>\n",
       "      <th>3</th>\n",
       "      <td>201701</td>\n",
       "      <td>201702</td>\n",
       "      <td>2017-02-19</td>\n",
       "    </tr>\n",
       "    <tr>\n",
       "      <th>4</th>\n",
       "      <td>201701</td>\n",
       "      <td>201702</td>\n",
       "      <td>2017-02-12</td>\n",
       "    </tr>\n",
       "    <tr>\n",
       "      <th>...</th>\n",
       "      <td>...</td>\n",
       "      <td>...</td>\n",
       "      <td>...</td>\n",
       "    </tr>\n",
       "    <tr>\n",
       "      <th>203746</th>\n",
       "      <td>202111</td>\n",
       "      <td>202112</td>\n",
       "      <td>2021-12-29</td>\n",
       "    </tr>\n",
       "    <tr>\n",
       "      <th>203747</th>\n",
       "      <td>202111</td>\n",
       "      <td>202112</td>\n",
       "      <td>2021-12-16</td>\n",
       "    </tr>\n",
       "    <tr>\n",
       "      <th>203748</th>\n",
       "      <td>202111</td>\n",
       "      <td>202112</td>\n",
       "      <td>2021-12-17</td>\n",
       "    </tr>\n",
       "    <tr>\n",
       "      <th>203749</th>\n",
       "      <td>202111</td>\n",
       "      <td>202112</td>\n",
       "      <td>2021-12-20</td>\n",
       "    </tr>\n",
       "    <tr>\n",
       "      <th>203750</th>\n",
       "      <td>202111</td>\n",
       "      <td>202112</td>\n",
       "      <td>2021-12-20</td>\n",
       "    </tr>\n",
       "  </tbody>\n",
       "</table>\n",
       "<p>203751 rows × 3 columns</p>\n",
       "</div>"
      ],
      "text/plain": [
       "        Month_raw   Month       TDATE\n",
       "0          201612  201701  2017-01-02\n",
       "1          201612  201701  2017-01-21\n",
       "2          201701  201702  2017-02-09\n",
       "3          201701  201702  2017-02-19\n",
       "4          201701  201702  2017-02-12\n",
       "...           ...     ...         ...\n",
       "203746     202111  202112  2021-12-29\n",
       "203747     202111  202112  2021-12-16\n",
       "203748     202111  202112  2021-12-17\n",
       "203749     202111  202112  2021-12-20\n",
       "203750     202111  202112  2021-12-20\n",
       "\n",
       "[203751 rows x 3 columns]"
      ]
     },
     "execution_count": 28,
     "metadata": {},
     "output_type": "execute_result"
    }
   ],
   "source": [
    "df[['Month_raw', 'Month', 'TDATE']]"
   ]
  },
  {
   "cell_type": "code",
   "execution_count": 29,
   "id": "2dda4730",
   "metadata": {},
   "outputs": [
    {
     "data": {
      "text/plain": [
       "(array([ 1254.,  1540.,   808.,  1693.,  2096.,  3089., 14927.,  8536.,\n",
       "        14494., 33541., 30269., 19907.,  2941.,  9297.,  8534.,  6483.,\n",
       "            0., 11833., 11117., 21392.]),\n",
       " array([ 99.59  ,  99.8915, 100.193 , 100.4945, 100.796 , 101.0975,\n",
       "        101.399 , 101.7005, 102.002 , 102.3035, 102.605 , 102.9065,\n",
       "        103.208 , 103.5095, 103.811 , 104.1125, 104.414 , 104.7155,\n",
       "        105.017 , 105.3185, 105.62  ]),\n",
       " <BarContainer object of 20 artists>)"
      ]
     },
     "execution_count": 29,
     "metadata": {},
     "output_type": "execute_result"
    },
    {
     "data": {
      "image/png": "[encoded data removed]",
      "text/plain": [
       "<Figure size 432x288 with 1 Axes>"
      ]
     },
     "metadata": {
      "needs_background": "light"
     },
     "output_type": "display_data"
    }
   ],
   "source": [
    "plt.hist(df['CPI'], bins=20)"
   ]
  },
  {
   "cell_type": "code",
   "execution_count": 30,
   "id": "d914add9",
   "metadata": {},
   "outputs": [
    {
     "data": {
      "text/plain": [
       "(array([ 5024.,  4081.,  6565., 13207., 20084.,  5367., 12179., 12416.,\n",
       "        16556.,  3569.,  9111.,  5237., 12027.,  3142., 11350., 11024.,\n",
       "         5573., 14730., 21511., 10998.]),\n",
       " array([-1.2081  , -1.005035, -0.80197 , -0.598905, -0.39584 , -0.192775,\n",
       "         0.01029 ,  0.213355,  0.41642 ,  0.619485,  0.82255 ,  1.025615,\n",
       "         1.22868 ,  1.431745,  1.63481 ,  1.837875,  2.04094 ,  2.244005,\n",
       "         2.44707 ,  2.650135,  2.8532  ]),\n",
       " <BarContainer object of 20 artists>)"
      ]
     },
     "execution_count": 30,
     "metadata": {},
     "output_type": "execute_result"
    },
    {
     "data": {
      "image/png": "[encoded data removed]",
      "text/plain": [
       "<Figure size 432x288 with 1 Axes>"
      ]
     },
     "metadata": {
      "needs_background": "light"
     },
     "output_type": "display_data"
    }
   ],
   "source": [
    "plt.hist(df['CPI_rate'], bins=20)"
   ]
  },
  {
   "cell_type": "code",
   "execution_count": 31,
   "id": "41bbb4ea",
   "metadata": {},
   "outputs": [
    {
     "data": {
      "text/plain": [
       "(array([49965., 44335., 37027.,  6652., 29817.,  9105.,  2897.,     0.,\n",
       "        11833.,     0.,     0.,  6483.,     0.,     0.,  5637.]),\n",
       " array([4.82      , 4.90933333, 4.99866667, 5.088     , 5.17733333,\n",
       "        5.26666667, 5.356     , 5.44533333, 5.53466667, 5.624     ,\n",
       "        5.71333333, 5.80266667, 5.892     , 5.98133333, 6.07066667,\n",
       "        6.16      ]),\n",
       " <BarContainer object of 15 artists>)"
      ]
     },
     "execution_count": 31,
     "metadata": {},
     "output_type": "execute_result"
    },
    {
     "data": {
      "image/png": "[encoded data removed]",
      "text/plain": [
       "<Figure size 432x288 with 1 Axes>"
      ]
     },
     "metadata": {
      "needs_background": "light"
     },
     "output_type": "display_data"
    }
   ],
   "source": [
    "plt.hist(df['unemployment rate'], bins=15)"
   ]
  },
  {
   "cell_type": "code",
   "execution_count": 32,
   "id": "5360abfa",
   "metadata": {},
   "outputs": [
    {
     "ename": "KeyError",
     "evalue": "'D_Year_Month_Day'",
     "output_type": "error",
     "traceback": [
      "\u001b[0;31m---------------------------------------------------------------------------\u001b[0m",
      "\u001b[0;31mKeyError\u001b[0m                                  Traceback (most recent call last)",
      "File \u001b[0;32m~/anaconda3/envs/py310/lib/python3.10/site-packages/pandas/core/indexes/base.py:3621\u001b[0m, in \u001b[0;36mIndex.get_loc\u001b[0;34m(self, key, method, tolerance)\u001b[0m\n\u001b[1;32m   3620\u001b[0m \u001b[38;5;28;01mtry\u001b[39;00m:\n\u001b[0;32m-> 3621\u001b[0m     \u001b[38;5;28;01mreturn\u001b[39;00m \u001b[38;5;28;43mself\u001b[39;49m\u001b[38;5;241;43m.\u001b[39;49m\u001b[43m_engine\u001b[49m\u001b[38;5;241;43m.\u001b[39;49m\u001b[43mget_loc\u001b[49m\u001b[43m(\u001b[49m\u001b[43mcasted_key\u001b[49m\u001b[43m)\u001b[49m\n\u001b[1;32m   3622\u001b[0m \u001b[38;5;28;01mexcept\u001b[39;00m \u001b[38;5;167;01mKeyError\u001b[39;00m \u001b[38;5;28;01mas\u001b[39;00m err:\n",
      "File \u001b[0;32m~/anaconda3/envs/py310/lib/python3.10/site-packages/pandas/_libs/index.pyx:136\u001b[0m, in \u001b[0;36mpandas._libs.index.IndexEngine.get_loc\u001b[0;34m()\u001b[0m\n",
      "File \u001b[0;32m~/anaconda3/envs/py310/lib/python3.10/site-packages/pandas/_libs/index.pyx:163\u001b[0m, in \u001b[0;36mpandas._libs.index.IndexEngine.get_loc\u001b[0;34m()\u001b[0m\n",
      "File \u001b[0;32mpandas/_libs/hashtable_class_helper.pxi:5198\u001b[0m, in \u001b[0;36mpandas._libs.hashtable.PyObjectHashTable.get_item\u001b[0;34m()\u001b[0m\n",
      "File \u001b[0;32mpandas/_libs/hashtable_class_helper.pxi:5206\u001b[0m, in \u001b[0;36mpandas._libs.hashtable.PyObjectHashTable.get_item\u001b[0;34m()\u001b[0m\n",
      "\u001b[0;31mKeyError\u001b[0m: 'D_Year_Month_Day'",
      "\nThe above exception was the direct cause of the following exception:\n",
      "\u001b[0;31mKeyError\u001b[0m                                  Traceback (most recent call last)",
      "Input \u001b[0;32mIn [32]\u001b[0m, in \u001b[0;36m<cell line: 1>\u001b[0;34m()\u001b[0m\n\u001b[0;32m----> 1\u001b[0m \u001b[43mdf\u001b[49m\u001b[43m[\u001b[49m\u001b[38;5;124;43m'\u001b[39;49m\u001b[38;5;124;43mD_Year_Month_Day\u001b[39;49m\u001b[38;5;124;43m'\u001b[39;49m\u001b[43m]\u001b[49m\n",
      "File \u001b[0;32m~/anaconda3/envs/py310/lib/python3.10/site-packages/pandas/core/frame.py:3505\u001b[0m, in \u001b[0;36mDataFrame.__getitem__\u001b[0;34m(self, key)\u001b[0m\n\u001b[1;32m   3503\u001b[0m \u001b[38;5;28;01mif\u001b[39;00m \u001b[38;5;28mself\u001b[39m\u001b[38;5;241m.\u001b[39mcolumns\u001b[38;5;241m.\u001b[39mnlevels \u001b[38;5;241m>\u001b[39m \u001b[38;5;241m1\u001b[39m:\n\u001b[1;32m   3504\u001b[0m     \u001b[38;5;28;01mreturn\u001b[39;00m \u001b[38;5;28mself\u001b[39m\u001b[38;5;241m.\u001b[39m_getitem_multilevel(key)\n\u001b[0;32m-> 3505\u001b[0m indexer \u001b[38;5;241m=\u001b[39m \u001b[38;5;28;43mself\u001b[39;49m\u001b[38;5;241;43m.\u001b[39;49m\u001b[43mcolumns\u001b[49m\u001b[38;5;241;43m.\u001b[39;49m\u001b[43mget_loc\u001b[49m\u001b[43m(\u001b[49m\u001b[43mkey\u001b[49m\u001b[43m)\u001b[49m\n\u001b[1;32m   3506\u001b[0m \u001b[38;5;28;01mif\u001b[39;00m is_integer(indexer):\n\u001b[1;32m   3507\u001b[0m     indexer \u001b[38;5;241m=\u001b[39m [indexer]\n",
      "File \u001b[0;32m~/anaconda3/envs/py310/lib/python3.10/site-packages/pandas/core/indexes/base.py:3623\u001b[0m, in \u001b[0;36mIndex.get_loc\u001b[0;34m(self, key, method, tolerance)\u001b[0m\n\u001b[1;32m   3621\u001b[0m     \u001b[38;5;28;01mreturn\u001b[39;00m \u001b[38;5;28mself\u001b[39m\u001b[38;5;241m.\u001b[39m_engine\u001b[38;5;241m.\u001b[39mget_loc(casted_key)\n\u001b[1;32m   3622\u001b[0m \u001b[38;5;28;01mexcept\u001b[39;00m \u001b[38;5;167;01mKeyError\u001b[39;00m \u001b[38;5;28;01mas\u001b[39;00m err:\n\u001b[0;32m-> 3623\u001b[0m     \u001b[38;5;28;01mraise\u001b[39;00m \u001b[38;5;167;01mKeyError\u001b[39;00m(key) \u001b[38;5;28;01mfrom\u001b[39;00m \u001b[38;5;21;01merr\u001b[39;00m\n\u001b[1;32m   3624\u001b[0m \u001b[38;5;28;01mexcept\u001b[39;00m \u001b[38;5;167;01mTypeError\u001b[39;00m:\n\u001b[1;32m   3625\u001b[0m     \u001b[38;5;66;03m# If we have a listlike key, _check_indexing_error will raise\u001b[39;00m\n\u001b[1;32m   3626\u001b[0m     \u001b[38;5;66;03m#  InvalidIndexError. Otherwise we fall through and re-raise\u001b[39;00m\n\u001b[1;32m   3627\u001b[0m     \u001b[38;5;66;03m#  the TypeError.\u001b[39;00m\n\u001b[1;32m   3628\u001b[0m     \u001b[38;5;28mself\u001b[39m\u001b[38;5;241m.\u001b[39m_check_indexing_error(key)\n",
      "\u001b[0;31mKeyError\u001b[0m: 'D_Year_Month_Day'"
     ]
    }
   ],
   "source": [
    "df['D_Year_Month_Day']"
   ]
  },
  {
   "cell_type": "code",
   "execution_count": 33,
   "id": "6681498b",
   "metadata": {},
   "outputs": [
    {
     "name": "stdout",
     "output_type": "stream",
     "text": [
      "1    145147\n",
      "2     29130\n",
      "3     12124\n",
      "4      7310\n",
      "6      2893\n",
      "5      2553\n",
      "9      1950\n",
      "8      1459\n",
      "7      1180\n",
      "0         5\n",
      "Name: Transaction_Land, dtype: int64\n"
     ]
    }
   ],
   "source": [
    "print(df['Transaction_Land'].value_counts())"
   ]
  },
  {
   "cell_type": "code",
   "execution_count": 34,
   "id": "dcc1dd63",
   "metadata": {},
   "outputs": [
    {
     "data": {
      "text/plain": [
       "1    203419\n",
       "2       217\n",
       "0       115\n",
       "Name: Transaction_Building, dtype: int64"
      ]
     },
     "execution_count": 34,
     "metadata": {},
     "output_type": "execute_result"
    }
   ],
   "source": [
    "# 交易建物的數量\n",
    "df['Transaction_Building'].value_counts()"
   ]
  },
  {
   "cell_type": "code",
   "execution_count": 35,
   "id": "fdec3320",
   "metadata": {},
   "outputs": [
    {
     "name": "stdout",
     "output_type": "stream",
     "text": [
      "1    158568\n",
      "0     31213\n",
      "2     13170\n",
      "3       685\n",
      "4        98\n",
      "6         6\n",
      "5         4\n",
      "7         3\n",
      "9         3\n",
      "8         1\n",
      "Name: Transaction_Parking, dtype: int64\n",
      "1    70\n",
      "0    45\n",
      "Name: Main_Usage_Living, dtype: int64\n",
      "0    106\n",
      "1      9\n",
      "Name: Note_Parking, dtype: int64\n",
      "0    171210\n",
      "1      1213\n",
      "Name: Note_Parking, dtype: int64\n"
     ]
    },
    {
     "data": {
      "text/plain": [
       "1    158568\n",
       "0     31213\n",
       "2     13170\n",
       "3       685\n",
       "4        98\n",
       "6         6\n",
       "5         4\n",
       "7         3\n",
       "9         3\n",
       "8         1\n",
       "Name: Transaction_Parking, dtype: int64"
      ]
     },
     "execution_count": 35,
     "metadata": {},
     "output_type": "execute_result"
    }
   ],
   "source": [
    "print(df['Transaction_Parking'].value_counts())\n",
    "print(df.loc[df['Transaction_Parking'] > 3]['Main_Usage_Living'].value_counts())\n",
    "\n",
    "# Noisy!!\n",
    "print(df.loc[df['Transaction_Parking'] > 3]['Note_Parking'].value_counts())\n",
    "\n",
    "print(df.query('0 < Transaction_Parking and Transaction_Parking < 4')['Note_Parking'].value_counts())\n",
    "\n",
    "df['Transaction_Parking'].value_counts()"
   ]
  },
  {
   "cell_type": "code",
   "execution_count": 36,
   "id": "b3db21b4",
   "metadata": {},
   "outputs": [
    {
     "data": {
      "text/plain": [
       "1    187049\n",
       "0     16702\n",
       "Name: Note_Null, dtype: int64"
      ]
     },
     "execution_count": 36,
     "metadata": {},
     "output_type": "execute_result"
    }
   ],
   "source": [
    "df['Note_Null'].value_counts()"
   ]
  },
  {
   "cell_type": "code",
   "execution_count": 37,
   "id": "730d3758",
   "metadata": {},
   "outputs": [
    {
     "data": {
      "text/plain": [
       "0    203751\n",
       "Name: Note_Additions, dtype: int64"
      ]
     },
     "execution_count": 37,
     "metadata": {},
     "output_type": "execute_result"
    }
   ],
   "source": [
    "df['Note_Additions'].value_counts()"
   ]
  },
  {
   "cell_type": "code",
   "execution_count": 38,
   "id": "8184e926",
   "metadata": {},
   "outputs": [
    {
     "data": {
      "text/plain": [
       "0    197405\n",
       "1      6346\n",
       "Name: Note_Presold, dtype: int64"
      ]
     },
     "execution_count": 38,
     "metadata": {},
     "output_type": "execute_result"
    }
   ],
   "source": [
    "df['Note_Presold'].value_counts()"
   ]
  },
  {
   "cell_type": "code",
   "execution_count": 39,
   "id": "78c47831",
   "metadata": {},
   "outputs": [
    {
     "data": {
      "text/plain": [
       "0    202250\n",
       "1      1501\n",
       "Name: Note_Relationships, dtype: int64"
      ]
     },
     "execution_count": 39,
     "metadata": {},
     "output_type": "execute_result"
    }
   ],
   "source": [
    "df['Note_Relationships'].value_counts()"
   ]
  },
  {
   "cell_type": "code",
   "execution_count": 40,
   "id": "729be294",
   "metadata": {},
   "outputs": [
    {
     "data": {
      "text/plain": [
       "0    203751\n",
       "Name: Note_Balcony, dtype: int64"
      ]
     },
     "execution_count": 40,
     "metadata": {},
     "output_type": "execute_result"
    }
   ],
   "source": [
    "df['Note_Balcony'].value_counts()"
   ]
  },
  {
   "cell_type": "code",
   "execution_count": 41,
   "id": "fcf8f917",
   "metadata": {},
   "outputs": [
    {
     "data": {
      "text/plain": [
       "0    203751\n",
       "Name: Note_PublicUtilities, dtype: int64"
      ]
     },
     "execution_count": 41,
     "metadata": {},
     "output_type": "execute_result"
    }
   ],
   "source": [
    "df['Note_PublicUtilities'].value_counts()"
   ]
  },
  {
   "cell_type": "code",
   "execution_count": 42,
   "id": "c0641ada",
   "metadata": {},
   "outputs": [
    {
     "data": {
      "text/plain": [
       "0    203751\n",
       "Name: Note_PartRegister, dtype: int64"
      ]
     },
     "execution_count": 42,
     "metadata": {},
     "output_type": "execute_result"
    }
   ],
   "source": [
    "df['Note_PartRegister'].value_counts()"
   ]
  },
  {
   "cell_type": "code",
   "execution_count": 43,
   "id": "72149dfd",
   "metadata": {},
   "outputs": [
    {
     "data": {
      "text/plain": [
       "0    203751\n",
       "Name: Note_Negotiate, dtype: int64"
      ]
     },
     "execution_count": 43,
     "metadata": {},
     "output_type": "execute_result"
    }
   ],
   "source": [
    "df['Note_Negotiate'].value_counts()"
   ]
  },
  {
   "cell_type": "code",
   "execution_count": 44,
   "id": "48a0f9e4",
   "metadata": {},
   "outputs": [
    {
     "data": {
      "text/plain": [
       "0    202412\n",
       "1      1339\n",
       "Name: Note_Parking, dtype: int64"
      ]
     },
     "execution_count": 44,
     "metadata": {},
     "output_type": "execute_result"
    }
   ],
   "source": [
    "# 是不是包含車位\n",
    "df['Note_Parking'].value_counts()"
   ]
  },
  {
   "cell_type": "code",
   "execution_count": 47,
   "id": "1324784d",
   "metadata": {},
   "outputs": [
    {
     "data": {
      "text/plain": [
       "0    203751\n",
       "Name: Note_OnlyParking, dtype: int64"
      ]
     },
     "execution_count": 47,
     "metadata": {},
     "output_type": "execute_result"
    }
   ],
   "source": [
    "df['Note_OnlyParking'].value_counts()"
   ]
  },
  {
   "cell_type": "code",
   "execution_count": 48,
   "id": "4e94a6dc",
   "metadata": {},
   "outputs": [
    {
     "data": {
      "text/plain": [
       "0    203751\n",
       "Name: Note_Gov, dtype: int64"
      ]
     },
     "execution_count": 48,
     "metadata": {},
     "output_type": "execute_result"
    }
   ],
   "source": [
    "# 政府機關承購\n",
    "df['Note_Gov'].value_counts()"
   ]
  },
  {
   "cell_type": "code",
   "execution_count": 49,
   "id": "0dba5864",
   "metadata": {},
   "outputs": [
    {
     "data": {
      "text/plain": [
       "0    203751\n",
       "Name: Note_Overbuild, dtype: int64"
      ]
     },
     "execution_count": 49,
     "metadata": {},
     "output_type": "execute_result"
    }
   ],
   "source": [
    "# 頂樓加蓋\n",
    "df['Note_Overbuild'].value_counts()"
   ]
  },
  {
   "cell_type": "code",
   "execution_count": 50,
   "id": "8c86a22a",
   "metadata": {},
   "outputs": [
    {
     "data": {
      "text/plain": [
       "0    200460\n",
       "1      3291\n",
       "Name: Note_Decoration, dtype: int64"
      ]
     },
     "execution_count": 50,
     "metadata": {},
     "output_type": "execute_result"
    }
   ],
   "source": [
    "# TODO: Discussion\n",
    "df['Note_Decoration'].value_counts()"
   ]
  },
  {
   "cell_type": "code",
   "execution_count": 51,
   "id": "48199491",
   "metadata": {},
   "outputs": [
    {
     "data": {
      "text/plain": [
       "0    199152\n",
       "1      4599\n",
       "Name: Note_Furniture, dtype: int64"
      ]
     },
     "execution_count": 51,
     "metadata": {},
     "output_type": "execute_result"
    }
   ],
   "source": [
    "# TODO: Discussion\n",
    "df['Note_Furniture'].value_counts()"
   ]
  },
  {
   "cell_type": "code",
   "execution_count": 52,
   "id": "a7f77a60",
   "metadata": {},
   "outputs": [
    {
     "data": {
      "text/plain": [
       "0    203666\n",
       "1        85\n",
       "Name: Note_Layer, dtype: int64"
      ]
     },
     "execution_count": 52,
     "metadata": {},
     "output_type": "execute_result"
    }
   ],
   "source": [
    "# 夾層\n",
    "df['Note_Layer'].value_counts()"
   ]
  },
  {
   "cell_type": "code",
   "execution_count": 53,
   "id": "57f4f55d",
   "metadata": {},
   "outputs": [
    {
     "data": {
      "text/plain": [
       "0    203751\n",
       "Name: Note_BuildWithLandholder, dtype: int64"
      ]
     },
     "execution_count": 53,
     "metadata": {},
     "output_type": "execute_result"
    }
   ],
   "source": [
    "# 建商與地主合建案\n",
    "df['Note_BuildWithLandholder'].value_counts()"
   ]
  },
  {
   "cell_type": "code",
   "execution_count": 54,
   "id": "18a6de61",
   "metadata": {},
   "outputs": [
    {
     "data": {
      "text/plain": [
       "0    203173\n",
       "1       578\n",
       "Name: Note_BlankHouse, dtype: int64"
      ]
     },
     "execution_count": 54,
     "metadata": {},
     "output_type": "execute_result"
    }
   ],
   "source": [
    "# 毛胚屋\n",
    "df['Note_BlankHouse'].value_counts()"
   ]
  },
  {
   "cell_type": "code",
   "execution_count": 55,
   "id": "42f2b3e6",
   "metadata": {},
   "outputs": [
    {
     "data": {
      "text/plain": [
       "0    203751\n",
       "Name: Note_Defect, dtype: int64"
      ]
     },
     "execution_count": 55,
     "metadata": {},
     "output_type": "execute_result"
    }
   ],
   "source": [
    "# 瑕疵 or 凶宅\n",
    "df['Note_Defect'].value_counts()"
   ]
  },
  {
   "cell_type": "code",
   "execution_count": 56,
   "id": "36f6dcbb",
   "metadata": {},
   "outputs": [
    {
     "data": {
      "text/plain": [
       "0    203748\n",
       "1         3\n",
       "Name: Note_Debt, dtype: int64"
      ]
     },
     "execution_count": 56,
     "metadata": {},
     "output_type": "execute_result"
    }
   ],
   "source": [
    "# 債權債務\n",
    "df['Note_Debt'].value_counts()"
   ]
  },
  {
   "cell_type": "code",
   "execution_count": 57,
   "id": "7d4ca4df",
   "metadata": {},
   "outputs": [
    {
     "data": {
      "text/plain": [
       "0    203749\n",
       "1         2\n",
       "Name: Note_Elevator, dtype: int64"
      ]
     },
     "execution_count": 57,
     "metadata": {},
     "output_type": "execute_result"
    }
   ],
   "source": [
    "df['Note_Elevator'].value_counts()"
   ]
  },
  {
   "cell_type": "code",
   "execution_count": 58,
   "id": "d73c7a0a",
   "metadata": {},
   "outputs": [
    {
     "data": {
      "text/plain": [
       "0    203751\n",
       "Name: Note_Renewal, dtype: int64"
      ]
     },
     "execution_count": 58,
     "metadata": {},
     "output_type": "execute_result"
    }
   ],
   "source": [
    "# 都更效益\n",
    "df['Note_Renewal'].value_counts()"
   ]
  },
  {
   "cell_type": "code",
   "execution_count": 59,
   "id": "9586ff08",
   "metadata": {},
   "outputs": [
    {
     "data": {
      "text/plain": [
       "0    203751\n",
       "Name: Note_DistressSale , dtype: int64"
      ]
     },
     "execution_count": 59,
     "metadata": {},
     "output_type": "execute_result"
    }
   ],
   "source": [
    "# NOTICE:\n",
    "# Trailing blank in the column name\n",
    "# 急賣\n",
    "df['Note_DistressSale '].value_counts()"
   ]
  },
  {
   "cell_type": "code",
   "execution_count": 60,
   "id": "21c0256f",
   "metadata": {},
   "outputs": [
    {
     "data": {
      "text/plain": [
       "0    203751\n",
       "Name: Note_OverdueInherit, dtype: int64"
      ]
     },
     "execution_count": 60,
     "metadata": {},
     "output_type": "execute_result"
    }
   ],
   "source": [
    "# 逾期未辦繼承\n",
    "df['Note_OverdueInherit'].value_counts()"
   ]
  },
  {
   "cell_type": "code",
   "execution_count": 61,
   "id": "02edc2bc",
   "metadata": {},
   "outputs": [
    {
     "data": {
      "text/plain": [
       "0    203751\n",
       "Name: Note_DeformedLand, dtype: int64"
      ]
     },
     "execution_count": 61,
     "metadata": {},
     "output_type": "execute_result"
    }
   ],
   "source": [
    "# 畸零地\n",
    "df['Note_DeformedLand'].value_counts()"
   ]
  },
  {
   "cell_type": "code",
   "execution_count": 62,
   "id": "3e4d4467",
   "metadata": {},
   "outputs": [
    {
     "data": {
      "text/plain": [
       "0    203641\n",
       "1       110\n",
       "Name: Note_Shop, dtype: int64"
      ]
     },
     "execution_count": 62,
     "metadata": {},
     "output_type": "execute_result"
    }
   ],
   "source": [
    "df['Note_Shop'].value_counts()"
   ]
  },
  {
   "cell_type": "code",
   "execution_count": 63,
   "id": "098bfc93",
   "metadata": {},
   "outputs": [],
   "source": [
    "df = clean_and_drop(df)"
   ]
  },
  {
   "cell_type": "code",
   "execution_count": 64,
   "id": "2d4d0a0b",
   "metadata": {},
   "outputs": [
    {
     "data": {
      "text/html": [
       "<div>\n",
       "<style scoped>\n",
       "    .dataframe tbody tr th:only-of-type {\n",
       "        vertical-align: middle;\n",
       "    }\n",
       "\n",
       "    .dataframe tbody tr th {\n",
       "        vertical-align: top;\n",
       "    }\n",
       "\n",
       "    .dataframe thead th {\n",
       "        text-align: right;\n",
       "    }\n",
       "</style>\n",
       "<table border=\"1\" class=\"dataframe\">\n",
       "  <thead>\n",
       "    <tr style=\"text-align: right;\">\n",
       "      <th></th>\n",
       "      <th>Place_id</th>\n",
       "      <th>Type</th>\n",
       "      <th>area_ping</th>\n",
       "      <th>Month</th>\n",
       "      <th>room</th>\n",
       "      <th>hall</th>\n",
       "      <th>bathroom</th>\n",
       "      <th>compartment</th>\n",
       "      <th>parking_price</th>\n",
       "      <th>trading_floors_count</th>\n",
       "      <th>building_total_floors</th>\n",
       "      <th>min_floors_height</th>\n",
       "      <th>City_Land_Usage</th>\n",
       "      <th>Parking_Area</th>\n",
       "      <th>Main_Usage_Business</th>\n",
       "      <th>Building_Material_S</th>\n",
       "      <th>Building_Material_R</th>\n",
       "      <th>Building_Material_C</th>\n",
       "      <th>Building_Material_steel</th>\n",
       "      <th>Building_Material_B</th>\n",
       "      <th>Building_Material_W</th>\n",
       "      <th>Building_Material_iron</th>\n",
       "      <th>Building_Material_tile</th>\n",
       "      <th>Building_Material_clay</th>\n",
       "      <th>Building_Material_RC_reinforce</th>\n",
       "      <th>Parking_Space_Types</th>\n",
       "      <th>Building_Types</th>\n",
       "      <th>Unit_Price_Ping</th>\n",
       "      <th>Transfer_Total_Ping</th>\n",
       "      <th>Non_City_Land_Code</th>\n",
       "      <th>Transaction_Land</th>\n",
       "      <th>Transaction_Building</th>\n",
       "      <th>Transaction_Parking</th>\n",
       "      <th>Note_Relationships</th>\n",
       "      <th>Note_Parking</th>\n",
       "      <th>Note_Decoration</th>\n",
       "      <th>Note_Furniture</th>\n",
       "      <th>Month_raw</th>\n",
       "      <th>CPI</th>\n",
       "      <th>CPI_rate</th>\n",
       "      <th>unemployment rate</th>\n",
       "      <th>Pain_index_3month</th>\n",
       "      <th>ppen_price</th>\n",
       "      <th>high_price</th>\n",
       "      <th>low_price</th>\n",
       "      <th>close_price</th>\n",
       "      <th>qmatch</th>\n",
       "      <th>amt_millon</th>\n",
       "      <th>return_rate_month</th>\n",
       "      <th>Turnover_rate_month</th>\n",
       "      <th>outstanding_share_thousand</th>\n",
       "      <th>Capitalization_million</th>\n",
       "      <th>excess total _ million_usdollars</th>\n",
       "      <th>import_price_index_usdollars</th>\n",
       "      <th>export_price_index_usdollars</th>\n",
       "      <th>export_million_usdollars</th>\n",
       "      <th>import_million_usdollars</th>\n",
       "      <th>survival_mobility_rate</th>\n",
       "      <th>live_deposit_mobility_interest_rate</th>\n",
       "      <th>CCI_3month</th>\n",
       "      <th>construction_engineering_index</th>\n",
       "    </tr>\n",
       "  </thead>\n",
       "  <tbody>\n",
       "    <tr>\n",
       "      <th>1</th>\n",
       "      <td>242</td>\n",
       "      <td>0</td>\n",
       "      <td>3.0</td>\n",
       "      <td>201701</td>\n",
       "      <td>2.0</td>\n",
       "      <td>2.0</td>\n",
       "      <td>1.0</td>\n",
       "      <td>1</td>\n",
       "      <td>0.0</td>\n",
       "      <td>1</td>\n",
       "      <td>18</td>\n",
       "      <td>11</td>\n",
       "      <td>4</td>\n",
       "      <td>8.0</td>\n",
       "      <td>1</td>\n",
       "      <td>0</td>\n",
       "      <td>1</td>\n",
       "      <td>1</td>\n",
       "      <td>0</td>\n",
       "      <td>0</td>\n",
       "      <td>0</td>\n",
       "      <td>0</td>\n",
       "      <td>0</td>\n",
       "      <td>0</td>\n",
       "      <td>0</td>\n",
       "      <td>0</td>\n",
       "      <td>0</td>\n",
       "      <td>309908.8326</td>\n",
       "      <td>33.0</td>\n",
       "      <td>0</td>\n",
       "      <td>1</td>\n",
       "      <td>1</td>\n",
       "      <td>1</td>\n",
       "      <td>0</td>\n",
       "      <td>0</td>\n",
       "      <td>0</td>\n",
       "      <td>0</td>\n",
       "      <td>201612</td>\n",
       "      <td>100.34</td>\n",
       "      <td>1.6925</td>\n",
       "      <td>4.99</td>\n",
       "      <td>5.4825</td>\n",
       "      <td>9245.55</td>\n",
       "      <td>9430.34</td>\n",
       "      <td>9078.64</td>\n",
       "      <td>9253.50</td>\n",
       "      <td>35298</td>\n",
       "      <td>1235892</td>\n",
       "      <td>0.1384</td>\n",
       "      <td>5.1209</td>\n",
       "      <td>689283423</td>\n",
       "      <td>27201163</td>\n",
       "      <td>82482</td>\n",
       "      <td>103.70</td>\n",
       "      <td>102.09</td>\n",
       "      <td>23247.9</td>\n",
       "      <td>20664.4</td>\n",
       "      <td>0.08</td>\n",
       "      <td>0.2</td>\n",
       "      <td>77.22</td>\n",
       "      <td>101.05</td>\n",
       "    </tr>\n",
       "    <tr>\n",
       "      <th>2</th>\n",
       "      <td>242</td>\n",
       "      <td>0</td>\n",
       "      <td>2.0</td>\n",
       "      <td>201702</td>\n",
       "      <td>1.0</td>\n",
       "      <td>1.0</td>\n",
       "      <td>1.0</td>\n",
       "      <td>1</td>\n",
       "      <td>0.0</td>\n",
       "      <td>1</td>\n",
       "      <td>18</td>\n",
       "      <td>10</td>\n",
       "      <td>4</td>\n",
       "      <td>8.0</td>\n",
       "      <td>1</td>\n",
       "      <td>0</td>\n",
       "      <td>1</td>\n",
       "      <td>1</td>\n",
       "      <td>0</td>\n",
       "      <td>0</td>\n",
       "      <td>0</td>\n",
       "      <td>0</td>\n",
       "      <td>0</td>\n",
       "      <td>0</td>\n",
       "      <td>0</td>\n",
       "      <td>0</td>\n",
       "      <td>0</td>\n",
       "      <td>322579.9640</td>\n",
       "      <td>27.0</td>\n",
       "      <td>0</td>\n",
       "      <td>1</td>\n",
       "      <td>1</td>\n",
       "      <td>1</td>\n",
       "      <td>0</td>\n",
       "      <td>0</td>\n",
       "      <td>0</td>\n",
       "      <td>0</td>\n",
       "      <td>201701</td>\n",
       "      <td>100.32</td>\n",
       "      <td>2.2422</td>\n",
       "      <td>4.98</td>\n",
       "      <td>6.0222</td>\n",
       "      <td>9252.56</td>\n",
       "      <td>9468.34</td>\n",
       "      <td>9235.95</td>\n",
       "      <td>9447.95</td>\n",
       "      <td>28103</td>\n",
       "      <td>1024124</td>\n",
       "      <td>2.1014</td>\n",
       "      <td>4.0707</td>\n",
       "      <td>690360680</td>\n",
       "      <td>27807016</td>\n",
       "      <td>58813</td>\n",
       "      <td>105.56</td>\n",
       "      <td>103.26</td>\n",
       "      <td>21816.5</td>\n",
       "      <td>19971.2</td>\n",
       "      <td>0.08</td>\n",
       "      <td>0.2</td>\n",
       "      <td>74.35</td>\n",
       "      <td>101.67</td>\n",
       "    </tr>\n",
       "    <tr>\n",
       "      <th>3</th>\n",
       "      <td>242</td>\n",
       "      <td>0</td>\n",
       "      <td>2.0</td>\n",
       "      <td>201702</td>\n",
       "      <td>1.0</td>\n",
       "      <td>1.0</td>\n",
       "      <td>1.0</td>\n",
       "      <td>1</td>\n",
       "      <td>0.0</td>\n",
       "      <td>1</td>\n",
       "      <td>18</td>\n",
       "      <td>11</td>\n",
       "      <td>4</td>\n",
       "      <td>8.0</td>\n",
       "      <td>1</td>\n",
       "      <td>0</td>\n",
       "      <td>1</td>\n",
       "      <td>1</td>\n",
       "      <td>0</td>\n",
       "      <td>0</td>\n",
       "      <td>0</td>\n",
       "      <td>0</td>\n",
       "      <td>0</td>\n",
       "      <td>0</td>\n",
       "      <td>0</td>\n",
       "      <td>0</td>\n",
       "      <td>0</td>\n",
       "      <td>316923.7402</td>\n",
       "      <td>27.0</td>\n",
       "      <td>0</td>\n",
       "      <td>1</td>\n",
       "      <td>1</td>\n",
       "      <td>1</td>\n",
       "      <td>0</td>\n",
       "      <td>0</td>\n",
       "      <td>0</td>\n",
       "      <td>0</td>\n",
       "      <td>201701</td>\n",
       "      <td>100.32</td>\n",
       "      <td>2.2422</td>\n",
       "      <td>4.98</td>\n",
       "      <td>6.0222</td>\n",
       "      <td>9252.56</td>\n",
       "      <td>9468.34</td>\n",
       "      <td>9235.95</td>\n",
       "      <td>9447.95</td>\n",
       "      <td>28103</td>\n",
       "      <td>1024124</td>\n",
       "      <td>2.1014</td>\n",
       "      <td>4.0707</td>\n",
       "      <td>690360680</td>\n",
       "      <td>27807016</td>\n",
       "      <td>58813</td>\n",
       "      <td>105.56</td>\n",
       "      <td>103.26</td>\n",
       "      <td>21816.5</td>\n",
       "      <td>19971.2</td>\n",
       "      <td>0.08</td>\n",
       "      <td>0.2</td>\n",
       "      <td>74.35</td>\n",
       "      <td>101.67</td>\n",
       "    </tr>\n",
       "    <tr>\n",
       "      <th>4</th>\n",
       "      <td>242</td>\n",
       "      <td>0</td>\n",
       "      <td>4.0</td>\n",
       "      <td>201702</td>\n",
       "      <td>3.0</td>\n",
       "      <td>2.0</td>\n",
       "      <td>1.0</td>\n",
       "      <td>1</td>\n",
       "      <td>0.0</td>\n",
       "      <td>1</td>\n",
       "      <td>18</td>\n",
       "      <td>14</td>\n",
       "      <td>4</td>\n",
       "      <td>8.0</td>\n",
       "      <td>1</td>\n",
       "      <td>0</td>\n",
       "      <td>1</td>\n",
       "      <td>1</td>\n",
       "      <td>0</td>\n",
       "      <td>0</td>\n",
       "      <td>0</td>\n",
       "      <td>0</td>\n",
       "      <td>0</td>\n",
       "      <td>0</td>\n",
       "      <td>0</td>\n",
       "      <td>0</td>\n",
       "      <td>0</td>\n",
       "      <td>304698.8918</td>\n",
       "      <td>39.0</td>\n",
       "      <td>0</td>\n",
       "      <td>1</td>\n",
       "      <td>1</td>\n",
       "      <td>1</td>\n",
       "      <td>0</td>\n",
       "      <td>0</td>\n",
       "      <td>0</td>\n",
       "      <td>0</td>\n",
       "      <td>201701</td>\n",
       "      <td>100.32</td>\n",
       "      <td>2.2422</td>\n",
       "      <td>4.98</td>\n",
       "      <td>6.0222</td>\n",
       "      <td>9252.56</td>\n",
       "      <td>9468.34</td>\n",
       "      <td>9235.95</td>\n",
       "      <td>9447.95</td>\n",
       "      <td>28103</td>\n",
       "      <td>1024124</td>\n",
       "      <td>2.1014</td>\n",
       "      <td>4.0707</td>\n",
       "      <td>690360680</td>\n",
       "      <td>27807016</td>\n",
       "      <td>58813</td>\n",
       "      <td>105.56</td>\n",
       "      <td>103.26</td>\n",
       "      <td>21816.5</td>\n",
       "      <td>19971.2</td>\n",
       "      <td>0.08</td>\n",
       "      <td>0.2</td>\n",
       "      <td>74.35</td>\n",
       "      <td>101.67</td>\n",
       "    </tr>\n",
       "    <tr>\n",
       "      <th>5</th>\n",
       "      <td>242</td>\n",
       "      <td>0</td>\n",
       "      <td>4.0</td>\n",
       "      <td>201702</td>\n",
       "      <td>3.0</td>\n",
       "      <td>2.0</td>\n",
       "      <td>1.0</td>\n",
       "      <td>1</td>\n",
       "      <td>0.0</td>\n",
       "      <td>1</td>\n",
       "      <td>18</td>\n",
       "      <td>15</td>\n",
       "      <td>4</td>\n",
       "      <td>8.0</td>\n",
       "      <td>1</td>\n",
       "      <td>0</td>\n",
       "      <td>1</td>\n",
       "      <td>1</td>\n",
       "      <td>0</td>\n",
       "      <td>0</td>\n",
       "      <td>0</td>\n",
       "      <td>0</td>\n",
       "      <td>0</td>\n",
       "      <td>0</td>\n",
       "      <td>0</td>\n",
       "      <td>0</td>\n",
       "      <td>0</td>\n",
       "      <td>299601.3482</td>\n",
       "      <td>39.0</td>\n",
       "      <td>0</td>\n",
       "      <td>1</td>\n",
       "      <td>1</td>\n",
       "      <td>1</td>\n",
       "      <td>0</td>\n",
       "      <td>0</td>\n",
       "      <td>0</td>\n",
       "      <td>0</td>\n",
       "      <td>201701</td>\n",
       "      <td>100.32</td>\n",
       "      <td>2.2422</td>\n",
       "      <td>4.98</td>\n",
       "      <td>6.0222</td>\n",
       "      <td>9252.56</td>\n",
       "      <td>9468.34</td>\n",
       "      <td>9235.95</td>\n",
       "      <td>9447.95</td>\n",
       "      <td>28103</td>\n",
       "      <td>1024124</td>\n",
       "      <td>2.1014</td>\n",
       "      <td>4.0707</td>\n",
       "      <td>690360680</td>\n",
       "      <td>27807016</td>\n",
       "      <td>58813</td>\n",
       "      <td>105.56</td>\n",
       "      <td>103.26</td>\n",
       "      <td>21816.5</td>\n",
       "      <td>19971.2</td>\n",
       "      <td>0.08</td>\n",
       "      <td>0.2</td>\n",
       "      <td>74.35</td>\n",
       "      <td>101.67</td>\n",
       "    </tr>\n",
       "    <tr>\n",
       "      <th>...</th>\n",
       "      <td>...</td>\n",
       "      <td>...</td>\n",
       "      <td>...</td>\n",
       "      <td>...</td>\n",
       "      <td>...</td>\n",
       "      <td>...</td>\n",
       "      <td>...</td>\n",
       "      <td>...</td>\n",
       "      <td>...</td>\n",
       "      <td>...</td>\n",
       "      <td>...</td>\n",
       "      <td>...</td>\n",
       "      <td>...</td>\n",
       "      <td>...</td>\n",
       "      <td>...</td>\n",
       "      <td>...</td>\n",
       "      <td>...</td>\n",
       "      <td>...</td>\n",
       "      <td>...</td>\n",
       "      <td>...</td>\n",
       "      <td>...</td>\n",
       "      <td>...</td>\n",
       "      <td>...</td>\n",
       "      <td>...</td>\n",
       "      <td>...</td>\n",
       "      <td>...</td>\n",
       "      <td>...</td>\n",
       "      <td>...</td>\n",
       "      <td>...</td>\n",
       "      <td>...</td>\n",
       "      <td>...</td>\n",
       "      <td>...</td>\n",
       "      <td>...</td>\n",
       "      <td>...</td>\n",
       "      <td>...</td>\n",
       "      <td>...</td>\n",
       "      <td>...</td>\n",
       "      <td>...</td>\n",
       "      <td>...</td>\n",
       "      <td>...</td>\n",
       "      <td>...</td>\n",
       "      <td>...</td>\n",
       "      <td>...</td>\n",
       "      <td>...</td>\n",
       "      <td>...</td>\n",
       "      <td>...</td>\n",
       "      <td>...</td>\n",
       "      <td>...</td>\n",
       "      <td>...</td>\n",
       "      <td>...</td>\n",
       "      <td>...</td>\n",
       "      <td>...</td>\n",
       "      <td>...</td>\n",
       "      <td>...</td>\n",
       "      <td>...</td>\n",
       "      <td>...</td>\n",
       "      <td>...</td>\n",
       "      <td>...</td>\n",
       "      <td>...</td>\n",
       "      <td>...</td>\n",
       "      <td>...</td>\n",
       "    </tr>\n",
       "    <tr>\n",
       "      <th>203745</th>\n",
       "      <td>892</td>\n",
       "      <td>1</td>\n",
       "      <td>11.0</td>\n",
       "      <td>202112</td>\n",
       "      <td>3.0</td>\n",
       "      <td>2.0</td>\n",
       "      <td>2.0</td>\n",
       "      <td>1</td>\n",
       "      <td>0.0</td>\n",
       "      <td>1</td>\n",
       "      <td>5</td>\n",
       "      <td>3</td>\n",
       "      <td>1</td>\n",
       "      <td>0.0</td>\n",
       "      <td>1</td>\n",
       "      <td>0</td>\n",
       "      <td>1</td>\n",
       "      <td>1</td>\n",
       "      <td>0</td>\n",
       "      <td>0</td>\n",
       "      <td>0</td>\n",
       "      <td>0</td>\n",
       "      <td>0</td>\n",
       "      <td>0</td>\n",
       "      <td>0</td>\n",
       "      <td>1</td>\n",
       "      <td>1</td>\n",
       "      <td>194040.5426</td>\n",
       "      <td>27.0</td>\n",
       "      <td>0</td>\n",
       "      <td>1</td>\n",
       "      <td>1</td>\n",
       "      <td>0</td>\n",
       "      <td>0</td>\n",
       "      <td>0</td>\n",
       "      <td>0</td>\n",
       "      <td>0</td>\n",
       "      <td>202111</td>\n",
       "      <td>105.62</td>\n",
       "      <td>2.8532</td>\n",
       "      <td>4.87</td>\n",
       "      <td>6.5132</td>\n",
       "      <td>17021.80</td>\n",
       "      <td>17986.20</td>\n",
       "      <td>17021.80</td>\n",
       "      <td>17427.80</td>\n",
       "      <td>120589</td>\n",
       "      <td>7668790</td>\n",
       "      <td>2.5920</td>\n",
       "      <td>16.3983</td>\n",
       "      <td>735375176</td>\n",
       "      <td>53502315</td>\n",
       "      <td>74619</td>\n",
       "      <td>127.23</td>\n",
       "      <td>115.75</td>\n",
       "      <td>38330.6</td>\n",
       "      <td>35648.9</td>\n",
       "      <td>0.04</td>\n",
       "      <td>0.1</td>\n",
       "      <td>73.33</td>\n",
       "      <td>125.81</td>\n",
       "    </tr>\n",
       "    <tr>\n",
       "      <th>203746</th>\n",
       "      <td>892</td>\n",
       "      <td>1</td>\n",
       "      <td>12.0</td>\n",
       "      <td>202112</td>\n",
       "      <td>3.0</td>\n",
       "      <td>2.0</td>\n",
       "      <td>2.0</td>\n",
       "      <td>1</td>\n",
       "      <td>0.0</td>\n",
       "      <td>1</td>\n",
       "      <td>5</td>\n",
       "      <td>1</td>\n",
       "      <td>1</td>\n",
       "      <td>0.0</td>\n",
       "      <td>1</td>\n",
       "      <td>0</td>\n",
       "      <td>1</td>\n",
       "      <td>1</td>\n",
       "      <td>0</td>\n",
       "      <td>0</td>\n",
       "      <td>0</td>\n",
       "      <td>0</td>\n",
       "      <td>0</td>\n",
       "      <td>0</td>\n",
       "      <td>0</td>\n",
       "      <td>1</td>\n",
       "      <td>1</td>\n",
       "      <td>224754.7304</td>\n",
       "      <td>29.0</td>\n",
       "      <td>0</td>\n",
       "      <td>1</td>\n",
       "      <td>1</td>\n",
       "      <td>0</td>\n",
       "      <td>0</td>\n",
       "      <td>0</td>\n",
       "      <td>0</td>\n",
       "      <td>0</td>\n",
       "      <td>202111</td>\n",
       "      <td>105.62</td>\n",
       "      <td>2.8532</td>\n",
       "      <td>4.87</td>\n",
       "      <td>6.5132</td>\n",
       "      <td>17021.80</td>\n",
       "      <td>17986.20</td>\n",
       "      <td>17021.80</td>\n",
       "      <td>17427.80</td>\n",
       "      <td>120589</td>\n",
       "      <td>7668790</td>\n",
       "      <td>2.5920</td>\n",
       "      <td>16.3983</td>\n",
       "      <td>735375176</td>\n",
       "      <td>53502315</td>\n",
       "      <td>74619</td>\n",
       "      <td>127.23</td>\n",
       "      <td>115.75</td>\n",
       "      <td>38330.6</td>\n",
       "      <td>35648.9</td>\n",
       "      <td>0.04</td>\n",
       "      <td>0.1</td>\n",
       "      <td>73.33</td>\n",
       "      <td>125.81</td>\n",
       "    </tr>\n",
       "    <tr>\n",
       "      <th>203748</th>\n",
       "      <td>880</td>\n",
       "      <td>1</td>\n",
       "      <td>5.0</td>\n",
       "      <td>202112</td>\n",
       "      <td>2.0</td>\n",
       "      <td>1.0</td>\n",
       "      <td>2.0</td>\n",
       "      <td>1</td>\n",
       "      <td>0.0</td>\n",
       "      <td>1</td>\n",
       "      <td>9</td>\n",
       "      <td>5</td>\n",
       "      <td>0</td>\n",
       "      <td>0.0</td>\n",
       "      <td>1</td>\n",
       "      <td>0</td>\n",
       "      <td>1</td>\n",
       "      <td>1</td>\n",
       "      <td>0</td>\n",
       "      <td>0</td>\n",
       "      <td>0</td>\n",
       "      <td>0</td>\n",
       "      <td>0</td>\n",
       "      <td>0</td>\n",
       "      <td>0</td>\n",
       "      <td>1</td>\n",
       "      <td>1</td>\n",
       "      <td>192430.6180</td>\n",
       "      <td>20.0</td>\n",
       "      <td>3</td>\n",
       "      <td>1</td>\n",
       "      <td>1</td>\n",
       "      <td>0</td>\n",
       "      <td>0</td>\n",
       "      <td>0</td>\n",
       "      <td>0</td>\n",
       "      <td>0</td>\n",
       "      <td>202111</td>\n",
       "      <td>105.62</td>\n",
       "      <td>2.8532</td>\n",
       "      <td>4.87</td>\n",
       "      <td>6.5132</td>\n",
       "      <td>17021.80</td>\n",
       "      <td>17986.20</td>\n",
       "      <td>17021.80</td>\n",
       "      <td>17427.80</td>\n",
       "      <td>120589</td>\n",
       "      <td>7668790</td>\n",
       "      <td>2.5920</td>\n",
       "      <td>16.3983</td>\n",
       "      <td>735375176</td>\n",
       "      <td>53502315</td>\n",
       "      <td>74619</td>\n",
       "      <td>127.23</td>\n",
       "      <td>115.75</td>\n",
       "      <td>38330.6</td>\n",
       "      <td>35648.9</td>\n",
       "      <td>0.04</td>\n",
       "      <td>0.1</td>\n",
       "      <td>73.33</td>\n",
       "      <td>125.81</td>\n",
       "    </tr>\n",
       "    <tr>\n",
       "      <th>203749</th>\n",
       "      <td>880</td>\n",
       "      <td>1</td>\n",
       "      <td>5.0</td>\n",
       "      <td>202112</td>\n",
       "      <td>2.0</td>\n",
       "      <td>1.0</td>\n",
       "      <td>2.0</td>\n",
       "      <td>1</td>\n",
       "      <td>0.0</td>\n",
       "      <td>1</td>\n",
       "      <td>9</td>\n",
       "      <td>8</td>\n",
       "      <td>0</td>\n",
       "      <td>0.0</td>\n",
       "      <td>1</td>\n",
       "      <td>0</td>\n",
       "      <td>1</td>\n",
       "      <td>1</td>\n",
       "      <td>0</td>\n",
       "      <td>0</td>\n",
       "      <td>0</td>\n",
       "      <td>0</td>\n",
       "      <td>0</td>\n",
       "      <td>0</td>\n",
       "      <td>0</td>\n",
       "      <td>1</td>\n",
       "      <td>1</td>\n",
       "      <td>119818.7210</td>\n",
       "      <td>35.0</td>\n",
       "      <td>3</td>\n",
       "      <td>1</td>\n",
       "      <td>1</td>\n",
       "      <td>0</td>\n",
       "      <td>0</td>\n",
       "      <td>0</td>\n",
       "      <td>0</td>\n",
       "      <td>0</td>\n",
       "      <td>202111</td>\n",
       "      <td>105.62</td>\n",
       "      <td>2.8532</td>\n",
       "      <td>4.87</td>\n",
       "      <td>6.5132</td>\n",
       "      <td>17021.80</td>\n",
       "      <td>17986.20</td>\n",
       "      <td>17021.80</td>\n",
       "      <td>17427.80</td>\n",
       "      <td>120589</td>\n",
       "      <td>7668790</td>\n",
       "      <td>2.5920</td>\n",
       "      <td>16.3983</td>\n",
       "      <td>735375176</td>\n",
       "      <td>53502315</td>\n",
       "      <td>74619</td>\n",
       "      <td>127.23</td>\n",
       "      <td>115.75</td>\n",
       "      <td>38330.6</td>\n",
       "      <td>35648.9</td>\n",
       "      <td>0.04</td>\n",
       "      <td>0.1</td>\n",
       "      <td>73.33</td>\n",
       "      <td>125.81</td>\n",
       "    </tr>\n",
       "    <tr>\n",
       "      <th>203750</th>\n",
       "      <td>880</td>\n",
       "      <td>1</td>\n",
       "      <td>6.0</td>\n",
       "      <td>202112</td>\n",
       "      <td>2.0</td>\n",
       "      <td>1.0</td>\n",
       "      <td>2.0</td>\n",
       "      <td>1</td>\n",
       "      <td>0.0</td>\n",
       "      <td>1</td>\n",
       "      <td>9</td>\n",
       "      <td>4</td>\n",
       "      <td>0</td>\n",
       "      <td>0.0</td>\n",
       "      <td>1</td>\n",
       "      <td>0</td>\n",
       "      <td>1</td>\n",
       "      <td>1</td>\n",
       "      <td>0</td>\n",
       "      <td>0</td>\n",
       "      <td>0</td>\n",
       "      <td>0</td>\n",
       "      <td>0</td>\n",
       "      <td>0</td>\n",
       "      <td>0</td>\n",
       "      <td>1</td>\n",
       "      <td>1</td>\n",
       "      <td>112423.6464</td>\n",
       "      <td>38.0</td>\n",
       "      <td>3</td>\n",
       "      <td>1</td>\n",
       "      <td>1</td>\n",
       "      <td>0</td>\n",
       "      <td>0</td>\n",
       "      <td>0</td>\n",
       "      <td>0</td>\n",
       "      <td>0</td>\n",
       "      <td>202111</td>\n",
       "      <td>105.62</td>\n",
       "      <td>2.8532</td>\n",
       "      <td>4.87</td>\n",
       "      <td>6.5132</td>\n",
       "      <td>17021.80</td>\n",
       "      <td>17986.20</td>\n",
       "      <td>17021.80</td>\n",
       "      <td>17427.80</td>\n",
       "      <td>120589</td>\n",
       "      <td>7668790</td>\n",
       "      <td>2.5920</td>\n",
       "      <td>16.3983</td>\n",
       "      <td>735375176</td>\n",
       "      <td>53502315</td>\n",
       "      <td>74619</td>\n",
       "      <td>127.23</td>\n",
       "      <td>115.75</td>\n",
       "      <td>38330.6</td>\n",
       "      <td>35648.9</td>\n",
       "      <td>0.04</td>\n",
       "      <td>0.1</td>\n",
       "      <td>73.33</td>\n",
       "      <td>125.81</td>\n",
       "    </tr>\n",
       "  </tbody>\n",
       "</table>\n",
       "<p>180865 rows × 61 columns</p>\n",
       "</div>"
      ],
      "text/plain": [
       "        Place_id Type  area_ping   Month room  hall  bathroom  compartment  \\\n",
       "1            242    0        3.0  201701  2.0   2.0       1.0            1   \n",
       "2            242    0        2.0  201702  1.0   1.0       1.0            1   \n",
       "3            242    0        2.0  201702  1.0   1.0       1.0            1   \n",
       "4            242    0        4.0  201702  3.0   2.0       1.0            1   \n",
       "5            242    0        4.0  201702  3.0   2.0       1.0            1   \n",
       "...          ...  ...        ...     ...  ...   ...       ...          ...   \n",
       "203745       892    1       11.0  202112  3.0   2.0       2.0            1   \n",
       "203746       892    1       12.0  202112  3.0   2.0       2.0            1   \n",
       "203748       880    1        5.0  202112  2.0   1.0       2.0            1   \n",
       "203749       880    1        5.0  202112  2.0   1.0       2.0            1   \n",
       "203750       880    1        6.0  202112  2.0   1.0       2.0            1   \n",
       "\n",
       "        parking_price  trading_floors_count  building_total_floors  \\\n",
       "1                 0.0                     1                     18   \n",
       "2                 0.0                     1                     18   \n",
       "3                 0.0                     1                     18   \n",
       "4                 0.0                     1                     18   \n",
       "5                 0.0                     1                     18   \n",
       "...               ...                   ...                    ...   \n",
       "203745            0.0                     1                      5   \n",
       "203746            0.0                     1                      5   \n",
       "203748            0.0                     1                      9   \n",
       "203749            0.0                     1                      9   \n",
       "203750            0.0                     1                      9   \n",
       "\n",
       "        min_floors_height City_Land_Usage  Parking_Area Main_Usage_Business  \\\n",
       "1                      11               4           8.0                   1   \n",
       "2                      10               4           8.0                   1   \n",
       "3                      11               4           8.0                   1   \n",
       "4                      14               4           8.0                   1   \n",
       "5                      15               4           8.0                   1   \n",
       "...                   ...             ...           ...                 ...   \n",
       "203745                  3               1           0.0                   1   \n",
       "203746                  1               1           0.0                   1   \n",
       "203748                  5               0           0.0                   1   \n",
       "203749                  8               0           0.0                   1   \n",
       "203750                  4               0           0.0                   1   \n",
       "\n",
       "       Building_Material_S Building_Material_R Building_Material_C  \\\n",
       "1                        0                   1                   1   \n",
       "2                        0                   1                   1   \n",
       "3                        0                   1                   1   \n",
       "4                        0                   1                   1   \n",
       "5                        0                   1                   1   \n",
       "...                    ...                 ...                 ...   \n",
       "203745                   0                   1                   1   \n",
       "203746                   0                   1                   1   \n",
       "203748                   0                   1                   1   \n",
       "203749                   0                   1                   1   \n",
       "203750                   0                   1                   1   \n",
       "\n",
       "       Building_Material_steel Building_Material_B Building_Material_W  \\\n",
       "1                            0                   0                   0   \n",
       "2                            0                   0                   0   \n",
       "3                            0                   0                   0   \n",
       "4                            0                   0                   0   \n",
       "5                            0                   0                   0   \n",
       "...                        ...                 ...                 ...   \n",
       "203745                       0                   0                   0   \n",
       "203746                       0                   0                   0   \n",
       "203748                       0                   0                   0   \n",
       "203749                       0                   0                   0   \n",
       "203750                       0                   0                   0   \n",
       "\n",
       "       Building_Material_iron Building_Material_tile Building_Material_clay  \\\n",
       "1                           0                      0                      0   \n",
       "2                           0                      0                      0   \n",
       "3                           0                      0                      0   \n",
       "4                           0                      0                      0   \n",
       "5                           0                      0                      0   \n",
       "...                       ...                    ...                    ...   \n",
       "203745                      0                      0                      0   \n",
       "203746                      0                      0                      0   \n",
       "203748                      0                      0                      0   \n",
       "203749                      0                      0                      0   \n",
       "203750                      0                      0                      0   \n",
       "\n",
       "       Building_Material_RC_reinforce Parking_Space_Types Building_Types  \\\n",
       "1                                   0                   0              0   \n",
       "2                                   0                   0              0   \n",
       "3                                   0                   0              0   \n",
       "4                                   0                   0              0   \n",
       "5                                   0                   0              0   \n",
       "...                               ...                 ...            ...   \n",
       "203745                              0                   1              1   \n",
       "203746                              0                   1              1   \n",
       "203748                              0                   1              1   \n",
       "203749                              0                   1              1   \n",
       "203750                              0                   1              1   \n",
       "\n",
       "        Unit_Price_Ping  Transfer_Total_Ping  Non_City_Land_Code  \\\n",
       "1           309908.8326                 33.0                   0   \n",
       "2           322579.9640                 27.0                   0   \n",
       "3           316923.7402                 27.0                   0   \n",
       "4           304698.8918                 39.0                   0   \n",
       "5           299601.3482                 39.0                   0   \n",
       "...                 ...                  ...                 ...   \n",
       "203745      194040.5426                 27.0                   0   \n",
       "203746      224754.7304                 29.0                   0   \n",
       "203748      192430.6180                 20.0                   3   \n",
       "203749      119818.7210                 35.0                   3   \n",
       "203750      112423.6464                 38.0                   3   \n",
       "\n",
       "        Transaction_Land  Transaction_Building  Transaction_Parking  \\\n",
       "1                      1                     1                    1   \n",
       "2                      1                     1                    1   \n",
       "3                      1                     1                    1   \n",
       "4                      1                     1                    1   \n",
       "5                      1                     1                    1   \n",
       "...                  ...                   ...                  ...   \n",
       "203745                 1                     1                    0   \n",
       "203746                 1                     1                    0   \n",
       "203748                 1                     1                    0   \n",
       "203749                 1                     1                    0   \n",
       "203750                 1                     1                    0   \n",
       "\n",
       "        Note_Relationships  Note_Parking  Note_Decoration  Note_Furniture  \\\n",
       "1                        0             0                0               0   \n",
       "2                        0             0                0               0   \n",
       "3                        0             0                0               0   \n",
       "4                        0             0                0               0   \n",
       "5                        0             0                0               0   \n",
       "...                    ...           ...              ...             ...   \n",
       "203745                   0             0                0               0   \n",
       "203746                   0             0                0               0   \n",
       "203748                   0             0                0               0   \n",
       "203749                   0             0                0               0   \n",
       "203750                   0             0                0               0   \n",
       "\n",
       "       Month_raw     CPI  CPI_rate  unemployment rate  Pain_index_3month  \\\n",
       "1         201612  100.34    1.6925               4.99             5.4825   \n",
       "2         201701  100.32    2.2422               4.98             6.0222   \n",
       "3         201701  100.32    2.2422               4.98             6.0222   \n",
       "4         201701  100.32    2.2422               4.98             6.0222   \n",
       "5         201701  100.32    2.2422               4.98             6.0222   \n",
       "...          ...     ...       ...                ...                ...   \n",
       "203745    202111  105.62    2.8532               4.87             6.5132   \n",
       "203746    202111  105.62    2.8532               4.87             6.5132   \n",
       "203748    202111  105.62    2.8532               4.87             6.5132   \n",
       "203749    202111  105.62    2.8532               4.87             6.5132   \n",
       "203750    202111  105.62    2.8532               4.87             6.5132   \n",
       "\n",
       "        ppen_price  high_price  low_price  close_price  qmatch  amt_millon  \\\n",
       "1          9245.55     9430.34    9078.64      9253.50   35298     1235892   \n",
       "2          9252.56     9468.34    9235.95      9447.95   28103     1024124   \n",
       "3          9252.56     9468.34    9235.95      9447.95   28103     1024124   \n",
       "4          9252.56     9468.34    9235.95      9447.95   28103     1024124   \n",
       "5          9252.56     9468.34    9235.95      9447.95   28103     1024124   \n",
       "...            ...         ...        ...          ...     ...         ...   \n",
       "203745    17021.80    17986.20   17021.80     17427.80  120589     7668790   \n",
       "203746    17021.80    17986.20   17021.80     17427.80  120589     7668790   \n",
       "203748    17021.80    17986.20   17021.80     17427.80  120589     7668790   \n",
       "203749    17021.80    17986.20   17021.80     17427.80  120589     7668790   \n",
       "203750    17021.80    17986.20   17021.80     17427.80  120589     7668790   \n",
       "\n",
       "        return_rate_month  Turnover_rate_month  outstanding_share_thousand  \\\n",
       "1                  0.1384               5.1209                   689283423   \n",
       "2                  2.1014               4.0707                   690360680   \n",
       "3                  2.1014               4.0707                   690360680   \n",
       "4                  2.1014               4.0707                   690360680   \n",
       "5                  2.1014               4.0707                   690360680   \n",
       "...                   ...                  ...                         ...   \n",
       "203745             2.5920              16.3983                   735375176   \n",
       "203746             2.5920              16.3983                   735375176   \n",
       "203748             2.5920              16.3983                   735375176   \n",
       "203749             2.5920              16.3983                   735375176   \n",
       "203750             2.5920              16.3983                   735375176   \n",
       "\n",
       "        Capitalization_million  excess total _ million_usdollars  \\\n",
       "1                     27201163                             82482   \n",
       "2                     27807016                             58813   \n",
       "3                     27807016                             58813   \n",
       "4                     27807016                             58813   \n",
       "5                     27807016                             58813   \n",
       "...                        ...                               ...   \n",
       "203745                53502315                             74619   \n",
       "203746                53502315                             74619   \n",
       "203748                53502315                             74619   \n",
       "203749                53502315                             74619   \n",
       "203750                53502315                             74619   \n",
       "\n",
       "        import_price_index_usdollars  export_price_index_usdollars  \\\n",
       "1                             103.70                        102.09   \n",
       "2                             105.56                        103.26   \n",
       "3                             105.56                        103.26   \n",
       "4                             105.56                        103.26   \n",
       "5                             105.56                        103.26   \n",
       "...                              ...                           ...   \n",
       "203745                        127.23                        115.75   \n",
       "203746                        127.23                        115.75   \n",
       "203748                        127.23                        115.75   \n",
       "203749                        127.23                        115.75   \n",
       "203750                        127.23                        115.75   \n",
       "\n",
       "        export_million_usdollars  import_million_usdollars  \\\n",
       "1                        23247.9                   20664.4   \n",
       "2                        21816.5                   19971.2   \n",
       "3                        21816.5                   19971.2   \n",
       "4                        21816.5                   19971.2   \n",
       "5                        21816.5                   19971.2   \n",
       "...                          ...                       ...   \n",
       "203745                   38330.6                   35648.9   \n",
       "203746                   38330.6                   35648.9   \n",
       "203748                   38330.6                   35648.9   \n",
       "203749                   38330.6                   35648.9   \n",
       "203750                   38330.6                   35648.9   \n",
       "\n",
       "        survival_mobility_rate  live_deposit_mobility_interest_rate  \\\n",
       "1                         0.08                                  0.2   \n",
       "2                         0.08                                  0.2   \n",
       "3                         0.08                                  0.2   \n",
       "4                         0.08                                  0.2   \n",
       "5                         0.08                                  0.2   \n",
       "...                        ...                                  ...   \n",
       "203745                    0.04                                  0.1   \n",
       "203746                    0.04                                  0.1   \n",
       "203748                    0.04                                  0.1   \n",
       "203749                    0.04                                  0.1   \n",
       "203750                    0.04                                  0.1   \n",
       "\n",
       "        CCI_3month  construction_engineering_index  \n",
       "1            77.22                          101.05  \n",
       "2            74.35                          101.67  \n",
       "3            74.35                          101.67  \n",
       "4            74.35                          101.67  \n",
       "5            74.35                          101.67  \n",
       "...            ...                             ...  \n",
       "203745       73.33                          125.81  \n",
       "203746       73.33                          125.81  \n",
       "203748       73.33                          125.81  \n",
       "203749       73.33                          125.81  \n",
       "203750       73.33                          125.81  \n",
       "\n",
       "[180865 rows x 61 columns]"
      ]
     },
     "execution_count": 64,
     "metadata": {},
     "output_type": "execute_result"
    }
   ],
   "source": [
    "df"
   ]
  },
  {
   "cell_type": "code",
   "execution_count": null,
   "id": "7fa8d095",
   "metadata": {},
   "outputs": [],
   "source": []
  }
 ],
 "metadata": {
  "kernelspec": {
   "display_name": "Python 3 (ipykernel)",
   "language": "python",
   "name": "python3"
  },
  "language_info": {
   "codemirror_mode": {
    "name": "ipython",
    "version": 3
   },
   "file_extension": ".py",
   "mimetype": "text/x-python",
   "name": "python",
   "nbconvert_exporter": "python",
   "pygments_lexer": "ipython3",
   "version": "3.10.4"
  }
 },
 "nbformat": 4,
 "nbformat_minor": 5
}
