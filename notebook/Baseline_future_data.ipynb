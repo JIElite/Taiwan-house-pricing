{
 "cells": [
  {
   "cell_type": "code",
   "execution_count": 1,
   "id": "edf885c9",
   "metadata": {},
   "outputs": [],
   "source": [
    "%matplotlib inline\n",
    "import pandas as pd\n",
    "import matplotlib.pyplot as plt"
   ]
  },
  {
   "cell_type": "code",
   "execution_count": 2,
   "id": "785041fd",
   "metadata": {},
   "outputs": [],
   "source": [
    "pd.set_option('display.max_columns', 120)\n",
    "pd.set_option('display.max_rows', 120)"
   ]
  },
  {
   "cell_type": "code",
   "execution_count": 3,
   "id": "828e3af1",
   "metadata": {},
   "outputs": [],
   "source": [
    "def simple_drop(df):\n",
    "    df = df.drop(columns=['address', 'TDATE', 'Total_price', '編號'])\n",
    "    return df"
   ]
  },
  {
   "cell_type": "code",
   "execution_count": 4,
   "id": "95776898",
   "metadata": {},
   "outputs": [],
   "source": [
    "def split_features_target(df):\n",
    "    X = df.drop(columns=['Unit_Price_Ping'])\n",
    "    y = df['Unit_Price_Ping']\n",
    "    return X, y\n",
    "\n",
    "def train(model, X_train, y_train):\n",
    "    model.fit(X_train, y_train)\n",
    "    return model\n",
    "\n",
    "def eval(model, X_test, y_test):\n",
    "    from sklearn.metrics import (r2_score, \n",
    "                                 mean_absolute_error, \n",
    "                                 mean_squared_error)\n",
    "    \n",
    "    y_pred = model.predict(X_test)\n",
    "    r2 = r2_score(y_test, y_pred)\n",
    "    mae = mean_absolute_error(y_test, y_pred)\n",
    "    mse = mean_squared_error(y_test, y_pred)\n",
    "    print(f'R2 score: {r2}')\n",
    "    print(f'MAE score: {mae}')\n",
    "    print(f'MSE score: {mse}')\n",
    "    return r2, mae, mse"
   ]
  },
  {
   "cell_type": "code",
   "execution_count": 5,
   "id": "49f89b48",
   "metadata": {},
   "outputs": [],
   "source": [
    "from sklearn.model_selection import train_test_split"
   ]
  },
  {
   "cell_type": "code",
   "execution_count": 6,
   "id": "b940b535",
   "metadata": {},
   "outputs": [],
   "source": [
    "df_future = pd.read_csv('../temp_future/output_feature/clean_data_future_train.csv')\n",
    "df_future_test = pd.read_csv('../temp_future/output_feature/clean_data_future_test.csv')"
   ]
  },
  {
   "cell_type": "code",
   "execution_count": 7,
   "id": "e727d665",
   "metadata": {},
   "outputs": [],
   "source": [
    "# Code cell for built baseline\n",
    "df_future = simple_drop(df_future)\n",
    "df_future = df_future.sample(frac=1, random_state=0)\n",
    "X_train, y_train = split_features_target(df_future)\n",
    "X_train, X_val, y_train, y_val = train_test_split(X_train, y_train, test_size=0.1)\n",
    "\n",
    "df_future_test = simple_drop(df_future_test)\n",
    "X_test, y_test = split_features_target(df_future_test)"
   ]
  },
  {
   "cell_type": "code",
   "execution_count": 8,
   "id": "de133837",
   "metadata": {},
   "outputs": [
    {
     "name": "stderr",
     "output_type": "stream",
     "text": [
      "  1%|█▏                                                                                                                         | 1/100 [00:01<03:17,  1.99s/it]"
     ]
    },
    {
     "name": "stdout",
     "output_type": "stream",
     "text": [
      "R2 score: 0.9873724444507912\n",
      "MAE score: 10430.913387912326\n",
      "MSE score: 388179421.8377354\n",
      "R2 score: 0.9574810950851237\n",
      "MAE score: 17034.32813714329\n",
      "MSE score: 1276684395.9989781\n",
      "R2 score: 0.8213159538978123\n",
      "MAE score: 43161.40323582313\n",
      "MSE score: 6382327958.28955\n"
     ]
    },
    {
     "name": "stderr",
     "output_type": "stream",
     "text": [
      "\r",
      "  2%|██▍                                                                                                                        | 2/100 [00:03<03:14,  1.98s/it]"
     ]
    },
    {
     "name": "stdout",
     "output_type": "stream",
     "text": [
      "R2 score: 0.9873724430175236\n",
      "MAE score: 10430.927106869653\n",
      "MSE score: 388179465.8973289\n",
      "R2 score: 0.9569164060197295\n",
      "MAE score: 17058.47670307104\n",
      "MSE score: 1293639906.0203042\n",
      "R2 score: 0.8231675432938205\n",
      "MAE score: 43030.28442597542\n",
      "MSE score: 6316191943.199222\n"
     ]
    },
    {
     "name": "stderr",
     "output_type": "stream",
     "text": [
      "\r",
      "  3%|███▋                                                                                                                       | 3/100 [00:05<03:12,  1.99s/it]"
     ]
    },
    {
     "name": "stdout",
     "output_type": "stream",
     "text": [
      "R2 score: 0.9873724430175236\n",
      "MAE score: 10430.927106869654\n",
      "MSE score: 388179465.8973289\n",
      "R2 score: 0.9590038899174211\n",
      "MAE score: 16907.614487748757\n",
      "MSE score: 1230960537.2920268\n",
      "R2 score: 0.7881907111039361\n",
      "MAE score: 45561.771163878795\n",
      "MSE score: 7565512287.390642\n"
     ]
    },
    {
     "name": "stderr",
     "output_type": "stream",
     "text": [
      "\r",
      "  4%|████▉                                                                                                                      | 4/100 [00:07<03:10,  1.98s/it]"
     ]
    },
    {
     "name": "stdout",
     "output_type": "stream",
     "text": [
      "R2 score: 0.9873724430175236\n",
      "MAE score: 10430.927106869656\n",
      "MSE score: 388179465.8973289\n",
      "R2 score: 0.9555927004956783\n",
      "MAE score: 17076.69984768817\n",
      "MSE score: 1333385854.1070917\n",
      "R2 score: 0.807529575328368\n",
      "MAE score: 44259.33156423836\n",
      "MSE score: 6874756864.544607\n"
     ]
    },
    {
     "name": "stderr",
     "output_type": "stream",
     "text": [
      "\r",
      "  5%|██████▏                                                                                                                    | 5/100 [00:09<03:08,  1.98s/it]"
     ]
    },
    {
     "name": "stdout",
     "output_type": "stream",
     "text": [
      "R2 score: 0.9873724444507912\n",
      "MAE score: 10430.913387912326\n",
      "MSE score: 388179421.8377354\n",
      "R2 score: 0.9563655811972152\n",
      "MAE score: 17005.167409071928\n",
      "MSE score: 1310179124.4512794\n",
      "R2 score: 0.8233718876698176\n",
      "MAE score: 42436.21320320628\n",
      "MSE score: 6308893066.480815\n"
     ]
    },
    {
     "name": "stderr",
     "output_type": "stream",
     "text": [
      "\r",
      "  6%|███████▍                                                                                                                   | 6/100 [00:11<03:06,  1.98s/it]"
     ]
    },
    {
     "name": "stdout",
     "output_type": "stream",
     "text": [
      "R2 score: 0.9873724430175236\n",
      "MAE score: 10430.927106869656\n",
      "MSE score: 388179465.897329\n",
      "R2 score: 0.9570463691055191\n",
      "MAE score: 16967.598994221\n",
      "MSE score: 1289737598.469917\n",
      "R2 score: 0.8202527326723417\n",
      "MAE score: 43107.721038942655\n",
      "MSE score: 6420304636.684707\n"
     ]
    },
    {
     "name": "stderr",
     "output_type": "stream",
     "text": [
      "\r",
      "  7%|████████▌                                                                                                                  | 7/100 [00:13<03:04,  1.98s/it]"
     ]
    },
    {
     "name": "stdout",
     "output_type": "stream",
     "text": [
      "R2 score: 0.9873724430175236\n",
      "MAE score: 10430.927106869654\n",
      "MSE score: 388179465.8973289\n",
      "R2 score: 0.9573561861453717\n",
      "MAE score: 17080.590703444286\n",
      "MSE score: 1280434946.3629014\n",
      "R2 score: 0.8049569525434048\n",
      "MAE score: 44125.02648260241\n",
      "MSE score: 6966647118.234147\n"
     ]
    },
    {
     "name": "stderr",
     "output_type": "stream",
     "text": [
      "\r",
      "  8%|█████████▊                                                                                                                 | 8/100 [00:15<03:01,  1.98s/it]"
     ]
    },
    {
     "name": "stdout",
     "output_type": "stream",
     "text": [
      "R2 score: 0.9873724430175236\n",
      "MAE score: 10430.927106869653\n",
      "MSE score: 388179465.897329\n",
      "R2 score: 0.9570923846729777\n",
      "MAE score: 17014.3941420302\n",
      "MSE score: 1288355922.3175058\n",
      "R2 score: 0.8172751523223912\n",
      "MAE score: 43067.48395569544\n",
      "MSE score: 6526659371.369159\n"
     ]
    },
    {
     "name": "stderr",
     "output_type": "stream",
     "text": [
      "\r",
      "  9%|███████████                                                                                                                | 9/100 [00:17<02:59,  1.98s/it]"
     ]
    },
    {
     "name": "stdout",
     "output_type": "stream",
     "text": [
      "R2 score: 0.9873724430175236\n",
      "MAE score: 10430.927106869654\n",
      "MSE score: 388179465.8973289\n",
      "R2 score: 0.9562187905435461\n",
      "MAE score: 17043.447329566694\n",
      "MSE score: 1314586701.2078526\n",
      "R2 score: 0.8239121061850905\n",
      "MAE score: 42693.74878453371\n",
      "MSE score: 6289597265.826965\n"
     ]
    },
    {
     "name": "stderr",
     "output_type": "stream",
     "text": [
      "\r",
      " 10%|████████████▏                                                                                                             | 10/100 [00:19<02:57,  1.97s/it]"
     ]
    },
    {
     "name": "stdout",
     "output_type": "stream",
     "text": [
      "R2 score: 0.9873724430174615\n",
      "MAE score: 10430.927251089968\n",
      "MSE score: 388179465.899236\n",
      "R2 score: 0.9587105722071381\n",
      "MAE score: 16923.69371185943\n",
      "MSE score: 1239767775.9671133\n",
      "R2 score: 0.8305782916609942\n",
      "MAE score: 42609.6197595396\n",
      "MSE score: 6051491050.604636\n"
     ]
    },
    {
     "name": "stderr",
     "output_type": "stream",
     "text": [
      "\r",
      " 11%|█████████████▍                                                                                                            | 11/100 [00:21<02:55,  1.98s/it]"
     ]
    },
    {
     "name": "stdout",
     "output_type": "stream",
     "text": [
      "R2 score: 0.9873724430174615\n",
      "MAE score: 10430.927251089966\n",
      "MSE score: 388179465.899236\n",
      "R2 score: 0.9583302573730266\n",
      "MAE score: 16884.759361855093\n",
      "MSE score: 1251187214.338095\n",
      "R2 score: 0.818627273284704\n",
      "MAE score: 42591.20722167922\n",
      "MSE score: 6478363624.720221\n"
     ]
    },
    {
     "name": "stderr",
     "output_type": "stream",
     "text": [
      "\r",
      " 12%|██████████████▋                                                                                                           | 12/100 [00:23<02:53,  1.98s/it]"
     ]
    },
    {
     "name": "stdout",
     "output_type": "stream",
     "text": [
      "R2 score: 0.9873724430174615\n",
      "MAE score: 10430.927251089965\n",
      "MSE score: 388179465.899236\n",
      "R2 score: 0.9563570487624321\n",
      "MAE score: 17012.275197151153\n",
      "MSE score: 1310435321.6974022\n",
      "R2 score: 0.800575570434609\n",
      "MAE score: 44388.60723319705\n",
      "MSE score: 7123143560.635751\n"
     ]
    },
    {
     "name": "stderr",
     "output_type": "stream",
     "text": [
      "\r",
      " 13%|███████████████▊                                                                                                          | 13/100 [00:25<02:51,  1.98s/it]"
     ]
    },
    {
     "name": "stdout",
     "output_type": "stream",
     "text": [
      "R2 score: 0.9873724430175236\n",
      "MAE score: 10430.927106869654\n",
      "MSE score: 388179465.8973289\n",
      "R2 score: 0.9560566065722194\n",
      "MAE score: 17039.80794630989\n",
      "MSE score: 1319456481.9768648\n",
      "R2 score: 0.7828349054098034\n",
      "MAE score: 44624.12335246284\n",
      "MSE score: 7756813688.755155\n"
     ]
    },
    {
     "name": "stderr",
     "output_type": "stream",
     "text": [
      "\r",
      " 14%|█████████████████                                                                                                         | 14/100 [00:27<02:49,  1.98s/it]"
     ]
    },
    {
     "name": "stdout",
     "output_type": "stream",
     "text": [
      "R2 score: 0.9873724430175236\n",
      "MAE score: 10430.927106869653\n",
      "MSE score: 388179465.897329\n",
      "R2 score: 0.9596833028264229\n",
      "MAE score: 16872.519240254736\n",
      "MSE score: 1210560297.4199204\n",
      "R2 score: 0.8034767428063195\n",
      "MAE score: 43450.39142040804\n",
      "MSE score: 7019518005.116397\n"
     ]
    },
    {
     "name": "stderr",
     "output_type": "stream",
     "text": [
      "\r",
      " 15%|██████████████████▎                                                                                                       | 15/100 [00:29<02:48,  1.98s/it]"
     ]
    },
    {
     "name": "stdout",
     "output_type": "stream",
     "text": [
      "R2 score: 0.9873724430174615\n",
      "MAE score: 10430.927251089968\n",
      "MSE score: 388179465.899236\n",
      "R2 score: 0.9585675158670892\n",
      "MAE score: 16997.205713063086\n",
      "MSE score: 1244063225.1903389\n",
      "R2 score: 0.8192049867980395\n",
      "MAE score: 43921.91372163676\n",
      "MSE score: 6457728558.588271\n"
     ]
    },
    {
     "name": "stderr",
     "output_type": "stream",
     "text": [
      "\r",
      " 16%|███████████████████▌                                                                                                      | 16/100 [00:31<02:46,  1.98s/it]"
     ]
    },
    {
     "name": "stdout",
     "output_type": "stream",
     "text": [
      "R2 score: 0.9873724430175236\n",
      "MAE score: 10430.92710686965\n",
      "MSE score: 388179465.8973289\n",
      "R2 score: 0.9593524820513335\n",
      "MAE score: 16891.597730862606\n",
      "MSE score: 1220493613.4889593\n",
      "R2 score: 0.7896119611766907\n",
      "MAE score: 44851.00601266251\n",
      "MSE score: 7514747351.8917265\n"
     ]
    },
    {
     "name": "stderr",
     "output_type": "stream",
     "text": [
      "\r",
      " 17%|████████████████████▋                                                                                                     | 17/100 [00:33<02:44,  1.98s/it]"
     ]
    },
    {
     "name": "stdout",
     "output_type": "stream",
     "text": [
      "R2 score: 0.9873724430175236\n",
      "MAE score: 10430.92710686965\n",
      "MSE score: 388179465.8973289\n",
      "R2 score: 0.959657048911585\n",
      "MAE score: 16897.96013018098\n",
      "MSE score: 1211348604.726389\n",
      "R2 score: 0.7998498205212761\n",
      "MAE score: 44215.975432365674\n",
      "MSE score: 7149066266.45999\n"
     ]
    },
    {
     "name": "stderr",
     "output_type": "stream",
     "text": [
      "\r",
      " 18%|█████████████████████▉                                                                                                    | 18/100 [00:35<02:42,  1.98s/it]"
     ]
    },
    {
     "name": "stdout",
     "output_type": "stream",
     "text": [
      "R2 score: 0.9873724430175236\n",
      "MAE score: 10430.927106869654\n",
      "MSE score: 388179465.897329\n",
      "R2 score: 0.9551867407680421\n",
      "MAE score: 17025.016905357574\n",
      "MSE score: 1345575313.1421916\n",
      "R2 score: 0.790759690285955\n",
      "MAE score: 44621.20350168965\n",
      "MSE score: 7473752177.770746\n"
     ]
    },
    {
     "name": "stderr",
     "output_type": "stream",
     "text": [
      "\r",
      " 19%|███████████████████████▏                                                                                                  | 19/100 [00:37<02:40,  1.98s/it]"
     ]
    },
    {
     "name": "stdout",
     "output_type": "stream",
     "text": [
      "R2 score: 0.9873724444507912\n",
      "MAE score: 10430.913387912326\n",
      "MSE score: 388179421.8377354\n",
      "R2 score: 0.9575731054642925\n",
      "MAE score: 17000.273901866207\n",
      "MSE score: 1273921666.9119973\n",
      "R2 score: 0.7933972486803144\n",
      "MAE score: 44785.08074961089\n",
      "MSE score: 7379542520.841926\n"
     ]
    },
    {
     "name": "stderr",
     "output_type": "stream",
     "text": [
      "\r",
      " 20%|████████████████████████▍                                                                                                 | 20/100 [00:39<02:37,  1.97s/it]"
     ]
    },
    {
     "name": "stdout",
     "output_type": "stream",
     "text": [
      "R2 score: 0.9873724430174615\n",
      "MAE score: 10430.927251089966\n",
      "MSE score: 388179465.89923596\n",
      "R2 score: 0.957035342433902\n",
      "MAE score: 16998.05527065092\n",
      "MSE score: 1290068688.360911\n",
      "R2 score: 0.8218727988863086\n",
      "MAE score: 42446.998360040394\n",
      "MSE score: 6362438284.77902\n"
     ]
    },
    {
     "name": "stderr",
     "output_type": "stream",
     "text": [
      "\r",
      " 21%|█████████████████████████▌                                                                                                | 21/100 [00:41<02:35,  1.97s/it]"
     ]
    },
    {
     "name": "stdout",
     "output_type": "stream",
     "text": [
      "R2 score: 0.9873724444507912\n",
      "MAE score: 10430.913387912322\n",
      "MSE score: 388179421.83773553\n",
      "R2 score: 0.9594175326336305\n",
      "MAE score: 16967.622730067596\n",
      "MSE score: 1218540386.7175868\n",
      "R2 score: 0.8366531586318582\n",
      "MAE score: 41725.956979873416\n",
      "MSE score: 5834505851.551876\n"
     ]
    },
    {
     "name": "stderr",
     "output_type": "stream",
     "text": [
      "\r",
      " 22%|██████████████████████████▊                                                                                               | 22/100 [00:43<02:33,  1.97s/it]"
     ]
    },
    {
     "name": "stdout",
     "output_type": "stream",
     "text": [
      "R2 score: 0.9873724444507912\n",
      "MAE score: 10430.913387912322\n",
      "MSE score: 388179421.83773553\n",
      "R2 score: 0.9578651494199143\n",
      "MAE score: 16941.84667590877\n",
      "MSE score: 1265152674.346585\n",
      "R2 score: 0.8226227284132663\n",
      "MAE score: 42442.04612290904\n",
      "MSE score: 6335651919.174156\n"
     ]
    },
    {
     "name": "stderr",
     "output_type": "stream",
     "text": [
      "\r",
      " 23%|████████████████████████████                                                                                              | 23/100 [00:45<02:32,  1.97s/it]"
     ]
    },
    {
     "name": "stdout",
     "output_type": "stream",
     "text": [
      "R2 score: 0.9873724430175236\n",
      "MAE score: 10430.92710686965\n",
      "MSE score: 388179465.897329\n",
      "R2 score: 0.9595004700948795\n",
      "MAE score: 16909.313091939428\n",
      "MSE score: 1216050083.5728495\n",
      "R2 score: 0.7872436809367774\n",
      "MAE score: 44462.139372247344\n",
      "MSE score: 7599338794.261567\n"
     ]
    },
    {
     "name": "stderr",
     "output_type": "stream",
     "text": [
      "\r",
      " 24%|█████████████████████████████▎                                                                                            | 24/100 [00:47<02:30,  1.97s/it]"
     ]
    },
    {
     "name": "stdout",
     "output_type": "stream",
     "text": [
      "R2 score: 0.9873724430174615\n",
      "MAE score: 10430.927251089966\n",
      "MSE score: 388179465.899236\n",
      "R2 score: 0.9574500670128835\n",
      "MAE score: 16980.99865010657\n",
      "MSE score: 1277616053.4757226\n",
      "R2 score: 0.8209522600521462\n",
      "MAE score: 43355.50899089902\n",
      "MSE score: 6395318560.696917\n"
     ]
    },
    {
     "name": "stderr",
     "output_type": "stream",
     "text": [
      "\r",
      " 25%|██████████████████████████████▌                                                                                           | 25/100 [00:49<02:28,  1.97s/it]"
     ]
    },
    {
     "name": "stdout",
     "output_type": "stream",
     "text": [
      "R2 score: 0.9873724430175236\n",
      "MAE score: 10430.927106869654\n",
      "MSE score: 388179465.8973289\n",
      "R2 score: 0.9578537224704571\n",
      "MAE score: 16976.320249148666\n",
      "MSE score: 1265495783.0906847\n",
      "R2 score: 0.7824407848149065\n",
      "MAE score: 45522.04172014162\n",
      "MSE score: 7770891089.321232\n"
     ]
    },
    {
     "name": "stderr",
     "output_type": "stream",
     "text": [
      "\r",
      " 26%|███████████████████████████████▋                                                                                          | 26/100 [00:51<02:26,  1.98s/it]"
     ]
    },
    {
     "name": "stdout",
     "output_type": "stream",
     "text": [
      "R2 score: 0.9873724430175236\n",
      "MAE score: 10430.927106869653\n",
      "MSE score: 388179465.8973289\n",
      "R2 score: 0.9585334840726076\n",
      "MAE score: 16952.315527721013\n",
      "MSE score: 1245085073.261672\n",
      "R2 score: 0.7644142471134128\n",
      "MAE score: 45477.0422385169\n",
      "MSE score: 8414772163.614837\n"
     ]
    },
    {
     "name": "stderr",
     "output_type": "stream",
     "text": [
      "\r",
      " 27%|████████████████████████████████▉                                                                                         | 27/100 [00:53<02:24,  1.97s/it]"
     ]
    },
    {
     "name": "stdout",
     "output_type": "stream",
     "text": [
      "R2 score: 0.9873724430175236\n",
      "MAE score: 10430.927106869653\n",
      "MSE score: 388179465.8973289\n",
      "R2 score: 0.9585010151798548\n",
      "MAE score: 16981.040405982476\n",
      "MSE score: 1246059993.2135386\n",
      "R2 score: 0.7957705424439045\n",
      "MAE score: 44785.82641360104\n",
      "MSE score: 7294772002.874513\n"
     ]
    },
    {
     "name": "stderr",
     "output_type": "stream",
     "text": [
      "\r",
      " 28%|██████████████████████████████████▏                                                                                       | 28/100 [00:55<02:22,  1.98s/it]"
     ]
    },
    {
     "name": "stdout",
     "output_type": "stream",
     "text": [
      "R2 score: 0.9873724430175236\n",
      "MAE score: 10430.927106869656\n",
      "MSE score: 388179465.8973289\n",
      "R2 score: 0.958238874377137\n",
      "MAE score: 16947.165493655026\n",
      "MSE score: 1253931105.441252\n",
      "R2 score: 0.7845416511082189\n",
      "MAE score: 45536.223617929274\n",
      "MSE score: 7695851274.783074\n"
     ]
    },
    {
     "name": "stderr",
     "output_type": "stream",
     "text": [
      "\r",
      " 29%|███████████████████████████████████▍                                                                                      | 29/100 [00:57<02:20,  1.98s/it]"
     ]
    },
    {
     "name": "stdout",
     "output_type": "stream",
     "text": [
      "R2 score: 0.9873724430174615\n",
      "MAE score: 10430.927251089966\n",
      "MSE score: 388179465.899236\n",
      "R2 score: 0.9573973664866979\n",
      "MAE score: 17021.89235678003\n",
      "MSE score: 1279198454.0473468\n",
      "R2 score: 0.8230896497925679\n",
      "MAE score: 42807.86096660446\n",
      "MSE score: 6318974183.033488\n"
     ]
    },
    {
     "name": "stderr",
     "output_type": "stream",
     "text": [
      "\r",
      " 30%|████████████████████████████████████▌                                                                                     | 30/100 [00:59<02:17,  1.97s/it]"
     ]
    },
    {
     "name": "stdout",
     "output_type": "stream",
     "text": [
      "R2 score: 0.9873724430175236\n",
      "MAE score: 10430.927106869654\n",
      "MSE score: 388179465.897329\n",
      "R2 score: 0.9582517683855666\n",
      "MAE score: 16895.313813965433\n",
      "MSE score: 1253543946.3787832\n",
      "R2 score: 0.8187822185771698\n",
      "MAE score: 43369.80040787288\n",
      "MSE score: 6472829209.680479\n"
     ]
    },
    {
     "name": "stderr",
     "output_type": "stream",
     "text": [
      "\r",
      " 31%|█████████████████████████████████████▊                                                                                    | 31/100 [01:01<02:15,  1.97s/it]"
     ]
    },
    {
     "name": "stdout",
     "output_type": "stream",
     "text": [
      "R2 score: 0.9873724430175236\n",
      "MAE score: 10430.927106869656\n",
      "MSE score: 388179465.897329\n",
      "R2 score: 0.9585564651018134\n",
      "MAE score: 16951.122671136312\n",
      "MSE score: 1244395038.5241923\n",
      "R2 score: 0.830277736172273\n",
      "MAE score: 42516.956413495755\n",
      "MSE score: 6062226444.953081\n"
     ]
    },
    {
     "name": "stderr",
     "output_type": "stream",
     "text": [
      "\r",
      " 32%|███████████████████████████████████████                                                                                   | 32/100 [01:03<02:13,  1.97s/it]"
     ]
    },
    {
     "name": "stdout",
     "output_type": "stream",
     "text": [
      "R2 score: 0.9873724444507912\n",
      "MAE score: 10430.913387912326\n",
      "MSE score: 388179421.8377354\n",
      "R2 score: 0.9538906314529958\n",
      "MAE score: 17100.755835299144\n",
      "MSE score: 1384492649.8266938\n",
      "R2 score: 0.8336869230970054\n",
      "MAE score: 41403.11664961111\n",
      "MSE score: 5940455366.340322\n"
     ]
    },
    {
     "name": "stderr",
     "output_type": "stream",
     "text": [
      "\r",
      " 33%|████████████████████████████████████████▎                                                                                 | 33/100 [01:05<02:12,  1.97s/it]"
     ]
    },
    {
     "name": "stdout",
     "output_type": "stream",
     "text": [
      "R2 score: 0.9873724430175236\n",
      "MAE score: 10430.927106869654\n",
      "MSE score: 388179465.897329\n",
      "R2 score: 0.9593282504496856\n",
      "MAE score: 16943.89786186915\n",
      "MSE score: 1221221198.260391\n",
      "R2 score: 0.8009245557555409\n",
      "MAE score: 43821.7529632972\n",
      "MSE score: 7110678324.822015\n"
     ]
    },
    {
     "name": "stderr",
     "output_type": "stream",
     "text": [
      "\r",
      " 34%|█████████████████████████████████████████▍                                                                                | 34/100 [01:07<02:09,  1.96s/it]"
     ]
    },
    {
     "name": "stdout",
     "output_type": "stream",
     "text": [
      "R2 score: 0.9873724430175236\n",
      "MAE score: 10430.927106869653\n",
      "MSE score: 388179465.897329\n",
      "R2 score: 0.9588138237184685\n",
      "MAE score: 16944.43727657767\n",
      "MSE score: 1236667517.5375345\n",
      "R2 score: 0.8321126026319924\n",
      "MAE score: 41873.116207907384\n",
      "MSE score: 5996687748.236432\n"
     ]
    },
    {
     "name": "stderr",
     "output_type": "stream",
     "text": [
      "\r",
      " 35%|██████████████████████████████████████████▋                                                                               | 35/100 [01:09<02:07,  1.97s/it]"
     ]
    },
    {
     "name": "stdout",
     "output_type": "stream",
     "text": [
      "R2 score: 0.9873724430175236\n",
      "MAE score: 10430.927106869656\n",
      "MSE score: 388179465.897329\n",
      "R2 score: 0.9572010868353208\n",
      "MAE score: 17037.3359132858\n",
      "MSE score: 1285092001.1334484\n",
      "R2 score: 0.8287413049959353\n",
      "MAE score: 42970.67191870661\n",
      "MSE score: 6117105477.897739\n"
     ]
    },
    {
     "name": "stderr",
     "output_type": "stream",
     "text": [
      "\r",
      " 36%|███████████████████████████████████████████▉                                                                              | 36/100 [01:11<02:05,  1.96s/it]"
     ]
    },
    {
     "name": "stdout",
     "output_type": "stream",
     "text": [
      "R2 score: 0.9873724430174615\n",
      "MAE score: 10430.927251089966\n",
      "MSE score: 388179465.89923596\n",
      "R2 score: 0.9567565213365318\n",
      "MAE score: 17017.262770523896\n",
      "MSE score: 1298440647.7281737\n",
      "R2 score: 0.8256042945153512\n",
      "MAE score: 42313.28774886315\n",
      "MSE score: 6229154819.360658\n"
     ]
    },
    {
     "name": "stderr",
     "output_type": "stream",
     "text": [
      "\r",
      " 37%|█████████████████████████████████████████████▏                                                                            | 37/100 [01:13<02:04,  1.97s/it]"
     ]
    },
    {
     "name": "stdout",
     "output_type": "stream",
     "text": [
      "R2 score: 0.9873724430175236\n",
      "MAE score: 10430.927106869654\n",
      "MSE score: 388179465.8973289\n",
      "R2 score: 0.9584262497764521\n",
      "MAE score: 16947.777106389563\n",
      "MSE score: 1248304919.8897035\n",
      "R2 score: 0.8290996039903515\n",
      "MAE score: 42416.57347129655\n",
      "MSE score: 6104307571.540832\n"
     ]
    },
    {
     "name": "stderr",
     "output_type": "stream",
     "text": [
      "\r",
      " 38%|██████████████████████████████████████████████▎                                                                           | 38/100 [01:15<02:02,  1.97s/it]"
     ]
    },
    {
     "name": "stdout",
     "output_type": "stream",
     "text": [
      "R2 score: 0.9873724430175236\n",
      "MAE score: 10430.927106869656\n",
      "MSE score: 388179465.8973289\n",
      "R2 score: 0.9594059219485509\n",
      "MAE score: 16920.080010142352\n",
      "MSE score: 1218889012.3582919\n",
      "R2 score: 0.8051742773893111\n",
      "MAE score: 43609.262823037934\n",
      "MSE score: 6958884598.466347\n"
     ]
    },
    {
     "name": "stderr",
     "output_type": "stream",
     "text": [
      "\r",
      " 39%|███████████████████████████████████████████████▌                                                                          | 39/100 [01:16<02:00,  1.97s/it]"
     ]
    },
    {
     "name": "stdout",
     "output_type": "stream",
     "text": [
      "R2 score: 0.9873724430175236\n",
      "MAE score: 10430.927106869653\n",
      "MSE score: 388179465.897329\n",
      "R2 score: 0.9572100253181026\n",
      "MAE score: 16984.66251167744\n",
      "MSE score: 1284823611.7778335\n",
      "R2 score: 0.8163941985919817\n",
      "MAE score: 43976.18402828079\n",
      "MSE score: 6558125726.347134\n"
     ]
    },
    {
     "name": "stderr",
     "output_type": "stream",
     "text": [
      "\r",
      " 40%|████████████████████████████████████████████████▊                                                                         | 40/100 [01:18<01:58,  1.97s/it]"
     ]
    },
    {
     "name": "stdout",
     "output_type": "stream",
     "text": [
      "R2 score: 0.9873724430175236\n",
      "MAE score: 10430.927106869653\n",
      "MSE score: 388179465.8973289\n",
      "R2 score: 0.956184816716052\n",
      "MAE score: 17024.89324166635\n",
      "MSE score: 1315606808.7463899\n",
      "R2 score: 0.7822065242690163\n",
      "MAE score: 45186.40930088322\n",
      "MSE score: 7779258527.064973\n"
     ]
    },
    {
     "name": "stderr",
     "output_type": "stream",
     "text": [
      "\r",
      " 41%|██████████████████████████████████████████████████                                                                        | 41/100 [01:20<01:56,  1.97s/it]"
     ]
    },
    {
     "name": "stdout",
     "output_type": "stream",
     "text": [
      "R2 score: 0.9873724430174615\n",
      "MAE score: 10430.927251089965\n",
      "MSE score: 388179465.899236\n",
      "R2 score: 0.9576014953655724\n",
      "MAE score: 16988.86871459699\n",
      "MSE score: 1273069223.8859982\n",
      "R2 score: 0.8242296929496064\n",
      "MAE score: 42263.876356250934\n",
      "MSE score: 6278253539.676989\n"
     ]
    },
    {
     "name": "stderr",
     "output_type": "stream",
     "text": [
      "\r",
      " 42%|███████████████████████████████████████████████████▏                                                                      | 42/100 [01:22<01:54,  1.97s/it]"
     ]
    },
    {
     "name": "stdout",
     "output_type": "stream",
     "text": [
      "R2 score: 0.9873724430175236\n",
      "MAE score: 10430.92710686965\n",
      "MSE score: 388179465.897329\n",
      "R2 score: 0.9586482198200086\n",
      "MAE score: 16953.865896838433\n",
      "MSE score: 1241639985.9842992\n",
      "R2 score: 0.8015716404249593\n",
      "MAE score: 44062.886089107225\n",
      "MSE score: 7087565424.330343\n"
     ]
    },
    {
     "name": "stderr",
     "output_type": "stream",
     "text": [
      "\r",
      " 43%|████████████████████████████████████████████████████▍                                                                     | 43/100 [01:24<01:52,  1.97s/it]"
     ]
    },
    {
     "name": "stdout",
     "output_type": "stream",
     "text": [
      "R2 score: 0.9873724444507912\n",
      "MAE score: 10430.913387912326\n",
      "MSE score: 388179421.8377354\n",
      "R2 score: 0.9575489705273993\n",
      "MAE score: 16972.322934710708\n",
      "MSE score: 1274646349.2007754\n",
      "R2 score: 0.8146274981803283\n",
      "MAE score: 43495.40081350535\n",
      "MSE score: 6621229633.367286\n"
     ]
    },
    {
     "name": "stderr",
     "output_type": "stream",
     "text": [
      "\r",
      " 44%|█████████████████████████████████████████████████████▋                                                                    | 44/100 [01:26<01:50,  1.97s/it]"
     ]
    },
    {
     "name": "stdout",
     "output_type": "stream",
     "text": [
      "R2 score: 0.9873724430175236\n",
      "MAE score: 10430.927106869656\n",
      "MSE score: 388179465.8973289\n",
      "R2 score: 0.9576831401904946\n",
      "MAE score: 16996.302156762504\n",
      "MSE score: 1270617733.7970376\n",
      "R2 score: 0.8420268088485426\n",
      "MAE score: 41424.3188108362\n",
      "MSE score: 5642567070.42309\n"
     ]
    },
    {
     "name": "stderr",
     "output_type": "stream",
     "text": [
      "\r",
      " 45%|██████████████████████████████████████████████████████▉                                                                   | 45/100 [01:28<01:48,  1.97s/it]"
     ]
    },
    {
     "name": "stdout",
     "output_type": "stream",
     "text": [
      "R2 score: 0.9873724430175236\n",
      "MAE score: 10430.927106869653\n",
      "MSE score: 388179465.8973289\n",
      "R2 score: 0.9600459171162672\n",
      "MAE score: 16893.2419880276\n",
      "MSE score: 1199672340.4855323\n",
      "R2 score: 0.797977096451845\n",
      "MAE score: 44270.54937012975\n",
      "MSE score: 7215957180.602688\n"
     ]
    },
    {
     "name": "stderr",
     "output_type": "stream",
     "text": [
      "\r",
      " 46%|████████████████████████████████████████████████████████                                                                  | 46/100 [01:30<01:46,  1.97s/it]"
     ]
    },
    {
     "name": "stdout",
     "output_type": "stream",
     "text": [
      "R2 score: 0.9873724430175236\n",
      "MAE score: 10430.927106869653\n",
      "MSE score: 388179465.897329\n",
      "R2 score: 0.9591117214660996\n",
      "MAE score: 16917.471325196886\n",
      "MSE score: 1227722757.3945982\n",
      "R2 score: 0.7901686774578162\n",
      "MAE score: 44623.06708538262\n",
      "MSE score: 7494862275.616758\n"
     ]
    },
    {
     "name": "stderr",
     "output_type": "stream",
     "text": [
      "\r",
      " 47%|█████████████████████████████████████████████████████████▎                                                                | 47/100 [01:32<01:44,  1.97s/it]"
     ]
    },
    {
     "name": "stdout",
     "output_type": "stream",
     "text": [
      "R2 score: 0.9873724430175236\n",
      "MAE score: 10430.927106869653\n",
      "MSE score: 388179465.897329\n",
      "R2 score: 0.9604876725659122\n",
      "MAE score: 16911.1976258037\n",
      "MSE score: 1186408069.2034197\n",
      "R2 score: 0.7864279971623561\n",
      "MAE score: 44921.21878754586\n",
      "MSE score: 7628473803.638037\n"
     ]
    },
    {
     "name": "stderr",
     "output_type": "stream",
     "text": [
      "\r",
      " 48%|██████████████████████████████████████████████████████████▌                                                               | 48/100 [01:34<01:42,  1.97s/it]"
     ]
    },
    {
     "name": "stdout",
     "output_type": "stream",
     "text": [
      "R2 score: 0.9873724430175236\n",
      "MAE score: 10430.927106869654\n",
      "MSE score: 388179465.897329\n",
      "R2 score: 0.9595119381873343\n",
      "MAE score: 16811.879775791058\n",
      "MSE score: 1215705739.4577248\n",
      "R2 score: 0.7823280486635898\n",
      "MAE score: 45393.89296838325\n",
      "MSE score: 7774917856.714037\n"
     ]
    },
    {
     "name": "stderr",
     "output_type": "stream",
     "text": [
      "\r",
      " 49%|███████████████████████████████████████████████████████████▊                                                              | 49/100 [01:36<01:40,  1.97s/it]"
     ]
    },
    {
     "name": "stdout",
     "output_type": "stream",
     "text": [
      "R2 score: 0.9873724430175236\n",
      "MAE score: 10430.927106869654\n",
      "MSE score: 388179465.897329\n",
      "R2 score: 0.9588090016559779\n",
      "MAE score: 16972.707246908485\n",
      "MSE score: 1236812306.1192372\n",
      "R2 score: 0.8227838332100689\n",
      "MAE score: 43502.3127296925\n",
      "MSE score: 6329897495.81473\n"
     ]
    },
    {
     "name": "stderr",
     "output_type": "stream",
     "text": [
      "\r",
      " 50%|█████████████████████████████████████████████████████████████                                                             | 50/100 [01:38<01:38,  1.97s/it]"
     ]
    },
    {
     "name": "stdout",
     "output_type": "stream",
     "text": [
      "R2 score: 0.9873724430175236\n",
      "MAE score: 10430.927106869656\n",
      "MSE score: 388179465.8973289\n",
      "R2 score: 0.9579118462508209\n",
      "MAE score: 16953.613524773926\n",
      "MSE score: 1263750542.3895073\n",
      "R2 score: 0.8172490981580789\n",
      "MAE score: 43077.850165810574\n",
      "MSE score: 6527589987.308004\n"
     ]
    },
    {
     "name": "stderr",
     "output_type": "stream",
     "text": [
      "\r",
      " 51%|██████████████████████████████████████████████████████████████▏                                                           | 51/100 [01:40<01:36,  1.97s/it]"
     ]
    },
    {
     "name": "stdout",
     "output_type": "stream",
     "text": [
      "R2 score: 0.9873724430175236\n",
      "MAE score: 10430.927106869653\n",
      "MSE score: 388179465.8973289\n",
      "R2 score: 0.9563008253186432\n",
      "MAE score: 16999.480578100094\n",
      "MSE score: 1312123502.3671117\n",
      "R2 score: 0.8119669506630973\n",
      "MAE score: 43378.00603103427\n",
      "MSE score: 6716260427.520392\n"
     ]
    },
    {
     "name": "stderr",
     "output_type": "stream",
     "text": [
      "\r",
      " 52%|███████████████████████████████████████████████████████████████▍                                                          | 52/100 [01:42<01:34,  1.98s/it]"
     ]
    },
    {
     "name": "stdout",
     "output_type": "stream",
     "text": [
      "R2 score: 0.9873724430175236\n",
      "MAE score: 10430.927106869654\n",
      "MSE score: 388179465.8973289\n",
      "R2 score: 0.9530509838349037\n",
      "MAE score: 17071.12350185425\n",
      "MSE score: 1409704141.380908\n",
      "R2 score: 0.784655854950617\n",
      "MAE score: 45319.84289025805\n",
      "MSE score: 7691772083.651124\n"
     ]
    },
    {
     "name": "stderr",
     "output_type": "stream",
     "text": [
      "\r",
      " 53%|████████████████████████████████████████████████████████████████▋                                                         | 53/100 [01:44<01:32,  1.97s/it]"
     ]
    },
    {
     "name": "stdout",
     "output_type": "stream",
     "text": [
      "R2 score: 0.9873724430175236\n",
      "MAE score: 10430.927106869656\n",
      "MSE score: 388179465.897329\n",
      "R2 score: 0.9574882998304622\n",
      "MAE score: 16962.28641818369\n",
      "MSE score: 1276468064.3232377\n",
      "R2 score: 0.8322307101698858\n",
      "MAE score: 41715.853179487014\n",
      "MSE score: 5992469122.916346\n"
     ]
    },
    {
     "name": "stderr",
     "output_type": "stream",
     "text": [
      "\r",
      " 54%|█████████████████████████████████████████████████████████████████▉                                                        | 54/100 [01:46<01:30,  1.98s/it]"
     ]
    },
    {
     "name": "stdout",
     "output_type": "stream",
     "text": [
      "R2 score: 0.9873724430175236\n",
      "MAE score: 10430.927106869653\n",
      "MSE score: 388179465.897329\n",
      "R2 score: 0.9583602878551211\n",
      "MAE score: 16972.38706279812\n",
      "MSE score: 1250285510.7789097\n",
      "R2 score: 0.8043337565419101\n",
      "MAE score: 42978.0795691457\n",
      "MSE score: 6988906751.092244\n"
     ]
    },
    {
     "name": "stderr",
     "output_type": "stream",
     "text": [
      "\r",
      " 55%|███████████████████████████████████████████████████████████████████                                                       | 55/100 [01:48<01:28,  1.97s/it]"
     ]
    },
    {
     "name": "stdout",
     "output_type": "stream",
     "text": [
      "R2 score: 0.9873724430174615\n",
      "MAE score: 10430.927251089968\n",
      "MSE score: 388179465.899236\n",
      "R2 score: 0.9575942598375478\n",
      "MAE score: 17030.661935193348\n",
      "MSE score: 1273286479.8511791\n",
      "R2 score: 0.8279395731263594\n",
      "MAE score: 41988.48134007447\n",
      "MSE score: 6145742146.015946\n"
     ]
    },
    {
     "name": "stderr",
     "output_type": "stream",
     "text": [
      "\r",
      " 56%|████████████████████████████████████████████████████████████████████▎                                                     | 56/100 [01:50<01:26,  1.97s/it]"
     ]
    },
    {
     "name": "stdout",
     "output_type": "stream",
     "text": [
      "R2 score: 0.9873724430175236\n",
      "MAE score: 10430.927106869653\n",
      "MSE score: 388179465.8973289\n",
      "R2 score: 0.9585960522104463\n",
      "MAE score: 16953.13865584669\n",
      "MSE score: 1243206385.0540323\n",
      "R2 score: 0.8403100257365952\n",
      "MAE score: 41392.073724661335\n",
      "MSE score: 5703888005.85476\n"
     ]
    },
    {
     "name": "stderr",
     "output_type": "stream",
     "text": [
      "\r",
      " 57%|█████████████████████████████████████████████████████████████████████▌                                                    | 57/100 [01:52<01:24,  1.97s/it]"
     ]
    },
    {
     "name": "stdout",
     "output_type": "stream",
     "text": [
      "R2 score: 0.9873724430175236\n",
      "MAE score: 10430.927106869654\n",
      "MSE score: 388179465.897329\n",
      "R2 score: 0.9575398250546319\n",
      "MAE score: 16905.45800130673\n",
      "MSE score: 1274920953.6949327\n",
      "R2 score: 0.7877629728500262\n",
      "MAE score: 45760.343396559736\n",
      "MSE score: 7580790460.659669\n"
     ]
    },
    {
     "name": "stderr",
     "output_type": "stream",
     "text": [
      "\r",
      " 58%|██████████████████████████████████████████████████████████████████████▊                                                   | 58/100 [01:54<01:22,  1.97s/it]"
     ]
    },
    {
     "name": "stdout",
     "output_type": "stream",
     "text": [
      "R2 score: 0.9873724430175236\n",
      "MAE score: 10430.927106869654\n",
      "MSE score: 388179465.8973289\n",
      "R2 score: 0.9574466880161209\n",
      "MAE score: 16973.337542178844\n",
      "MSE score: 1277717512.166853\n",
      "R2 score: 0.7801787095153269\n",
      "MAE score: 45044.24178622913\n",
      "MSE score: 7851689049.425667\n"
     ]
    },
    {
     "name": "stderr",
     "output_type": "stream",
     "text": [
      "\r",
      " 59%|███████████████████████████████████████████████████████████████████████▉                                                  | 59/100 [01:56<01:20,  1.97s/it]"
     ]
    },
    {
     "name": "stdout",
     "output_type": "stream",
     "text": [
      "R2 score: 0.9873724430175236\n",
      "MAE score: 10430.927106869656\n",
      "MSE score: 388179465.897329\n",
      "R2 score: 0.957568601890332\n",
      "MAE score: 16950.528351564444\n",
      "MSE score: 1274056892.469033\n",
      "R2 score: 0.8283186154515239\n",
      "MAE score: 41972.90736748913\n",
      "MSE score: 6132203318.78406\n"
     ]
    },
    {
     "name": "stderr",
     "output_type": "stream",
     "text": [
      "\r",
      " 60%|█████████████████████████████████████████████████████████████████████████▏                                                | 60/100 [01:58<01:18,  1.97s/it]"
     ]
    },
    {
     "name": "stdout",
     "output_type": "stream",
     "text": [
      "R2 score: 0.9873724430175236\n",
      "MAE score: 10430.92710686965\n",
      "MSE score: 388179465.8973289\n",
      "R2 score: 0.9584816884825087\n",
      "MAE score: 16878.105317536058\n",
      "MSE score: 1246640301.972131\n",
      "R2 score: 0.8176000812891184\n",
      "MAE score: 43055.91530644888\n",
      "MSE score: 6515053392.693171\n"
     ]
    },
    {
     "name": "stderr",
     "output_type": "stream",
     "text": [
      "\r",
      " 61%|██████████████████████████████████████████████████████████████████████████▍                                               | 61/100 [02:00<01:16,  1.97s/it]"
     ]
    },
    {
     "name": "stdout",
     "output_type": "stream",
     "text": [
      "R2 score: 0.9873724444507912\n",
      "MAE score: 10430.913387912322\n",
      "MSE score: 388179421.83773553\n",
      "R2 score: 0.9592948322302277\n",
      "MAE score: 16881.615161638365\n",
      "MSE score: 1222224622.9583998\n",
      "R2 score: 0.8268517902572378\n",
      "MAE score: 42205.73408981206\n",
      "MSE score: 6184596129.735193\n"
     ]
    },
    {
     "name": "stderr",
     "output_type": "stream",
     "text": [
      "\r",
      " 62%|███████████████████████████████████████████████████████████████████████████▋                                              | 62/100 [02:02<01:14,  1.97s/it]"
     ]
    },
    {
     "name": "stdout",
     "output_type": "stream",
     "text": [
      "R2 score: 0.9873724430174615\n",
      "MAE score: 10430.927251089968\n",
      "MSE score: 388179465.899236\n",
      "R2 score: 0.9578638847206691\n",
      "MAE score: 16942.08157057049\n",
      "MSE score: 1265190648.5558262\n",
      "R2 score: 0.8075003527223732\n",
      "MAE score: 42846.235955312375\n",
      "MSE score: 6875800652.5006275\n"
     ]
    },
    {
     "name": "stderr",
     "output_type": "stream",
     "text": [
      "\r",
      " 63%|████████████████████████████████████████████████████████████████████████████▊                                             | 63/100 [02:04<01:12,  1.97s/it]"
     ]
    },
    {
     "name": "stdout",
     "output_type": "stream",
     "text": [
      "R2 score: 0.9873724430174615\n",
      "MAE score: 10430.927251089966\n",
      "MSE score: 388179465.89923596\n",
      "R2 score: 0.9584879905038748\n",
      "MAE score: 16913.932613328026\n",
      "MSE score: 1246451075.7360027\n",
      "R2 score: 0.8286456715432924\n",
      "MAE score: 42667.258971725656\n",
      "MSE score: 6120521362.37017\n"
     ]
    },
    {
     "name": "stderr",
     "output_type": "stream",
     "text": [
      "\r",
      " 64%|██████████████████████████████████████████████████████████████████████████████                                            | 64/100 [02:06<01:10,  1.97s/it]"
     ]
    },
    {
     "name": "stdout",
     "output_type": "stream",
     "text": [
      "R2 score: 0.9873724430175236\n",
      "MAE score: 10430.927106869656\n",
      "MSE score: 388179465.8973289\n",
      "R2 score: 0.9554093836808749\n",
      "MAE score: 17075.867305829037\n",
      "MSE score: 1338890175.4778414\n",
      "R2 score: 0.8044952036454581\n",
      "MAE score: 44392.12360207856\n",
      "MSE score: 6983140101.045768\n"
     ]
    },
    {
     "name": "stderr",
     "output_type": "stream",
     "text": [
      "\r",
      " 65%|███████████████████████████████████████████████████████████████████████████████▎                                          | 65/100 [02:08<01:08,  1.97s/it]"
     ]
    },
    {
     "name": "stdout",
     "output_type": "stream",
     "text": [
      "R2 score: 0.9873724444507912\n",
      "MAE score: 10430.913387912327\n",
      "MSE score: 388179421.8377354\n",
      "R2 score: 0.9569856103264015\n",
      "MAE score: 17014.802878692706\n",
      "MSE score: 1291561958.372289\n",
      "R2 score: 0.822988033689994\n",
      "MAE score: 43963.65929243319\n",
      "MSE score: 6322603758.8496685\n"
     ]
    },
    {
     "name": "stderr",
     "output_type": "stream",
     "text": [
      "\r",
      " 66%|████████████████████████████████████████████████████████████████████████████████▌                                         | 66/100 [02:10<01:06,  1.97s/it]"
     ]
    },
    {
     "name": "stdout",
     "output_type": "stream",
     "text": [
      "R2 score: 0.9873724430175236\n",
      "MAE score: 10430.927106869654\n",
      "MSE score: 388179465.8973288\n",
      "R2 score: 0.95942156366093\n",
      "MAE score: 16898.223499501808\n",
      "MSE score: 1218419349.97726\n",
      "R2 score: 0.8245741478463354\n",
      "MAE score: 43413.23312884026\n",
      "MSE score: 6265950123.867239\n"
     ]
    },
    {
     "name": "stderr",
     "output_type": "stream",
     "text": [
      "\r",
      " 67%|█████████████████████████████████████████████████████████████████████████████████▋                                        | 67/100 [02:12<01:05,  1.97s/it]"
     ]
    },
    {
     "name": "stdout",
     "output_type": "stream",
     "text": [
      "R2 score: 0.9873724430175236\n",
      "MAE score: 10430.927106869656\n",
      "MSE score: 388179465.897329\n",
      "R2 score: 0.9575594855443681\n",
      "MAE score: 17018.90526520912\n",
      "MSE score: 1274330622.3937342\n",
      "R2 score: 0.8133483119975587\n",
      "MAE score: 42862.39462614397\n",
      "MSE score: 6666920258.334881\n"
     ]
    },
    {
     "name": "stderr",
     "output_type": "stream",
     "text": [
      "\r",
      " 68%|██████████████████████████████████████████████████████████████████████████████████▉                                       | 68/100 [02:14<01:03,  1.97s/it]"
     ]
    },
    {
     "name": "stdout",
     "output_type": "stream",
     "text": [
      "R2 score: 0.9873724430174615\n",
      "MAE score: 10430.927251089966\n",
      "MSE score: 388179465.89923596\n",
      "R2 score: 0.9598372028283267\n",
      "MAE score: 16882.282464316984\n",
      "MSE score: 1205939253.4074209\n",
      "R2 score: 0.8245409082977418\n",
      "MAE score: 42736.48940315727\n",
      "MSE score: 6267137391.029237\n"
     ]
    },
    {
     "name": "stderr",
     "output_type": "stream",
     "text": [
      "\r",
      " 69%|████████████████████████████████████████████████████████████████████████████████████▏                                     | 69/100 [02:16<01:01,  1.97s/it]"
     ]
    },
    {
     "name": "stdout",
     "output_type": "stream",
     "text": [
      "R2 score: 0.9873724444507912\n",
      "MAE score: 10430.913387912326\n",
      "MSE score: 388179421.83773553\n",
      "R2 score: 0.9614962634358893\n",
      "MAE score: 16868.22495626825\n",
      "MSE score: 1156123840.8531199\n",
      "R2 score: 0.824556927728679\n",
      "MAE score: 42933.420368368934\n",
      "MSE score: 6266565200.818773\n"
     ]
    },
    {
     "name": "stderr",
     "output_type": "stream",
     "text": [
      "\r",
      " 70%|█████████████████████████████████████████████████████████████████████████████████████▍                                    | 70/100 [02:18<00:59,  1.97s/it]"
     ]
    },
    {
     "name": "stdout",
     "output_type": "stream",
     "text": [
      "R2 score: 0.9873724430174615\n",
      "MAE score: 10430.927251089966\n",
      "MSE score: 388179465.89923596\n",
      "R2 score: 0.959229838844193\n",
      "MAE score: 16879.821103817038\n",
      "MSE score: 1224176132.3389883\n",
      "R2 score: 0.7903410090749166\n",
      "MAE score: 44918.587248529584\n",
      "MSE score: 7488706846.959812\n"
     ]
    },
    {
     "name": "stderr",
     "output_type": "stream",
     "text": [
      "\r",
      " 71%|██████████████████████████████████████████████████████████████████████████████████████▌                                   | 71/100 [02:20<00:57,  1.97s/it]"
     ]
    },
    {
     "name": "stdout",
     "output_type": "stream",
     "text": [
      "R2 score: 0.9873724430175236\n",
      "MAE score: 10430.927106869653\n",
      "MSE score: 388179465.897329\n",
      "R2 score: 0.955865297354042\n",
      "MAE score: 17090.028214168116\n",
      "MSE score: 1325200785.4613204\n",
      "R2 score: 0.827706976336947\n",
      "MAE score: 42285.73390091701\n",
      "MSE score: 6154050156.856635\n"
     ]
    },
    {
     "name": "stderr",
     "output_type": "stream",
     "text": [
      "\r",
      " 72%|███████████████████████████████████████████████████████████████████████████████████████▊                                  | 72/100 [02:22<00:55,  1.97s/it]"
     ]
    },
    {
     "name": "stdout",
     "output_type": "stream",
     "text": [
      "R2 score: 0.9873724430174615\n",
      "MAE score: 10430.927251089966\n",
      "MSE score: 388179465.89923596\n",
      "R2 score: 0.9604780734827043\n",
      "MAE score: 16850.330010670783\n",
      "MSE score: 1186696293.9300897\n",
      "R2 score: 0.7972579916890209\n",
      "MAE score: 44452.578142408645\n",
      "MSE score: 7241642531.54939\n"
     ]
    },
    {
     "name": "stderr",
     "output_type": "stream",
     "text": [
      "\r",
      " 73%|█████████████████████████████████████████████████████████████████████████████████████████                                 | 73/100 [02:23<00:53,  1.97s/it]"
     ]
    },
    {
     "name": "stdout",
     "output_type": "stream",
     "text": [
      "R2 score: 0.9873724430174615\n",
      "MAE score: 10430.927251089966\n",
      "MSE score: 388179465.899236\n",
      "R2 score: 0.9577997232037383\n",
      "MAE score: 16939.49567465521\n",
      "MSE score: 1267117180.0046747\n",
      "R2 score: 0.8251445599407478\n",
      "MAE score: 43106.03552836735\n",
      "MSE score: 6245575853.543005\n"
     ]
    },
    {
     "name": "stderr",
     "output_type": "stream",
     "text": [
      "\r",
      " 74%|██████████████████████████████████████████████████████████████████████████████████████████▎                               | 74/100 [02:25<00:51,  1.97s/it]"
     ]
    },
    {
     "name": "stdout",
     "output_type": "stream",
     "text": [
      "R2 score: 0.9873724430175236\n",
      "MAE score: 10430.927106869653\n",
      "MSE score: 388179465.897329\n",
      "R2 score: 0.9577978911038028\n",
      "MAE score: 16979.190115481146\n",
      "MSE score: 1267172191.1439385\n",
      "R2 score: 0.8063266321216251\n",
      "MAE score: 43278.09980982075\n",
      "MSE score: 6917724203.980379\n"
     ]
    },
    {
     "name": "stderr",
     "output_type": "stream",
     "text": [
      "\r",
      " 75%|███████████████████████████████████████████████████████████████████████████████████████████▌                              | 75/100 [02:27<00:49,  1.97s/it]"
     ]
    },
    {
     "name": "stdout",
     "output_type": "stream",
     "text": [
      "R2 score: 0.9873724430175236\n",
      "MAE score: 10430.927106869653\n",
      "MSE score: 388179465.897329\n",
      "R2 score: 0.9574845686668132\n",
      "MAE score: 16936.016989207106\n",
      "MSE score: 1276580097.2746797\n",
      "R2 score: 0.7996145570966281\n",
      "MAE score: 44556.72445404307\n",
      "MSE score: 7157469525.539061\n"
     ]
    },
    {
     "name": "stderr",
     "output_type": "stream",
     "text": [
      "\r",
      " 76%|████████████████████████████████████████████████████████████████████████████████████████████▋                             | 76/100 [02:29<00:47,  1.97s/it]"
     ]
    },
    {
     "name": "stdout",
     "output_type": "stream",
     "text": [
      "R2 score: 0.9873724430175236\n",
      "MAE score: 10430.927106869653\n",
      "MSE score: 388179465.8973289\n",
      "R2 score: 0.9603119860060941\n",
      "MAE score: 16890.407213951494\n",
      "MSE score: 1191683282.4281156\n",
      "R2 score: 0.8209615697329599\n",
      "MAE score: 43470.33866466036\n",
      "MSE score: 6394986032.765991\n"
     ]
    },
    {
     "name": "stderr",
     "output_type": "stream",
     "text": [
      "\r",
      " 77%|█████████████████████████████████████████████████████████████████████████████████████████████▉                            | 77/100 [02:31<00:45,  1.97s/it]"
     ]
    },
    {
     "name": "stdout",
     "output_type": "stream",
     "text": [
      "R2 score: 0.9873724430175236\n",
      "MAE score: 10430.927106869656\n",
      "MSE score: 388179465.8973289\n",
      "R2 score: 0.957128191039519\n",
      "MAE score: 17050.295246167454\n",
      "MSE score: 1287280790.4548187\n",
      "R2 score: 0.8002735868314241\n",
      "MAE score: 43537.71186824542\n",
      "MSE score: 7133929965.1055155\n"
     ]
    },
    {
     "name": "stderr",
     "output_type": "stream",
     "text": [
      "\r",
      " 78%|███████████████████████████████████████████████████████████████████████████████████████████████▏                          | 78/100 [02:33<00:43,  1.97s/it]"
     ]
    },
    {
     "name": "stdout",
     "output_type": "stream",
     "text": [
      "R2 score: 0.9873724430175236\n",
      "MAE score: 10430.927106869654\n",
      "MSE score: 388179465.8973289\n",
      "R2 score: 0.9576625149895693\n",
      "MAE score: 16907.36918260753\n",
      "MSE score: 1271237031.7831523\n",
      "R2 score: 0.8269507047621419\n",
      "MAE score: 43362.211577338756\n",
      "MSE score: 6181063050.963465\n"
     ]
    },
    {
     "name": "stderr",
     "output_type": "stream",
     "text": [
      "\r",
      " 79%|████████████████████████████████████████████████████████████████████████████████████████████████▍                         | 79/100 [02:35<00:41,  1.97s/it]"
     ]
    },
    {
     "name": "stdout",
     "output_type": "stream",
     "text": [
      "R2 score: 0.9873724444507291\n",
      "MAE score: 10430.91353213264\n",
      "MSE score: 388179421.83964264\n",
      "R2 score: 0.9584862355930972\n",
      "MAE score: 16930.500449211686\n",
      "MSE score: 1246503769.1722665\n",
      "R2 score: 0.8161467525681907\n",
      "MAE score: 43297.8759392691\n",
      "MSE score: 6566964129.720346\n"
     ]
    },
    {
     "name": "stderr",
     "output_type": "stream",
     "text": [
      "\r",
      " 80%|█████████████████████████████████████████████████████████████████████████████████████████████████▌                        | 80/100 [02:37<00:39,  1.97s/it]"
     ]
    },
    {
     "name": "stdout",
     "output_type": "stream",
     "text": [
      "R2 score: 0.9873724430175236\n",
      "MAE score: 10430.92710686965\n",
      "MSE score: 388179465.8973289\n",
      "R2 score: 0.9581705524543956\n",
      "MAE score: 16951.90715899233\n",
      "MSE score: 1255982558.3853734\n",
      "R2 score: 0.8016409207806816\n",
      "MAE score: 43874.31971252257\n",
      "MSE score: 7085090833.22424\n"
     ]
    },
    {
     "name": "stderr",
     "output_type": "stream",
     "text": [
      "\r",
      " 81%|██████████████████████████████████████████████████████████████████████████████████████████████████▊                       | 81/100 [02:39<00:37,  1.97s/it]"
     ]
    },
    {
     "name": "stdout",
     "output_type": "stream",
     "text": [
      "R2 score: 0.9873724430175236\n",
      "MAE score: 10430.927106869654\n",
      "MSE score: 388179465.8973289\n",
      "R2 score: 0.958639308384511\n",
      "MAE score: 16950.214909741826\n",
      "MSE score: 1241907563.2106793\n",
      "R2 score: 0.8280888607554873\n",
      "MAE score: 42567.33405657546\n",
      "MSE score: 6140409814.282959\n"
     ]
    },
    {
     "name": "stderr",
     "output_type": "stream",
     "text": [
      "\r",
      " 82%|████████████████████████████████████████████████████████████████████████████████████████████████████                      | 82/100 [02:41<00:35,  1.97s/it]"
     ]
    },
    {
     "name": "stdout",
     "output_type": "stream",
     "text": [
      "R2 score: 0.9873724430175236\n",
      "MAE score: 10430.927106869654\n",
      "MSE score: 388179465.8973289\n",
      "R2 score: 0.9578091609548949\n",
      "MAE score: 16989.81711818501\n",
      "MSE score: 1266833799.4787881\n",
      "R2 score: 0.80568462488119\n",
      "MAE score: 43756.29208196818\n",
      "MSE score: 6940655746.272128\n"
     ]
    },
    {
     "name": "stderr",
     "output_type": "stream",
     "text": [
      "\r",
      " 83%|█████████████████████████████████████████████████████████████████████████████████████████████████████▎                    | 83/100 [02:43<00:33,  1.97s/it]"
     ]
    },
    {
     "name": "stdout",
     "output_type": "stream",
     "text": [
      "R2 score: 0.9873724430174615\n",
      "MAE score: 10430.927251089968\n",
      "MSE score: 388179465.899236\n",
      "R2 score: 0.9601297854991608\n",
      "MAE score: 16872.47791812226\n",
      "MSE score: 1197154085.2300792\n",
      "R2 score: 0.807387472785869\n",
      "MAE score: 43944.12338275626\n",
      "MSE score: 6879832555.686146\n"
     ]
    },
    {
     "name": "stderr",
     "output_type": "stream",
     "text": [
      "\r",
      " 84%|██████████████████████████████████████████████████████████████████████████████████████████████████████▍                   | 84/100 [02:45<00:31,  1.98s/it]"
     ]
    },
    {
     "name": "stdout",
     "output_type": "stream",
     "text": [
      "R2 score: 0.9873724430175236\n",
      "MAE score: 10430.927106869654\n",
      "MSE score: 388179465.8973289\n",
      "R2 score: 0.958693517071595\n",
      "MAE score: 16950.09222376849\n",
      "MSE score: 1240279878.182894\n",
      "R2 score: 0.8256826643512203\n",
      "MAE score: 42210.308839910984\n",
      "MSE score: 6226355565.563438\n"
     ]
    },
    {
     "name": "stderr",
     "output_type": "stream",
     "text": [
      "\r",
      " 85%|███████████████████████████████████████████████████████████████████████████████████████████████████████▋                  | 85/100 [02:47<00:29,  1.98s/it]"
     ]
    },
    {
     "name": "stdout",
     "output_type": "stream",
     "text": [
      "R2 score: 0.9873724444507912\n",
      "MAE score: 10430.913387912327\n",
      "MSE score: 388179421.8377354\n",
      "R2 score: 0.9586467843443773\n",
      "MAE score: 16918.48409402362\n",
      "MSE score: 1241683087.9725308\n",
      "R2 score: 0.7925472010209856\n",
      "MAE score: 45049.93865472827\n",
      "MSE score: 7409904956.998704\n"
     ]
    },
    {
     "name": "stderr",
     "output_type": "stream",
     "text": [
      "\r",
      " 86%|████████████████████████████████████████████████████████████████████████████████████████████████████████▉                 | 86/100 [02:49<00:27,  1.98s/it]"
     ]
    },
    {
     "name": "stdout",
     "output_type": "stream",
     "text": [
      "R2 score: 0.9873724430175236\n",
      "MAE score: 10430.927106869654\n",
      "MSE score: 388179465.897329\n",
      "R2 score: 0.9598958679859141\n",
      "MAE score: 16854.67672172307\n",
      "MSE score: 1204177757.1640317\n",
      "R2 score: 0.7923396120695052\n",
      "MAE score: 44557.939300371676\n",
      "MSE score: 7417319725.120237\n"
     ]
    },
    {
     "name": "stderr",
     "output_type": "stream",
     "text": [
      "\r",
      " 87%|██████████████████████████████████████████████████████████████████████████████████████████████████████████▏               | 87/100 [02:51<00:25,  1.97s/it]"
     ]
    },
    {
     "name": "stdout",
     "output_type": "stream",
     "text": [
      "R2 score: 0.9873724430174615\n",
      "MAE score: 10430.92725108997\n",
      "MSE score: 388179465.89923596\n",
      "R2 score: 0.954883728656035\n",
      "MAE score: 17075.319131561453\n",
      "MSE score: 1354673638.604068\n",
      "R2 score: 0.8128314318674886\n",
      "MAE score: 43764.08165834572\n",
      "MSE score: 6685382446.634246\n"
     ]
    },
    {
     "name": "stderr",
     "output_type": "stream",
     "text": [
      "\r",
      " 88%|███████████████████████████████████████████████████████████████████████████████████████████████████████████▎              | 88/100 [02:53<00:23,  1.97s/it]"
     ]
    },
    {
     "name": "stdout",
     "output_type": "stream",
     "text": [
      "R2 score: 0.9873724430175236\n",
      "MAE score: 10430.927106869656\n",
      "MSE score: 388179465.8973289\n",
      "R2 score: 0.9566710102601385\n",
      "MAE score: 17049.791490299824\n",
      "MSE score: 1301008226.952873\n",
      "R2 score: 0.8250210366469704\n",
      "MAE score: 42125.922776686384\n",
      "MSE score: 6249987921.595935\n"
     ]
    },
    {
     "name": "stderr",
     "output_type": "stream",
     "text": [
      "\r",
      " 89%|████████████████████████████████████████████████████████████████████████████████████████████████████████████▌             | 89/100 [02:55<00:21,  1.97s/it]"
     ]
    },
    {
     "name": "stdout",
     "output_type": "stream",
     "text": [
      "R2 score: 0.9873724430175236\n",
      "MAE score: 10430.927106869653\n",
      "MSE score: 388179465.897329\n",
      "R2 score: 0.9569070082171228\n",
      "MAE score: 16955.34593147411\n",
      "MSE score: 1293922087.0399854\n",
      "R2 score: 0.8265690305738926\n",
      "MAE score: 42751.11517983889\n",
      "MSE score: 6194695884.424308\n"
     ]
    },
    {
     "name": "stderr",
     "output_type": "stream",
     "text": [
      "\r",
      " 90%|█████████████████████████████████████████████████████████████████████████████████████████████████████████████▊            | 90/100 [02:57<00:19,  1.98s/it]"
     ]
    },
    {
     "name": "stdout",
     "output_type": "stream",
     "text": [
      "R2 score: 0.9873724430175236\n",
      "MAE score: 10430.927106869656\n",
      "MSE score: 388179465.897329\n",
      "R2 score: 0.9565400190609574\n",
      "MAE score: 16973.26945839154\n",
      "MSE score: 1304941404.9202363\n",
      "R2 score: 0.7932744269119634\n",
      "MAE score: 44530.14812901392\n",
      "MSE score: 7383929531.451618\n"
     ]
    },
    {
     "name": "stderr",
     "output_type": "stream",
     "text": [
      "\r",
      " 91%|███████████████████████████████████████████████████████████████████████████████████████████████████████████████           | 91/100 [02:59<00:17,  1.98s/it]"
     ]
    },
    {
     "name": "stdout",
     "output_type": "stream",
     "text": [
      "R2 score: 0.9873724430175236\n",
      "MAE score: 10430.927106869654\n",
      "MSE score: 388179465.8973289\n",
      "R2 score: 0.957650771130928\n",
      "MAE score: 16912.760592386087\n",
      "MSE score: 1271589656.1300447\n",
      "R2 score: 0.7993702634335211\n",
      "MAE score: 43307.95661994922\n",
      "MSE score: 7166195331.2844095\n"
     ]
    },
    {
     "name": "stderr",
     "output_type": "stream",
     "text": [
      "\r",
      " 92%|████████████████████████████████████████████████████████████████████████████████████████████████████████████████▏         | 92/100 [03:01<00:15,  1.97s/it]"
     ]
    },
    {
     "name": "stdout",
     "output_type": "stream",
     "text": [
      "R2 score: 0.9873724430174615\n",
      "MAE score: 10430.927251089966\n",
      "MSE score: 388179465.89923596\n",
      "R2 score: 0.9573544537930861\n",
      "MAE score: 16997.61268793702\n",
      "MSE score: 1280486962.451644\n",
      "R2 score: 0.8148306333847803\n",
      "MAE score: 43408.172360253935\n",
      "MSE score: 6613973946.455286\n"
     ]
    },
    {
     "name": "stderr",
     "output_type": "stream",
     "text": [
      "\r",
      " 93%|█████████████████████████████████████████████████████████████████████████████████████████████████████████████████▍        | 93/100 [03:03<00:13,  1.97s/it]"
     ]
    },
    {
     "name": "stdout",
     "output_type": "stream",
     "text": [
      "R2 score: 0.9873724444507912\n",
      "MAE score: 10430.913387912326\n",
      "MSE score: 388179421.83773553\n",
      "R2 score: 0.9558976064791933\n",
      "MAE score: 17161.410552117297\n",
      "MSE score: 1324230662.7356415\n",
      "R2 score: 0.8083185534976661\n",
      "MAE score: 43342.15883947005\n",
      "MSE score: 6846575739.602362\n"
     ]
    },
    {
     "name": "stderr",
     "output_type": "stream",
     "text": [
      "\r",
      " 94%|██████████████████████████████████████████████████████████████████████████████████████████████████████████████████▋       | 94/100 [03:05<00:11,  1.97s/it]"
     ]
    },
    {
     "name": "stdout",
     "output_type": "stream",
     "text": [
      "R2 score: 0.9873724430174615\n",
      "MAE score: 10430.927251089966\n",
      "MSE score: 388179465.899236\n",
      "R2 score: 0.9593654981766443\n",
      "MAE score: 16884.765997726387\n",
      "MSE score: 1220102787.7112515\n",
      "R2 score: 0.8338281484441513\n",
      "MAE score: 42298.56887640633\n",
      "MSE score: 5935411007.310121\n"
     ]
    },
    {
     "name": "stderr",
     "output_type": "stream",
     "text": [
      "\r",
      " 95%|███████████████████████████████████████████████████████████████████████████████████████████████████████████████████▉      | 95/100 [03:07<00:09,  1.97s/it]"
     ]
    },
    {
     "name": "stdout",
     "output_type": "stream",
     "text": [
      "R2 score: 0.9873724430175236\n",
      "MAE score: 10430.927106869654\n",
      "MSE score: 388179465.8973289\n",
      "R2 score: 0.9552281282218493\n",
      "MAE score: 17069.89011755453\n",
      "MSE score: 1344332602.0100129\n",
      "R2 score: 0.7831448795574374\n",
      "MAE score: 45180.88828601899\n",
      "MSE score: 7745741873.940417\n"
     ]
    },
    {
     "name": "stderr",
     "output_type": "stream",
     "text": [
      "\r",
      " 96%|█████████████████████████████████████████████████████████████████████████████████████████████████████████████████████     | 96/100 [03:09<00:07,  1.97s/it]"
     ]
    },
    {
     "name": "stdout",
     "output_type": "stream",
     "text": [
      "R2 score: 0.9873724430175236\n",
      "MAE score: 10430.927106869653\n",
      "MSE score: 388179465.8973289\n",
      "R2 score: 0.9593509714229714\n",
      "MAE score: 16935.392953507908\n",
      "MSE score: 1220538972.0338688\n",
      "R2 score: 0.7926702189174833\n",
      "MAE score: 44892.054631358835\n",
      "MSE score: 7405510940.983764\n"
     ]
    },
    {
     "name": "stderr",
     "output_type": "stream",
     "text": [
      "\r",
      " 97%|██████████████████████████████████████████████████████████████████████████████████████████████████████████████████████▎   | 97/100 [03:11<00:05,  1.97s/it]"
     ]
    },
    {
     "name": "stdout",
     "output_type": "stream",
     "text": [
      "R2 score: 0.9873724430174615\n",
      "MAE score: 10430.927251089966\n",
      "MSE score: 388179465.89923596\n",
      "R2 score: 0.9573661471067186\n",
      "MAE score: 17039.82282291158\n",
      "MSE score: 1280135855.7831652\n",
      "R2 score: 0.8405085580875583\n",
      "MAE score: 41813.15995935846\n",
      "MSE score: 5696796726.012952\n"
     ]
    },
    {
     "name": "stderr",
     "output_type": "stream",
     "text": [
      "\r",
      " 98%|███████████████████████████████████████████████████████████████████████████████████████████████████████████████████████▌  | 98/100 [03:13<00:03,  1.97s/it]"
     ]
    },
    {
     "name": "stdout",
     "output_type": "stream",
     "text": [
      "R2 score: 0.9873724430175236\n",
      "MAE score: 10430.927106869653\n",
      "MSE score: 388179465.8973289\n",
      "R2 score: 0.9579582584707779\n",
      "MAE score: 16999.94898988561\n",
      "MSE score: 1262356956.2395039\n",
      "R2 score: 0.8155258684566011\n",
      "MAE score: 43616.88173632087\n",
      "MSE score: 6589141185.314832\n"
     ]
    },
    {
     "name": "stderr",
     "output_type": "stream",
     "text": [
      "\r",
      " 99%|████████████████████████████████████████████████████████████████████████████████████████████████████████████████████████▊ | 99/100 [03:15<00:01,  1.97s/it]"
     ]
    },
    {
     "name": "stdout",
     "output_type": "stream",
     "text": [
      "R2 score: 0.9873724430175236\n",
      "MAE score: 10430.927106869654\n",
      "MSE score: 388179465.897329\n",
      "R2 score: 0.9604388322519378\n",
      "MAE score: 16848.966091429957\n",
      "MSE score: 1187874561.9757915\n",
      "R2 score: 0.8289348212623421\n",
      "MAE score: 42526.95246394562\n",
      "MSE score: 6110193365.1243105\n"
     ]
    },
    {
     "name": "stderr",
     "output_type": "stream",
     "text": [
      "100%|█████████████████████████████████████████████████████████████████████████████████████████████████████████████████████████| 100/100 [03:17<00:00,  1.97s/it]"
     ]
    },
    {
     "name": "stdout",
     "output_type": "stream",
     "text": [
      "R2 score: 0.9873724430175236\n",
      "MAE score: 10430.927106869653\n",
      "MSE score: 388179465.8973289\n",
      "R2 score: 0.95757871998579\n",
      "MAE score: 16947.48752000899\n",
      "MSE score: 1273753083.7370262\n",
      "R2 score: 0.79361964818368\n",
      "MAE score: 44065.498820933855\n",
      "MSE score: 7371598741.868908\n",
      "Training Performance:\n",
      "R2 score: 0.9873724432038331\n",
      "MAE score: 10430.92535513366\n",
      "MSE score: 388179460.1700011\n",
      "\n",
      "Validation Performance:\n",
      "R2 score: 0.957919307718284\n",
      "MAE score: 16965.343600082542\n",
      "MSE score: 1263526502.3042665\n",
      "\n",
      "Testing Performance\n",
      "R2 score: 0.8110622705381039\n",
      "MAE score: 16965.343600082542\n",
      "MSE score: 6748574253.969974\n"
     ]
    },
    {
     "name": "stderr",
     "output_type": "stream",
     "text": [
      "\n"
     ]
    }
   ],
   "source": [
    "from sklearn.tree import DecisionTreeRegressor\n",
    "from tqdm import tqdm\n",
    "\n",
    "\n",
    "avg_train_r2, avg_train_mae, avg_train_mse = 0, 0, 0\n",
    "avg_val_r2, avg_val_mae, avg_val_mse = 0, 0, 0\n",
    "avg_test_r2, avg_test_mae, avg_test_mse = 0, 0, 0\n",
    "\n",
    "for i in tqdm(range(100)):\n",
    "    model = train(DecisionTreeRegressor(max_depth=20), X_train, y_train)\n",
    "    r2, mae, mse = eval(model, X_train, y_train)\n",
    "    avg_train_r2 += r2\n",
    "    avg_train_mae += mae\n",
    "    avg_train_mse += mse\n",
    "    \n",
    "    r2, mae, mse = eval(model, X_val, y_val)\n",
    "    avg_val_r2 += r2\n",
    "    avg_val_mae += mae\n",
    "    avg_val_mse += mse\n",
    "    \n",
    "    r2, mas, mse = eval(model, X_test, y_test)\n",
    "    avg_test_r2 += r2\n",
    "    avg_test_mae += mae\n",
    "    avg_test_mse += mse\n",
    "\n",
    "avg_train_r2 /= 100.\n",
    "avg_train_mae /= 100.\n",
    "avg_train_mse /= 100.\n",
    "\n",
    "avg_val_r2 /= 100.\n",
    "avg_val_mae /= 100.\n",
    "avg_val_mse /= 100.\n",
    "\n",
    "avg_test_r2 /= 100.\n",
    "avg_test_mae /= 100.\n",
    "avg_test_mse /= 100.\n",
    "\n",
    "print('Training Performance:')\n",
    "print(f'R2 score: {avg_train_r2}')\n",
    "print(f'MAE score: {avg_train_mae}')\n",
    "print(f'MSE score: {avg_train_mse}')\n",
    "print()\n",
    "\n",
    "print('Validation Performance:')\n",
    "print(f'R2 score: {avg_val_r2}')\n",
    "print(f'MAE score: {avg_val_mae}')\n",
    "print(f'MSE score: {avg_val_mse}')\n",
    "print()\n",
    "\n",
    "print('Testing Performance')\n",
    "print(f'R2 score: {avg_test_r2}')\n",
    "print(f'MAE score: {avg_test_mae}')\n",
    "print(f'MSE score: {avg_test_mse}')"
   ]
  },
  {
   "cell_type": "code",
   "execution_count": null,
   "id": "a3251c9c",
   "metadata": {},
   "outputs": [],
   "source": []
  }
 ],
 "metadata": {
  "kernelspec": {
   "display_name": "Python 3 (ipykernel)",
   "language": "python",
   "name": "python3"
  },
  "language_info": {
   "codemirror_mode": {
    "name": "ipython",
    "version": 3
   },
   "file_extension": ".py",
   "mimetype": "text/x-python",
   "name": "python",
   "nbconvert_exporter": "python",
   "pygments_lexer": "ipython3",
   "version": "3.10.4"
  }
 },
 "nbformat": 4,
 "nbformat_minor": 5
}
