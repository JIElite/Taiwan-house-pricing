{
 "cells": [
  {
   "cell_type": "code",
   "execution_count": 1,
   "id": "d8ea47cd",
   "metadata": {},
   "outputs": [],
   "source": [
    "%matplotlib inline\n",
    "import pandas as pd\n",
    "import matplotlib.pyplot as plt"
   ]
  },
  {
   "cell_type": "code",
   "execution_count": 2,
   "id": "d4a199a5",
   "metadata": {},
   "outputs": [],
   "source": [
    "pd.set_option('display.max_columns', 120)\n",
    "pd.set_option('display.max_rows', 120)"
   ]
  },
  {
   "cell_type": "code",
   "execution_count": 3,
   "id": "76b9fa10",
   "metadata": {},
   "outputs": [],
   "source": [
    "def simple_drop(df):\n",
    "    df = df.drop(columns=['address', 'TDATE', 'Total_price', '編號'])\n",
    "    return df"
   ]
  },
  {
   "cell_type": "code",
   "execution_count": 4,
   "id": "3e109bd5",
   "metadata": {},
   "outputs": [],
   "source": [
    "def split_features_target(df):\n",
    "    X = df.drop(columns=['Unit_Price_Ping'])\n",
    "    y = df['Unit_Price_Ping']\n",
    "    return X, y\n",
    "\n",
    "def train(model, X_train, y_train):\n",
    "    model.fit(X_train, y_train)\n",
    "    return model\n",
    "\n",
    "def eval(model, X_test, y_test):\n",
    "    from sklearn.metrics import (r2_score, \n",
    "                                 mean_absolute_error, \n",
    "                                 mean_squared_error)\n",
    "    \n",
    "    y_pred = model.predict(X_test)\n",
    "    print(f'R2 score: {r2_score(y_test, y_pred)}')\n",
    "    print(f'MAE score: {mean_absolute_error(y_test, y_pred)}')\n",
    "    print(f'MSE score: {mean_squared_error(y_test, y_pred)}')"
   ]
  },
  {
   "cell_type": "code",
   "execution_count": 5,
   "id": "1a4d28f4",
   "metadata": {},
   "outputs": [],
   "source": [
    "from sklearn.model_selection import train_test_split"
   ]
  },
  {
   "cell_type": "code",
   "execution_count": 6,
   "id": "4508946d",
   "metadata": {},
   "outputs": [],
   "source": [
    "df_future = pd.read_csv('../temp_future/output_feature/clean_data_future_train.csv')\n",
    "df_future_test = pd.read_csv('../temp_future/output_feature/clean_data_future_test.csv')"
   ]
  },
  {
   "cell_type": "code",
   "execution_count": 7,
   "id": "4e6fa6fc",
   "metadata": {},
   "outputs": [],
   "source": [
    "# Code cell for built baseline\n",
    "df_future = simple_drop(df_future)\n",
    "df_future = df_future.sample(frac=1, random_state=0)\n",
    "X_train, y_train = split_features_target(df_future)\n",
    "X_train, X_val, y_train, y_val = train_test_split(X_train, y_train, test_size=0.1)\n",
    "\n",
    "df_future_test = simple_drop(df_future_test)\n",
    "X_test, y_test = split_features_target(df_future_test)"
   ]
  },
  {
   "cell_type": "code",
   "execution_count": 8,
   "id": "957a29be",
   "metadata": {},
   "outputs": [
    {
     "name": "stdout",
     "output_type": "stream",
     "text": [
      "Training performance: \n",
      "R2 score: 0.9874002296105632\n",
      "MAE score: 10186.981359720226\n",
      "MSE score: 387398904.9551694\n",
      "\n",
      "Evaluation performance: \n",
      "R2 score: 0.9504147220289036\n",
      "MAE score: 17051.481455372603\n",
      "MSE score: 1486229471.298085\n",
      "\n",
      "Test performance:\n",
      "R2 score: 0.7494452997759204\n",
      "MAE score: 46273.5103883766\n",
      "MSE score: 8949440664.705328\n"
     ]
    }
   ],
   "source": [
    "from sklearn.tree import DecisionTreeRegressor\n",
    "model = train(DecisionTreeRegressor(max_depth=20), X_train, y_train)\n",
    "\n",
    "print('Training performance: ')\n",
    "eval(model, X_train, y_train)\n",
    "print()\n",
    "print('Evaluation performance: ')\n",
    "eval(model, X_val, y_val)\n",
    "print()\n",
    "print('Test performance:')\n",
    "eval(model, X_test, y_test)"
   ]
  },
  {
   "cell_type": "code",
   "execution_count": null,
   "id": "72e546cb",
   "metadata": {},
   "outputs": [],
   "source": []
  }
 ],
 "metadata": {
  "kernelspec": {
   "display_name": "Python 3 (ipykernel)",
   "language": "python",
   "name": "python3"
  },
  "language_info": {
   "codemirror_mode": {
    "name": "ipython",
    "version": 3
   },
   "file_extension": ".py",
   "mimetype": "text/x-python",
   "name": "python",
   "nbconvert_exporter": "python",
   "pygments_lexer": "ipython3",
   "version": "3.10.4"
  }
 },
 "nbformat": 4,
 "nbformat_minor": 5
}
