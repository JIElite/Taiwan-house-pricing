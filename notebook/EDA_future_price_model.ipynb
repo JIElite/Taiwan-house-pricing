{
 "cells": [
  {
   "cell_type": "code",
   "execution_count": 11,
   "id": "d2478df4",
   "metadata": {},
   "outputs": [],
   "source": [
    "%matplotlib inline\n",
    "import pandas as pd\n",
    "from pandas.plotting import scatter_matrix\n",
    "import matplotlib.pyplot as plt"
   ]
  },
  {
   "cell_type": "code",
   "execution_count": 12,
   "id": "2039b0c7",
   "metadata": {},
   "outputs": [],
   "source": [
    "pd.set_option('display.max_columns', 120)\n",
    "pd.set_option('display.max_rows', 120)"
   ]
  },
  {
   "cell_type": "code",
   "execution_count": 13,
   "id": "392e6460",
   "metadata": {},
   "outputs": [],
   "source": [
    "def clean_and_drop(df):\n",
    "    # 只篩選有包含 '住' 用途的交易案\n",
    "    df = df.loc[df['Main_Usage_Living'] == 1]\n",
    "    df = df.drop(columns=['Main_Usage_Living'])\n",
    "    \n",
    "    # 因為都是 0\n",
    "    df = df.drop(columns=['Non_City_Land_Usage', 'Main_Usage_Walk', \n",
    "                          'Main_Usage_Selling',\n",
    "                          'Main_Usage_SnE'])\n",
    "    \n",
    "    # 只有 344 筆是包含工廠用途，且都不具住宅用途，故剔除\n",
    "    df = df.loc[df['Main_Usage_Manufacturing'] == 0]\n",
    "    df = df.drop(columns=['Main_Usage_Manufacturing'])\n",
    "    \n",
    "    # 只有 76 筆是包含停車用途，且都不具住宅用途，故剔除\n",
    "    df = df.loc[df['Main_Usage_Parking'] == 0]\n",
    "    df = df.drop(columns=['Main_Usage_Parking'])\n",
    "    \n",
    "    # 只有 78 筆有農業用途，且都不具住宅用途，故剔除\n",
    "    df = df.loc[df['Main_Usage_Farm'] == 0]\n",
    "    df = df.drop(columns=['Main_Usage_Farm'])\n",
    "    \n",
    "    # NOTICE: 我沒有錢，所以我先只買 6 房以下的\n",
    "    df = df.loc[df['room'] < 6]\n",
    "    \n",
    "    df = df.loc[df['trading_floors_count'] == 1]\n",
    "    \n",
    "    # 雖然有 95 個樣本包含地下室，但是樣本太少，可能不足以推廣\n",
    "    # 所以先剔除，剔除完後，都是 0 所以直接 drop\n",
    "    df = df.loc[df['including_basement'] == 0]\n",
    "    df = df.drop(columns=['including_basement'])\n",
    "    \n",
    "    # 所有的樣本都不包含人行道，所以直接去除這個 feature\n",
    "    df = df.drop(columns=['including_arcade'])\n",
    "\n",
    "    # 剔除交易樓層高度是 -1 (原本有一個樣本)\n",
    "    df = df.loc[df['min_floors_height'] != -1]\n",
    "\n",
    "    # 剔除交易建物是 0 個樓層的情況\n",
    "    df = df.loc[df['building_total_floors'] != 0]\n",
    "    \n",
    "    # 因為車位交易 50 坪以上的資料只有 22 筆，所以先去除\n",
    "    # 因為浮點數在硬體儲存會有小數點，故不能直接用 == 50.0 去比較\n",
    "    df = df.loc[df['Parking_Area'] < 49.5]\n",
    "    \n",
    "    # 把農舍，廠辦踢掉\n",
    "    df = df.loc[df['Building_Types'] < 8]\n",
    "\n",
    "    # 把超大轉移坪數刪掉\n",
    "    df = df.loc[df['Transfer_Total_Ping'] < 150]\n",
    "    \n",
    "    # 我先刪除 area_m2, 因為覺得跟 area_ping 的意義很類似，但是不確定會不會有些微差距。\n",
    "    # 因為在 future data 中，manager 都是 0，所以也把這個欄位刪除\n",
    "    # trading_floor_count 有 0 的情況，這樣應該不是房屋交易\n",
    "    df = df.drop(columns=['address', 'area_m2', 'manager', 'Building_Material_stone', \n",
    "                     'TDATE', 'Total_price', '編號'])\n",
    "    \n",
    "    # Convert the categorical features' dtype to 'category'\n",
    "    category_columns = ['Type', 'Month', 'Month_raw',\n",
    "                       'City_Land_Usage', 'Main_Usage_Business',\n",
    "                       'Building_Material_S', 'Building_Material_R', 'Building_Material_C',\n",
    "                       'Building_Material_steel', 'Building_Material_B', \n",
    "                       'Building_Material_W', 'Building_Material_iron',\n",
    "                       'Building_Material_tile', 'Building_Material_clay',\n",
    "                       'Building_Material_RC_reinforce',\n",
    "                       'Parking_Space_Types', 'Building_Types']\n",
    "    df.loc[:, category_columns] = df.loc[:, category_columns].astype('category')\n",
    "    return df"
   ]
  },
  {
   "cell_type": "code",
   "execution_count": 14,
   "id": "23fefe16",
   "metadata": {},
   "outputs": [],
   "source": [
    "def split_features_target(df):\n",
    "    X = df.drop(columns=['Unit_Price_Ping'])\n",
    "    y = df['Unit_Price_Ping']\n",
    "    return X, y\n",
    "\n",
    "def train(model, X_train, y_train):\n",
    "    model.fit(X_train, y_train)\n",
    "    return model\n",
    "\n",
    "def eval(model, X_test, y_test):\n",
    "    from sklearn.metrics import (r2_score, \n",
    "                                 mean_absolute_error, \n",
    "                                 mean_squared_error)\n",
    "    \n",
    "    y_pred = model.predict(X_test)\n",
    "    r2 = r2_score(y_test, y_pred)\n",
    "    mae = mean_absolute_error(y_test, y_pred)\n",
    "    mse = mean_squared_error(y_test, y_pred)\n",
    "    print(f'R2 score: {r2}')\n",
    "    print(f'MAE score: {mae}')\n",
    "    print(f'MSE score: {mse}')\n",
    "    return r2, mae, mse"
   ]
  },
  {
   "cell_type": "code",
   "execution_count": 15,
   "id": "29f9627f",
   "metadata": {},
   "outputs": [],
   "source": [
    "from sklearn.model_selection import train_test_split"
   ]
  },
  {
   "cell_type": "code",
   "execution_count": 16,
   "id": "47cc2d56",
   "metadata": {},
   "outputs": [],
   "source": [
    "df_future = pd.read_csv('../temp_future/output_feature/clean_data_future_train.csv')\n",
    "df_future_test = pd.read_csv('../temp_future/output_feature/clean_data_future_test.csv')"
   ]
  },
  {
   "cell_type": "code",
   "execution_count": 17,
   "id": "b38660e8",
   "metadata": {},
   "outputs": [],
   "source": [
    "df_future = clean_and_drop(df_future)\n",
    "df_future = df_future.sample(frac=1, random_state=0)\n",
    "X_train, y_train = split_features_target(df_future)\n",
    "X_train, X_val, y_train, y_val = train_test_split(X_train, y_train, test_size=0.1)"
   ]
  },
  {
   "cell_type": "code",
   "execution_count": 18,
   "id": "ec64058b",
   "metadata": {},
   "outputs": [],
   "source": [
    "df_future_test = clean_and_drop(df_future_test)\n",
    "X_test, y_test = split_features_target(df_future_test)"
   ]
  },
  {
   "cell_type": "code",
   "execution_count": 19,
   "id": "bd0702c5",
   "metadata": {},
   "outputs": [
    {
     "data": {
      "text/plain": [
       "[202109, 202112, 202004, 202110, 202005, ..., 201802, 201902, 201701, 201805, 201702]\n",
       "Length: 60\n",
       "Categories (60, int64): [201701, 201702, 201703, 201704, ..., 202109, 202110, 202111, 202112]"
      ]
     },
     "execution_count": 19,
     "metadata": {},
     "output_type": "execute_result"
    }
   ],
   "source": [
    "df_future['Month'].unique()"
   ]
  },
  {
   "cell_type": "code",
   "execution_count": 20,
   "id": "bdf31c01",
   "metadata": {},
   "outputs": [
    {
     "data": {
      "text/plain": [
       "(18274, 52)"
      ]
     },
     "execution_count": 20,
     "metadata": {},
     "output_type": "execute_result"
    }
   ],
   "source": [
    "X_val.shape"
   ]
  },
  {
   "cell_type": "code",
   "execution_count": null,
   "id": "b9654b0c",
   "metadata": {
    "scrolled": true
   },
   "outputs": [],
   "source": [
    "from sklearn.tree import DecisionTreeRegressor\n",
    "model = train(DecisionTreeRegressor(max_depth=20), X_train, y_train)\n",
    "\n",
    "print('Training performance: ')\n",
    "eval(model, X_train, y_train)\n",
    "print()\n",
    "print('Evaluation performance: ')\n",
    "eval(model, X_val, y_val)\n",
    "print()\n",
    "print('Test performance:')\n",
    "eval(model, X_test, y_test)"
   ]
  },
  {
   "cell_type": "code",
   "execution_count": 21,
   "id": "e10eb473",
   "metadata": {},
   "outputs": [
    {
     "name": "stderr",
     "output_type": "stream",
     "text": [
      "  1%|█▏                                                                                                                         | 1/100 [00:01<02:31,  1.53s/it]"
     ]
    },
    {
     "name": "stdout",
     "output_type": "stream",
     "text": [
      "R2 score: 0.9915288934380838\n",
      "MAE score: 8432.0554453398\n",
      "MSE score: 263929588.0868713\n",
      "R2 score: 0.9629183610035896\n",
      "MAE score: 15244.809666040488\n",
      "MSE score: 1118315702.3924153\n",
      "R2 score: 0.8658887153405582\n",
      "MAE score: 41824.62151631064\n",
      "MSE score: 4983334504.37143\n"
     ]
    },
    {
     "name": "stderr",
     "output_type": "stream",
     "text": [
      "\r",
      "  2%|██▍                                                                                                                        | 2/100 [00:03<02:29,  1.52s/it]"
     ]
    },
    {
     "name": "stdout",
     "output_type": "stream",
     "text": [
      "R2 score: 0.9915288934380838\n",
      "MAE score: 8432.0554453398\n",
      "MSE score: 263929588.08687136\n",
      "R2 score: 0.9655285179925953\n",
      "MAE score: 15205.211802354821\n",
      "MSE score: 1039598050.5972272\n",
      "R2 score: 0.8593031542137719\n",
      "MAE score: 43173.15980298978\n",
      "MSE score: 5228042129.662609\n"
     ]
    },
    {
     "name": "stderr",
     "output_type": "stream",
     "text": [
      "\r",
      "  3%|███▋                                                                                                                       | 3/100 [00:04<02:27,  1.52s/it]"
     ]
    },
    {
     "name": "stdout",
     "output_type": "stream",
     "text": [
      "R2 score: 0.9915288934380838\n",
      "MAE score: 8432.055445339804\n",
      "MSE score: 263929588.0868713\n",
      "R2 score: 0.9656968337870566\n",
      "MAE score: 15179.1180390486\n",
      "MSE score: 1034521948.218771\n",
      "R2 score: 0.8832263287469132\n",
      "MAE score: 40274.32258687088\n",
      "MSE score: 4339099924.628637\n"
     ]
    },
    {
     "name": "stderr",
     "output_type": "stream",
     "text": [
      "\r",
      "  4%|████▉                                                                                                                      | 4/100 [00:06<02:27,  1.54s/it]"
     ]
    },
    {
     "name": "stdout",
     "output_type": "stream",
     "text": [
      "R2 score: 0.9915288934380838\n",
      "MAE score: 8432.0554453398\n",
      "MSE score: 263929588.0868713\n",
      "R2 score: 0.9670793657174642\n",
      "MAE score: 15136.153515995047\n",
      "MSE score: 992827265.6567795\n",
      "R2 score: 0.8494508360417312\n",
      "MAE score: 44015.492227381925\n",
      "MSE score: 5594136580.397705\n"
     ]
    },
    {
     "name": "stderr",
     "output_type": "stream",
     "text": [
      "\r",
      "  5%|██████▏                                                                                                                    | 5/100 [00:07<02:26,  1.55s/it]"
     ]
    },
    {
     "name": "stdout",
     "output_type": "stream",
     "text": [
      "R2 score: 0.9915288934380838\n",
      "MAE score: 8432.055445339802\n",
      "MSE score: 263929588.0868713\n",
      "R2 score: 0.9656577782722128\n",
      "MAE score: 15204.091508756996\n",
      "MSE score: 1035699792.4753075\n",
      "R2 score: 0.8710560162007588\n",
      "MAE score: 42022.95769823136\n",
      "MSE score: 4791326883.711503\n"
     ]
    },
    {
     "name": "stderr",
     "output_type": "stream",
     "text": [
      "\r",
      "  6%|███████▍                                                                                                                   | 6/100 [00:09<02:25,  1.55s/it]"
     ]
    },
    {
     "name": "stdout",
     "output_type": "stream",
     "text": [
      "R2 score: 0.9915288934380838\n",
      "MAE score: 8432.055445339802\n",
      "MSE score: 263929588.0868713\n",
      "R2 score: 0.9660856193043748\n",
      "MAE score: 15225.692125863465\n",
      "MSE score: 1022796874.5530208\n",
      "R2 score: 0.874636004857376\n",
      "MAE score: 40684.184593571415\n",
      "MSE score: 4658300934.082565\n"
     ]
    },
    {
     "name": "stderr",
     "output_type": "stream",
     "text": [
      "\r",
      "  7%|████████▌                                                                                                                  | 7/100 [00:10<02:24,  1.55s/it]"
     ]
    },
    {
     "name": "stdout",
     "output_type": "stream",
     "text": [
      "R2 score: 0.9915288934380838\n",
      "MAE score: 8432.055445339802\n",
      "MSE score: 263929588.0868713\n",
      "R2 score: 0.9632546927875035\n",
      "MAE score: 15220.576425295782\n",
      "MSE score: 1108172539.2166753\n",
      "R2 score: 0.8685726659522667\n",
      "MAE score: 41958.759541103034\n",
      "MSE score: 4883603719.409378\n"
     ]
    },
    {
     "name": "stderr",
     "output_type": "stream",
     "text": [
      "\r",
      "  8%|█████████▊                                                                                                                 | 8/100 [00:12<02:22,  1.55s/it]"
     ]
    },
    {
     "name": "stdout",
     "output_type": "stream",
     "text": [
      "R2 score: 0.9915288947829672\n",
      "MAE score: 8432.054346515335\n",
      "MSE score: 263929546.18507946\n",
      "R2 score: 0.9659178548022417\n",
      "MAE score: 15170.62729429421\n",
      "MSE score: 1027856350.9439536\n",
      "R2 score: 0.862214874218556\n",
      "MAE score: 42409.98397480343\n",
      "MSE score: 5119847843.076245\n"
     ]
    },
    {
     "name": "stderr",
     "output_type": "stream",
     "text": [
      "\r",
      "  9%|███████████                                                                                                                | 9/100 [00:13<02:21,  1.55s/it]"
     ]
    },
    {
     "name": "stdout",
     "output_type": "stream",
     "text": [
      "R2 score: 0.9915288929448106\n",
      "MAE score: 8432.060993063315\n",
      "MSE score: 263929603.45551008\n",
      "R2 score: 0.9635048822672538\n",
      "MAE score: 15249.199393037243\n",
      "MSE score: 1100627273.3829484\n",
      "R2 score: 0.8636215762358036\n",
      "MAE score: 42632.51684159688\n",
      "MSE score: 5067577322.234396\n"
     ]
    },
    {
     "name": "stderr",
     "output_type": "stream",
     "text": [
      "\r",
      " 10%|████████████▏                                                                                                             | 10/100 [00:15<02:19,  1.55s/it]"
     ]
    },
    {
     "name": "stdout",
     "output_type": "stream",
     "text": [
      "R2 score: 0.9915288929448106\n",
      "MAE score: 8432.060993063316\n",
      "MSE score: 263929603.45551008\n",
      "R2 score: 0.9674492864145781\n",
      "MAE score: 15108.133111442798\n",
      "MSE score: 981671121.1222173\n",
      "R2 score: 0.8756934341668406\n",
      "MAE score: 41556.574609569456\n",
      "MSE score: 4619008759.847042\n"
     ]
    },
    {
     "name": "stderr",
     "output_type": "stream",
     "text": [
      "\r",
      " 11%|█████████████▍                                                                                                            | 11/100 [00:17<02:18,  1.56s/it]"
     ]
    },
    {
     "name": "stdout",
     "output_type": "stream",
     "text": [
      "R2 score: 0.9915288929448106\n",
      "MAE score: 8432.060993063315\n",
      "MSE score: 263929603.45551008\n",
      "R2 score: 0.9673225030740721\n",
      "MAE score: 15128.490174237348\n",
      "MSE score: 985494679.2045162\n",
      "R2 score: 0.859962702697196\n",
      "MAE score: 43173.53439105285\n",
      "MSE score: 5203534492.418663\n"
     ]
    },
    {
     "name": "stderr",
     "output_type": "stream",
     "text": [
      "\r",
      " 12%|██████████████▋                                                                                                           | 12/100 [00:18<02:16,  1.56s/it]"
     ]
    },
    {
     "name": "stdout",
     "output_type": "stream",
     "text": [
      "R2 score: 0.9915288934380838\n",
      "MAE score: 8432.055445339804\n",
      "MSE score: 263929588.0868713\n",
      "R2 score: 0.9633583527033366\n",
      "MAE score: 15220.783789257222\n",
      "MSE score: 1105046342.135795\n",
      "R2 score: 0.8720297849215514\n",
      "MAE score: 41493.93570938089\n",
      "MSE score: 4755143386.715511\n"
     ]
    },
    {
     "name": "stderr",
     "output_type": "stream",
     "text": [
      "\r",
      " 13%|███████████████▊                                                                                                          | 13/100 [00:20<02:15,  1.56s/it]"
     ]
    },
    {
     "name": "stdout",
     "output_type": "stream",
     "text": [
      "R2 score: 0.9915288934380838\n",
      "MAE score: 8432.055445339802\n",
      "MSE score: 263929588.0868713\n",
      "R2 score: 0.9678367131868802\n",
      "MAE score: 15110.815734857495\n",
      "MSE score: 969987024.7683665\n",
      "R2 score: 0.8688883912862071\n",
      "MAE score: 41358.556847970605\n",
      "MSE score: 4871871932.971533\n"
     ]
    },
    {
     "name": "stderr",
     "output_type": "stream",
     "text": [
      "\r",
      " 14%|█████████████████                                                                                                         | 14/100 [00:21<02:13,  1.56s/it]"
     ]
    },
    {
     "name": "stdout",
     "output_type": "stream",
     "text": [
      "R2 score: 0.9915288934380838\n",
      "MAE score: 8432.055445339802\n",
      "MSE score: 263929588.0868713\n",
      "R2 score: 0.9667495674295332\n",
      "MAE score: 15133.024961248313\n",
      "MSE score: 1002773390.315698\n",
      "R2 score: 0.8531329494071528\n",
      "MAE score: 44277.25677160977\n",
      "MSE score: 5457315859.982506\n"
     ]
    },
    {
     "name": "stderr",
     "output_type": "stream",
     "text": [
      "\r",
      " 15%|██████████████████▎                                                                                                       | 15/100 [00:23<02:12,  1.56s/it]"
     ]
    },
    {
     "name": "stdout",
     "output_type": "stream",
     "text": [
      "R2 score: 0.9915288934380838\n",
      "MAE score: 8432.055445339802\n",
      "MSE score: 263929588.08687127\n",
      "R2 score: 0.9665998567044194\n",
      "MAE score: 15156.668444322198\n",
      "MSE score: 1007288397.1827763\n",
      "R2 score: 0.8676015437479294\n",
      "MAE score: 42234.616412880576\n",
      "MSE score: 4919688876.606433\n"
     ]
    },
    {
     "name": "stderr",
     "output_type": "stream",
     "text": [
      "\r",
      " 16%|███████████████████▌                                                                                                      | 16/100 [00:24<02:11,  1.56s/it]"
     ]
    },
    {
     "name": "stdout",
     "output_type": "stream",
     "text": [
      "R2 score: 0.9915288929448106\n",
      "MAE score: 8432.060993063313\n",
      "MSE score: 263929603.45551008\n",
      "R2 score: 0.9665126679218943\n",
      "MAE score: 15140.199777561294\n",
      "MSE score: 1009917854.4346472\n",
      "R2 score: 0.8511285541820941\n",
      "MAE score: 44597.64096587224\n",
      "MSE score: 5531795587.104628\n"
     ]
    },
    {
     "name": "stderr",
     "output_type": "stream",
     "text": [
      "\r",
      " 17%|████████████████████▋                                                                                                     | 17/100 [00:26<02:09,  1.56s/it]"
     ]
    },
    {
     "name": "stdout",
     "output_type": "stream",
     "text": [
      "R2 score: 0.9915288929448107\n",
      "MAE score: 8432.060993063316\n",
      "MSE score: 263929603.45551002\n",
      "R2 score: 0.9635978731883272\n",
      "MAE score: 15357.170118024276\n",
      "MSE score: 1097822834.0423248\n",
      "R2 score: 0.8705287616839985\n",
      "MAE score: 42338.47810235657\n",
      "MSE score: 4810918714.724302\n"
     ]
    },
    {
     "name": "stderr",
     "output_type": "stream",
     "text": [
      "\r",
      " 18%|█████████████████████▉                                                                                                    | 18/100 [00:27<02:07,  1.56s/it]"
     ]
    },
    {
     "name": "stdout",
     "output_type": "stream",
     "text": [
      "R2 score: 0.9915288934380838\n",
      "MAE score: 8432.0554453398\n",
      "MSE score: 263929588.0868713\n",
      "R2 score: 0.9663852116770085\n",
      "MAE score: 15174.913000288052\n",
      "MSE score: 1013761706.1057541\n",
      "R2 score: 0.8764975334153774\n",
      "MAE score: 41543.28381276241\n",
      "MSE score: 4589129875.75203\n"
     ]
    },
    {
     "name": "stderr",
     "output_type": "stream",
     "text": [
      "\r",
      " 19%|███████████████████████▏                                                                                                  | 19/100 [00:29<02:06,  1.56s/it]"
     ]
    },
    {
     "name": "stdout",
     "output_type": "stream",
     "text": [
      "R2 score: 0.9915288934380838\n",
      "MAE score: 8432.055445339802\n",
      "MSE score: 263929588.0868713\n",
      "R2 score: 0.9653575073115616\n",
      "MAE score: 15240.421555797906\n",
      "MSE score: 1044755425.9196992\n",
      "R2 score: 0.8708406317641788\n",
      "MAE score: 42215.21157079646\n",
      "MSE score: 4799330182.5930195\n"
     ]
    },
    {
     "name": "stderr",
     "output_type": "stream",
     "text": [
      "\r",
      " 20%|████████████████████████▍                                                                                                 | 20/100 [00:31<02:04,  1.56s/it]"
     ]
    },
    {
     "name": "stdout",
     "output_type": "stream",
     "text": [
      "R2 score: 0.9915288934380838\n",
      "MAE score: 8432.055445339802\n",
      "MSE score: 263929588.0868713\n",
      "R2 score: 0.9621437881496434\n",
      "MAE score: 15258.15180544404\n",
      "MSE score: 1141675429.9734654\n",
      "R2 score: 0.8577652224640337\n",
      "MAE score: 42669.62711231413\n",
      "MSE score: 5285188911.704854\n"
     ]
    },
    {
     "name": "stderr",
     "output_type": "stream",
     "text": [
      "\r",
      " 21%|█████████████████████████▌                                                                                                | 21/100 [00:32<02:03,  1.56s/it]"
     ]
    },
    {
     "name": "stdout",
     "output_type": "stream",
     "text": [
      "R2 score: 0.9915288952762404\n",
      "MAE score: 8432.048798791822\n",
      "MSE score: 263929530.81644073\n",
      "R2 score: 0.9645997118255843\n",
      "MAE score: 15235.20292039564\n",
      "MSE score: 1067609178.1837897\n",
      "R2 score: 0.8779924377396244\n",
      "MAE score: 40791.08846289792\n",
      "MSE score: 4533581915.5735\n"
     ]
    },
    {
     "name": "stderr",
     "output_type": "stream",
     "text": [
      "\r",
      " 22%|██████████████████████████▊                                                                                               | 22/100 [00:34<02:01,  1.56s/it]"
     ]
    },
    {
     "name": "stdout",
     "output_type": "stream",
     "text": [
      "R2 score: 0.9915288929448106\n",
      "MAE score: 8432.060993063315\n",
      "MSE score: 263929603.45551008\n",
      "R2 score: 0.9617957059032979\n",
      "MAE score: 15311.93937574835\n",
      "MSE score: 1152172966.0141447\n",
      "R2 score: 0.8230116991023095\n",
      "MAE score: 47090.78466607991\n",
      "MSE score: 6576567430.34889\n"
     ]
    },
    {
     "name": "stderr",
     "output_type": "stream",
     "text": [
      "\r",
      " 23%|████████████████████████████                                                                                              | 23/100 [00:35<02:00,  1.57s/it]"
     ]
    },
    {
     "name": "stdout",
     "output_type": "stream",
     "text": [
      "R2 score: 0.9915288934380838\n",
      "MAE score: 8432.055445339802\n",
      "MSE score: 263929588.0868713\n",
      "R2 score: 0.9666435805122929\n",
      "MAE score: 15158.363347986711\n",
      "MSE score: 1005969765.584049\n",
      "R2 score: 0.8710322319902384\n",
      "MAE score: 41565.785285512306\n",
      "MSE score: 4792210662.263373\n"
     ]
    },
    {
     "name": "stderr",
     "output_type": "stream",
     "text": [
      "\r",
      " 24%|█████████████████████████████▎                                                                                            | 24/100 [00:37<01:59,  1.57s/it]"
     ]
    },
    {
     "name": "stdout",
     "output_type": "stream",
     "text": [
      "R2 score: 0.9915288929448106\n",
      "MAE score: 8432.060993063315\n",
      "MSE score: 263929603.45551008\n",
      "R2 score: 0.9624893952454304\n",
      "MAE score: 15247.450890614691\n",
      "MSE score: 1131252540.0328615\n",
      "R2 score: 0.868833483316034\n",
      "MAE score: 41962.2343417443\n",
      "MSE score: 4873912214.540852\n"
     ]
    },
    {
     "name": "stderr",
     "output_type": "stream",
     "text": [
      "\r",
      " 25%|██████████████████████████████▌                                                                                           | 25/100 [00:38<01:58,  1.58s/it]"
     ]
    },
    {
     "name": "stdout",
     "output_type": "stream",
     "text": [
      "R2 score: 0.9915288929448106\n",
      "MAE score: 8432.060993063315\n",
      "MSE score: 263929603.45551008\n",
      "R2 score: 0.9654470039612366\n",
      "MAE score: 15091.895813648238\n",
      "MSE score: 1042056367.535229\n",
      "R2 score: 0.8803368885525236\n",
      "MAE score: 41210.26674693617\n",
      "MSE score: 4446466333.470249\n"
     ]
    },
    {
     "name": "stderr",
     "output_type": "stream",
     "text": [
      "\r",
      " 26%|███████████████████████████████▋                                                                                          | 26/100 [00:40<01:56,  1.58s/it]"
     ]
    },
    {
     "name": "stdout",
     "output_type": "stream",
     "text": [
      "R2 score: 0.9915288934380838\n",
      "MAE score: 8432.0554453398\n",
      "MSE score: 263929588.0868713\n",
      "R2 score: 0.9639812989115213\n",
      "MAE score: 15201.955016551912\n",
      "MSE score: 1086259402.1511264\n",
      "R2 score: 0.8659303873675176\n",
      "MAE score: 42115.047931851295\n",
      "MSE score: 4981786046.683167\n"
     ]
    },
    {
     "name": "stderr",
     "output_type": "stream",
     "text": [
      "\r",
      " 27%|████████████████████████████████▉                                                                                         | 27/100 [00:42<01:55,  1.58s/it]"
     ]
    },
    {
     "name": "stdout",
     "output_type": "stream",
     "text": [
      "R2 score: 0.991528893436624\n",
      "MAE score: 8432.056189056359\n",
      "MSE score: 263929588.132355\n",
      "R2 score: 0.9642561173411762\n",
      "MAE score: 15255.752314698824\n",
      "MSE score: 1077971371.3761191\n",
      "R2 score: 0.8719057542269234\n",
      "MAE score: 41731.57846043321\n",
      "MSE score: 4759752144.596778\n"
     ]
    },
    {
     "name": "stderr",
     "output_type": "stream",
     "text": [
      "\r",
      " 28%|██████████████████████████████████▏                                                                                       | 28/100 [00:43<01:53,  1.58s/it]"
     ]
    },
    {
     "name": "stdout",
     "output_type": "stream",
     "text": [
      "R2 score: 0.9915288934380838\n",
      "MAE score: 8432.055445339802\n",
      "MSE score: 263929588.08687136\n",
      "R2 score: 0.964512181323435\n",
      "MAE score: 15273.220569557407\n",
      "MSE score: 1070248941.0864321\n",
      "R2 score: 0.8541390723489146\n",
      "MAE score: 43913.32990946495\n",
      "MSE score: 5419930138.23617\n"
     ]
    },
    {
     "name": "stderr",
     "output_type": "stream",
     "text": [
      "\r",
      " 29%|███████████████████████████████████▍                                                                                      | 29/100 [00:45<01:52,  1.58s/it]"
     ]
    },
    {
     "name": "stdout",
     "output_type": "stream",
     "text": [
      "R2 score: 0.9915288929448107\n",
      "MAE score: 8432.060993063315\n",
      "MSE score: 263929603.45551002\n",
      "R2 score: 0.965665129120662\n",
      "MAE score: 15261.918985243248\n",
      "MSE score: 1035478104.0745449\n",
      "R2 score: 0.8794872712769826\n",
      "MAE score: 40747.209296713176\n",
      "MSE score: 4478036585.708644\n"
     ]
    },
    {
     "name": "stderr",
     "output_type": "stream",
     "text": [
      "\r",
      " 30%|████████████████████████████████████▌                                                                                     | 30/100 [00:46<01:50,  1.58s/it]"
     ]
    },
    {
     "name": "stdout",
     "output_type": "stream",
     "text": [
      "R2 score: 0.9915288934380838\n",
      "MAE score: 8432.0554453398\n",
      "MSE score: 263929588.08687136\n",
      "R2 score: 0.9646550402616676\n",
      "MAE score: 15185.839683137747\n",
      "MSE score: 1065940571.8186071\n",
      "R2 score: 0.8547165058197608\n",
      "MAE score: 43664.01176060686\n",
      "MSE score: 5398473747.399607\n"
     ]
    },
    {
     "name": "stderr",
     "output_type": "stream",
     "text": [
      "\r",
      " 31%|█████████████████████████████████████▊                                                                                    | 31/100 [00:48<01:49,  1.59s/it]"
     ]
    },
    {
     "name": "stdout",
     "output_type": "stream",
     "text": [
      "R2 score: 0.9915288929448106\n",
      "MAE score: 8432.060993063315\n",
      "MSE score: 263929603.45551017\n",
      "R2 score: 0.9650349475896666\n",
      "MAE score: 15220.746273729577\n",
      "MSE score: 1054483248.4139887\n",
      "R2 score: 0.8724339394174857\n",
      "MAE score: 41617.82203811895\n",
      "MSE score: 4740125731.416774\n"
     ]
    },
    {
     "name": "stderr",
     "output_type": "stream",
     "text": [
      "\r",
      " 32%|███████████████████████████████████████                                                                                   | 32/100 [00:50<01:47,  1.59s/it]"
     ]
    },
    {
     "name": "stdout",
     "output_type": "stream",
     "text": [
      "R2 score: 0.9915288934380838\n",
      "MAE score: 8432.055445339798\n",
      "MSE score: 263929588.0868713\n",
      "R2 score: 0.9625424501808103\n",
      "MAE score: 15256.447585227777\n",
      "MSE score: 1129652498.3699114\n",
      "R2 score: 0.8627293924014805\n",
      "MAE score: 41817.33218554365\n",
      "MSE score: 5100729271.3572035\n"
     ]
    },
    {
     "name": "stderr",
     "output_type": "stream",
     "text": [
      "\r",
      " 33%|████████████████████████████████████████▎                                                                                 | 33/100 [00:51<01:46,  1.59s/it]"
     ]
    },
    {
     "name": "stdout",
     "output_type": "stream",
     "text": [
      "R2 score: 0.9915288934380838\n",
      "MAE score: 8432.0554453398\n",
      "MSE score: 263929588.0868713\n",
      "R2 score: 0.9641848036637612\n",
      "MAE score: 15171.57238684269\n",
      "MSE score: 1080122063.9400637\n",
      "R2 score: 0.874301495290544\n",
      "MAE score: 41512.97132182009\n",
      "MSE score: 4670730708.8824215\n"
     ]
    },
    {
     "name": "stderr",
     "output_type": "stream",
     "text": [
      "\r",
      " 34%|█████████████████████████████████████████▍                                                                                | 34/100 [00:53<01:44,  1.58s/it]"
     ]
    },
    {
     "name": "stdout",
     "output_type": "stream",
     "text": [
      "R2 score: 0.9915288929448106\n",
      "MAE score: 8432.060993063315\n",
      "MSE score: 263929603.45551008\n",
      "R2 score: 0.9650172112591664\n",
      "MAE score: 15285.456524318812\n",
      "MSE score: 1055018144.3203734\n",
      "R2 score: 0.855454728731899\n",
      "MAE score: 43932.48537210854\n",
      "MSE score: 5371042709.666146\n"
     ]
    },
    {
     "name": "stderr",
     "output_type": "stream",
     "text": [
      "\r",
      " 35%|██████████████████████████████████████████▋                                                                               | 35/100 [00:54<01:42,  1.58s/it]"
     ]
    },
    {
     "name": "stdout",
     "output_type": "stream",
     "text": [
      "R2 score: 0.9915288929448106\n",
      "MAE score: 8432.060993063315\n",
      "MSE score: 263929603.45551008\n",
      "R2 score: 0.9653980243419522\n",
      "MAE score: 15194.759184565963\n",
      "MSE score: 1043533504.9764374\n",
      "R2 score: 0.8711756132924702\n",
      "MAE score: 41996.13903954653\n",
      "MSE score: 4786882870.552871\n"
     ]
    },
    {
     "name": "stderr",
     "output_type": "stream",
     "text": [
      "\r",
      " 36%|███████████████████████████████████████████▉                                                                              | 36/100 [00:56<01:41,  1.58s/it]"
     ]
    },
    {
     "name": "stdout",
     "output_type": "stream",
     "text": [
      "R2 score: 0.9915288934380838\n",
      "MAE score: 8432.055445339802\n",
      "MSE score: 263929588.0868713\n",
      "R2 score: 0.9650466708028685\n",
      "MAE score: 15194.848819333245\n",
      "MSE score: 1054129697.336933\n",
      "R2 score: 0.8617411736225022\n",
      "MAE score: 43904.639750614835\n",
      "MSE score: 5137449706.566334\n"
     ]
    },
    {
     "name": "stderr",
     "output_type": "stream",
     "text": [
      "\r",
      " 37%|█████████████████████████████████████████████▏                                                                            | 37/100 [00:57<01:39,  1.58s/it]"
     ]
    },
    {
     "name": "stdout",
     "output_type": "stream",
     "text": [
      "R2 score: 0.9915288934380838\n",
      "MAE score: 8432.055445339802\n",
      "MSE score: 263929588.0868713\n",
      "R2 score: 0.9643236765480472\n",
      "MAE score: 15234.853960214079\n",
      "MSE score: 1075933906.907726\n",
      "R2 score: 0.8665798042909925\n",
      "MAE score: 42663.83382298717\n",
      "MSE score: 4957654880.01294\n"
     ]
    },
    {
     "name": "stderr",
     "output_type": "stream",
     "text": [
      "\r",
      " 38%|██████████████████████████████████████████████▎                                                                           | 38/100 [00:59<01:37,  1.57s/it]"
     ]
    },
    {
     "name": "stdout",
     "output_type": "stream",
     "text": [
      "R2 score: 0.9915288929448107\n",
      "MAE score: 8432.060993063315\n",
      "MSE score: 263929603.45551002\n",
      "R2 score: 0.9581762647247617\n",
      "MAE score: 15446.200074856115\n",
      "MSE score: 1261328818.1660547\n",
      "R2 score: 0.870941104526791\n",
      "MAE score: 42010.16773298784\n",
      "MSE score: 4795596795.160735\n"
     ]
    },
    {
     "name": "stderr",
     "output_type": "stream",
     "text": [
      "\r",
      " 39%|███████████████████████████████████████████████▌                                                                          | 39/100 [01:01<01:35,  1.57s/it]"
     ]
    },
    {
     "name": "stdout",
     "output_type": "stream",
     "text": [
      "R2 score: 0.9915288934380838\n",
      "MAE score: 8432.055445339802\n",
      "MSE score: 263929588.0868712\n",
      "R2 score: 0.9651639088355428\n",
      "MAE score: 15271.658030245655\n",
      "MSE score: 1050594008.6131958\n",
      "R2 score: 0.8752729203727854\n",
      "MAE score: 41630.58934261359\n",
      "MSE score: 4634634297.286351\n"
     ]
    },
    {
     "name": "stderr",
     "output_type": "stream",
     "text": [
      "\r",
      " 40%|████████████████████████████████████████████████▊                                                                         | 40/100 [01:02<01:34,  1.58s/it]"
     ]
    },
    {
     "name": "stdout",
     "output_type": "stream",
     "text": [
      "R2 score: 0.9915288929448106\n",
      "MAE score: 8432.060993063315\n",
      "MSE score: 263929603.45551008\n",
      "R2 score: 0.9659391958392328\n",
      "MAE score: 15190.8091650335\n",
      "MSE score: 1027212743.5571597\n",
      "R2 score: 0.8788697119092714\n",
      "MAE score: 41263.490434682324\n",
      "MSE score: 4500983982.815663\n"
     ]
    },
    {
     "name": "stderr",
     "output_type": "stream",
     "text": [
      "\r",
      " 41%|██████████████████████████████████████████████████                                                                        | 41/100 [01:04<01:32,  1.57s/it]"
     ]
    },
    {
     "name": "stdout",
     "output_type": "stream",
     "text": [
      "R2 score: 0.9915288952762404\n",
      "MAE score: 8432.048798791822\n",
      "MSE score: 263929530.81644064\n",
      "R2 score: 0.9656779665001864\n",
      "MAE score: 15207.32096873926\n",
      "MSE score: 1035090951.740178\n",
      "R2 score: 0.8748623986720978\n",
      "MAE score: 40591.77882876448\n",
      "MSE score: 4649888546.479655\n"
     ]
    },
    {
     "name": "stderr",
     "output_type": "stream",
     "text": [
      "\r",
      " 42%|███████████████████████████████████████████████████▏                                                                      | 42/100 [01:05<01:30,  1.57s/it]"
     ]
    },
    {
     "name": "stdout",
     "output_type": "stream",
     "text": [
      "R2 score: 0.9915288934380838\n",
      "MAE score: 8432.055445339802\n",
      "MSE score: 263929588.0868713\n",
      "R2 score: 0.9637530531814256\n",
      "MAE score: 15241.197438901258\n",
      "MSE score: 1093142883.8654785\n",
      "R2 score: 0.869866035872368\n",
      "MAE score: 41944.86513618387\n",
      "MSE score: 4835544415.778633\n"
     ]
    },
    {
     "name": "stderr",
     "output_type": "stream",
     "text": [
      "\r",
      " 43%|████████████████████████████████████████████████████▍                                                                     | 43/100 [01:07<01:29,  1.56s/it]"
     ]
    },
    {
     "name": "stdout",
     "output_type": "stream",
     "text": [
      "R2 score: 0.9915288934380838\n",
      "MAE score: 8432.0554453398\n",
      "MSE score: 263929588.08687136\n",
      "R2 score: 0.9656417174973733\n",
      "MAE score: 15199.174384019389\n",
      "MSE score: 1036184156.6291497\n",
      "R2 score: 0.8442204937101804\n",
      "MAE score: 44471.350024983854\n",
      "MSE score: 5788486708.924764\n"
     ]
    },
    {
     "name": "stderr",
     "output_type": "stream",
     "text": [
      "\r",
      " 44%|█████████████████████████████████████████████████████▋                                                                    | 44/100 [01:08<01:27,  1.57s/it]"
     ]
    },
    {
     "name": "stdout",
     "output_type": "stream",
     "text": [
      "R2 score: 0.9915288929448106\n",
      "MAE score: 8432.060993063315\n",
      "MSE score: 263929603.45551017\n",
      "R2 score: 0.9672335119721763\n",
      "MAE score: 15116.136987987906\n",
      "MSE score: 988178491.1749862\n",
      "R2 score: 0.8731413391383922\n",
      "MAE score: 41141.08697500093\n",
      "MSE score: 4713840028.117998\n"
     ]
    },
    {
     "name": "stderr",
     "output_type": "stream",
     "text": [
      "\r",
      " 45%|██████████████████████████████████████████████████████▉                                                                   | 45/100 [01:10<01:26,  1.57s/it]"
     ]
    },
    {
     "name": "stdout",
     "output_type": "stream",
     "text": [
      "R2 score: 0.9915288929448107\n",
      "MAE score: 8432.060993063315\n",
      "MSE score: 263929603.45551002\n",
      "R2 score: 0.9649959298818147\n",
      "MAE score: 15199.574818537687\n",
      "MSE score: 1055659952.4794791\n",
      "R2 score: 0.8681832172058928\n",
      "MAE score: 42347.8128715835\n",
      "MSE score: 4898074935.462653\n"
     ]
    },
    {
     "name": "stderr",
     "output_type": "stream",
     "text": [
      "\r",
      " 46%|████████████████████████████████████████████████████████                                                                  | 46/100 [01:12<01:24,  1.57s/it]"
     ]
    },
    {
     "name": "stdout",
     "output_type": "stream",
     "text": [
      "R2 score: 0.9915288934380838\n",
      "MAE score: 8432.055445339804\n",
      "MSE score: 263929588.08687127\n",
      "R2 score: 0.9624419423275078\n",
      "MAE score: 15271.82011482636\n",
      "MSE score: 1132683634.9001174\n",
      "R2 score: 0.869525452660374\n",
      "MAE score: 42052.92320183484\n",
      "MSE score: 4848199876.325818\n"
     ]
    },
    {
     "name": "stderr",
     "output_type": "stream",
     "text": [
      "\r",
      " 47%|█████████████████████████████████████████████████████████▎                                                                | 47/100 [01:13<01:23,  1.57s/it]"
     ]
    },
    {
     "name": "stdout",
     "output_type": "stream",
     "text": [
      "R2 score: 0.9915288934380838\n",
      "MAE score: 8432.055445339802\n",
      "MSE score: 263929588.0868713\n",
      "R2 score: 0.9663536051505041\n",
      "MAE score: 15158.903801969656\n",
      "MSE score: 1014714902.238519\n",
      "R2 score: 0.8609843107557051\n",
      "MAE score: 43041.74029823869\n",
      "MSE score: 5165573371.541769\n"
     ]
    },
    {
     "name": "stderr",
     "output_type": "stream",
     "text": [
      "\r",
      " 48%|██████████████████████████████████████████████████████████▌                                                               | 48/100 [01:15<01:21,  1.57s/it]"
     ]
    },
    {
     "name": "stdout",
     "output_type": "stream",
     "text": [
      "R2 score: 0.9915288929448106\n",
      "MAE score: 8432.060993063315\n",
      "MSE score: 263929603.45551008\n",
      "R2 score: 0.9643816783994372\n",
      "MAE score: 15255.482366288627\n",
      "MSE score: 1074184675.1333797\n",
      "R2 score: 0.8698693148996318\n",
      "MAE score: 41901.87786728586\n",
      "MSE score: 4835422573.013902\n"
     ]
    },
    {
     "name": "stderr",
     "output_type": "stream",
     "text": [
      "\r",
      " 49%|███████████████████████████████████████████████████████████▊                                                              | 49/100 [01:16<01:20,  1.57s/it]"
     ]
    },
    {
     "name": "stdout",
     "output_type": "stream",
     "text": [
      "R2 score: 0.9915288934380838\n",
      "MAE score: 8432.055445339802\n",
      "MSE score: 263929588.0868713\n",
      "R2 score: 0.9648031536970323\n",
      "MAE score: 15253.284368681982\n",
      "MSE score: 1061473736.3445971\n",
      "R2 score: 0.8596821940037455\n",
      "MAE score: 41779.79773492371\n",
      "MSE score: 5213957691.737037\n"
     ]
    },
    {
     "name": "stderr",
     "output_type": "stream",
     "text": [
      "\r",
      " 50%|█████████████████████████████████████████████████████████████                                                             | 50/100 [01:18<01:18,  1.57s/it]"
     ]
    },
    {
     "name": "stdout",
     "output_type": "stream",
     "text": [
      "R2 score: 0.9915288934380838\n",
      "MAE score: 8432.0554453398\n",
      "MSE score: 263929588.08687127\n",
      "R2 score: 0.9637028170103389\n",
      "MAE score: 15174.981676248652\n",
      "MSE score: 1094657916.6546116\n",
      "R2 score: 0.8588216869595673\n",
      "MAE score: 43801.45909131179\n",
      "MSE score: 5245932588.222423\n"
     ]
    },
    {
     "name": "stderr",
     "output_type": "stream",
     "text": [
      "\r",
      " 51%|██████████████████████████████████████████████████████████████▏                                                           | 51/100 [01:19<01:17,  1.57s/it]"
     ]
    },
    {
     "name": "stdout",
     "output_type": "stream",
     "text": [
      "R2 score: 0.9915288934380838\n",
      "MAE score: 8432.055445339802\n",
      "MSE score: 263929588.0868713\n",
      "R2 score: 0.9663110385074566\n",
      "MAE score: 15181.916752385257\n",
      "MSE score: 1015998635.8222128\n",
      "R2 score: 0.8631574300991164\n",
      "MAE score: 42215.377746715756\n",
      "MSE score: 5084824159.172072\n"
     ]
    },
    {
     "name": "stderr",
     "output_type": "stream",
     "text": [
      "\r",
      " 52%|███████████████████████████████████████████████████████████████▍                                                          | 52/100 [01:21<01:15,  1.58s/it]"
     ]
    },
    {
     "name": "stdout",
     "output_type": "stream",
     "text": [
      "R2 score: 0.9915288934380838\n",
      "MAE score: 8432.0554453398\n",
      "MSE score: 263929588.08687127\n",
      "R2 score: 0.9672121018810043\n",
      "MAE score: 15145.84866251279\n",
      "MSE score: 988824181.1119833\n",
      "R2 score: 0.8694323574545676\n",
      "MAE score: 41508.25251503662\n",
      "MSE score: 4851659126.99562\n"
     ]
    },
    {
     "name": "stderr",
     "output_type": "stream",
     "text": [
      "\r",
      " 53%|████████████████████████████████████████████████████████████████▋                                                         | 53/100 [01:23<01:14,  1.58s/it]"
     ]
    },
    {
     "name": "stdout",
     "output_type": "stream",
     "text": [
      "R2 score: 0.9915288929448106\n",
      "MAE score: 8432.060993063315\n",
      "MSE score: 263929603.45551008\n",
      "R2 score: 0.9606321827160467\n",
      "MAE score: 15324.54348409667\n",
      "MSE score: 1187262737.8154044\n",
      "R2 score: 0.8555194460927851\n",
      "MAE score: 42989.380560272155\n",
      "MSE score: 5368637928.753379\n"
     ]
    },
    {
     "name": "stderr",
     "output_type": "stream",
     "text": [
      "\r",
      " 54%|█████████████████████████████████████████████████████████████████▉                                                        | 54/100 [01:24<01:12,  1.57s/it]"
     ]
    },
    {
     "name": "stdout",
     "output_type": "stream",
     "text": [
      "R2 score: 0.9915288929448106\n",
      "MAE score: 8432.060993063315\n",
      "MSE score: 263929603.45551008\n",
      "R2 score: 0.9670541149571872\n",
      "MAE score: 15171.652070196556\n",
      "MSE score: 993588783.2832735\n",
      "R2 score: 0.8499952186762516\n",
      "MAE score: 44955.23148546763\n",
      "MSE score: 5573908299.2871685\n"
     ]
    },
    {
     "name": "stderr",
     "output_type": "stream",
     "text": [
      "\r",
      " 55%|███████████████████████████████████████████████████████████████████                                                       | 55/100 [01:26<01:10,  1.57s/it]"
     ]
    },
    {
     "name": "stdout",
     "output_type": "stream",
     "text": [
      "R2 score: 0.9915288929448106\n",
      "MAE score: 8432.060993063316\n",
      "MSE score: 263929603.4555101\n",
      "R2 score: 0.9663834013185923\n",
      "MAE score: 15152.039032970653\n",
      "MSE score: 1013816303.2675444\n",
      "R2 score: 0.8749876812153092\n",
      "MAE score: 41940.526055859336\n",
      "MSE score: 4645233272.153067\n"
     ]
    },
    {
     "name": "stderr",
     "output_type": "stream",
     "text": [
      "\r",
      " 56%|████████████████████████████████████████████████████████████████████▎                                                     | 56/100 [01:27<01:09,  1.58s/it]"
     ]
    },
    {
     "name": "stdout",
     "output_type": "stream",
     "text": [
      "R2 score: 0.9915288934380838\n",
      "MAE score: 8432.055445339804\n",
      "MSE score: 263929588.0868713\n",
      "R2 score: 0.9627618361765312\n",
      "MAE score: 15210.147910194552\n",
      "MSE score: 1123036210.348674\n",
      "R2 score: 0.8522566218457877\n",
      "MAE score: 44389.858497661844\n",
      "MSE score: 5489878618.476483\n"
     ]
    },
    {
     "name": "stderr",
     "output_type": "stream",
     "text": [
      "\r",
      " 57%|█████████████████████████████████████████████████████████████████████▌                                                    | 57/100 [01:29<01:07,  1.57s/it]"
     ]
    },
    {
     "name": "stdout",
     "output_type": "stream",
     "text": [
      "R2 score: 0.9915288929448107\n",
      "MAE score: 8432.060993063315\n",
      "MSE score: 263929603.45551002\n",
      "R2 score: 0.964674064911012\n",
      "MAE score: 15219.856020328614\n",
      "MSE score: 1065366822.5273093\n",
      "R2 score: 0.8756727778737765\n",
      "MAE score: 41585.17362345439\n",
      "MSE score: 4619776310.603271\n"
     ]
    },
    {
     "name": "stderr",
     "output_type": "stream",
     "text": [
      "\r",
      " 58%|██████████████████████████████████████████████████████████████████████▊                                                   | 58/100 [01:30<01:06,  1.57s/it]"
     ]
    },
    {
     "name": "stdout",
     "output_type": "stream",
     "text": [
      "R2 score: 0.9915288934380838\n",
      "MAE score: 8432.0554453398\n",
      "MSE score: 263929588.08687127\n",
      "R2 score: 0.9645380920337197\n",
      "MAE score: 15224.991234708663\n",
      "MSE score: 1069467520.5517488\n",
      "R2 score: 0.8764479672788829\n",
      "MAE score: 41472.241276806264\n",
      "MSE score: 4590971664.374584\n"
     ]
    },
    {
     "name": "stderr",
     "output_type": "stream",
     "text": [
      "\r",
      " 59%|███████████████████████████████████████████████████████████████████████▉                                                  | 59/100 [01:32<01:04,  1.57s/it]"
     ]
    },
    {
     "name": "stdout",
     "output_type": "stream",
     "text": [
      "R2 score: 0.9915288934380838\n",
      "MAE score: 8432.055445339798\n",
      "MSE score: 263929588.08687127\n",
      "R2 score: 0.9660886992331261\n",
      "MAE score: 15198.744105873679\n",
      "MSE score: 1022703989.427712\n",
      "R2 score: 0.8765897752268202\n",
      "MAE score: 41857.63138927564\n",
      "MSE score: 4585702335.684272\n"
     ]
    },
    {
     "name": "stderr",
     "output_type": "stream",
     "text": [
      "\r",
      " 60%|█████████████████████████████████████████████████████████████████████████▏                                                | 60/100 [01:34<01:02,  1.57s/it]"
     ]
    },
    {
     "name": "stdout",
     "output_type": "stream",
     "text": [
      "R2 score: 0.9915288934380838\n",
      "MAE score: 8432.055445339802\n",
      "MSE score: 263929588.08687127\n",
      "R2 score: 0.9646140457069946\n",
      "MAE score: 15293.135346493716\n",
      "MSE score: 1067176894.0374775\n",
      "R2 score: 0.8513735376946537\n",
      "MAE score: 44625.0444913277\n",
      "MSE score: 5522692439.712961\n"
     ]
    },
    {
     "name": "stderr",
     "output_type": "stream",
     "text": [
      "\r",
      " 61%|██████████████████████████████████████████████████████████████████████████▍                                               | 61/100 [01:35<01:01,  1.57s/it]"
     ]
    },
    {
     "name": "stdout",
     "output_type": "stream",
     "text": [
      "R2 score: 0.9915288934380838\n",
      "MAE score: 8432.055445339804\n",
      "MSE score: 263929588.0868713\n",
      "R2 score: 0.9638979894661099\n",
      "MAE score: 15286.559126352477\n",
      "MSE score: 1088771865.555726\n",
      "R2 score: 0.8557058488886053\n",
      "MAE score: 43796.19385177013\n",
      "MSE score: 5361711535.598018\n"
     ]
    },
    {
     "name": "stderr",
     "output_type": "stream",
     "text": [
      "\r",
      " 62%|███████████████████████████████████████████████████████████████████████████▋                                              | 62/100 [01:37<00:59,  1.57s/it]"
     ]
    },
    {
     "name": "stdout",
     "output_type": "stream",
     "text": [
      "R2 score: 0.9915288929448106\n",
      "MAE score: 8432.060993063316\n",
      "MSE score: 263929603.45551008\n",
      "R2 score: 0.9664026824891373\n",
      "MAE score: 15172.042627953164\n",
      "MSE score: 1013234817.7570738\n",
      "R2 score: 0.8695577031710126\n",
      "MAE score: 42158.12253337767\n",
      "MSE score: 4847001505.26512\n"
     ]
    },
    {
     "name": "stderr",
     "output_type": "stream",
     "text": [
      "\r",
      " 63%|████████████████████████████████████████████████████████████████████████████▊                                             | 63/100 [01:38<00:58,  1.58s/it]"
     ]
    },
    {
     "name": "stdout",
     "output_type": "stream",
     "text": [
      "R2 score: 0.9915288934380838\n",
      "MAE score: 8432.055445339804\n",
      "MSE score: 263929588.0868713\n",
      "R2 score: 0.9656072502193689\n",
      "MAE score: 15206.30084087974\n",
      "MSE score: 1037223627.8945603\n",
      "R2 score: 0.8763549550769322\n",
      "MAE score: 40985.60287907872\n",
      "MSE score: 4594427830.770168\n"
     ]
    },
    {
     "name": "stderr",
     "output_type": "stream",
     "text": [
      "\r",
      " 64%|██████████████████████████████████████████████████████████████████████████████                                            | 64/100 [01:40<00:56,  1.58s/it]"
     ]
    },
    {
     "name": "stdout",
     "output_type": "stream",
     "text": [
      "R2 score: 0.9915288934380838\n",
      "MAE score: 8432.055445339798\n",
      "MSE score: 263929588.0868713\n",
      "R2 score: 0.9647567503265678\n",
      "MAE score: 15217.810007348602\n",
      "MSE score: 1062873178.743553\n",
      "R2 score: 0.8535119168358861\n",
      "MAE score: 44353.98447421778\n",
      "MSE score: 5443234110.870673\n"
     ]
    },
    {
     "name": "stderr",
     "output_type": "stream",
     "text": [
      "\r",
      " 65%|███████████████████████████████████████████████████████████████████████████████▎                                          | 65/100 [01:41<00:55,  1.57s/it]"
     ]
    },
    {
     "name": "stdout",
     "output_type": "stream",
     "text": [
      "R2 score: 0.9915288934380838\n",
      "MAE score: 8432.055445339802\n",
      "MSE score: 263929588.08687127\n",
      "R2 score: 0.963300227862399\n",
      "MAE score: 15224.539771085396\n",
      "MSE score: 1106799283.0542336\n",
      "R2 score: 0.8697324355639929\n",
      "MAE score: 41490.89796080395\n",
      "MSE score: 4840508763.321876\n"
     ]
    },
    {
     "name": "stderr",
     "output_type": "stream",
     "text": [
      "\r",
      " 66%|████████████████████████████████████████████████████████████████████████████████▌                                         | 66/100 [01:43<00:53,  1.57s/it]"
     ]
    },
    {
     "name": "stdout",
     "output_type": "stream",
     "text": [
      "R2 score: 0.9915288934380838\n",
      "MAE score: 8432.0554453398\n",
      "MSE score: 263929588.08687127\n",
      "R2 score: 0.9644506214356938\n",
      "MAE score: 15304.6147039406\n",
      "MSE score: 1072105476.8535016\n",
      "R2 score: 0.8553124708288667\n",
      "MAE score: 44622.69184119021\n",
      "MSE score: 5376328757.879766\n"
     ]
    },
    {
     "name": "stderr",
     "output_type": "stream",
     "text": [
      "\r",
      " 67%|█████████████████████████████████████████████████████████████████████████████████▋                                        | 67/100 [01:45<00:51,  1.58s/it]"
     ]
    },
    {
     "name": "stdout",
     "output_type": "stream",
     "text": [
      "R2 score: 0.9915288934380838\n",
      "MAE score: 8432.055445339802\n",
      "MSE score: 263929588.0868713\n",
      "R2 score: 0.9654042009539041\n",
      "MAE score: 15198.112482537425\n",
      "MSE score: 1043347229.4416873\n",
      "R2 score: 0.8710630497624587\n",
      "MAE score: 42155.13515306836\n",
      "MSE score: 4791065529.189422\n"
     ]
    },
    {
     "name": "stderr",
     "output_type": "stream",
     "text": [
      "\r",
      " 68%|██████████████████████████████████████████████████████████████████████████████████▉                                       | 68/100 [01:46<00:50,  1.57s/it]"
     ]
    },
    {
     "name": "stdout",
     "output_type": "stream",
     "text": [
      "R2 score: 0.9915288934380838\n",
      "MAE score: 8432.055445339802\n",
      "MSE score: 263929588.0868713\n",
      "R2 score: 0.965632013339406\n",
      "MAE score: 15156.73384584226\n",
      "MSE score: 1036476816.6228027\n",
      "R2 score: 0.8466268711829721\n",
      "MAE score: 45126.29250982067\n",
      "MSE score: 5699070043.346199\n"
     ]
    },
    {
     "name": "stderr",
     "output_type": "stream",
     "text": [
      "\r",
      " 69%|████████████████████████████████████████████████████████████████████████████████████▏                                     | 69/100 [01:48<00:48,  1.57s/it]"
     ]
    },
    {
     "name": "stdout",
     "output_type": "stream",
     "text": [
      "R2 score: 0.9915288952762404\n",
      "MAE score: 8432.048798791822\n",
      "MSE score: 263929530.8164407\n",
      "R2 score: 0.9647298379016406\n",
      "MAE score: 15246.29423605575\n",
      "MSE score: 1063684809.1946363\n",
      "R2 score: 0.8648390639687885\n",
      "MAE score: 42982.93144652282\n",
      "MSE score: 5022337664.409629\n"
     ]
    },
    {
     "name": "stderr",
     "output_type": "stream",
     "text": [
      "\r",
      " 70%|█████████████████████████████████████████████████████████████████████████████████████▍                                    | 70/100 [01:49<00:47,  1.57s/it]"
     ]
    },
    {
     "name": "stdout",
     "output_type": "stream",
     "text": [
      "R2 score: 0.9915288934380838\n",
      "MAE score: 8432.055445339804\n",
      "MSE score: 263929588.0868713\n",
      "R2 score: 0.9655557118026711\n",
      "MAE score: 15193.466176442205\n",
      "MSE score: 1038777934.0749066\n",
      "R2 score: 0.8775775027739382\n",
      "MAE score: 41525.963407315954\n",
      "MSE score: 4549000153.7689295\n"
     ]
    },
    {
     "name": "stderr",
     "output_type": "stream",
     "text": [
      "\r",
      " 71%|██████████████████████████████████████████████████████████████████████████████████████▌                                   | 71/100 [01:51<00:45,  1.57s/it]"
     ]
    },
    {
     "name": "stdout",
     "output_type": "stream",
     "text": [
      "R2 score: 0.9915288929448106\n",
      "MAE score: 8432.060993063315\n",
      "MSE score: 263929603.45551008\n",
      "R2 score: 0.965625596139833\n",
      "MAE score: 15215.0983266837\n",
      "MSE score: 1036670347.8485523\n",
      "R2 score: 0.8718118384469467\n",
      "MAE score: 42085.370777459924\n",
      "MSE score: 4763241886.329188\n"
     ]
    },
    {
     "name": "stderr",
     "output_type": "stream",
     "text": [
      "\r",
      " 72%|███████████████████████████████████████████████████████████████████████████████████████▊                                  | 72/100 [01:52<00:43,  1.57s/it]"
     ]
    },
    {
     "name": "stdout",
     "output_type": "stream",
     "text": [
      "R2 score: 0.9915288929448107\n",
      "MAE score: 8432.060993063315\n",
      "MSE score: 263929603.45551002\n",
      "R2 score: 0.9652894780327388\n",
      "MAE score: 15238.933050618041\n",
      "MSE score: 1046807066.9147831\n",
      "R2 score: 0.8575494913126578\n",
      "MAE score: 43458.64326218587\n",
      "MSE score: 5293205093.88557\n"
     ]
    },
    {
     "name": "stderr",
     "output_type": "stream",
     "text": [
      "\r",
      " 73%|█████████████████████████████████████████████████████████████████████████████████████████                                 | 73/100 [01:54<00:42,  1.57s/it]"
     ]
    },
    {
     "name": "stdout",
     "output_type": "stream",
     "text": [
      "R2 score: 0.9915288929433508\n",
      "MAE score: 8432.061736779873\n",
      "MSE score: 263929603.5009937\n",
      "R2 score: 0.9612969895109853\n",
      "MAE score: 15316.945535638673\n",
      "MSE score: 1167213357.638085\n",
      "R2 score: 0.862785760905407\n",
      "MAE score: 43037.14569457635\n",
      "MSE score: 5098634718.976397\n"
     ]
    },
    {
     "name": "stderr",
     "output_type": "stream",
     "text": [
      "\r",
      " 74%|██████████████████████████████████████████████████████████████████████████████████████████▎                               | 74/100 [01:56<00:40,  1.57s/it]"
     ]
    },
    {
     "name": "stdout",
     "output_type": "stream",
     "text": [
      "R2 score: 0.9915288929448106\n",
      "MAE score: 8432.060993063315\n",
      "MSE score: 263929603.45551008\n",
      "R2 score: 0.9652390441472937\n",
      "MAE score: 15170.039741501037\n",
      "MSE score: 1048328062.4142374\n",
      "R2 score: 0.8673512399014282\n",
      "MAE score: 41418.888059468176\n",
      "MSE score: 4928989718.05325\n"
     ]
    },
    {
     "name": "stderr",
     "output_type": "stream",
     "text": [
      "\r",
      " 75%|███████████████████████████████████████████████████████████████████████████████████████████▌                              | 75/100 [01:57<00:39,  1.57s/it]"
     ]
    },
    {
     "name": "stdout",
     "output_type": "stream",
     "text": [
      "R2 score: 0.9915288934380838\n",
      "MAE score: 8432.0554453398\n",
      "MSE score: 263929588.0868713\n",
      "R2 score: 0.9611663182682298\n",
      "MAE score: 15356.042650112797\n",
      "MSE score: 1171154167.8767796\n",
      "R2 score: 0.8743250610886586\n",
      "MAE score: 41797.39402952579\n",
      "MSE score: 4669855046.143332\n"
     ]
    },
    {
     "name": "stderr",
     "output_type": "stream",
     "text": [
      "\r",
      " 76%|████████████████████████████████████████████████████████████████████████████████████████████▋                             | 76/100 [01:59<00:37,  1.57s/it]"
     ]
    },
    {
     "name": "stdout",
     "output_type": "stream",
     "text": [
      "R2 score: 0.9915288934380838\n",
      "MAE score: 8432.055445339802\n",
      "MSE score: 263929588.0868713\n",
      "R2 score: 0.965753898455717\n",
      "MAE score: 15199.967496477486\n",
      "MSE score: 1032800980.1941137\n",
      "R2 score: 0.8581276118671942\n",
      "MAE score: 42878.94761384608\n",
      "MSE score: 5271723172.25292\n"
     ]
    },
    {
     "name": "stderr",
     "output_type": "stream",
     "text": [
      "\r",
      " 77%|█████████████████████████████████████████████████████████████████████████████████████████████▉                            | 77/100 [02:00<00:36,  1.58s/it]"
     ]
    },
    {
     "name": "stdout",
     "output_type": "stream",
     "text": [
      "R2 score: 0.9915288929448106\n",
      "MAE score: 8432.060993063316\n",
      "MSE score: 263929603.45551008\n",
      "R2 score: 0.9660031248060412\n",
      "MAE score: 15217.507174402828\n",
      "MSE score: 1025284760.6158868\n",
      "R2 score: 0.8686082114755482\n",
      "MAE score: 41810.583401750024\n",
      "MSE score: 4882282911.595964\n"
     ]
    },
    {
     "name": "stderr",
     "output_type": "stream",
     "text": [
      "\r",
      " 78%|███████████████████████████████████████████████████████████████████████████████████████████████▏                          | 78/100 [02:02<00:34,  1.58s/it]"
     ]
    },
    {
     "name": "stdout",
     "output_type": "stream",
     "text": [
      "R2 score: 0.9915288934380838\n",
      "MAE score: 8432.055445339804\n",
      "MSE score: 263929588.08687127\n",
      "R2 score: 0.9666184946108368\n",
      "MAE score: 15090.473898690994\n",
      "MSE score: 1006726311.364284\n",
      "R2 score: 0.8772185197084418\n",
      "MAE score: 42180.742253956705\n",
      "MSE score: 4562339319.830282\n"
     ]
    },
    {
     "name": "stderr",
     "output_type": "stream",
     "text": [
      "\r",
      " 79%|████████████████████████████████████████████████████████████████████████████████████████████████▍                         | 79/100 [02:03<00:33,  1.58s/it]"
     ]
    },
    {
     "name": "stdout",
     "output_type": "stream",
     "text": [
      "R2 score: 0.9915288934380838\n",
      "MAE score: 8432.055445339802\n",
      "MSE score: 263929588.0868713\n",
      "R2 score: 0.9660822962411205\n",
      "MAE score: 15152.141732890585\n",
      "MSE score: 1022897092.1787202\n",
      "R2 score: 0.8737131566562175\n",
      "MAE score: 41593.92907574115\n",
      "MSE score: 4692592316.010706\n"
     ]
    },
    {
     "name": "stderr",
     "output_type": "stream",
     "text": [
      "\r",
      " 80%|█████████████████████████████████████████████████████████████████████████████████████████████████▌                        | 80/100 [02:05<00:31,  1.58s/it]"
     ]
    },
    {
     "name": "stdout",
     "output_type": "stream",
     "text": [
      "R2 score: 0.9915288929448106\n",
      "MAE score: 8432.060993063315\n",
      "MSE score: 263929603.45551017\n",
      "R2 score: 0.9638389807485785\n",
      "MAE score: 15271.106119407326\n",
      "MSE score: 1090551462.6064322\n",
      "R2 score: 0.8748396081232434\n",
      "MAE score: 40649.29941345183\n",
      "MSE score: 4650735402.348409\n"
     ]
    },
    {
     "name": "stderr",
     "output_type": "stream",
     "text": [
      "\r",
      " 81%|██████████████████████████████████████████████████████████████████████████████████████████████████▊                       | 81/100 [02:07<00:29,  1.58s/it]"
     ]
    },
    {
     "name": "stdout",
     "output_type": "stream",
     "text": [
      "R2 score: 0.9915288934380838\n",
      "MAE score: 8432.0554453398\n",
      "MSE score: 263929588.0868713\n",
      "R2 score: 0.9647000426920006\n",
      "MAE score: 15269.914572997403\n",
      "MSE score: 1064583379.2605307\n",
      "R2 score: 0.8717355224424572\n",
      "MAE score: 41921.497321605115\n",
      "MSE score: 4766077652.009707\n"
     ]
    },
    {
     "name": "stderr",
     "output_type": "stream",
     "text": [
      "\r",
      " 82%|████████████████████████████████████████████████████████████████████████████████████████████████████                      | 82/100 [02:08<00:28,  1.58s/it]"
     ]
    },
    {
     "name": "stdout",
     "output_type": "stream",
     "text": [
      "R2 score: 0.9915288934380838\n",
      "MAE score: 8432.0554453398\n",
      "MSE score: 263929588.0868713\n",
      "R2 score: 0.9609954775232936\n",
      "MAE score: 15332.602065778048\n",
      "MSE score: 1176306418.2314374\n",
      "R2 score: 0.8587017338288776\n",
      "MAE score: 43878.810673202075\n",
      "MSE score: 5250389831.150122\n"
     ]
    },
    {
     "name": "stderr",
     "output_type": "stream",
     "text": [
      "\r",
      " 83%|█████████████████████████████████████████████████████████████████████████████████████████████████████▎                    | 83/100 [02:10<00:26,  1.58s/it]"
     ]
    },
    {
     "name": "stdout",
     "output_type": "stream",
     "text": [
      "R2 score: 0.991528893436624\n",
      "MAE score: 8432.05618905636\n",
      "MSE score: 263929588.132355\n",
      "R2 score: 0.9653590386257201\n",
      "MAE score: 15200.253632383567\n",
      "MSE score: 1044709244.2320718\n",
      "R2 score: 0.8629368415794676\n",
      "MAE score: 42716.6146694061\n",
      "MSE score: 5093020832.435072\n"
     ]
    },
    {
     "name": "stderr",
     "output_type": "stream",
     "text": [
      "\r",
      " 84%|██████████████████████████████████████████████████████████████████████████████████████████████████████▍                   | 84/100 [02:11<00:25,  1.58s/it]"
     ]
    },
    {
     "name": "stdout",
     "output_type": "stream",
     "text": [
      "R2 score: 0.9915288934380838\n",
      "MAE score: 8432.0554453398\n",
      "MSE score: 263929588.0868713\n",
      "R2 score: 0.9654760877870517\n",
      "MAE score: 15214.096795031444\n",
      "MSE score: 1041179251.5291673\n",
      "R2 score: 0.855639436893105\n",
      "MAE score: 43494.2462640218\n",
      "MSE score: 5364179286.089869\n"
     ]
    },
    {
     "name": "stderr",
     "output_type": "stream",
     "text": [
      "\r",
      " 85%|███████████████████████████████████████████████████████████████████████████████████████████████████████▋                  | 85/100 [02:13<00:23,  1.58s/it]"
     ]
    },
    {
     "name": "stdout",
     "output_type": "stream",
     "text": [
      "R2 score: 0.9915288934380838\n",
      "MAE score: 8432.055445339802\n",
      "MSE score: 263929588.0868713\n",
      "R2 score: 0.965084004943479\n",
      "MAE score: 15271.148297053129\n",
      "MSE score: 1053003766.6388842\n",
      "R2 score: 0.8621099145896347\n",
      "MAE score: 42664.51010138119\n",
      "MSE score: 5123747954.403176\n"
     ]
    },
    {
     "name": "stderr",
     "output_type": "stream",
     "text": [
      "\r",
      " 86%|████████████████████████████████████████████████████████████████████████████████████████████████████████▉                 | 86/100 [02:15<00:22,  1.58s/it]"
     ]
    },
    {
     "name": "stdout",
     "output_type": "stream",
     "text": [
      "R2 score: 0.9915288929448106\n",
      "MAE score: 8432.060993063315\n",
      "MSE score: 263929603.45551008\n",
      "R2 score: 0.9639972903816205\n",
      "MAE score: 15277.66491841552\n",
      "MSE score: 1085777128.1039062\n",
      "R2 score: 0.8693141607201486\n",
      "MAE score: 41122.91306330972\n",
      "MSE score: 4856051105.391996\n"
     ]
    },
    {
     "name": "stderr",
     "output_type": "stream",
     "text": [
      "\r",
      " 87%|██████████████████████████████████████████████████████████████████████████████████████████████████████████▏               | 87/100 [02:16<00:20,  1.58s/it]"
     ]
    },
    {
     "name": "stdout",
     "output_type": "stream",
     "text": [
      "R2 score: 0.9915288934380838\n",
      "MAE score: 8432.055445339802\n",
      "MSE score: 263929588.0868713\n",
      "R2 score: 0.9659521415274545\n",
      "MAE score: 15159.659817334705\n",
      "MSE score: 1026822324.8268023\n",
      "R2 score: 0.866153508675015\n",
      "MAE score: 42560.36417816583\n",
      "MSE score: 4973495259.572035\n"
     ]
    },
    {
     "name": "stderr",
     "output_type": "stream",
     "text": [
      "\r",
      " 88%|███████████████████████████████████████████████████████████████████████████████████████████████████████████▎              | 88/100 [02:18<00:18,  1.58s/it]"
     ]
    },
    {
     "name": "stdout",
     "output_type": "stream",
     "text": [
      "R2 score: 0.9915288929448106\n",
      "MAE score: 8432.060993063315\n",
      "MSE score: 263929603.45551008\n",
      "R2 score: 0.9641470536307264\n",
      "MAE score: 15293.9856907311\n",
      "MSE score: 1081260537.2074623\n",
      "R2 score: 0.8602792874824872\n",
      "MAE score: 43345.8704238735\n",
      "MSE score: 5191770770.312009\n"
     ]
    },
    {
     "name": "stderr",
     "output_type": "stream",
     "text": [
      "\r",
      " 89%|████████████████████████████████████████████████████████████████████████████████████████████████████████████▌             | 89/100 [02:19<00:17,  1.58s/it]"
     ]
    },
    {
     "name": "stdout",
     "output_type": "stream",
     "text": [
      "R2 score: 0.9915288934380838\n",
      "MAE score: 8432.055445339802\n",
      "MSE score: 263929588.08687127\n",
      "R2 score: 0.9648806336092647\n",
      "MAE score: 15232.30802599278\n",
      "MSE score: 1059137081.2016622\n",
      "R2 score: 0.8807148487538456\n",
      "MAE score: 40933.33227640438\n",
      "MSE score: 4432422011.120267\n"
     ]
    },
    {
     "name": "stderr",
     "output_type": "stream",
     "text": [
      "\r",
      " 90%|█████████████████████████████████████████████████████████████████████████████████████████████████████████████▊            | 90/100 [02:21<00:15,  1.57s/it]"
     ]
    },
    {
     "name": "stdout",
     "output_type": "stream",
     "text": [
      "R2 score: 0.9915288934380838\n",
      "MAE score: 8432.055445339802\n",
      "MSE score: 263929588.08687127\n",
      "R2 score: 0.9661986274039378\n",
      "MAE score: 15154.622990671747\n",
      "MSE score: 1019388753.022818\n",
      "R2 score: 0.8653795237027715\n",
      "MAE score: 42490.12601028889\n",
      "MSE score: 5002255151.238421\n"
     ]
    },
    {
     "name": "stderr",
     "output_type": "stream",
     "text": [
      "\r",
      " 91%|███████████████████████████████████████████████████████████████████████████████████████████████████████████████           | 91/100 [02:22<00:14,  1.58s/it]"
     ]
    },
    {
     "name": "stdout",
     "output_type": "stream",
     "text": [
      "R2 score: 0.9915288934380838\n",
      "MAE score: 8432.055445339802\n",
      "MSE score: 263929588.0868713\n",
      "R2 score: 0.9652384203900441\n",
      "MAE score: 15174.93063567728\n",
      "MSE score: 1048346873.8137716\n",
      "R2 score: 0.8720584961567862\n",
      "MAE score: 42038.10280098833\n",
      "MSE score: 4754076528.77308\n"
     ]
    },
    {
     "name": "stderr",
     "output_type": "stream",
     "text": [
      "\r",
      " 92%|████████████████████████████████████████████████████████████████████████████████████████████████████████████████▏         | 92/100 [02:24<00:12,  1.58s/it]"
     ]
    },
    {
     "name": "stdout",
     "output_type": "stream",
     "text": [
      "R2 score: 0.9915288934380838\n",
      "MAE score: 8432.055445339802\n",
      "MSE score: 263929588.08687127\n",
      "R2 score: 0.9633221697128576\n",
      "MAE score: 15281.814921308323\n",
      "MSE score: 1106137556.2112062\n",
      "R2 score: 0.8781254705270959\n",
      "MAE score: 41924.445141307966\n",
      "MSE score: 4528638656.087898\n"
     ]
    },
    {
     "name": "stderr",
     "output_type": "stream",
     "text": [
      "\r",
      " 93%|█████████████████████████████████████████████████████████████████████████████████████████████████████████████████▍        | 93/100 [02:26<00:11,  1.58s/it]"
     ]
    },
    {
     "name": "stdout",
     "output_type": "stream",
     "text": [
      "R2 score: 0.9915288934380838\n",
      "MAE score: 8432.055445339802\n",
      "MSE score: 263929588.0868713\n",
      "R2 score: 0.9653013169305511\n",
      "MAE score: 15174.336140943922\n",
      "MSE score: 1046450026.9974294\n",
      "R2 score: 0.873236944145666\n",
      "MAE score: 41617.735675441836\n",
      "MSE score: 4710287517.7326975\n"
     ]
    },
    {
     "name": "stderr",
     "output_type": "stream",
     "text": [
      "\r",
      " 94%|██████████████████████████████████████████████████████████████████████████████████████████████████████████████████▋       | 94/100 [02:27<00:09,  1.58s/it]"
     ]
    },
    {
     "name": "stdout",
     "output_type": "stream",
     "text": [
      "R2 score: 0.9915288934380838\n",
      "MAE score: 8432.055445339802\n",
      "MSE score: 263929588.08687136\n",
      "R2 score: 0.9644340977807433\n",
      "MAE score: 15226.628524306656\n",
      "MSE score: 1072603800.6410198\n",
      "R2 score: 0.8599612429222487\n",
      "MAE score: 43041.355412177516\n",
      "MSE score: 5203588735.034277\n"
     ]
    },
    {
     "name": "stderr",
     "output_type": "stream",
     "text": [
      "\r",
      " 95%|███████████████████████████████████████████████████████████████████████████████████████████████████████████████████▉      | 95/100 [02:29<00:07,  1.58s/it]"
     ]
    },
    {
     "name": "stdout",
     "output_type": "stream",
     "text": [
      "R2 score: 0.9915288934380838\n",
      "MAE score: 8432.0554453398\n",
      "MSE score: 263929588.0868713\n",
      "R2 score: 0.9669713686525998\n",
      "MAE score: 15159.190158272277\n",
      "MSE score: 996084263.3709787\n",
      "R2 score: 0.8769086087167894\n",
      "MAE score: 40798.02140474148\n",
      "MSE score: 4573855055.749945\n"
     ]
    },
    {
     "name": "stderr",
     "output_type": "stream",
     "text": [
      "\r",
      " 96%|█████████████████████████████████████████████████████████████████████████████████████████████████████████████████████     | 96/100 [02:30<00:06,  1.58s/it]"
     ]
    },
    {
     "name": "stdout",
     "output_type": "stream",
     "text": [
      "R2 score: 0.9915288934380838\n",
      "MAE score: 8432.055445339798\n",
      "MSE score: 263929588.08687127\n",
      "R2 score: 0.9648948105910906\n",
      "MAE score: 15261.309588540278\n",
      "MSE score: 1058709528.8653169\n",
      "R2 score: 0.8578982558014447\n",
      "MAE score: 43021.19993049287\n",
      "MSE score: 5280245631.784488\n"
     ]
    },
    {
     "name": "stderr",
     "output_type": "stream",
     "text": [
      "\r",
      " 97%|██████████████████████████████████████████████████████████████████████████████████████████████████████████████████████▎   | 97/100 [02:32<00:04,  1.58s/it]"
     ]
    },
    {
     "name": "stdout",
     "output_type": "stream",
     "text": [
      "R2 score: 0.9915288929448106\n",
      "MAE score: 8432.060993063316\n",
      "MSE score: 263929603.4555101\n",
      "R2 score: 0.9628207598597328\n",
      "MAE score: 15307.523842695382\n",
      "MSE score: 1121259177.7807922\n",
      "R2 score: 0.8554269381842138\n",
      "MAE score: 43862.89072820793\n",
      "MSE score: 5372075356.512583\n"
     ]
    },
    {
     "name": "stderr",
     "output_type": "stream",
     "text": [
      "\r",
      " 98%|███████████████████████████████████████████████████████████████████████████████████████████████████████████████████████▌  | 98/100 [02:33<00:03,  1.57s/it]"
     ]
    },
    {
     "name": "stdout",
     "output_type": "stream",
     "text": [
      "R2 score: 0.9915288929448107\n",
      "MAE score: 8432.060993063315\n",
      "MSE score: 263929603.45551002\n",
      "R2 score: 0.9651157591455326\n",
      "MAE score: 15210.254546887927\n",
      "MSE score: 1052046116.8765063\n",
      "R2 score: 0.8622212768222549\n",
      "MAE score: 42827.40460829496\n",
      "MSE score: 5119609933.820426\n"
     ]
    },
    {
     "name": "stderr",
     "output_type": "stream",
     "text": [
      "\r",
      " 99%|████████████████████████████████████████████████████████████████████████████████████████████████████████████████████████▊ | 99/100 [02:35<00:01,  1.57s/it]"
     ]
    },
    {
     "name": "stdout",
     "output_type": "stream",
     "text": [
      "R2 score: 0.9915288929448107\n",
      "MAE score: 8432.060993063315\n",
      "MSE score: 263929603.45551002\n",
      "R2 score: 0.9676257229658242\n",
      "MAE score: 15093.507924053081\n",
      "MSE score: 976350111.2889253\n",
      "R2 score: 0.8697553321520157\n",
      "MAE score: 42409.89959362991\n",
      "MSE score: 4839657967.228049\n"
     ]
    },
    {
     "name": "stderr",
     "output_type": "stream",
     "text": [
      "100%|█████████████████████████████████████████████████████████████████████████████████████████████████████████████████████████| 100/100 [02:37<00:00,  1.57s/it]"
     ]
    },
    {
     "name": "stdout",
     "output_type": "stream",
     "text": [
      "R2 score: 0.9915288934380838\n",
      "MAE score: 8432.0554453398\n",
      "MSE score: 263929588.0868713\n",
      "R2 score: 0.9657241056693131\n",
      "MAE score: 15224.525457718006\n",
      "MSE score: 1033699477.1795546\n",
      "R2 score: 0.8696075220269315\n",
      "MAE score: 41708.6998538943\n",
      "MSE score: 4845150326.0425825\n",
      "Training Performance:\n",
      "R2 score: 0.9915288933438552\n",
      "MAE score: 8432.057088015365\n",
      "MSE score: 263929591.0227559\n",
      "\n",
      "Validation Performance:\n",
      "R2 score: 0.9648797494152825\n",
      "MAE score: 15217.10902802733\n",
      "MSE score: 1059163746.9057972\n",
      "\n",
      "Testing Performance\n",
      "R2 score: 0.8660829173813969\n",
      "MAE score: 42426.95732434642\n",
      "MSE score: 4976118305.276854\n"
     ]
    },
    {
     "name": "stderr",
     "output_type": "stream",
     "text": [
      "\n"
     ]
    }
   ],
   "source": [
    "from sklearn.tree import DecisionTreeRegressor\n",
    "from tqdm import tqdm\n",
    "\n",
    "\n",
    "avg_train_r2, avg_train_mae, avg_train_mse = 0, 0, 0\n",
    "avg_val_r2, avg_val_mae, avg_val_mse = 0, 0, 0\n",
    "avg_test_r2, avg_test_mae, avg_test_mse = 0, 0, 0\n",
    "\n",
    "for i in tqdm(range(100)):\n",
    "    model = train(DecisionTreeRegressor(max_depth=20), X_train, y_train)\n",
    "    r2, mae, mse = eval(model, X_train, y_train)\n",
    "    avg_train_r2 += r2\n",
    "    avg_train_mae += mae\n",
    "    avg_train_mse += mse\n",
    "    \n",
    "    r2, mae, mse = eval(model, X_val, y_val)\n",
    "    avg_val_r2 += r2\n",
    "    avg_val_mae += mae\n",
    "    avg_val_mse += mse\n",
    "    \n",
    "    r2, mae, mse = eval(model, X_test, y_test)\n",
    "    avg_test_r2 += r2\n",
    "    avg_test_mae += mae\n",
    "    avg_test_mse += mse\n",
    "\n",
    "avg_train_r2 /= 100.\n",
    "avg_train_mae /= 100.\n",
    "avg_train_mse /= 100.\n",
    "\n",
    "avg_val_r2 /= 100.\n",
    "avg_val_mae /= 100.\n",
    "avg_val_mse /= 100.\n",
    "\n",
    "avg_test_r2 /= 100.\n",
    "avg_test_mae /= 100.\n",
    "avg_test_mse /= 100.\n",
    "\n",
    "print('Training Performance:')\n",
    "print(f'R2 score: {avg_train_r2}')\n",
    "print(f'MAE score: {avg_train_mae}')\n",
    "print(f'MSE score: {avg_train_mse}')\n",
    "print()\n",
    "\n",
    "print('Validation Performance:')\n",
    "print(f'R2 score: {avg_val_r2}')\n",
    "print(f'MAE score: {avg_val_mae}')\n",
    "print(f'MSE score: {avg_val_mse}')\n",
    "print()\n",
    "\n",
    "print('Testing Performance')\n",
    "print(f'R2 score: {avg_test_r2}')\n",
    "print(f'MAE score: {avg_test_mae}')\n",
    "print(f'MSE score: {avg_test_mse}')"
   ]
  },
  {
   "cell_type": "code",
   "execution_count": null,
   "id": "5a3a1e25",
   "metadata": {},
   "outputs": [],
   "source": [
    "# from sklearn.svm import LinearSVR\n",
    "\n",
    "# model = LinearSVR(C=1.0, epsilon=0.0, verbose=True, max_iter=300, random_state=1207)\n",
    "# train(model, X_train, y_train)\n",
    "\n",
    "# print('Training performance: ')\n",
    "# eval(model, X_train, y_train)\n",
    "# print()\n",
    "# print('Evaluation performance: ')\n",
    "# eval(model, X_test, y_test)"
   ]
  },
  {
   "cell_type": "code",
   "execution_count": null,
   "id": "9f399719",
   "metadata": {},
   "outputs": [],
   "source": [
    "# Too slow\n",
    "# The fit time complexity is more than quadratic\n",
    "# with the number of samples which makes it hard\n",
    "# to scale to datasets with more than a couple of\n",
    "# 10000 samples. For large datasets consider using\n",
    "# LinearSVR or SGDRegressor instead, possibly\n",
    "# after a Nystroem transformer.\n",
    "from sklearn.svm import SVR\n",
    "\n",
    "model = SVR(C=1.0, epsilon=0.0, verbose=True)\n",
    "train(model, X_train, y_train)\n",
    "\n",
    "print('Training performance: ')\n",
    "eval(model, X_train, y_train)\n",
    "print()\n",
    "print('Evaluation performance: ')\n",
    "eval(model, X_test, y_test)"
   ]
  },
  {
   "cell_type": "code",
   "execution_count": null,
   "id": "717e1eb3",
   "metadata": {},
   "outputs": [],
   "source": []
  }
 ],
 "metadata": {
  "interpreter": {
   "hash": "6bb21fecf6dccdf6d7bdcdc2e427eb532b41f9984a3ac143d01e9b178188a26a"
  },
  "kernelspec": {
   "display_name": "Python 3 (ipykernel)",
   "language": "python",
   "name": "python3"
  },
  "language_info": {
   "codemirror_mode": {
    "name": "ipython",
    "version": 3
   },
   "file_extension": ".py",
   "mimetype": "text/x-python",
   "name": "python",
   "nbconvert_exporter": "python",
   "pygments_lexer": "ipython3",
   "version": "3.10.4"
  }
 },
 "nbformat": 4,
 "nbformat_minor": 5
}
