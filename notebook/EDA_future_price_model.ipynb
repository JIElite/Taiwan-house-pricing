{
 "cells": [
  {
   "cell_type": "code",
   "execution_count": 1,
   "id": "d2478df4",
   "metadata": {},
   "outputs": [],
   "source": [
    "%matplotlib inline\n",
    "import pandas as pd\n",
    "from pandas.plotting import scatter_matrix\n",
    "import matplotlib.pyplot as plt"
   ]
  },
  {
   "cell_type": "code",
   "execution_count": 2,
   "id": "2039b0c7",
   "metadata": {},
   "outputs": [],
   "source": [
    "pd.set_option('display.max_columns', 120)\n",
    "pd.set_option('display.max_rows', 120)"
   ]
  },
  {
   "cell_type": "code",
   "execution_count": 3,
   "id": "392e6460",
   "metadata": {},
   "outputs": [],
   "source": [
    "def clean_and_drop(df):\n",
    "    # 只篩選有包含 '住' 用途的交易案\n",
    "    df = df.loc[df['Main_Usage_Living'] == 1]\n",
    "    df = df.drop(columns=['Main_Usage_Living'])\n",
    "    \n",
    "    # 因為都是 0\n",
    "    df = df.drop(columns=['Non_City_Land_Usage', 'Main_Usage_Walk', \n",
    "                          'Main_Usage_Selling',\n",
    "                          'Main_Usage_SnE'])\n",
    "    \n",
    "    # 只有 344 筆是包含工廠用途，且都不具住宅用途，故剔除\n",
    "    df = df.loc[df['Main_Usage_Manufacturing'] == 0]\n",
    "    df = df.drop(columns=['Main_Usage_Manufacturing'])\n",
    "    \n",
    "    # 只有 76 筆是包含停車用途，且都不具住宅用途，故剔除\n",
    "    df = df.loc[df['Main_Usage_Parking'] == 0]\n",
    "    df = df.drop(columns=['Main_Usage_Parking'])\n",
    "    \n",
    "    # 只有 78 筆有農業用途，且都不具住宅用途，故剔除\n",
    "    df = df.loc[df['Main_Usage_Farm'] == 0]\n",
    "    df = df.drop(columns=['Main_Usage_Farm'])\n",
    "    \n",
    "    # NOTICE: 我沒有錢，所以我先只買 6 房以下的\n",
    "    df = df.loc[df['room'] < 6]\n",
    "    \n",
    "    df = df.loc[df['trading_floors_count'] == 1]\n",
    "    \n",
    "    # 雖然有 95 個樣本包含地下室，但是樣本太少，可能不足以推廣\n",
    "    # 所以先剔除，剔除完後，都是 0 所以直接 drop\n",
    "    df = df.loc[df['including_basement'] == 0]\n",
    "    df = df.drop(columns=['including_basement'])\n",
    "    \n",
    "    # 所有的樣本都不包含人行道，所以直接去除這個 feature\n",
    "    df = df.drop(columns=['including_arcade'])\n",
    "\n",
    "    # 剔除交易樓層高度是 -1 (原本有一個樣本)\n",
    "    df = df.loc[df['min_floors_height'] != -1]\n",
    "\n",
    "    # 剔除交易建物是 0 個樓層的情況\n",
    "    df = df.loc[df['building_total_floors'] != 0]\n",
    "    \n",
    "    # 因為車位交易 50 坪以上的資料只有 22 筆，所以先去除\n",
    "    # 因為浮點數在硬體儲存會有小數點，故不能直接用 == 50.0 去比較\n",
    "    df = df.loc[df['Parking_Area'] < 49.5]\n",
    "    \n",
    "    # 把農舍，廠辦踢掉\n",
    "    df = df.loc[df['Building_Types'] < 8]\n",
    "\n",
    "    # 把超大轉移坪數刪掉\n",
    "    df = df.loc[df['Transfer_Total_Ping'] < 150]\n",
    "    \n",
    "    # 我先刪除 area_m2, 因為覺得跟 area_ping 的意義很類似，但是不確定會不會有些微差距。\n",
    "    # 因為在 future data 中，manager 都是 0，所以也把這個欄位刪除\n",
    "    # trading_floor_count 有 0 的情況，這樣應該不是房屋交易\n",
    "    df = df.drop(columns=['address', 'area_m2', 'manager', 'Building_Material_stone', \n",
    "                     'TDATE', 'Total_price', '編號'])\n",
    "    \n",
    "    # Convert the categorical features' dtype to 'category'\n",
    "    category_columns = ['Type', 'Month', 'Month_raw',\n",
    "                       'City_Land_Usage', 'Main_Usage_Business',\n",
    "                       'Building_Material_S', 'Building_Material_R', 'Building_Material_C',\n",
    "                       'Building_Material_steel', 'Building_Material_B', \n",
    "                       'Building_Material_W', 'Building_Material_iron',\n",
    "                       'Building_Material_tile', 'Building_Material_clay',\n",
    "                       'Building_Material_RC_reinforce',\n",
    "                       'Parking_Space_Types', 'Building_Types']\n",
    "    df.loc[:, category_columns] = df.loc[:, category_columns].astype('category')\n",
    "    return df"
   ]
  },
  {
   "cell_type": "code",
   "execution_count": 5,
   "id": "23fefe16",
   "metadata": {},
   "outputs": [],
   "source": [
    "def split_features_target(df):\n",
    "    X = df.drop(columns=['Unit_Price_Ping'])\n",
    "    y = df['Unit_Price_Ping']\n",
    "    return X, y\n",
    "\n",
    "def train(model, X_train, y_train):\n",
    "    model.fit(X_train, y_train)\n",
    "    return model\n",
    "\n",
    "def eval(model, X_test, y_test):\n",
    "    from sklearn.metrics import (r2_score, \n",
    "                                 mean_absolute_error, \n",
    "                                 mean_squared_error)\n",
    "    \n",
    "    y_pred = model.predict(X_test)\n",
    "    r2 = r2_score(y_test, y_pred)\n",
    "    mae = mean_absolute_error(y_test, y_pred)\n",
    "    mse = mean_squared_error(y_test, y_pred)\n",
    "    print(f'R2 score: {r2}')\n",
    "    print(f'MAE score: {mae}')\n",
    "    print(f'MSE score: {mse}')\n",
    "    return r2, mae, mse"
   ]
  },
  {
   "cell_type": "code",
   "execution_count": 6,
   "id": "29f9627f",
   "metadata": {},
   "outputs": [],
   "source": [
    "from sklearn.model_selection import train_test_split"
   ]
  },
  {
   "cell_type": "code",
   "execution_count": 7,
   "id": "47cc2d56",
   "metadata": {},
   "outputs": [],
   "source": [
    "df_future = pd.read_csv('../temp_future/output_feature/clean_data_future_train.csv')\n",
    "df_future_test = pd.read_csv('../temp_future/output_feature/clean_data_future_test.csv')"
   ]
  },
  {
   "cell_type": "code",
   "execution_count": 8,
   "id": "b38660e8",
   "metadata": {},
   "outputs": [],
   "source": [
    "df_future = clean_and_drop(df_future)\n",
    "df_future = df_future.sample(frac=1, random_state=0)\n",
    "X_train, y_train = split_features_target(df_future)\n",
    "X_train, X_val, y_train, y_val = train_test_split(X_train, y_train, test_size=0.1)"
   ]
  },
  {
   "cell_type": "code",
   "execution_count": 9,
   "id": "ec64058b",
   "metadata": {},
   "outputs": [],
   "source": [
    "df_future_test = clean_and_drop(df_future_test)\n",
    "X_test, y_test = split_features_target(df_future_test)"
   ]
  },
  {
   "cell_type": "code",
   "execution_count": null,
   "id": "bd0702c5",
   "metadata": {},
   "outputs": [],
   "source": [
    "df_future['Month'].unique()"
   ]
  },
  {
   "cell_type": "code",
   "execution_count": null,
   "id": "bdf31c01",
   "metadata": {},
   "outputs": [],
   "source": [
    "X_val.shape"
   ]
  },
  {
   "cell_type": "code",
   "execution_count": null,
   "id": "b9654b0c",
   "metadata": {
    "scrolled": true
   },
   "outputs": [],
   "source": [
    "from sklearn.tree import DecisionTreeRegressor\n",
    "model = train(DecisionTreeRegressor(max_depth=20), X_train, y_train)\n",
    "\n",
    "print('Training performance: ')\n",
    "eval(model, X_train, y_train)\n",
    "print()\n",
    "print('Evaluation performance: ')\n",
    "eval(model, X_val, y_val)\n",
    "print()\n",
    "print('Test performance:')\n",
    "eval(model, X_test, y_test)"
   ]
  },
  {
   "cell_type": "code",
   "execution_count": 10,
   "id": "e10eb473",
   "metadata": {},
   "outputs": [
    {
     "name": "stderr",
     "output_type": "stream",
     "text": [
      "  1%|█▏                                                                                                                         | 1/100 [00:01<02:33,  1.55s/it]"
     ]
    },
    {
     "name": "stdout",
     "output_type": "stream",
     "text": [
      "R2 score: 0.9929424971568468\n",
      "MAE score: 7948.401799083027\n",
      "MSE score: 220200924.47428194\n",
      "R2 score: 0.9703920226017639\n",
      "MAE score: 14635.799883304284\n",
      "MSE score: 881010787.3632598\n",
      "R2 score: 0.8737606676089242\n",
      "MAE score: 40943.83951898885\n",
      "MSE score: 4690826894.327063\n"
     ]
    },
    {
     "name": "stderr",
     "output_type": "stream",
     "text": [
      "\r",
      "  2%|██▍                                                                                                                        | 2/100 [00:03<02:31,  1.55s/it]"
     ]
    },
    {
     "name": "stdout",
     "output_type": "stream",
     "text": [
      "R2 score: 0.9929424971568468\n",
      "MAE score: 7948.401799083027\n",
      "MSE score: 220200924.474282\n",
      "R2 score: 0.96897422651496\n",
      "MAE score: 14718.389977484296\n",
      "MSE score: 923198527.1725355\n",
      "R2 score: 0.8464227187785157\n",
      "MAE score: 43351.90276547711\n",
      "MSE score: 5706655980.084196\n"
     ]
    },
    {
     "name": "stderr",
     "output_type": "stream",
     "text": [
      "\r",
      "  3%|███▋                                                                                                                       | 3/100 [00:04<02:30,  1.55s/it]"
     ]
    },
    {
     "name": "stdout",
     "output_type": "stream",
     "text": [
      "R2 score: 0.9929424971568468\n",
      "MAE score: 7948.40179908303\n",
      "MSE score: 220200924.474282\n",
      "R2 score: 0.9703942180910801\n",
      "MAE score: 14639.854068939994\n",
      "MSE score: 880945458.6937249\n",
      "R2 score: 0.8611464951958956\n",
      "MAE score: 42397.54383753305\n",
      "MSE score: 5159546888.990912\n"
     ]
    },
    {
     "name": "stderr",
     "output_type": "stream",
     "text": [
      "\r",
      "  4%|████▉                                                                                                                      | 4/100 [00:06<02:28,  1.55s/it]"
     ]
    },
    {
     "name": "stdout",
     "output_type": "stream",
     "text": [
      "R2 score: 0.9929424971568468\n",
      "MAE score: 7948.401799083024\n",
      "MSE score: 220200924.47428194\n",
      "R2 score: 0.9680510636819677\n",
      "MAE score: 14655.133757370564\n",
      "MSE score: 950668029.8481071\n",
      "R2 score: 0.8589017151405277\n",
      "MAE score: 43647.01828594496\n",
      "MSE score: 5242958884.730469\n"
     ]
    },
    {
     "name": "stderr",
     "output_type": "stream",
     "text": [
      "\r",
      "  5%|██████▏                                                                                                                    | 5/100 [00:07<02:27,  1.55s/it]"
     ]
    },
    {
     "name": "stdout",
     "output_type": "stream",
     "text": [
      "R2 score: 0.9929424971568468\n",
      "MAE score: 7948.401799083027\n",
      "MSE score: 220200924.474282\n",
      "R2 score: 0.9702765989483593\n",
      "MAE score: 14643.157486584907\n",
      "MSE score: 884445317.2670995\n",
      "R2 score: 0.8423688922122226\n",
      "MAE score: 43836.46440981181\n",
      "MSE score: 5857288895.530836\n"
     ]
    },
    {
     "name": "stderr",
     "output_type": "stream",
     "text": [
      "\r",
      "  6%|███████▍                                                                                                                   | 6/100 [00:09<02:25,  1.55s/it]"
     ]
    },
    {
     "name": "stdout",
     "output_type": "stream",
     "text": [
      "R2 score: 0.9929424971568468\n",
      "MAE score: 7948.401799083027\n",
      "MSE score: 220200924.47428194\n",
      "R2 score: 0.9669995626509418\n",
      "MAE score: 14767.077073802035\n",
      "MSE score: 981956345.7907063\n",
      "R2 score: 0.8437959349116451\n",
      "MAE score: 43817.35248341247\n",
      "MSE score: 5804262551.466639\n"
     ]
    },
    {
     "name": "stderr",
     "output_type": "stream",
     "text": [
      "\r",
      "  7%|████████▌                                                                                                                  | 7/100 [00:10<02:24,  1.55s/it]"
     ]
    },
    {
     "name": "stdout",
     "output_type": "stream",
     "text": [
      "R2 score: 0.9929424971568468\n",
      "MAE score: 7948.401799083025\n",
      "MSE score: 220200924.474282\n",
      "R2 score: 0.9706769655442313\n",
      "MAE score: 14603.13480389441\n",
      "MSE score: 872532065.472863\n",
      "R2 score: 0.8668656349440163\n",
      "MAE score: 42276.257978559486\n",
      "MSE score: 4947033926.233864\n"
     ]
    },
    {
     "name": "stderr",
     "output_type": "stream",
     "text": [
      "\r",
      "  8%|█████████▊                                                                                                                 | 8/100 [00:12<02:23,  1.56s/it]"
     ]
    },
    {
     "name": "stdout",
     "output_type": "stream",
     "text": [
      "R2 score: 0.9929424971568468\n",
      "MAE score: 7948.401799083029\n",
      "MSE score: 220200924.47428194\n",
      "R2 score: 0.9685317453812362\n",
      "MAE score: 14692.958648048434\n",
      "MSE score: 936364933.1979151\n",
      "R2 score: 0.8488172725458485\n",
      "MAE score: 43553.4119227676\n",
      "MSE score: 5617678662.16778\n"
     ]
    },
    {
     "name": "stderr",
     "output_type": "stream",
     "text": [
      "\r",
      "  9%|███████████                                                                                                                | 9/100 [00:13<02:22,  1.56s/it]"
     ]
    },
    {
     "name": "stdout",
     "output_type": "stream",
     "text": [
      "R2 score: 0.9929424971568468\n",
      "MAE score: 7948.401799083024\n",
      "MSE score: 220200924.47428194\n",
      "R2 score: 0.968421962351135\n",
      "MAE score: 14682.412220629107\n",
      "MSE score: 939631621.5126094\n",
      "R2 score: 0.8700036511653665\n",
      "MAE score: 41715.60573325381\n",
      "MSE score: 4830430878.616791\n"
     ]
    },
    {
     "name": "stderr",
     "output_type": "stream",
     "text": [
      "\r",
      " 10%|████████████▏                                                                                                             | 10/100 [00:15<02:20,  1.56s/it]"
     ]
    },
    {
     "name": "stdout",
     "output_type": "stream",
     "text": [
      "R2 score: 0.9929424971568468\n",
      "MAE score: 7948.401799083025\n",
      "MSE score: 220200924.474282\n",
      "R2 score: 0.9701532639958456\n",
      "MAE score: 14654.594870873836\n",
      "MSE score: 888115254.6681601\n",
      "R2 score: 0.8625819767718912\n",
      "MAE score: 43126.20695519224\n",
      "MSE score: 5106206971.42757\n"
     ]
    },
    {
     "name": "stderr",
     "output_type": "stream",
     "text": [
      "\r",
      " 11%|█████████████▍                                                                                                            | 11/100 [00:17<02:18,  1.56s/it]"
     ]
    },
    {
     "name": "stdout",
     "output_type": "stream",
     "text": [
      "R2 score: 0.9929424971568468\n",
      "MAE score: 7948.401799083025\n",
      "MSE score: 220200924.47428194\n",
      "R2 score: 0.9703206878168096\n",
      "MAE score: 14674.813653407358\n",
      "MSE score: 883133415.1339364\n",
      "R2 score: 0.8613455349647217\n",
      "MAE score: 42393.931722012036\n",
      "MSE score: 5152150928.611803\n"
     ]
    },
    {
     "name": "stderr",
     "output_type": "stream",
     "text": [
      "\r",
      " 12%|██████████████▋                                                                                                           | 12/100 [00:18<02:17,  1.56s/it]"
     ]
    },
    {
     "name": "stdout",
     "output_type": "stream",
     "text": [
      "R2 score: 0.9929424971568468\n",
      "MAE score: 7948.401799083024\n",
      "MSE score: 220200924.47428194\n",
      "R2 score: 0.9686142069864456\n",
      "MAE score: 14725.851167223738\n",
      "MSE score: 933911217.3376384\n",
      "R2 score: 0.8410551760809434\n",
      "MAE score: 45379.660537612894\n",
      "MSE score: 5906104227.831749\n"
     ]
    },
    {
     "name": "stderr",
     "output_type": "stream",
     "text": [
      "\r",
      " 13%|███████████████▊                                                                                                          | 13/100 [00:20<02:15,  1.56s/it]"
     ]
    },
    {
     "name": "stdout",
     "output_type": "stream",
     "text": [
      "R2 score: 0.9929424971568468\n",
      "MAE score: 7948.401799083025\n",
      "MSE score: 220200924.47428194\n",
      "R2 score: 0.9681064840009211\n",
      "MAE score: 14757.220352605975\n",
      "MSE score: 949018950.676625\n",
      "R2 score: 0.8496231100087387\n",
      "MAE score: 43370.7042360573\n",
      "MSE score: 5587735189.148835\n"
     ]
    },
    {
     "name": "stderr",
     "output_type": "stream",
     "text": [
      "\r",
      " 14%|█████████████████                                                                                                         | 14/100 [00:21<02:14,  1.56s/it]"
     ]
    },
    {
     "name": "stdout",
     "output_type": "stream",
     "text": [
      "R2 score: 0.9929424971568468\n",
      "MAE score: 7948.401799083025\n",
      "MSE score: 220200924.47428194\n",
      "R2 score: 0.9682206619709632\n",
      "MAE score: 14694.00127740228\n",
      "MSE score: 945621487.1507201\n",
      "R2 score: 0.8667638196385369\n",
      "MAE score: 42217.73800408968\n",
      "MSE score: 4950817200.148188\n"
     ]
    },
    {
     "name": "stderr",
     "output_type": "stream",
     "text": [
      "\r",
      " 15%|██████████████████▎                                                                                                       | 15/100 [00:23<02:12,  1.56s/it]"
     ]
    },
    {
     "name": "stdout",
     "output_type": "stream",
     "text": [
      "R2 score: 0.9929424971568468\n",
      "MAE score: 7948.401799083027\n",
      "MSE score: 220200924.47428194\n",
      "R2 score: 0.9720574448680729\n",
      "MAE score: 14593.070489676875\n",
      "MSE score: 831454717.9837772\n",
      "R2 score: 0.8718971101461004\n",
      "MAE score: 42284.6435471382\n",
      "MSE score: 4760073343.117343\n"
     ]
    },
    {
     "name": "stderr",
     "output_type": "stream",
     "text": [
      "\r",
      " 16%|███████████████████▌                                                                                                      | 16/100 [00:24<02:11,  1.56s/it]"
     ]
    },
    {
     "name": "stdout",
     "output_type": "stream",
     "text": [
      "R2 score: 0.9929424971568468\n",
      "MAE score: 7948.401799083025\n",
      "MSE score: 220200924.474282\n",
      "R2 score: 0.9683832481512132\n",
      "MAE score: 14678.010828047945\n",
      "MSE score: 940783595.7692939\n",
      "R2 score: 0.8363031535912026\n",
      "MAE score: 44200.84824965756\n",
      "MSE score: 6082680849.991541\n"
     ]
    },
    {
     "name": "stderr",
     "output_type": "stream",
     "text": [
      "\r",
      " 17%|████████████████████▋                                                                                                     | 17/100 [00:26<02:09,  1.56s/it]"
     ]
    },
    {
     "name": "stdout",
     "output_type": "stream",
     "text": [
      "R2 score: 0.9929424971568468\n",
      "MAE score: 7948.401799083024\n",
      "MSE score: 220200924.47428194\n",
      "R2 score: 0.9693162299907159\n",
      "MAE score: 14680.444834139376\n",
      "MSE score: 913021920.1249173\n",
      "R2 score: 0.8688132690663013\n",
      "MAE score: 42190.43385431371\n",
      "MSE score: 4874663339.760694\n"
     ]
    },
    {
     "name": "stderr",
     "output_type": "stream",
     "text": [
      "\r",
      " 18%|█████████████████████▉                                                                                                    | 18/100 [00:28<02:07,  1.56s/it]"
     ]
    },
    {
     "name": "stdout",
     "output_type": "stream",
     "text": [
      "R2 score: 0.9929424971568468\n",
      "MAE score: 7948.401799083025\n",
      "MSE score: 220200924.47428194\n",
      "R2 score: 0.9700167006690663\n",
      "MAE score: 14636.165329926653\n",
      "MSE score: 892178813.7026867\n",
      "R2 score: 0.8574468304268131\n",
      "MAE score: 42685.6664109424\n",
      "MSE score: 5297019788.047792\n"
     ]
    },
    {
     "name": "stderr",
     "output_type": "stream",
     "text": [
      "\r",
      " 19%|███████████████████████▏                                                                                                  | 19/100 [00:29<02:06,  1.56s/it]"
     ]
    },
    {
     "name": "stdout",
     "output_type": "stream",
     "text": [
      "R2 score: 0.9929424971568468\n",
      "MAE score: 7948.401799083027\n",
      "MSE score: 220200924.47428194\n",
      "R2 score: 0.9684439119899222\n",
      "MAE score: 14713.731110728426\n",
      "MSE score: 938978491.1656723\n",
      "R2 score: 0.8454823341129367\n",
      "MAE score: 44293.979944530125\n",
      "MSE score: 5741598985.538671\n"
     ]
    },
    {
     "name": "stderr",
     "output_type": "stream",
     "text": [
      "\r",
      " 20%|████████████████████████▍                                                                                                 | 20/100 [00:31<02:04,  1.56s/it]"
     ]
    },
    {
     "name": "stdout",
     "output_type": "stream",
     "text": [
      "R2 score: 0.9929424971568468\n",
      "MAE score: 7948.401799083025\n",
      "MSE score: 220200924.47428194\n",
      "R2 score: 0.9706541719778324\n",
      "MAE score: 14666.430668441448\n",
      "MSE score: 873210307.610441\n",
      "R2 score: 0.866651928733101\n",
      "MAE score: 41759.60646311706\n",
      "MSE score: 4954974865.263392\n"
     ]
    },
    {
     "name": "stderr",
     "output_type": "stream",
     "text": [
      "\r",
      " 21%|█████████████████████████▌                                                                                                | 21/100 [00:32<02:03,  1.56s/it]"
     ]
    },
    {
     "name": "stdout",
     "output_type": "stream",
     "text": [
      "R2 score: 0.9929424971568468\n",
      "MAE score: 7948.40179908303\n",
      "MSE score: 220200924.47428194\n",
      "R2 score: 0.9681752746084256\n",
      "MAE score: 14711.12266335191\n",
      "MSE score: 946972027.0902735\n",
      "R2 score: 0.8604781708574809\n",
      "MAE score: 43205.62973210213\n",
      "MSE score: 5184380621.246857\n"
     ]
    },
    {
     "name": "stderr",
     "output_type": "stream",
     "text": [
      "\r",
      " 22%|██████████████████████████▊                                                                                               | 22/100 [00:34<02:00,  1.55s/it]"
     ]
    },
    {
     "name": "stdout",
     "output_type": "stream",
     "text": [
      "R2 score: 0.9929424971568468\n",
      "MAE score: 7948.401799083024\n",
      "MSE score: 220200924.47428194\n",
      "R2 score: 0.9699083249843352\n",
      "MAE score: 14635.993154423193\n",
      "MSE score: 895403625.2476219\n",
      "R2 score: 0.8581734650522166\n",
      "MAE score: 42510.083438668786\n",
      "MSE score: 5270019350.239452\n"
     ]
    },
    {
     "name": "stderr",
     "output_type": "stream",
     "text": [
      "\r",
      " 23%|████████████████████████████                                                                                              | 23/100 [00:35<01:59,  1.55s/it]"
     ]
    },
    {
     "name": "stdout",
     "output_type": "stream",
     "text": [
      "R2 score: 0.9929424971568468\n",
      "MAE score: 7948.401799083024\n",
      "MSE score: 220200924.47428194\n",
      "R2 score: 0.9691472598695724\n",
      "MAE score: 14661.702046411001\n",
      "MSE score: 918049771.1485522\n",
      "R2 score: 0.8749289593704028\n",
      "MAE score: 41147.627272289355\n",
      "MSE score: 4647415270.458621\n"
     ]
    },
    {
     "name": "stderr",
     "output_type": "stream",
     "text": [
      "\r",
      " 24%|█████████████████████████████▎                                                                                            | 24/100 [00:37<01:57,  1.55s/it]"
     ]
    },
    {
     "name": "stdout",
     "output_type": "stream",
     "text": [
      "R2 score: 0.9929424971568468\n",
      "MAE score: 7948.401799083025\n",
      "MSE score: 220200924.47428194\n",
      "R2 score: 0.9703901864363037\n",
      "MAE score: 14701.905419501067\n",
      "MSE score: 881065424.0429668\n",
      "R2 score: 0.8669014073929635\n",
      "MAE score: 42143.186657775106\n",
      "MSE score: 4945704686.270225\n"
     ]
    },
    {
     "name": "stderr",
     "output_type": "stream",
     "text": [
      "\r",
      " 25%|██████████████████████████████▌                                                                                           | 25/100 [00:38<01:55,  1.54s/it]"
     ]
    },
    {
     "name": "stdout",
     "output_type": "stream",
     "text": [
      "R2 score: 0.9929424971568468\n",
      "MAE score: 7948.401799083025\n",
      "MSE score: 220200924.474282\n",
      "R2 score: 0.9690249172437364\n",
      "MAE score: 14685.471193477526\n",
      "MSE score: 921690181.0173569\n",
      "R2 score: 0.8636935353631348\n",
      "MAE score: 42065.046794816735\n",
      "MSE score: 5064903450.285109\n"
     ]
    },
    {
     "name": "stderr",
     "output_type": "stream",
     "text": [
      "\r",
      " 26%|███████████████████████████████▋                                                                                          | 26/100 [00:40<01:53,  1.54s/it]"
     ]
    },
    {
     "name": "stdout",
     "output_type": "stream",
     "text": [
      "R2 score: 0.9929424971568468\n",
      "MAE score: 7948.401799083029\n",
      "MSE score: 220200924.47428194\n",
      "R2 score: 0.9699465238341082\n",
      "MAE score: 14642.511320556712\n",
      "MSE score: 894266985.6770691\n",
      "R2 score: 0.8628191405678979\n",
      "MAE score: 42033.402566073506\n",
      "MSE score: 5097394390.660569\n"
     ]
    },
    {
     "name": "stderr",
     "output_type": "stream",
     "text": [
      "\r",
      " 27%|████████████████████████████████▉                                                                                         | 27/100 [00:41<01:51,  1.53s/it]"
     ]
    },
    {
     "name": "stdout",
     "output_type": "stream",
     "text": [
      "R2 score: 0.9929424971568468\n",
      "MAE score: 7948.401799083027\n",
      "MSE score: 220200924.47428194\n",
      "R2 score: 0.9681510675444358\n",
      "MAE score: 14745.365529722068\n",
      "MSE score: 947692329.0622194\n",
      "R2 score: 0.851668172556747\n",
      "MAE score: 43344.98963602482\n",
      "MSE score: 5511744337.335232\n"
     ]
    },
    {
     "name": "stderr",
     "output_type": "stream",
     "text": [
      "\r",
      " 28%|██████████████████████████████████▏                                                                                       | 28/100 [00:43<01:50,  1.53s/it]"
     ]
    },
    {
     "name": "stdout",
     "output_type": "stream",
     "text": [
      "R2 score: 0.9929424971568468\n",
      "MAE score: 7948.401799083027\n",
      "MSE score: 220200924.474282\n",
      "R2 score: 0.9704218801589131\n",
      "MAE score: 14628.888632328239\n",
      "MSE score: 880122350.1161325\n",
      "R2 score: 0.8656217360388674\n",
      "MAE score: 41663.9484760046\n",
      "MSE score: 4993254975.787741\n"
     ]
    },
    {
     "name": "stderr",
     "output_type": "stream",
     "text": [
      "\r",
      " 29%|███████████████████████████████████▍                                                                                      | 29/100 [00:44<01:49,  1.54s/it]"
     ]
    },
    {
     "name": "stdout",
     "output_type": "stream",
     "text": [
      "R2 score: 0.9929424971568468\n",
      "MAE score: 7948.401799083029\n",
      "MSE score: 220200924.47428194\n",
      "R2 score: 0.9706795086365014\n",
      "MAE score: 14612.512521242437\n",
      "MSE score: 872456393.5790013\n",
      "R2 score: 0.860008196155783\n",
      "MAE score: 41860.19728715548\n",
      "MSE score: 5201844037.193548\n"
     ]
    },
    {
     "name": "stderr",
     "output_type": "stream",
     "text": [
      "\r",
      " 30%|████████████████████████████████████▌                                                                                     | 30/100 [00:46<01:47,  1.54s/it]"
     ]
    },
    {
     "name": "stdout",
     "output_type": "stream",
     "text": [
      "R2 score: 0.9929424971568468\n",
      "MAE score: 7948.401799083027\n",
      "MSE score: 220200924.47428194\n",
      "R2 score: 0.9692920321117756\n",
      "MAE score: 14710.110720512965\n",
      "MSE score: 913741948.787833\n",
      "R2 score: 0.8632573843351695\n",
      "MAE score: 42867.10401841789\n",
      "MSE score: 5081110039.2555685\n"
     ]
    },
    {
     "name": "stderr",
     "output_type": "stream",
     "text": [
      "\r",
      " 31%|█████████████████████████████████████▊                                                                                    | 31/100 [00:48<01:45,  1.53s/it]"
     ]
    },
    {
     "name": "stdout",
     "output_type": "stream",
     "text": [
      "R2 score: 0.9929424971568468\n",
      "MAE score: 7948.401799083024\n",
      "MSE score: 220200924.474282\n",
      "R2 score: 0.9688739810972026\n",
      "MAE score: 14677.505435614139\n",
      "MSE score: 926181415.6434427\n",
      "R2 score: 0.8632766461349121\n",
      "MAE score: 42171.10686640597\n",
      "MSE score: 5080394305.366978\n"
     ]
    },
    {
     "name": "stderr",
     "output_type": "stream",
     "text": [
      "\r",
      " 32%|███████████████████████████████████████                                                                                   | 32/100 [00:49<01:44,  1.53s/it]"
     ]
    },
    {
     "name": "stdout",
     "output_type": "stream",
     "text": [
      "R2 score: 0.9929424971568468\n",
      "MAE score: 7948.401799083025\n",
      "MSE score: 220200924.47428194\n",
      "R2 score: 0.9677446179059115\n",
      "MAE score: 14769.920252898668\n",
      "MSE score: 959786587.0131592\n",
      "R2 score: 0.8401694442093389\n",
      "MAE score: 44861.706388092476\n",
      "MSE score: 5939016433.606203\n"
     ]
    },
    {
     "name": "stderr",
     "output_type": "stream",
     "text": [
      "\r",
      " 33%|████████████████████████████████████████▎                                                                                 | 33/100 [00:51<01:42,  1.54s/it]"
     ]
    },
    {
     "name": "stdout",
     "output_type": "stream",
     "text": [
      "R2 score: 0.9929424971568468\n",
      "MAE score: 7948.401799083027\n",
      "MSE score: 220200924.47428194\n",
      "R2 score: 0.9681896827097689\n",
      "MAE score: 14726.263019003978\n",
      "MSE score: 946543301.6647496\n",
      "R2 score: 0.869396428289971\n",
      "MAE score: 41556.42762246636\n",
      "MSE score: 4852994190.231366\n"
     ]
    },
    {
     "name": "stderr",
     "output_type": "stream",
     "text": [
      "\r",
      " 34%|█████████████████████████████████████████▍                                                                                | 34/100 [00:52<01:41,  1.54s/it]"
     ]
    },
    {
     "name": "stdout",
     "output_type": "stream",
     "text": [
      "R2 score: 0.9929424971568468\n",
      "MAE score: 7948.401799083025\n",
      "MSE score: 220200924.47428194\n",
      "R2 score: 0.9664335245526181\n",
      "MAE score: 14822.509745406278\n",
      "MSE score: 998799295.3773774\n",
      "R2 score: 0.8467699304632541\n",
      "MAE score: 44132.47113787394\n",
      "MSE score: 5693754217.393069\n"
     ]
    },
    {
     "name": "stderr",
     "output_type": "stream",
     "text": [
      "\r",
      " 35%|██████████████████████████████████████████▋                                                                               | 35/100 [00:54<01:39,  1.54s/it]"
     ]
    },
    {
     "name": "stdout",
     "output_type": "stream",
     "text": [
      "R2 score: 0.9929424971568468\n",
      "MAE score: 7948.401799083024\n",
      "MSE score: 220200924.47428194\n",
      "R2 score: 0.969507057240779\n",
      "MAE score: 14694.786121916999\n",
      "MSE score: 907343691.4648776\n",
      "R2 score: 0.8531076809345008\n",
      "MAE score: 43249.928583950874\n",
      "MSE score: 5458254791.049781\n"
     ]
    },
    {
     "name": "stderr",
     "output_type": "stream",
     "text": [
      "\r",
      " 36%|███████████████████████████████████████████▉                                                                              | 36/100 [00:55<01:38,  1.54s/it]"
     ]
    },
    {
     "name": "stdout",
     "output_type": "stream",
     "text": [
      "R2 score: 0.9929424971568468\n",
      "MAE score: 7948.401799083025\n",
      "MSE score: 220200924.47428194\n",
      "R2 score: 0.9684152822904702\n",
      "MAE score: 14708.02074001366\n",
      "MSE score: 939830392.4528434\n",
      "R2 score: 0.8610037849028349\n",
      "MAE score: 43052.42485717336\n",
      "MSE score: 5164849747.205599\n"
     ]
    },
    {
     "name": "stderr",
     "output_type": "stream",
     "text": [
      "\r",
      " 37%|█████████████████████████████████████████████▏                                                                            | 37/100 [00:57<01:36,  1.54s/it]"
     ]
    },
    {
     "name": "stdout",
     "output_type": "stream",
     "text": [
      "R2 score: 0.9929424971568468\n",
      "MAE score: 7948.401799083027\n",
      "MSE score: 220200924.47428194\n",
      "R2 score: 0.9671120345497427\n",
      "MAE score: 14787.333609204103\n",
      "MSE score: 978609647.8793283\n",
      "R2 score: 0.8580870127507851\n",
      "MAE score: 42502.502419859644\n",
      "MSE score: 5273231762.511838\n"
     ]
    },
    {
     "name": "stderr",
     "output_type": "stream",
     "text": [
      "\r",
      " 38%|██████████████████████████████████████████████▎                                                                           | 38/100 [00:58<01:35,  1.54s/it]"
     ]
    },
    {
     "name": "stdout",
     "output_type": "stream",
     "text": [
      "R2 score: 0.9929424971568468\n",
      "MAE score: 7948.401799083029\n",
      "MSE score: 220200924.474282\n",
      "R2 score: 0.9694967789440214\n",
      "MAE score: 14619.56444177996\n",
      "MSE score: 907649531.0093129\n",
      "R2 score: 0.8423619205973467\n",
      "MAE score: 44937.82064261387\n",
      "MSE score: 5857547948.220178\n"
     ]
    },
    {
     "name": "stderr",
     "output_type": "stream",
     "text": [
      "\r",
      " 39%|███████████████████████████████████████████████▌                                                                          | 39/100 [01:00<01:33,  1.54s/it]"
     ]
    },
    {
     "name": "stdout",
     "output_type": "stream",
     "text": [
      "R2 score: 0.9929424971568468\n",
      "MAE score: 7948.401799083027\n",
      "MSE score: 220200924.47428194\n",
      "R2 score: 0.9683305071403554\n",
      "MAE score: 14722.075126520553\n",
      "MSE score: 942352949.8280747\n",
      "R2 score: 0.8607114123965167\n",
      "MAE score: 42518.37598370755\n",
      "MSE score: 5175713784.505404\n"
     ]
    },
    {
     "name": "stderr",
     "output_type": "stream",
     "text": [
      "\r",
      " 40%|████████████████████████████████████████████████▊                                                                         | 40/100 [01:01<01:32,  1.54s/it]"
     ]
    },
    {
     "name": "stdout",
     "output_type": "stream",
     "text": [
      "R2 score: 0.9929424971568468\n",
      "MAE score: 7948.401799083027\n",
      "MSE score: 220200924.47428194\n",
      "R2 score: 0.9686296723534975\n",
      "MAE score: 14668.945399454797\n",
      "MSE score: 933451032.0632442\n",
      "R2 score: 0.867080136762338\n",
      "MAE score: 41365.17082591957\n",
      "MSE score: 4939063423.861845\n"
     ]
    },
    {
     "name": "stderr",
     "output_type": "stream",
     "text": [
      "\r",
      " 41%|██████████████████████████████████████████████████                                                                        | 41/100 [01:03<01:30,  1.54s/it]"
     ]
    },
    {
     "name": "stdout",
     "output_type": "stream",
     "text": [
      "R2 score: 0.9929424971568468\n",
      "MAE score: 7948.401799083027\n",
      "MSE score: 220200924.47428194\n",
      "R2 score: 0.9699112307023037\n",
      "MAE score: 14635.833045966536\n",
      "MSE score: 895317163.1147692\n",
      "R2 score: 0.8506135487200762\n",
      "MAE score: 43777.489677530204\n",
      "MSE score: 5550932265.239734\n"
     ]
    },
    {
     "name": "stderr",
     "output_type": "stream",
     "text": [
      "\r",
      " 42%|███████████████████████████████████████████████████▏                                                                      | 42/100 [01:04<01:28,  1.53s/it]"
     ]
    },
    {
     "name": "stdout",
     "output_type": "stream",
     "text": [
      "R2 score: 0.9929424971568468\n",
      "MAE score: 7948.401799083025\n",
      "MSE score: 220200924.474282\n",
      "R2 score: 0.9675374175342548\n",
      "MAE score: 14785.53913842683\n",
      "MSE score: 965952011.9633327\n",
      "R2 score: 0.8200570241176285\n",
      "MAE score: 46248.15049286002\n",
      "MSE score: 6686357846.850785\n"
     ]
    },
    {
     "name": "stderr",
     "output_type": "stream",
     "text": [
      "\r",
      " 43%|████████████████████████████████████████████████████▍                                                                     | 43/100 [01:06<01:27,  1.53s/it]"
     ]
    },
    {
     "name": "stdout",
     "output_type": "stream",
     "text": [
      "R2 score: 0.9929424971568468\n",
      "MAE score: 7948.401799083027\n",
      "MSE score: 220200924.47428194\n",
      "R2 score: 0.9697514553673462\n",
      "MAE score: 14623.137406723423\n",
      "MSE score: 900071415.3812733\n",
      "R2 score: 0.8599828083591735\n",
      "MAE score: 42740.75091019783\n",
      "MSE score: 5202787402.124806\n"
     ]
    },
    {
     "name": "stderr",
     "output_type": "stream",
     "text": [
      "\r",
      " 44%|█████████████████████████████████████████████████████▋                                                                    | 44/100 [01:08<01:25,  1.53s/it]"
     ]
    },
    {
     "name": "stdout",
     "output_type": "stream",
     "text": [
      "R2 score: 0.9929424971568468\n",
      "MAE score: 7948.401799083027\n",
      "MSE score: 220200924.474282\n",
      "R2 score: 0.9697644445259149\n",
      "MAE score: 14647.325163272084\n",
      "MSE score: 899684911.8162407\n",
      "R2 score: 0.8501663051490828\n",
      "MAE score: 43348.40271266822\n",
      "MSE score: 5567551033.189422\n"
     ]
    },
    {
     "name": "stderr",
     "output_type": "stream",
     "text": [
      "\r",
      " 45%|██████████████████████████████████████████████████████▉                                                                   | 45/100 [01:09<01:24,  1.53s/it]"
     ]
    },
    {
     "name": "stdout",
     "output_type": "stream",
     "text": [
      "R2 score: 0.9929424971568468\n",
      "MAE score: 7948.401799083027\n",
      "MSE score: 220200924.47428194\n",
      "R2 score: 0.9688941704650356\n",
      "MAE score: 14666.376931641813\n",
      "MSE score: 925580663.6700224\n",
      "R2 score: 0.8348583009633631\n",
      "MAE score: 45362.483892571785\n",
      "MSE score: 6136368979.013107\n"
     ]
    },
    {
     "name": "stderr",
     "output_type": "stream",
     "text": [
      "\r",
      " 46%|████████████████████████████████████████████████████████                                                                  | 46/100 [01:11<01:22,  1.53s/it]"
     ]
    },
    {
     "name": "stdout",
     "output_type": "stream",
     "text": [
      "R2 score: 0.9929424971568468\n",
      "MAE score: 7948.401799083029\n",
      "MSE score: 220200924.47428194\n",
      "R2 score: 0.9703532980936913\n",
      "MAE score: 14624.401261646299\n",
      "MSE score: 882163068.3478242\n",
      "R2 score: 0.8736979686565564\n",
      "MAE score: 41254.59598882957\n",
      "MSE score: 4693156674.803897\n"
     ]
    },
    {
     "name": "stderr",
     "output_type": "stream",
     "text": [
      "\r",
      " 47%|█████████████████████████████████████████████████████████▎                                                                | 47/100 [01:12<01:21,  1.54s/it]"
     ]
    },
    {
     "name": "stdout",
     "output_type": "stream",
     "text": [
      "R2 score: 0.9929424971568468\n",
      "MAE score: 7948.401799083025\n",
      "MSE score: 220200924.47428194\n",
      "R2 score: 0.9695631068494944\n",
      "MAE score: 14647.070065950498\n",
      "MSE score: 905675887.2362518\n",
      "R2 score: 0.8490560878730166\n",
      "MAE score: 42749.02666449522\n",
      "MSE score: 5608804713.4685955\n"
     ]
    },
    {
     "name": "stderr",
     "output_type": "stream",
     "text": [
      "\r",
      " 48%|██████████████████████████████████████████████████████████▌                                                               | 48/100 [01:14<01:19,  1.53s/it]"
     ]
    },
    {
     "name": "stdout",
     "output_type": "stream",
     "text": [
      "R2 score: 0.9929424971568468\n",
      "MAE score: 7948.40179908303\n",
      "MSE score: 220200924.474282\n",
      "R2 score: 0.9689306033019018\n",
      "MAE score: 14696.631522661897\n",
      "MSE score: 924496573.3297194\n",
      "R2 score: 0.8702185055894616\n",
      "MAE score: 41148.08308948602\n",
      "MSE score: 4822447274.047433\n"
     ]
    },
    {
     "name": "stderr",
     "output_type": "stream",
     "text": [
      "\r",
      " 49%|███████████████████████████████████████████████████████████▊                                                              | 49/100 [01:15<01:18,  1.53s/it]"
     ]
    },
    {
     "name": "stdout",
     "output_type": "stream",
     "text": [
      "R2 score: 0.9929424971568468\n",
      "MAE score: 7948.401799083027\n",
      "MSE score: 220200924.47428194\n",
      "R2 score: 0.9681952315485033\n",
      "MAE score: 14757.301476110159\n",
      "MSE score: 946378191.2042617\n",
      "R2 score: 0.8724414610807986\n",
      "MAE score: 42315.63696066317\n",
      "MSE score: 4739846239.9152775\n"
     ]
    },
    {
     "name": "stderr",
     "output_type": "stream",
     "text": [
      "\r",
      " 50%|█████████████████████████████████████████████████████████████                                                             | 50/100 [01:17<01:16,  1.53s/it]"
     ]
    },
    {
     "name": "stdout",
     "output_type": "stream",
     "text": [
      "R2 score: 0.9929424971568468\n",
      "MAE score: 7948.401799083025\n",
      "MSE score: 220200924.47428194\n",
      "R2 score: 0.9688179376111767\n",
      "MAE score: 14653.827615092749\n",
      "MSE score: 927849037.6861821\n",
      "R2 score: 0.8603941101753756\n",
      "MAE score: 42429.221082307195\n",
      "MSE score: 5187504165.239895\n"
     ]
    },
    {
     "name": "stderr",
     "output_type": "stream",
     "text": [
      "\r",
      " 51%|██████████████████████████████████████████████████████████████▏                                                           | 51/100 [01:18<01:15,  1.54s/it]"
     ]
    },
    {
     "name": "stdout",
     "output_type": "stream",
     "text": [
      "R2 score: 0.9929424971568468\n",
      "MAE score: 7948.401799083024\n",
      "MSE score: 220200924.47428194\n",
      "R2 score: 0.9662792395679228\n",
      "MAE score: 14844.440936591578\n",
      "MSE score: 1003390177.5580974\n",
      "R2 score: 0.8714323014956924\n",
      "MAE score: 41513.46186209555\n",
      "MSE score: 4777344797.875162\n"
     ]
    },
    {
     "name": "stderr",
     "output_type": "stream",
     "text": [
      "\r",
      " 52%|███████████████████████████████████████████████████████████████▍                                                          | 52/100 [01:20<01:13,  1.53s/it]"
     ]
    },
    {
     "name": "stdout",
     "output_type": "stream",
     "text": [
      "R2 score: 0.9929424971568468\n",
      "MAE score: 7948.401799083025\n",
      "MSE score: 220200924.47428194\n",
      "R2 score: 0.9708684247862113\n",
      "MAE score: 14582.757003224708\n",
      "MSE score: 866835031.3507425\n",
      "R2 score: 0.8684882511717273\n",
      "MAE score: 41389.37695447066\n",
      "MSE score: 4886740421.06434\n"
     ]
    },
    {
     "name": "stderr",
     "output_type": "stream",
     "text": [
      "\r",
      " 53%|████████████████████████████████████████████████████████████████▋                                                         | 53/100 [01:21<01:12,  1.53s/it]"
     ]
    },
    {
     "name": "stdout",
     "output_type": "stream",
     "text": [
      "R2 score: 0.9929424971568468\n",
      "MAE score: 7948.401799083025\n",
      "MSE score: 220200924.47428194\n",
      "R2 score: 0.9684611788141387\n",
      "MAE score: 14653.290418741597\n",
      "MSE score: 938464701.9867051\n",
      "R2 score: 0.8404428331441274\n",
      "MAE score: 45417.553805779775\n",
      "MSE score: 5928857791.734238\n"
     ]
    },
    {
     "name": "stderr",
     "output_type": "stream",
     "text": [
      "\r",
      " 54%|█████████████████████████████████████████████████████████████████▉                                                        | 54/100 [01:23<01:10,  1.53s/it]"
     ]
    },
    {
     "name": "stdout",
     "output_type": "stream",
     "text": [
      "R2 score: 0.9929424971568468\n",
      "MAE score: 7948.401799083025\n",
      "MSE score: 220200924.47428194\n",
      "R2 score: 0.9702441875153607\n",
      "MAE score: 14646.148805619308\n",
      "MSE score: 885409747.2827537\n",
      "R2 score: 0.8624816777525539\n",
      "MAE score: 42724.95647197899\n",
      "MSE score: 5109933902.871762\n"
     ]
    },
    {
     "name": "stderr",
     "output_type": "stream",
     "text": [
      "\r",
      " 55%|███████████████████████████████████████████████████████████████████                                                       | 55/100 [01:24<01:08,  1.53s/it]"
     ]
    },
    {
     "name": "stdout",
     "output_type": "stream",
     "text": [
      "R2 score: 0.9929424971568468\n",
      "MAE score: 7948.401799083025\n",
      "MSE score: 220200924.47428194\n",
      "R2 score: 0.9706758601921599\n",
      "MAE score: 14586.329143717383\n",
      "MSE score: 872564956.1727482\n",
      "R2 score: 0.8504402074514755\n",
      "MAE score: 44274.3084088102\n",
      "MSE score: 5557373315.499172\n"
     ]
    },
    {
     "name": "stderr",
     "output_type": "stream",
     "text": [
      "\r",
      " 56%|████████████████████████████████████████████████████████████████████▎                                                     | 56/100 [01:26<01:07,  1.53s/it]"
     ]
    },
    {
     "name": "stdout",
     "output_type": "stream",
     "text": [
      "R2 score: 0.9929424971568468\n",
      "MAE score: 7948.401799083025\n",
      "MSE score: 220200924.47428194\n",
      "R2 score: 0.9707172775747493\n",
      "MAE score: 14637.08511366716\n",
      "MSE score: 871332546.3949763\n",
      "R2 score: 0.861976057743242\n",
      "MAE score: 42340.190389369665\n",
      "MSE score: 5128721834.438466\n"
     ]
    },
    {
     "name": "stderr",
     "output_type": "stream",
     "text": [
      "\r",
      " 57%|█████████████████████████████████████████████████████████████████████▌                                                    | 57/100 [01:27<01:06,  1.54s/it]"
     ]
    },
    {
     "name": "stdout",
     "output_type": "stream",
     "text": [
      "R2 score: 0.9929424971568468\n",
      "MAE score: 7948.401799083029\n",
      "MSE score: 220200924.47428194\n",
      "R2 score: 0.9675977508268857\n",
      "MAE score: 14666.221088750455\n",
      "MSE score: 964156743.0420547\n",
      "R2 score: 0.8464426127661349\n",
      "MAE score: 43129.906145088506\n",
      "MSE score: 5705916755.229374\n"
     ]
    },
    {
     "name": "stderr",
     "output_type": "stream",
     "text": [
      "\r",
      " 58%|██████████████████████████████████████████████████████████████████████▊                                                   | 58/100 [01:29<01:04,  1.54s/it]"
     ]
    },
    {
     "name": "stdout",
     "output_type": "stream",
     "text": [
      "R2 score: 0.9929424971568468\n",
      "MAE score: 7948.401799083027\n",
      "MSE score: 220200924.47428194\n",
      "R2 score: 0.9683441732228465\n",
      "MAE score: 14664.296612699141\n",
      "MSE score: 941946303.8105577\n",
      "R2 score: 0.8616264587247175\n",
      "MAE score: 43246.73560660777\n",
      "MSE score: 5141712306.165969\n"
     ]
    },
    {
     "name": "stderr",
     "output_type": "stream",
     "text": [
      "\r",
      " 59%|███████████████████████████████████████████████████████████████████████▉                                                  | 59/100 [01:31<01:03,  1.54s/it]"
     ]
    },
    {
     "name": "stdout",
     "output_type": "stream",
     "text": [
      "R2 score: 0.9929424971568468\n",
      "MAE score: 7948.401799083029\n",
      "MSE score: 220200924.47428194\n",
      "R2 score: 0.969381699391116\n",
      "MAE score: 14682.679228055511\n",
      "MSE score: 911073821.9073688\n",
      "R2 score: 0.8427205131760941\n",
      "MAE score: 44559.6855581594\n",
      "MSE score: 5844223291.945196\n"
     ]
    },
    {
     "name": "stderr",
     "output_type": "stream",
     "text": [
      "\r",
      " 60%|█████████████████████████████████████████████████████████████████████████▏                                                | 60/100 [01:32<01:01,  1.54s/it]"
     ]
    },
    {
     "name": "stdout",
     "output_type": "stream",
     "text": [
      "R2 score: 0.9929424971568468\n",
      "MAE score: 7948.401799083025\n",
      "MSE score: 220200924.47428194\n",
      "R2 score: 0.9704406088840561\n",
      "MAE score: 14616.46247955904\n",
      "MSE score: 879565060.8199857\n",
      "R2 score: 0.8554586530787687\n",
      "MAE score: 42266.515779868634\n",
      "MSE score: 5370896887.983709\n"
     ]
    },
    {
     "name": "stderr",
     "output_type": "stream",
     "text": [
      "\r",
      " 61%|██████████████████████████████████████████████████████████████████████████▍                                               | 61/100 [01:34<00:59,  1.54s/it]"
     ]
    },
    {
     "name": "stdout",
     "output_type": "stream",
     "text": [
      "R2 score: 0.9929424971568468\n",
      "MAE score: 7948.401799083027\n",
      "MSE score: 220200924.47428194\n",
      "R2 score: 0.9703707951355363\n",
      "MAE score: 14658.829824356304\n",
      "MSE score: 881642428.8456725\n",
      "R2 score: 0.8719083192514436\n",
      "MAE score: 41008.087978194635\n",
      "MSE score: 4759656832.891811\n"
     ]
    },
    {
     "name": "stderr",
     "output_type": "stream",
     "text": [
      "\r",
      " 62%|███████████████████████████████████████████████████████████████████████████▋                                              | 62/100 [01:35<00:58,  1.53s/it]"
     ]
    },
    {
     "name": "stdout",
     "output_type": "stream",
     "text": [
      "R2 score: 0.9929424971568468\n",
      "MAE score: 7948.401799083029\n",
      "MSE score: 220200924.474282\n",
      "R2 score: 0.9691572510855851\n",
      "MAE score: 14664.054099207371\n",
      "MSE score: 917752473.9381517\n",
      "R2 score: 0.8544774917005039\n",
      "MAE score: 42257.001813259085\n",
      "MSE score: 5407355082.8558235\n"
     ]
    },
    {
     "name": "stderr",
     "output_type": "stream",
     "text": [
      "\r",
      " 63%|████████████████████████████████████████████████████████████████████████████▊                                             | 63/100 [01:37<00:56,  1.52s/it]"
     ]
    },
    {
     "name": "stdout",
     "output_type": "stream",
     "text": [
      "R2 score: 0.9929424971568468\n",
      "MAE score: 7948.401799083025\n",
      "MSE score: 220200924.474282\n",
      "R2 score: 0.9687622616406848\n",
      "MAE score: 14701.150118887934\n",
      "MSE score: 929505723.9886796\n",
      "R2 score: 0.8567882785999383\n",
      "MAE score: 43128.61801362399\n",
      "MSE score: 5321490391.324136\n"
     ]
    },
    {
     "name": "stderr",
     "output_type": "stream",
     "text": [
      "\r",
      " 64%|██████████████████████████████████████████████████████████████████████████████                                            | 64/100 [01:38<00:54,  1.51s/it]"
     ]
    },
    {
     "name": "stdout",
     "output_type": "stream",
     "text": [
      "R2 score: 0.9929424971568468\n",
      "MAE score: 7948.401799083025\n",
      "MSE score: 220200924.47428194\n",
      "R2 score: 0.9712456987937266\n",
      "MAE score: 14554.29922070807\n",
      "MSE score: 855608919.3491672\n",
      "R2 score: 0.8644805544751464\n",
      "MAE score: 41982.94043228519\n",
      "MSE score: 5035659233.391302\n"
     ]
    },
    {
     "name": "stderr",
     "output_type": "stream",
     "text": [
      "\r",
      " 65%|███████████████████████████████████████████████████████████████████████████████▎                                          | 65/100 [01:40<00:52,  1.51s/it]"
     ]
    },
    {
     "name": "stdout",
     "output_type": "stream",
     "text": [
      "R2 score: 0.9929424971568468\n",
      "MAE score: 7948.401799083025\n",
      "MSE score: 220200924.474282\n",
      "R2 score: 0.9685606527683784\n",
      "MAE score: 14718.587280940452\n",
      "MSE score: 935504769.0751094\n",
      "R2 score: 0.8625192305119138\n",
      "MAE score: 42879.883574796084\n",
      "MSE score: 5108538509.770222\n"
     ]
    },
    {
     "name": "stderr",
     "output_type": "stream",
     "text": [
      "\r",
      " 66%|████████████████████████████████████████████████████████████████████████████████▌                                         | 66/100 [01:41<00:51,  1.51s/it]"
     ]
    },
    {
     "name": "stdout",
     "output_type": "stream",
     "text": [
      "R2 score: 0.9929424971568468\n",
      "MAE score: 7948.401799083025\n",
      "MSE score: 220200924.47428194\n",
      "R2 score: 0.9687017239642981\n",
      "MAE score: 14697.347827771237\n",
      "MSE score: 931307074.5240823\n",
      "R2 score: 0.8586532166165026\n",
      "MAE score: 43145.71737523838\n",
      "MSE score: 5252192643.636025\n"
     ]
    },
    {
     "name": "stderr",
     "output_type": "stream",
     "text": [
      "\r",
      " 67%|█████████████████████████████████████████████████████████████████████████████████▋                                        | 67/100 [01:43<00:49,  1.51s/it]"
     ]
    },
    {
     "name": "stdout",
     "output_type": "stream",
     "text": [
      "R2 score: 0.9929424971568468\n",
      "MAE score: 7948.401799083024\n",
      "MSE score: 220200924.47428194\n",
      "R2 score: 0.9677245958752322\n",
      "MAE score: 14727.214654584623\n",
      "MSE score: 960382359.7259042\n",
      "R2 score: 0.8739424695569151\n",
      "MAE score: 41382.658261150216\n",
      "MSE score: 4684071460.414953\n"
     ]
    },
    {
     "name": "stderr",
     "output_type": "stream",
     "text": [
      "\r",
      " 68%|██████████████████████████████████████████████████████████████████████████████████▉                                       | 68/100 [01:44<00:48,  1.51s/it]"
     ]
    },
    {
     "name": "stdout",
     "output_type": "stream",
     "text": [
      "R2 score: 0.9929424971568468\n",
      "MAE score: 7948.401799083025\n",
      "MSE score: 220200924.47428194\n",
      "R2 score: 0.9701934509202867\n",
      "MAE score: 14657.999246155858\n",
      "MSE score: 886919458.2289939\n",
      "R2 score: 0.8483703066516705\n",
      "MAE score: 42683.970812601816\n",
      "MSE score: 5634287112.145653\n"
     ]
    },
    {
     "name": "stderr",
     "output_type": "stream",
     "text": [
      "\r",
      " 69%|████████████████████████████████████████████████████████████████████████████████████▏                                     | 69/100 [01:46<00:46,  1.51s/it]"
     ]
    },
    {
     "name": "stdout",
     "output_type": "stream",
     "text": [
      "R2 score: 0.9929424971568468\n",
      "MAE score: 7948.401799083029\n",
      "MSE score: 220200924.47428194\n",
      "R2 score: 0.9698514576730084\n",
      "MAE score: 14599.521453622137\n",
      "MSE score: 897095760.9194857\n",
      "R2 score: 0.8554344270572077\n",
      "MAE score: 42375.49707765325\n",
      "MSE score: 5371797083.440451\n"
     ]
    },
    {
     "name": "stderr",
     "output_type": "stream",
     "text": [
      "\r",
      " 70%|█████████████████████████████████████████████████████████████████████████████████████▍                                    | 70/100 [01:47<00:45,  1.51s/it]"
     ]
    },
    {
     "name": "stdout",
     "output_type": "stream",
     "text": [
      "R2 score: 0.9929424971568468\n",
      "MAE score: 7948.401799083027\n",
      "MSE score: 220200924.47428194\n",
      "R2 score: 0.9677118253799724\n",
      "MAE score: 14687.056901210814\n",
      "MSE score: 960762356.776446\n",
      "R2 score: 0.8552976234939734\n",
      "MAE score: 43411.86852323881\n",
      "MSE score: 5376880458.18194\n"
     ]
    },
    {
     "name": "stderr",
     "output_type": "stream",
     "text": [
      "\r",
      " 71%|██████████████████████████████████████████████████████████████████████████████████████▌                                   | 71/100 [01:49<00:43,  1.51s/it]"
     ]
    },
    {
     "name": "stdout",
     "output_type": "stream",
     "text": [
      "R2 score: 0.9929424971568468\n",
      "MAE score: 7948.401799083024\n",
      "MSE score: 220200924.474282\n",
      "R2 score: 0.9689929645185815\n",
      "MAE score: 14652.319574822217\n",
      "MSE score: 922640961.7872958\n",
      "R2 score: 0.866130057836306\n",
      "MAE score: 42881.53424548323\n",
      "MSE score: 4974366650.626046\n"
     ]
    },
    {
     "name": "stderr",
     "output_type": "stream",
     "text": [
      "\r",
      " 72%|███████████████████████████████████████████████████████████████████████████████████████▊                                  | 72/100 [01:50<00:42,  1.51s/it]"
     ]
    },
    {
     "name": "stdout",
     "output_type": "stream",
     "text": [
      "R2 score: 0.9929424971568468\n",
      "MAE score: 7948.401799083027\n",
      "MSE score: 220200924.474282\n",
      "R2 score: 0.9706997802196322\n",
      "MAE score: 14598.576606915842\n",
      "MSE score: 871853195.2188104\n",
      "R2 score: 0.8595960536513445\n",
      "MAE score: 43200.0111483257\n",
      "MSE score: 5217158512.543642\n"
     ]
    },
    {
     "name": "stderr",
     "output_type": "stream",
     "text": [
      "\r",
      " 73%|█████████████████████████████████████████████████████████████████████████████████████████                                 | 73/100 [01:52<00:40,  1.51s/it]"
     ]
    },
    {
     "name": "stdout",
     "output_type": "stream",
     "text": [
      "R2 score: 0.9929424971568468\n",
      "MAE score: 7948.401799083027\n",
      "MSE score: 220200924.47428194\n",
      "R2 score: 0.9698109992943363\n",
      "MAE score: 14656.266723919556\n",
      "MSE score: 898299634.7123455\n",
      "R2 score: 0.8597392405536791\n",
      "MAE score: 42290.58399142984\n",
      "MSE score: 5211837944.38422\n"
     ]
    },
    {
     "name": "stderr",
     "output_type": "stream",
     "text": [
      "\r",
      " 74%|██████████████████████████████████████████████████████████████████████████████████████████▎                               | 74/100 [01:53<00:39,  1.51s/it]"
     ]
    },
    {
     "name": "stdout",
     "output_type": "stream",
     "text": [
      "R2 score: 0.9929424971568468\n",
      "MAE score: 7948.401799083025\n",
      "MSE score: 220200924.47428194\n",
      "R2 score: 0.9714090682646692\n",
      "MAE score: 14607.234543458879\n",
      "MSE score: 850747720.4806852\n",
      "R2 score: 0.8754266546613196\n",
      "MAE score: 40812.6868190761\n",
      "MSE score: 4628921807.196474\n"
     ]
    },
    {
     "name": "stderr",
     "output_type": "stream",
     "text": [
      "\r",
      " 75%|███████████████████████████████████████████████████████████████████████████████████████████▌                              | 75/100 [01:55<00:37,  1.51s/it]"
     ]
    },
    {
     "name": "stdout",
     "output_type": "stream",
     "text": [
      "R2 score: 0.9929424971568468\n",
      "MAE score: 7948.401799083027\n",
      "MSE score: 220200924.47428194\n",
      "R2 score: 0.9696365118449572\n",
      "MAE score: 14637.090474397472\n",
      "MSE score: 903491658.5745208\n",
      "R2 score: 0.8642112208174145\n",
      "MAE score: 42795.224221842225\n",
      "MSE score: 5045667188.450207\n"
     ]
    },
    {
     "name": "stderr",
     "output_type": "stream",
     "text": [
      "\r",
      " 76%|████████████████████████████████████████████████████████████████████████████████████████████▋                             | 76/100 [01:56<00:36,  1.51s/it]"
     ]
    },
    {
     "name": "stdout",
     "output_type": "stream",
     "text": [
      "R2 score: 0.9929424971568468\n",
      "MAE score: 7948.401799083029\n",
      "MSE score: 220200924.47428194\n",
      "R2 score: 0.9719098888598373\n",
      "MAE score: 14547.803640175236\n",
      "MSE score: 835845373.6927878\n",
      "R2 score: 0.863635273754497\n",
      "MAE score: 42178.80815692549\n",
      "MSE score: 5067068347.037396\n"
     ]
    },
    {
     "name": "stderr",
     "output_type": "stream",
     "text": [
      "\r",
      " 77%|█████████████████████████████████████████████████████████████████████████████████████████████▉                            | 77/100 [01:58<00:34,  1.52s/it]"
     ]
    },
    {
     "name": "stdout",
     "output_type": "stream",
     "text": [
      "R2 score: 0.9929424971568468\n",
      "MAE score: 7948.401799083027\n",
      "MSE score: 220200924.47428194\n",
      "R2 score: 0.9677250456980795\n",
      "MAE score: 14753.869292181995\n",
      "MSE score: 960368974.8608869\n",
      "R2 score: 0.8663025486265966\n",
      "MAE score: 42056.53612458842\n",
      "MSE score: 4967957202.613347\n"
     ]
    },
    {
     "name": "stderr",
     "output_type": "stream",
     "text": [
      "\r",
      " 78%|███████████████████████████████████████████████████████████████████████████████████████████████▏                          | 78/100 [01:59<00:33,  1.52s/it]"
     ]
    },
    {
     "name": "stdout",
     "output_type": "stream",
     "text": [
      "R2 score: 0.9929424971568468\n",
      "MAE score: 7948.401799083024\n",
      "MSE score: 220200924.47428194\n",
      "R2 score: 0.9699657504834944\n",
      "MAE score: 14674.790492650794\n",
      "MSE score: 893694880.2175741\n",
      "R2 score: 0.8378100896900582\n",
      "MAE score: 45552.34503399329\n",
      "MSE score: 6026685810.674901\n"
     ]
    },
    {
     "name": "stderr",
     "output_type": "stream",
     "text": [
      "\r",
      " 79%|████████████████████████████████████████████████████████████████████████████████████████████████▍                         | 79/100 [02:01<00:31,  1.52s/it]"
     ]
    },
    {
     "name": "stdout",
     "output_type": "stream",
     "text": [
      "R2 score: 0.9929424971568468\n",
      "MAE score: 7948.401799083025\n",
      "MSE score: 220200924.47428194\n",
      "R2 score: 0.9695604324915907\n",
      "MAE score: 14699.866514508862\n",
      "MSE score: 905755465.051742\n",
      "R2 score: 0.8552966812286925\n",
      "MAE score: 43018.356521222646\n",
      "MSE score: 5376915471.067684\n"
     ]
    },
    {
     "name": "stderr",
     "output_type": "stream",
     "text": [
      "\r",
      " 80%|█████████████████████████████████████████████████████████████████████████████████████████████████▌                        | 80/100 [02:02<00:30,  1.52s/it]"
     ]
    },
    {
     "name": "stdout",
     "output_type": "stream",
     "text": [
      "R2 score: 0.9929424971568468\n",
      "MAE score: 7948.401799083024\n",
      "MSE score: 220200924.47428194\n",
      "R2 score: 0.9689786774045513\n",
      "MAE score: 14688.098054295944\n",
      "MSE score: 923066087.1314428\n",
      "R2 score: 0.8502336929412952\n",
      "MAE score: 43524.59363414184\n",
      "MSE score: 5565047023.844059\n"
     ]
    },
    {
     "name": "stderr",
     "output_type": "stream",
     "text": [
      "\r",
      " 81%|██████████████████████████████████████████████████████████████████████████████████████████████████▊                       | 81/100 [02:04<00:28,  1.52s/it]"
     ]
    },
    {
     "name": "stdout",
     "output_type": "stream",
     "text": [
      "R2 score: 0.9929424971568468\n",
      "MAE score: 7948.401799083027\n",
      "MSE score: 220200924.47428194\n",
      "R2 score: 0.9708972709611788\n",
      "MAE score: 14584.641678122216\n",
      "MSE score: 865976688.648748\n",
      "R2 score: 0.8651088681559705\n",
      "MAE score: 42336.347970945506\n",
      "MSE score: 5012312225.3213215\n"
     ]
    },
    {
     "name": "stderr",
     "output_type": "stream",
     "text": [
      "\r",
      " 82%|████████████████████████████████████████████████████████████████████████████████████████████████████                      | 82/100 [02:05<00:27,  1.52s/it]"
     ]
    },
    {
     "name": "stdout",
     "output_type": "stream",
     "text": [
      "R2 score: 0.9929424971568468\n",
      "MAE score: 7948.401799083027\n",
      "MSE score: 220200924.47428194\n",
      "R2 score: 0.9674215180207962\n",
      "MAE score: 14789.211635892105\n",
      "MSE score: 969400701.4916228\n",
      "R2 score: 0.8350243679107585\n",
      "MAE score: 45026.199733973015\n",
      "MSE score: 6130198229.466618\n"
     ]
    },
    {
     "name": "stderr",
     "output_type": "stream",
     "text": [
      "\r",
      " 83%|█████████████████████████████████████████████████████████████████████████████████████████████████████▎                    | 83/100 [02:07<00:25,  1.52s/it]"
     ]
    },
    {
     "name": "stdout",
     "output_type": "stream",
     "text": [
      "R2 score: 0.9929424971568468\n",
      "MAE score: 7948.401799083025\n",
      "MSE score: 220200924.47428194\n",
      "R2 score: 0.9683082562951417\n",
      "MAE score: 14703.280778104216\n",
      "MSE score: 943015042.8308322\n",
      "R2 score: 0.8667364782786591\n",
      "MAE score: 42518.6781483861\n",
      "MSE score: 4951833155.98234\n"
     ]
    },
    {
     "name": "stderr",
     "output_type": "stream",
     "text": [
      "\r",
      " 84%|██████████████████████████████████████████████████████████████████████████████████████████████████████▍                   | 84/100 [02:08<00:24,  1.52s/it]"
     ]
    },
    {
     "name": "stdout",
     "output_type": "stream",
     "text": [
      "R2 score: 0.9929424971568468\n",
      "MAE score: 7948.401799083025\n",
      "MSE score: 220200924.474282\n",
      "R2 score: 0.9685319542474731\n",
      "MAE score: 14716.372584983063\n",
      "MSE score: 936358718.2037147\n",
      "R2 score: 0.8715409668632044\n",
      "MAE score: 41854.59857325442\n",
      "MSE score: 4773306987.956869\n"
     ]
    },
    {
     "name": "stderr",
     "output_type": "stream",
     "text": [
      "\r",
      " 85%|███████████████████████████████████████████████████████████████████████████████████████████████████████▋                  | 85/100 [02:10<00:22,  1.52s/it]"
     ]
    },
    {
     "name": "stdout",
     "output_type": "stream",
     "text": [
      "R2 score: 0.9929424971568468\n",
      "MAE score: 7948.401799083025\n",
      "MSE score: 220200924.47428194\n",
      "R2 score: 0.9697278617919532\n",
      "MAE score: 14604.691942781612\n",
      "MSE score: 900773462.4733149\n",
      "R2 score: 0.85403902132419\n",
      "MAE score: 44022.798785903746\n",
      "MSE score: 5423647854.6459\n"
     ]
    },
    {
     "name": "stderr",
     "output_type": "stream",
     "text": [
      "\r",
      " 86%|████████████████████████████████████████████████████████████████████████████████████████████████████████▉                 | 86/100 [02:11<00:21,  1.52s/it]"
     ]
    },
    {
     "name": "stdout",
     "output_type": "stream",
     "text": [
      "R2 score: 0.9929424971568468\n",
      "MAE score: 7948.401799083025\n",
      "MSE score: 220200924.47428194\n",
      "R2 score: 0.9704403644186258\n",
      "MAE score: 14611.606943499764\n",
      "MSE score: 879572335.0987531\n",
      "R2 score: 0.8624915387608005\n",
      "MAE score: 43172.5006374549\n",
      "MSE score: 5109567485.51346\n"
     ]
    },
    {
     "name": "stderr",
     "output_type": "stream",
     "text": [
      "\r",
      " 87%|██████████████████████████████████████████████████████████████████████████████████████████████████████████▏               | 87/100 [02:13<00:19,  1.52s/it]"
     ]
    },
    {
     "name": "stdout",
     "output_type": "stream",
     "text": [
      "R2 score: 0.9929424971568468\n",
      "MAE score: 7948.401799083024\n",
      "MSE score: 220200924.47428194\n",
      "R2 score: 0.9707270232161695\n",
      "MAE score: 14599.032264216781\n",
      "MSE score: 871042556.4674144\n",
      "R2 score: 0.8424713150420157\n",
      "MAE score: 43762.850740046495\n",
      "MSE score: 5853483047.103992\n"
     ]
    },
    {
     "name": "stderr",
     "output_type": "stream",
     "text": [
      "\r",
      " 88%|███████████████████████████████████████████████████████████████████████████████████████████████████████████▎              | 88/100 [02:14<00:18,  1.52s/it]"
     ]
    },
    {
     "name": "stdout",
     "output_type": "stream",
     "text": [
      "R2 score: 0.9929424971568468\n",
      "MAE score: 7948.401799083025\n",
      "MSE score: 220200924.47428194\n",
      "R2 score: 0.96840179721192\n",
      "MAE score: 14706.804764941091\n",
      "MSE score: 940231652.5426975\n",
      "R2 score: 0.8581015777932132\n",
      "MAE score: 42747.33717929937\n",
      "MSE score: 5272690551.690741\n"
     ]
    },
    {
     "name": "stderr",
     "output_type": "stream",
     "text": [
      "\r",
      " 89%|████████████████████████████████████████████████████████████████████████████████████████████████████████████▌             | 89/100 [02:16<00:16,  1.52s/it]"
     ]
    },
    {
     "name": "stdout",
     "output_type": "stream",
     "text": [
      "R2 score: 0.9929424971568468\n",
      "MAE score: 7948.401799083027\n",
      "MSE score: 220200924.474282\n",
      "R2 score: 0.9707961370151186\n",
      "MAE score: 14641.385994793145\n",
      "MSE score: 868986016.04215\n",
      "R2 score: 0.8704052807480721\n",
      "MAE score: 41486.54639151421\n",
      "MSE score: 4815507044.559457\n"
     ]
    },
    {
     "name": "stderr",
     "output_type": "stream",
     "text": [
      "\r",
      " 90%|█████████████████████████████████████████████████████████████████████████████████████████████████████████████▊            | 90/100 [02:18<00:15,  1.52s/it]"
     ]
    },
    {
     "name": "stdout",
     "output_type": "stream",
     "text": [
      "R2 score: 0.9929424971568468\n",
      "MAE score: 7948.401799083024\n",
      "MSE score: 220200924.47428194\n",
      "R2 score: 0.9703569779037982\n",
      "MAE score: 14632.742640337861\n",
      "MSE score: 882053572.4388003\n",
      "R2 score: 0.8557260076350353\n",
      "MAE score: 42982.87570324157\n",
      "MSE score: 5360962472.781234\n"
     ]
    },
    {
     "name": "stderr",
     "output_type": "stream",
     "text": [
      "\r",
      " 91%|███████████████████████████████████████████████████████████████████████████████████████████████████████████████           | 91/100 [02:19<00:13,  1.51s/it]"
     ]
    },
    {
     "name": "stdout",
     "output_type": "stream",
     "text": [
      "R2 score: 0.9929424971568468\n",
      "MAE score: 7948.401799083027\n",
      "MSE score: 220200924.47428194\n",
      "R2 score: 0.9677461989176209\n",
      "MAE score: 14688.892421280252\n",
      "MSE score: 959739542.6523689\n",
      "R2 score: 0.8635020567293763\n",
      "MAE score: 41796.22448469877\n",
      "MSE score: 5072018452.463197\n"
     ]
    },
    {
     "name": "stderr",
     "output_type": "stream",
     "text": [
      "\r",
      " 92%|████████████████████████████████████████████████████████████████████████████████████████████████████████████████▏         | 92/100 [02:21<00:12,  1.51s/it]"
     ]
    },
    {
     "name": "stdout",
     "output_type": "stream",
     "text": [
      "R2 score: 0.9929424971568468\n",
      "MAE score: 7948.401799083027\n",
      "MSE score: 220200924.474282\n",
      "R2 score: 0.9700172538450033\n",
      "MAE score: 14651.350759372775\n",
      "MSE score: 892162353.477754\n",
      "R2 score: 0.8315312536771188\n",
      "MAE score: 45653.6148498145\n",
      "MSE score: 6259996081.544552\n"
     ]
    },
    {
     "name": "stderr",
     "output_type": "stream",
     "text": [
      "\r",
      " 93%|█████████████████████████████████████████████████████████████████████████████████████████████████████████████████▍        | 93/100 [02:22<00:10,  1.51s/it]"
     ]
    },
    {
     "name": "stdout",
     "output_type": "stream",
     "text": [
      "R2 score: 0.9929424971568468\n",
      "MAE score: 7948.401799083027\n",
      "MSE score: 220200924.47428194\n",
      "R2 score: 0.9682321450675578\n",
      "MAE score: 14709.909162669317\n",
      "MSE score: 945279797.752754\n",
      "R2 score: 0.8746349842856629\n",
      "MAE score: 41292.16171800903\n",
      "MSE score: 4658338856.69471\n"
     ]
    },
    {
     "name": "stderr",
     "output_type": "stream",
     "text": [
      "\r",
      " 94%|██████████████████████████████████████████████████████████████████████████████████████████████████████████████████▋       | 94/100 [02:24<00:09,  1.51s/it]"
     ]
    },
    {
     "name": "stdout",
     "output_type": "stream",
     "text": [
      "R2 score: 0.9929424971568468\n",
      "MAE score: 7948.401799083027\n",
      "MSE score: 220200924.47428194\n",
      "R2 score: 0.969432882915718\n",
      "MAE score: 14634.447200778379\n",
      "MSE score: 909550812.1893048\n",
      "R2 score: 0.8574653629609588\n",
      "MAE score: 42810.86672602313\n",
      "MSE score: 5296331152.359187\n"
     ]
    },
    {
     "name": "stderr",
     "output_type": "stream",
     "text": [
      "\r",
      " 95%|███████████████████████████████████████████████████████████████████████████████████████████████████████████████████▉      | 95/100 [02:25<00:07,  1.51s/it]"
     ]
    },
    {
     "name": "stdout",
     "output_type": "stream",
     "text": [
      "R2 score: 0.9929424971568468\n",
      "MAE score: 7948.401799083025\n",
      "MSE score: 220200924.47428194\n",
      "R2 score: 0.9697627260298948\n",
      "MAE score: 14637.647501536585\n",
      "MSE score: 899736047.140731\n",
      "R2 score: 0.8683816282164026\n",
      "MAE score: 41435.02432003658\n",
      "MSE score: 4890702338.613462\n"
     ]
    },
    {
     "name": "stderr",
     "output_type": "stream",
     "text": [
      "\r",
      " 96%|█████████████████████████████████████████████████████████████████████████████████████████████████████████████████████     | 96/100 [02:27<00:06,  1.51s/it]"
     ]
    },
    {
     "name": "stdout",
     "output_type": "stream",
     "text": [
      "R2 score: 0.9929424971568468\n",
      "MAE score: 7948.401799083025\n",
      "MSE score: 220200924.474282\n",
      "R2 score: 0.9697063143027649\n",
      "MAE score: 14658.587964958595\n",
      "MSE score: 901414626.5136751\n",
      "R2 score: 0.8447018857748048\n",
      "MAE score: 43610.05343497946\n",
      "MSE score: 5770599044.274733\n"
     ]
    },
    {
     "name": "stderr",
     "output_type": "stream",
     "text": [
      "\r",
      " 97%|██████████████████████████████████████████████████████████████████████████████████████████████████████████████████████▎   | 97/100 [02:28<00:04,  1.52s/it]"
     ]
    },
    {
     "name": "stdout",
     "output_type": "stream",
     "text": [
      "R2 score: 0.9929424971568468\n",
      "MAE score: 7948.401799083029\n",
      "MSE score: 220200924.47428194\n",
      "R2 score: 0.9701046094074607\n",
      "MAE score: 14603.785462534752\n",
      "MSE score: 889563013.7178655\n",
      "R2 score: 0.8720429858004765\n",
      "MAE score: 41705.81729783931\n",
      "MSE score: 4754652865.760454\n"
     ]
    },
    {
     "name": "stderr",
     "output_type": "stream",
     "text": [
      "\r",
      " 98%|███████████████████████████████████████████████████████████████████████████████████████████████████████████████████████▌  | 98/100 [02:30<00:03,  1.52s/it]"
     ]
    },
    {
     "name": "stdout",
     "output_type": "stream",
     "text": [
      "R2 score: 0.9929424971568468\n",
      "MAE score: 7948.401799083029\n",
      "MSE score: 220200924.47428194\n",
      "R2 score: 0.970912674994769\n",
      "MAE score: 14568.023631923712\n",
      "MSE score: 865518328.4041692\n",
      "R2 score: 0.8789080048162916\n",
      "MAE score: 40462.742339247256\n",
      "MSE score: 4499561087.156206\n"
     ]
    },
    {
     "name": "stderr",
     "output_type": "stream",
     "text": [
      "\r",
      " 99%|████████████████████████████████████████████████████████████████████████████████████████████████████████████████████████▊ | 99/100 [02:31<00:01,  1.53s/it]"
     ]
    },
    {
     "name": "stdout",
     "output_type": "stream",
     "text": [
      "R2 score: 0.9929424971568468\n",
      "MAE score: 7948.401799083025\n",
      "MSE score: 220200924.47428194\n",
      "R2 score: 0.9698142236541545\n",
      "MAE score: 14650.387791768953\n",
      "MSE score: 898203691.1176865\n",
      "R2 score: 0.8437271308291409\n",
      "MAE score: 44924.285490430084\n",
      "MSE score: 5806819187.615902\n"
     ]
    },
    {
     "name": "stderr",
     "output_type": "stream",
     "text": [
      "100%|█████████████████████████████████████████████████████████████████████████████████████████████████████████████████████████| 100/100 [02:33<00:00,  1.53s/it]"
     ]
    },
    {
     "name": "stdout",
     "output_type": "stream",
     "text": [
      "R2 score: 0.9929424971568468\n",
      "MAE score: 7948.401799083027\n",
      "MSE score: 220200924.474282\n",
      "R2 score: 0.9695215410375694\n",
      "MAE score: 14640.337490070386\n",
      "MSE score: 906912713.6563395\n",
      "R2 score: 0.8519250269226879\n",
      "MAE score: 43100.67658908128\n",
      "MSE score: 5502200090.34929\n",
      "Training Performance:\n",
      "R2 score: 0.9929424971568467\n",
      "MAE score: 7948.401799083019\n",
      "MSE score: 220200924.4742816\n",
      "\n",
      "Validation Performance:\n",
      "R2 score: 0.9693143335274214\n",
      "MAE score: 14669.77031213327\n",
      "MSE score: 913078351.0184444\n",
      "\n",
      "Testing Performance\n",
      "R2 score: 0.8580127665256704\n",
      "MAE score: 14669.77031213327\n",
      "MSE score: 5275990618.907655\n"
     ]
    },
    {
     "name": "stderr",
     "output_type": "stream",
     "text": [
      "\n"
     ]
    }
   ],
   "source": [
    "from sklearn.tree import DecisionTreeRegressor\n",
    "from tqdm import tqdm\n",
    "\n",
    "\n",
    "avg_train_r2, avg_train_mae, avg_train_mse = 0, 0, 0\n",
    "avg_val_r2, avg_val_mae, avg_val_mse = 0, 0, 0\n",
    "avg_test_r2, avg_test_mae, avg_test_mse = 0, 0, 0\n",
    "\n",
    "for i in tqdm(range(100)):\n",
    "    model = train(DecisionTreeRegressor(max_depth=20), X_train, y_train)\n",
    "    r2, mae, mse = eval(model, X_train, y_train)\n",
    "    avg_train_r2 += r2\n",
    "    avg_train_mae += mae\n",
    "    avg_train_mse += mse\n",
    "    \n",
    "    r2, mae, mse = eval(model, X_val, y_val)\n",
    "    avg_val_r2 += r2\n",
    "    avg_val_mae += mae\n",
    "    avg_val_mse += mse\n",
    "    \n",
    "    r2, mas, mse = eval(model, X_test, y_test)\n",
    "    avg_test_r2 += r2\n",
    "    avg_test_mae += mae\n",
    "    avg_test_mse += mse\n",
    "\n",
    "avg_train_r2 /= 100.\n",
    "avg_train_mae /= 100.\n",
    "avg_train_mse /= 100.\n",
    "\n",
    "avg_val_r2 /= 100.\n",
    "avg_val_mae /= 100.\n",
    "avg_val_mse /= 100.\n",
    "\n",
    "avg_test_r2 /= 100.\n",
    "avg_test_mae /= 100.\n",
    "avg_test_mse /= 100.\n",
    "\n",
    "print('Training Performance:')\n",
    "print(f'R2 score: {avg_train_r2}')\n",
    "print(f'MAE score: {avg_train_mae}')\n",
    "print(f'MSE score: {avg_train_mse}')\n",
    "print()\n",
    "\n",
    "print('Validation Performance:')\n",
    "print(f'R2 score: {avg_val_r2}')\n",
    "print(f'MAE score: {avg_val_mae}')\n",
    "print(f'MSE score: {avg_val_mse}')\n",
    "print()\n",
    "\n",
    "print('Testing Performance')\n",
    "print(f'R2 score: {avg_test_r2}')\n",
    "print(f'MAE score: {avg_test_mae}')\n",
    "print(f'MSE score: {avg_test_mse}')"
   ]
  },
  {
   "cell_type": "code",
   "execution_count": null,
   "id": "5a3a1e25",
   "metadata": {},
   "outputs": [],
   "source": [
    "# from sklearn.svm import LinearSVR\n",
    "\n",
    "# model = LinearSVR(C=1.0, epsilon=0.0, verbose=True, max_iter=300, random_state=1207)\n",
    "# train(model, X_train, y_train)\n",
    "\n",
    "# print('Training performance: ')\n",
    "# eval(model, X_train, y_train)\n",
    "# print()\n",
    "# print('Evaluation performance: ')\n",
    "# eval(model, X_test, y_test)"
   ]
  },
  {
   "cell_type": "code",
   "execution_count": null,
   "id": "9f399719",
   "metadata": {},
   "outputs": [],
   "source": [
    "# Too slow\n",
    "# The fit time complexity is more than quadratic\n",
    "# with the number of samples which makes it hard\n",
    "# to scale to datasets with more than a couple of\n",
    "# 10000 samples. For large datasets consider using\n",
    "# LinearSVR or SGDRegressor instead, possibly\n",
    "# after a Nystroem transformer.\n",
    "from sklearn.svm import SVR\n",
    "\n",
    "model = SVR(C=1.0, epsilon=0.0, verbose=True)\n",
    "train(model, X_train, y_train)\n",
    "\n",
    "print('Training performance: ')\n",
    "eval(model, X_train, y_train)\n",
    "print()\n",
    "print('Evaluation performance: ')\n",
    "eval(model, X_test, y_test)"
   ]
  },
  {
   "cell_type": "code",
   "execution_count": null,
   "id": "717e1eb3",
   "metadata": {},
   "outputs": [],
   "source": []
  }
 ],
 "metadata": {
  "interpreter": {
   "hash": "6bb21fecf6dccdf6d7bdcdc2e427eb532b41f9984a3ac143d01e9b178188a26a"
  },
  "kernelspec": {
   "display_name": "Python 3 (ipykernel)",
   "language": "python",
   "name": "python3"
  },
  "language_info": {
   "codemirror_mode": {
    "name": "ipython",
    "version": 3
   },
   "file_extension": ".py",
   "mimetype": "text/x-python",
   "name": "python",
   "nbconvert_exporter": "python",
   "pygments_lexer": "ipython3",
   "version": "3.10.4"
  }
 },
 "nbformat": 4,
 "nbformat_minor": 5
}
