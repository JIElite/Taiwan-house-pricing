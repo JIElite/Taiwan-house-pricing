{
 "cells": [
  {
   "cell_type": "code",
   "execution_count": 1,
   "id": "7b16e9e1",
   "metadata": {},
   "outputs": [],
   "source": [
    "import pandas as pd"
   ]
  },
  {
   "cell_type": "code",
   "execution_count": 2,
   "id": "aa3a8f5f",
   "metadata": {},
   "outputs": [],
   "source": [
    "def clean_and_drop(df):\n",
    "    # 只篩選有包含 '住' 用途的交易案\n",
    "    df = df.loc[df['Main_Usage_Living'] == 1]\n",
    "    df = df.drop(columns=['Main_Usage_Living'])\n",
    "\n",
    "    # 因為都是 0\n",
    "    df = df.drop(columns=['Non_City_Land_Usage', 'Main_Usage_Walk',\n",
    "                          'Main_Usage_Selling',\n",
    "                          'Main_Usage_SnE'])\n",
    "\n",
    "    # 只有 344 筆是包含工廠用途，且都不具住宅用途，故剔除\n",
    "    df = df.loc[df['Main_Usage_Manufacturing'] == 0]\n",
    "    df = df.drop(columns=['Main_Usage_Manufacturing'])\n",
    "\n",
    "    # 只有 76 筆是包含停車用途，且都不具住宅用途，故剔除\n",
    "    df = df.loc[df['Main_Usage_Parking'] == 0]\n",
    "    df = df.drop(columns=['Main_Usage_Parking'])\n",
    "\n",
    "    # 只有 78 筆有農業用途，且都不具住宅用途，故剔除\n",
    "    df = df.loc[df['Main_Usage_Farm'] == 0]\n",
    "    df = df.drop(columns=['Main_Usage_Farm'])\n",
    "\n",
    "    # NOTICE: 我沒有錢，所以我先只買 6 房以下的\n",
    "    df = df.loc[df['room'] < 6]\n",
    "\n",
    "    df = df.loc[df['trading_floors_count'] == 1]\n",
    "\n",
    "    # 雖然有 95 個樣本包含地下室，但是樣本太少，可能不足以推廣\n",
    "    # 所以先剔除，剔除完後，都是 0 所以直接 drop\n",
    "    df = df.loc[df['including_basement'] == 0]\n",
    "    df = df.drop(columns=['including_basement'])\n",
    "\n",
    "    # 所有的樣本都不包含人行道，所以直接去除這個 feature\n",
    "    df = df.drop(columns=['including_arcade'])\n",
    "\n",
    "    # 剔除交易樓層高度是 -1 (原本有一個樣本)\n",
    "    df = df.loc[df['min_floors_height'] != -1]\n",
    "\n",
    "    # 剔除交易建物是 0 個樓層的情況\n",
    "    df = df.loc[df['building_total_floors'] != 0]\n",
    "\n",
    "    # 因為車位交易 50 坪以上的資料只有 22 筆，所以先去除\n",
    "    # 因為浮點數在硬體儲存會有小數點，故不能直接用 == 50.0 去比較\n",
    "    df = df.loc[df['Parking_Area'] < 49.5]\n",
    "\n",
    "    # 把農舍，廠辦踢掉\n",
    "    df = df.loc[df['Building_Types'] < 8]\n",
    "\n",
    "    # 把超大轉移坪數刪掉\n",
    "    df = df.loc[df['Transfer_Total_Ping'] < 150]\n",
    "\n",
    "    # Transaction_Land == 0 只有 5 筆\n",
    "    df = df.loc[df['Transaction_Land'] != 0]\n",
    "\n",
    "    # 只取交易一個建物的案子\n",
    "    df = df.loc[df['Transaction_Building'] == 1]\n",
    "\n",
    "    # 交易車位數 > 3 只有 98 個案例，比較少，故去除\n",
    "    df = df.loc[df['Transaction_Parking'] <= 3]\n",
    "\n",
    "    # 目前不特別區分備註欄位是不是空的，因為用 one-hot encoding\n",
    "    # 處理了，所以 Note_<tag> 不是全部都是 0 就代表有備註的項目\n",
    "    df = df.drop(columns=['Note_Null'])\n",
    "\n",
    "    # 去除政府承購, 去除後在 future data 中皆為 0\n",
    "    df = df.loc[df['Note_Gov'] == 0]\n",
    "    df = df.drop(columns=['Note_Gov'])\n",
    "\n",
    "    # Only 85 cases in the dataset\n",
    "    df = df.drop(columns=['Note_Layer'])\n",
    "\n",
    "    # 毛胚屋，去除後皆為 0\n",
    "    df = df.loc[df['Note_BlankHouse'] == 0]\n",
    "    df = df.drop(columns=['Note_BlankHouse'])\n",
    "\n",
    "    # 債權相關，只有 3 個，去除後皆為 0\n",
    "    df = df.loc[df['Note_Debt'] == 0]\n",
    "    df = df.drop(columns=['Note_Debt'])\n",
    "\n",
    "    # 備註中有提到有電梯的只有 2 筆\n",
    "    df = df.loc[df['Note_Elevator'] == 0]\n",
    "    df = df.drop(columns=['Note_Elevator'])\n",
    "\n",
    "    # Note_Shop, 只有 110 筆\n",
    "    df = df.loc[df['Note_Shop'] == 0]\n",
    "    df = df.drop(columns=['Note_Shop'])\n",
    "\n",
    "    # All 0\n",
    "    df = df.drop(columns=['Note_Additions', 'Note_Balcony',\n",
    "                          'Note_PublicUtilities', 'Note_PartRegister',\n",
    "                          'Note_Negotiate', 'Note_OnlyParking',\n",
    "                          'Note_Overbuild', 'Note_BuildWithLandholder',\n",
    "                          'Note_Defect', 'Note_Renewal', 'Note_DistressSale ',\n",
    "                          'Note_OverdueInherit', 'Note_DeformedLand'])\n",
    "\n",
    "    # **Notice**\n",
    "    # 因為 future price data 應該是預設屋的資料，所以每一欄位的 presold 應該都要是 1\n",
    "    # 但是有其他是 0, 所以直接刪掉這個欄位\n",
    "    df = df.drop(columns=['Note_Presold'])\n",
    "\n",
    "    # 只取跟親友無關的交易\n",
    "    df = df.loc[df['Note_Relationships'] == 0]\n",
    "\n",
    "    # 我先刪除 area_m2, 因為覺得跟 area_ping 的意義很類似，但是不確定會不會有些微差距。\n",
    "    # 因為在 future data 中，manager 都是 0，所以也把這個欄位刪除\n",
    "    # trading_floor_count 有 0 的情況，這樣應該不是房屋交易\n",
    "    df = df.drop(columns=['address', 'area_m2', 'manager', 'Building_Material_stone',\n",
    "                          'TDATE', 'Total_price', '編號'])\n",
    "\n",
    "    # Convert the categorical features' dtype to 'category'\n",
    "    category_columns = ['Type', 'Month', 'Month_raw',\n",
    "                        'room', 'City_Land_Usage', 'Main_Usage_Business',\n",
    "                        'Building_Material_S', 'Building_Material_R', 'Building_Material_C',\n",
    "                        'Building_Material_steel', 'Building_Material_B',\n",
    "                        'Building_Material_W', 'Building_Material_iron',\n",
    "                        'Building_Material_tile', 'Building_Material_clay',\n",
    "                        'Building_Material_RC_reinforce',\n",
    "                        'Parking_Space_Types', 'Building_Types']\n",
    "    df.loc[:, category_columns] = df.loc[:,\n",
    "                                         category_columns].astype('category')\n",
    "    return df"
   ]
  },
  {
   "cell_type": "code",
   "execution_count": 3,
   "id": "5826127b",
   "metadata": {},
   "outputs": [],
   "source": [
    "df = pd.read_csv('../merged_data/clean_data_future_train.csv')"
   ]
  },
  {
   "cell_type": "code",
   "execution_count": 5,
   "id": "c9d040f7",
   "metadata": {},
   "outputs": [],
   "source": [
    "df.loc[df['Month'] > 202111, 'target'] = 0\n",
    "df.loc[df['Month'] <= 202110, 'target'] = 1\n",
    "df['target'] = df['target'].astype('bool_')\n",
    "df = clean_and_drop(df)"
   ]
  },
  {
   "cell_type": "code",
   "execution_count": 6,
   "id": "e76c6e4f",
   "metadata": {},
   "outputs": [],
   "source": [
    "df = df.sample(frac=1)"
   ]
  },
  {
   "cell_type": "code",
   "execution_count": 7,
   "id": "e333b477",
   "metadata": {},
   "outputs": [
    {
     "data": {
      "text/plain": [
       "LogisticRegression()"
      ]
     },
     "execution_count": 7,
     "metadata": {},
     "output_type": "execute_result"
    }
   ],
   "source": [
    "from sklearn.linear_model import LogisticRegression\n",
    "\n",
    "X = df.drop(columns=['target'])\n",
    "y = df['target']\n",
    "model = LogisticRegression(penalty='l2')\n",
    "model.fit(X, y)"
   ]
  },
  {
   "cell_type": "code",
   "execution_count": 8,
   "id": "1831e7d2",
   "metadata": {},
   "outputs": [
    {
     "data": {
      "text/plain": [
       "<sklearn.metrics._plot.roc_curve.RocCurveDisplay at 0x7fd2859a7a30>"
      ]
     },
     "execution_count": 8,
     "metadata": {},
     "output_type": "execute_result"
    },
    {
     "data": {
      "image/png": "[encoded data removed]",
      "text/plain": [
       "<Figure size 432x288 with 1 Axes>"
      ]
     },
     "metadata": {
      "needs_background": "light"
     },
     "output_type": "display_data"
    }
   ],
   "source": [
    "%matplotlib inline\n",
    "from sklearn.metrics import RocCurveDisplay\n",
    "\n",
    "RocCurveDisplay.from_estimator(model, X, y)"
   ]
  },
  {
   "cell_type": "code",
   "execution_count": 9,
   "id": "f9483d68",
   "metadata": {},
   "outputs": [
    {
     "data": {
      "text/plain": [
       "<sklearn.metrics._plot.roc_curve.RocCurveDisplay at 0x7fd27ff523b0>"
      ]
     },
     "execution_count": 9,
     "metadata": {},
     "output_type": "execute_result"
    },
    {
     "data": {
      "image/png": "[encoded data removed]",
      "text/plain": [
       "<Figure size 432x288 with 1 Axes>"
      ]
     },
     "metadata": {
      "needs_background": "light"
     },
     "output_type": "display_data"
    }
   ],
   "source": [
    "df = df.drop(columns=['Month'])\n",
    "X = df.drop(columns=['target'])\n",
    "y = df['target']\n",
    "model = LogisticRegression(penalty='l2')\n",
    "model.fit(X, y)\n",
    "RocCurveDisplay.from_estimator(model, X, y)"
   ]
  },
  {
   "cell_type": "code",
   "execution_count": null,
   "id": "e010c1ca",
   "metadata": {},
   "outputs": [],
   "source": []
  }
 ],
 "metadata": {
  "kernelspec": {
   "display_name": "Python 3 (ipykernel)",
   "language": "python",
   "name": "python3"
  },
  "language_info": {
   "codemirror_mode": {
    "name": "ipython",
    "version": 3
   },
   "file_extension": ".py",
   "mimetype": "text/x-python",
   "name": "python",
   "nbconvert_exporter": "python",
   "pygments_lexer": "ipython3",
   "version": "3.10.4"
  }
 },
 "nbformat": 4,
 "nbformat_minor": 5
}
