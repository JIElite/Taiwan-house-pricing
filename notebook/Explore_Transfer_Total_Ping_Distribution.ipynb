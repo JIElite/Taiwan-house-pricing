{
 "cells": [
  {
   "cell_type": "code",
   "execution_count": 1,
   "id": "13aa984e",
   "metadata": {},
   "outputs": [],
   "source": [
    "%matplotlib inline\n",
    "import pandas as pd\n",
    "import matplotlib.pyplot as plt"
   ]
  },
  {
   "cell_type": "code",
   "execution_count": 6,
   "id": "50a856c2",
   "metadata": {},
   "outputs": [],
   "source": [
    "df = pd.read_csv('../merged_data/clean_data_train.csv')\n",
    "df_future = pd.read_csv('../merged_data/clean_data_future_train.csv')"
   ]
  },
  {
   "cell_type": "code",
   "execution_count": 7,
   "id": "71c4afba",
   "metadata": {},
   "outputs": [],
   "source": [
    "df = martin_clean_and_drop(df)"
   ]
  },
  {
   "cell_type": "code",
   "execution_count": 8,
   "id": "a37f039a",
   "metadata": {},
   "outputs": [
    {
     "data": {
      "text/plain": [
       "Text(0, 0.5, 'number of cases')"
      ]
     },
     "execution_count": 8,
     "metadata": {},
     "output_type": "execute_result"
    },
    {
     "data": {
      "image/png": "[encoded data removed]",
      "text/plain": [
       "<Figure size 432x288 with 1 Axes>"
      ]
     },
     "metadata": {
      "needs_background": "light"
     },
     "output_type": "display_data"
    }
   ],
   "source": [
    "plt.hist(df['Transfer_Total_Ping'], bins=30)\n",
    "plt.xlabel('Transfer Total Ping')\n",
    "plt.ylabel('number of cases')"
   ]
  },
  {
   "cell_type": "code",
   "execution_count": 24,
   "id": "a7b8616d",
   "metadata": {},
   "outputs": [
    {
     "name": "stdout",
     "output_type": "stream",
     "text": [
      "Transfer_Total_Ping >= 0 and Transfer_Total_Ping < 10: 2.40%\n",
      "Transfer_Total_Ping >= 10 and Transfer_Total_Ping < 20: 10.03%\n",
      "Transfer_Total_Ping >= 20 and Transfer_Total_Ping < 30: 20.60%\n",
      "Transfer_Total_Ping >= 30 and Transfer_Total_Ping < 40: 26.21%\n",
      "Transfer_Total_Ping >= 40 and Transfer_Total_Ping < 50: 20.05%\n",
      "Transfer_Total_Ping >= 50 and Transfer_Total_Ping < 60: 10.41%\n",
      "Transfer_Total_Ping >= 60 and Transfer_Total_Ping < 80: 6.41%\n",
      "Transfer_Total_Ping >= 80: 3.88%\n"
     ]
    },
    {
     "data": {
      "text/plain": [
       "0.03884902400984733"
      ]
     },
     "execution_count": 24,
     "metadata": {},
     "output_type": "execute_result"
    }
   ],
   "source": [
    "calculate_percentage(df, 'Transfer_Total_Ping >= 0 and Transfer_Total_Ping < 10')\n",
    "calculate_percentage(df, 'Transfer_Total_Ping >= 10 and Transfer_Total_Ping < 20')\n",
    "calculate_percentage(df, 'Transfer_Total_Ping >= 20 and Transfer_Total_Ping < 30')\n",
    "calculate_percentage(df, 'Transfer_Total_Ping >= 30 and Transfer_Total_Ping < 40')\n",
    "calculate_percentage(df, 'Transfer_Total_Ping >= 40 and Transfer_Total_Ping < 50')\n",
    "calculate_percentage(df, 'Transfer_Total_Ping >= 50 and Transfer_Total_Ping < 60')\n",
    "calculate_percentage(df, 'Transfer_Total_Ping >= 60 and Transfer_Total_Ping < 80')\n",
    "calculate_percentage(df, 'Transfer_Total_Ping >= 80')"
   ]
  },
  {
   "cell_type": "code",
   "execution_count": 10,
   "id": "93cfe44f",
   "metadata": {},
   "outputs": [],
   "source": [
    "df_future = clean_and_drop(df_future)"
   ]
  },
  {
   "cell_type": "code",
   "execution_count": 11,
   "id": "6bd10643",
   "metadata": {},
   "outputs": [
    {
     "data": {
      "text/html": [
       "<div>\n",
       "<style scoped>\n",
       "    .dataframe tbody tr th:only-of-type {\n",
       "        vertical-align: middle;\n",
       "    }\n",
       "\n",
       "    .dataframe tbody tr th {\n",
       "        vertical-align: top;\n",
       "    }\n",
       "\n",
       "    .dataframe thead th {\n",
       "        text-align: right;\n",
       "    }\n",
       "</style>\n",
       "<table border=\"1\" class=\"dataframe\">\n",
       "  <thead>\n",
       "    <tr style=\"text-align: right;\">\n",
       "      <th></th>\n",
       "      <th>area_ping</th>\n",
       "      <th>Transfer_Total_Ping</th>\n",
       "    </tr>\n",
       "  </thead>\n",
       "  <tbody>\n",
       "    <tr>\n",
       "      <th>1</th>\n",
       "      <td>3.0</td>\n",
       "      <td>33.0</td>\n",
       "    </tr>\n",
       "    <tr>\n",
       "      <th>2</th>\n",
       "      <td>2.0</td>\n",
       "      <td>27.0</td>\n",
       "    </tr>\n",
       "    <tr>\n",
       "      <th>3</th>\n",
       "      <td>2.0</td>\n",
       "      <td>27.0</td>\n",
       "    </tr>\n",
       "    <tr>\n",
       "      <th>4</th>\n",
       "      <td>4.0</td>\n",
       "      <td>39.0</td>\n",
       "    </tr>\n",
       "    <tr>\n",
       "      <th>5</th>\n",
       "      <td>4.0</td>\n",
       "      <td>39.0</td>\n",
       "    </tr>\n",
       "    <tr>\n",
       "      <th>...</th>\n",
       "      <td>...</td>\n",
       "      <td>...</td>\n",
       "    </tr>\n",
       "    <tr>\n",
       "      <th>203745</th>\n",
       "      <td>11.0</td>\n",
       "      <td>27.0</td>\n",
       "    </tr>\n",
       "    <tr>\n",
       "      <th>203746</th>\n",
       "      <td>12.0</td>\n",
       "      <td>29.0</td>\n",
       "    </tr>\n",
       "    <tr>\n",
       "      <th>203748</th>\n",
       "      <td>5.0</td>\n",
       "      <td>20.0</td>\n",
       "    </tr>\n",
       "    <tr>\n",
       "      <th>203749</th>\n",
       "      <td>5.0</td>\n",
       "      <td>35.0</td>\n",
       "    </tr>\n",
       "    <tr>\n",
       "      <th>203750</th>\n",
       "      <td>6.0</td>\n",
       "      <td>38.0</td>\n",
       "    </tr>\n",
       "  </tbody>\n",
       "</table>\n",
       "<p>180865 rows × 2 columns</p>\n",
       "</div>"
      ],
      "text/plain": [
       "        area_ping  Transfer_Total_Ping\n",
       "1             3.0                 33.0\n",
       "2             2.0                 27.0\n",
       "3             2.0                 27.0\n",
       "4             4.0                 39.0\n",
       "5             4.0                 39.0\n",
       "...           ...                  ...\n",
       "203745       11.0                 27.0\n",
       "203746       12.0                 29.0\n",
       "203748        5.0                 20.0\n",
       "203749        5.0                 35.0\n",
       "203750        6.0                 38.0\n",
       "\n",
       "[180865 rows x 2 columns]"
      ]
     },
     "execution_count": 11,
     "metadata": {},
     "output_type": "execute_result"
    }
   ],
   "source": [
    "# 檢查一下 area_ping, Transfer_Total_Ping 之間的不同之後，決定使用 Transfer_Total_Ping\n",
    "# 作為建物轉移的坪數\n",
    "df_future[['area_ping', 'Transfer_Total_Ping']]"
   ]
  },
  {
   "cell_type": "code",
   "execution_count": 12,
   "id": "0c17fe69",
   "metadata": {},
   "outputs": [
    {
     "data": {
      "text/plain": [
       "Text(0, 0.5, 'number of cases')"
      ]
     },
     "execution_count": 12,
     "metadata": {},
     "output_type": "execute_result"
    },
    {
     "data": {
      "image/png": "[encoded data removed]",
      "text/plain": [
       "<Figure size 432x288 with 1 Axes>"
      ]
     },
     "metadata": {
      "needs_background": "light"
     },
     "output_type": "display_data"
    }
   ],
   "source": [
    "plt.hist(df_future['Transfer_Total_Ping'], bins=30)\n",
    "plt.xlabel('Transfer Total Ping')\n",
    "plt.ylabel('number of cases')\n"
   ]
  },
  {
   "cell_type": "code",
   "execution_count": 25,
   "id": "8c4e4ebd",
   "metadata": {},
   "outputs": [
    {
     "name": "stdout",
     "output_type": "stream",
     "text": [
      "Transfer_Total_Ping >= 0 and Transfer_Total_Ping < 10: 0.02%\n",
      "Transfer_Total_Ping >= 10 and Transfer_Total_Ping < 20: 2.82%\n",
      "Transfer_Total_Ping >= 20 and Transfer_Total_Ping < 30: 14.79%\n",
      "Transfer_Total_Ping >= 30 and Transfer_Total_Ping < 40: 32.12%\n",
      "Transfer_Total_Ping >= 40 and Transfer_Total_Ping < 50: 31.58%\n",
      "Transfer_Total_Ping >= 50 and Transfer_Total_Ping < 60: 11.67%\n",
      "Transfer_Total_Ping >= 60 and Transfer_Total_Ping < 80: 5.63%\n",
      "Transfer_Total_Ping >= 80: 1.38%\n"
     ]
    },
    {
     "data": {
      "text/plain": [
       "0.013767174411854145"
      ]
     },
     "execution_count": 25,
     "metadata": {},
     "output_type": "execute_result"
    }
   ],
   "source": [
    "calculate_percentage(df_future, 'Transfer_Total_Ping >= 0 and Transfer_Total_Ping < 10')\n",
    "calculate_percentage(df_future, 'Transfer_Total_Ping >= 10 and Transfer_Total_Ping < 20')\n",
    "calculate_percentage(df_future, 'Transfer_Total_Ping >= 20 and Transfer_Total_Ping < 30')\n",
    "calculate_percentage(df_future, 'Transfer_Total_Ping >= 30 and Transfer_Total_Ping < 40')\n",
    "calculate_percentage(df_future, 'Transfer_Total_Ping >= 40 and Transfer_Total_Ping < 50')\n",
    "calculate_percentage(df_future, 'Transfer_Total_Ping >= 50 and Transfer_Total_Ping < 60')\n",
    "calculate_percentage(df_future, 'Transfer_Total_Ping >= 60 and Transfer_Total_Ping < 80')\n",
    "calculate_percentage(df_future, 'Transfer_Total_Ping >= 80')"
   ]
  },
  {
   "cell_type": "code",
   "execution_count": 18,
   "id": "9807db80",
   "metadata": {},
   "outputs": [],
   "source": [
    "def calculate_percentage(df, condition, verbose=True):\n",
    "    total_cases = df.shape[0]\n",
    "    df_ = df.query(condition)\n",
    "    cases_of_interest = df_.shape[0]\n",
    "    \n",
    "    percentage_of_interest = cases_of_interest / total_cases\n",
    "    if verbose:\n",
    "        print(f'{condition}: {percentage_of_interest * 100:.2f}%')\n",
    "    return percentage_of_interest"
   ]
  },
  {
   "cell_type": "code",
   "execution_count": 4,
   "id": "8fad86ac",
   "metadata": {},
   "outputs": [],
   "source": [
    "def clean_and_drop(df):\n",
    "    # 只篩選有包含 '住' 用途的交易案\n",
    "    df = df.loc[df['Main_Usage_Living'] == 1]\n",
    "    df = df.drop(columns=['Main_Usage_Living'])\n",
    "\n",
    "    # 因為都是 0\n",
    "    df = df.drop(columns=['Non_City_Land_Usage', 'Main_Usage_Walk',\n",
    "                          'Main_Usage_Selling',\n",
    "                          'Main_Usage_SnE'])\n",
    "\n",
    "    # 只有 344 筆是包含工廠用途，且都不具住宅用途，故剔除\n",
    "    df = df.loc[df['Main_Usage_Manufacturing'] == 0]\n",
    "    df = df.drop(columns=['Main_Usage_Manufacturing'])\n",
    "\n",
    "    # 只有 76 筆是包含停車用途，且都不具住宅用途，故剔除\n",
    "    df = df.loc[df['Main_Usage_Parking'] == 0]\n",
    "    df = df.drop(columns=['Main_Usage_Parking'])\n",
    "\n",
    "    # 只有 78 筆有農業用途，且都不具住宅用途，故剔除\n",
    "    df = df.loc[df['Main_Usage_Farm'] == 0]\n",
    "    df = df.drop(columns=['Main_Usage_Farm'])\n",
    "\n",
    "    # NOTICE: 我沒有錢，所以我先只買 6 房以下的\n",
    "    df = df.loc[df['room'] < 6]\n",
    "\n",
    "    df = df.loc[df['trading_floors_count'] == 1]\n",
    "\n",
    "    # 雖然有 95 個樣本包含地下室，但是樣本太少，可能不足以推廣\n",
    "    # 所以先剔除，剔除完後，都是 0 所以直接 drop\n",
    "    df = df.loc[df['including_basement'] == 0]\n",
    "    df = df.drop(columns=['including_basement'])\n",
    "\n",
    "    # 所有的樣本都不包含人行道，所以直接去除這個 feature\n",
    "    df = df.drop(columns=['including_arcade'])\n",
    "\n",
    "    # 剔除交易樓層高度是 -1 (原本有一個樣本)\n",
    "    df = df.loc[df['min_floors_height'] != -1]\n",
    "\n",
    "    # 剔除交易建物是 0 個樓層的情況\n",
    "    df = df.loc[df['building_total_floors'] != 0]\n",
    "\n",
    "    # 因為車位交易 50 坪以上的資料只有 22 筆，所以先去除\n",
    "    # 因為浮點數在硬體儲存會有小數點，故不能直接用 == 50.0 去比較\n",
    "    df = df.loc[df['Parking_Area'] < 49.5]\n",
    "\n",
    "    # 把農舍，廠辦踢掉\n",
    "    df = df.loc[df['Building_Types'] < 8]\n",
    "\n",
    "    # 把超大轉移坪數刪掉\n",
    "    df = df.loc[df['Transfer_Total_Ping'] < 150]\n",
    "\n",
    "    # Transaction_Land == 0 只有 5 筆\n",
    "    df = df.loc[df['Transaction_Land'] != 0]\n",
    "\n",
    "    # 只取交易一個建物的案子\n",
    "    df = df.loc[df['Transaction_Building'] == 1]\n",
    "\n",
    "    # 交易車位數 > 3 只有 98 個案例，比較少，故去除\n",
    "    df = df.loc[df['Transaction_Parking'] <= 3]\n",
    "\n",
    "    # 目前不特別區分備註欄位是不是空的，因為用 one-hot encoding\n",
    "    # 處理了，所以 Note_<tag> 不是全部都是 0 就代表有備註的項目\n",
    "    df = df.drop(columns=['Note_Null'])\n",
    "\n",
    "    # 去除政府承購, 去除後在 future data 中皆為 0\n",
    "    df = df.loc[df['Note_Gov'] == 0]\n",
    "    df = df.drop(columns=['Note_Gov'])\n",
    "\n",
    "    # Only 85 cases in the dataset\n",
    "    df = df.drop(columns=['Note_Layer'])\n",
    "\n",
    "    # 毛胚屋，去除後皆為 0\n",
    "    df = df.loc[df['Note_BlankHouse'] == 0]\n",
    "    df = df.drop(columns=['Note_BlankHouse'])\n",
    "\n",
    "    # 債權相關，只有 3 個，去除後皆為 0\n",
    "    df = df.loc[df['Note_Debt'] == 0]\n",
    "    df = df.drop(columns=['Note_Debt'])\n",
    "\n",
    "    # 備註中有提到有電梯的只有 2 筆\n",
    "    df = df.loc[df['Note_Elevator'] == 0]\n",
    "    df = df.drop(columns=['Note_Elevator'])\n",
    "\n",
    "    # Note_Shop, 只有 110 筆\n",
    "    df = df.loc[df['Note_Shop'] == 0]\n",
    "    df = df.drop(columns=['Note_Shop'])\n",
    "\n",
    "    # All 0\n",
    "    df = df.drop(columns=['Note_Additions', 'Note_Balcony',\n",
    "                          'Note_PublicUtilities', 'Note_PartRegister',\n",
    "                          'Note_Negotiate', 'Note_OnlyParking',\n",
    "                          'Note_Overbuild', 'Note_BuildWithLandholder',\n",
    "                          'Note_Defect', 'Note_Renewal', 'Note_DistressSale ',\n",
    "                          'Note_OverdueInherit', 'Note_DeformedLand'])\n",
    "\n",
    "    # **Notice**\n",
    "    # 因為 future price data 應該是預設屋的資料，所以每一欄位的 presold 應該都要是 1\n",
    "    # 但是有其他是 0, 所以直接刪掉這個欄位\n",
    "    df = df.drop(columns=['Note_Presold'])\n",
    "\n",
    "    # 只取跟親友無關的交易\n",
    "    df = df.loc[df['Note_Relationships'] == 0]\n",
    "\n",
    "    # 我先刪除 area_m2, 因為覺得跟 area_ping 的意義很類似，但是不確定會不會有些微差距。\n",
    "    # 因為在 future data 中，manager 都是 0，所以也把這個欄位刪除\n",
    "    # trading_floor_count 有 0 的情況，這樣應該不是房屋交易\n",
    "    df = df.drop(columns=['address', 'area_m2', 'manager', 'Building_Material_stone',\n",
    "                          'TDATE', 'Total_price', '編號'])\n",
    "\n",
    "    # Convert the categorical features' dtype to 'category'\n",
    "    category_columns = ['Type', 'Month', 'Month_raw',\n",
    "                        'room', 'City_Land_Usage', 'Main_Usage_Business',\n",
    "                        'Building_Material_S', 'Building_Material_R', 'Building_Material_C',\n",
    "                        'Building_Material_steel', 'Building_Material_B',\n",
    "                        'Building_Material_W', 'Building_Material_iron',\n",
    "                        'Building_Material_tile', 'Building_Material_clay',\n",
    "                        'Building_Material_RC_reinforce',\n",
    "                        'Parking_Space_Types', 'Building_Types']\n",
    "    df.loc[:, category_columns] = df.loc[:,\n",
    "                                         category_columns].astype('category')\n",
    "    return df"
   ]
  },
  {
   "cell_type": "code",
   "execution_count": 5,
   "id": "d3f3e8ca",
   "metadata": {},
   "outputs": [],
   "source": [
    "def martin_clean_and_drop(df):\n",
    "    # 只篩選有包含 '住' 用途的交易案\n",
    "    df = df.loc[df['Main_Usage_Living'] == 1]\n",
    "    df = df.drop(columns=['Main_Usage_Living'])\n",
    "\n",
    "    # 因為都是 0\n",
    "    df = df.drop(columns=['Non_City_Land_Usage', 'Main_Usage_Walk',\n",
    "                          'Main_Usage_Selling',\n",
    "                          'Main_Usage_SnE'])\n",
    "\n",
    "    # 只有 344 筆是包含工廠用途，且都不具住宅用途，故剔除\n",
    "    df = df.loc[df['Main_Usage_Manufacturing'] == 0]\n",
    "    df = df.drop(columns=['Main_Usage_Manufacturing'])\n",
    "\n",
    "    # 只有 76 筆是包含停車用途，且都不具住宅用途，故剔除\n",
    "    df = df.loc[df['Main_Usage_Parking'] == 0]\n",
    "    df = df.drop(columns=['Main_Usage_Parking'])\n",
    "\n",
    "    # 只有 78 筆有農業用途，且都不具住宅用途，故剔除\n",
    "    df = df.loc[df['Main_Usage_Farm'] == 0]\n",
    "    df = df.drop(columns=['Main_Usage_Farm'])\n",
    "\n",
    "    # NOTICE: 我沒有錢，所以我先只買 6 房以下的\n",
    "    df = df.loc[df['room'] < 6]\n",
    "\n",
    "    df = df.loc[df['trading_floors_count'] == 1]\n",
    "\n",
    "    # 雖然有 95 個樣本包含地下室，但是樣本太少，可能不足以推廣\n",
    "    # 所以先剔除，剔除完後，都是 0 所以直接 drop\n",
    "    df = df.loc[df['including_basement'] == 0]\n",
    "    df = df.drop(columns=['including_basement'])\n",
    "\n",
    "    # 所有的樣本都不包含人行道，所以直接去除這個 feature\n",
    "    df = df.drop(columns=['including_arcade'])\n",
    "\n",
    "    # 剔除交易樓層高度是 -1 (原本有一個樣本)\n",
    "    df = df.loc[df['min_floors_height'] != -1]\n",
    "\n",
    "    # 剔除交易建物是 0 個樓層的情況\n",
    "    df = df.loc[df['building_total_floors'] != 0]\n",
    "\n",
    "    # 因為車位交易 50 坪以上的資料只有 22 筆，所以先去除\n",
    "    # 因為浮點數在硬體儲存會有小數點，故不能直接用 == 50.0 去比較\n",
    "    df = df.loc[df['Parking_Area'] < 49.5]\n",
    "\n",
    "    # 把農舍，廠辦踢掉\n",
    "    df = df.loc[df['Building_Types'] < 8]\n",
    "\n",
    "    # 把超大轉移坪數刪掉\n",
    "    df = df.loc[df['Transfer_Total_Ping'] < 150]\n",
    "\n",
    "    # 我先刪除 area_m2, 因為覺得跟 area_ping 的意義很類似，但是不確定會不會有些微差距。\n",
    "    # 因為在 future data 中，manager 都是 0，所以也把這個欄位刪除\n",
    "    # trading_floor_count 有 0 的情況，這樣應該不是房屋交易\n",
    "    df = df.drop(columns=[ 'area_m2', 'manager', 'Building_Material_stone',\n",
    "                           ]) #'address','TDATE',, '編號','Total_price'\n",
    "\n",
    "    return df"
   ]
  },
  {
   "cell_type": "code",
   "execution_count": null,
   "id": "fa423993",
   "metadata": {},
   "outputs": [],
   "source": []
  }
 ],
 "metadata": {
  "kernelspec": {
   "display_name": "Python 3 (ipykernel)",
   "language": "python",
   "name": "python3"
  },
  "language_info": {
   "codemirror_mode": {
    "name": "ipython",
    "version": 3
   },
   "file_extension": ".py",
   "mimetype": "text/x-python",
   "name": "python",
   "nbconvert_exporter": "python",
   "pygments_lexer": "ipython3",
   "version": "3.10.4"
  }
 },
 "nbformat": 4,
 "nbformat_minor": 5
}
