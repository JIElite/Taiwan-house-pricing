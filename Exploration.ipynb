{
 "cells": [
  {
   "cell_type": "code",
   "execution_count": 17,
   "id": "3ed88e23",
   "metadata": {},
   "outputs": [],
   "source": [
    "import pandas as pd"
   ]
  },
  {
   "cell_type": "code",
   "execution_count": 18,
   "id": "c26b075a",
   "metadata": {},
   "outputs": [],
   "source": [
    "sale_data = pd.read_csv('./sale_data.csv', dtype=str)"
   ]
  },
  {
   "cell_type": "code",
   "execution_count": 19,
   "id": "a3d8bbde",
   "metadata": {},
   "outputs": [],
   "source": [
    "sale_future_data = pd.read_csv('./sale_future_data.csv', dtype=str)"
   ]
  },
  {
   "cell_type": "code",
   "execution_count": 4,
   "id": "08ebe84c",
   "metadata": {},
   "outputs": [
    {
     "data": {
      "text/plain": [
       "Index(['鄉鎮市區', '交易標的', '土地位置建物門牌', '土地移轉總面積平方公尺', '都市土地使用分區', '非都市土地使用分區',\n",
       "       '非都市土地使用編定', '交易年月日', '交易筆棟數', '移轉層次', '總樓層數', '建物型態', '主要用途', '主要建材',\n",
       "       '建築完成年月', '建物移轉總面積平方公尺', '建物現況格局-房', '建物現況格局-廳', '建物現況格局-衛',\n",
       "       '建物現況格局-隔間', '有無管理組織', '總價元', '單價元平方公尺', '車位類別', '車位移轉總面積(平方公尺)',\n",
       "       '車位總價元', '備註', '編號', '主建物面積', '附屬建物面積', '陽台面積', '電梯', '移轉編號'],\n",
       "      dtype='object')"
      ]
     },
     "execution_count": 4,
     "metadata": {},
     "output_type": "execute_result"
    }
   ],
   "source": [
    "sale_data.columns"
   ]
  },
  {
   "cell_type": "code",
   "execution_count": 20,
   "id": "cce3f7a6",
   "metadata": {},
   "outputs": [],
   "source": [
    "def encode_city_land_usage(x):\n",
    "    # Encode {'其他': 0, '住': 1, '農': 2, '工': 3, '商': 4, \n",
    "    #         '住商': 5, '其他住宅': 6, nan: nan}\n",
    "\n",
    "    # nan remains\n",
    "    if not isinstance(x, str):\n",
    "        return x\n",
    "\n",
    "    if '非都市' in x:\n",
    "        return \"\"\n",
    "\n",
    "    if '其他' in x:\n",
    "        end_idx = x.find('(') if '(' in x else len(x) + 1\n",
    "        if '住商' in x[:end_idx] or '住宅商業' in x[:end_idx]:\n",
    "            return 5\n",
    "        if '住宅' in x[:end_idx] or '住' in x[:end_idx]:\n",
    "            return 6\n",
    "        return 0\n",
    "\n",
    "    if '住' in x:\n",
    "        return 1\n",
    "    elif '農' in x:\n",
    "        return 2\n",
    "    elif '工' in x:\n",
    "        return 3\n",
    "    elif '商' in x:\n",
    "        return 4\n",
    "    else:\n",
    "        # There is no such case in the data\n",
    "        raise ValueError('Unexpected 都市使用分區:', x)"
   ]
  },
  {
   "cell_type": "code",
   "execution_count": 41,
   "id": "e4b97bf4",
   "metadata": {},
   "outputs": [],
   "source": [
    "def clean_invalid(dataframe):\n",
    "    \"\"\" Clean invalid data\n",
    "\n",
    "    *** This is a prerequisite of the following code cells ***\n",
    "    We transform the features based on the clean data\n",
    "    -------------------------------------------------------\n",
    "    Question: 是不是因為清完資料，都市住宅分區的 unique 才會變少？Yes\n",
    "    \"\"\"\n",
    "    dataframe = dataframe[(dataframe['交易標的']!='土地') & (~dataframe['交易標的'].isna())]\n",
    "    dataframe['Month'] = dataframe['交易年月日'].str[:-2].astype('float')\n",
    "    dataframe = dataframe.query(\"Month>=10601 and Month<=11003 \")\n",
    "    dataframe = dataframe[(dataframe.Month!=10600) & (dataframe.Month!=10700) & \\\n",
    "                          (dataframe.Month!=10800) & (dataframe.Month!=10900) & (dataframe.Month!=11000)]\n",
    "\n",
    "    return dataframe"
   ]
  },
  {
   "cell_type": "code",
   "execution_count": 21,
   "id": "dae8edfc",
   "metadata": {},
   "outputs": [],
   "source": [
    "data = sale_data['都市土地使用分區'].apply(encode_city_land_usage)"
   ]
  },
  {
   "cell_type": "code",
   "execution_count": 22,
   "id": "41ebff0b",
   "metadata": {},
   "outputs": [],
   "source": [
    "data2 = sale_future_data['都市土地使用分區'].apply(encode_city_land_usage)"
   ]
  },
  {
   "cell_type": "code",
   "execution_count": 52,
   "id": "5cfd168c",
   "metadata": {},
   "outputs": [
    {
     "name": "stdout",
     "output_type": "stream",
     "text": [
      "Q: 有多少交易標的中，電梯的欄位是 nan?\n",
      "房地(土地+建物) 451245\n",
      "車位 16429\n",
      "房地(土地+建物)+車位 296317\n",
      "建物 5393\n",
      "--------------------\n",
      "Q: 這些電梯欄位是 nan 的資料是分佈在哪些年月？\n",
      "1 10601.0\n",
      "2 10602.0\n",
      "3 10603.0\n",
      "4 10604.0\n",
      "5 10605.0\n",
      "6 10606.0\n",
      "7 10607.0\n",
      "8 10608.0\n",
      "9 10609.0\n",
      "10 10610.0\n",
      "11 10611.0\n",
      "12 10612.0\n",
      "13 10701.0\n",
      "14 10702.0\n",
      "15 10707.0\n",
      "16 10711.0\n",
      "17 10703.0\n",
      "18 10704.0\n",
      "19 10705.0\n",
      "20 10706.0\n",
      "21 10708.0\n",
      "22 10805.0\n",
      "23 10709.0\n",
      "24 10710.0\n",
      "25 10712.0\n",
      "26 10801.0\n",
      "27 10804.0\n",
      "28 10802.0\n",
      "29 10803.0\n",
      "30 10806.0\n",
      "31 10807.0\n",
      "32 10808.0\n",
      "33 10811.0\n",
      "34 10809.0\n",
      "35 10810.0\n",
      "36 10812.0\n",
      "37 10901.0\n",
      "38 10902.0\n",
      "39 10905.0\n",
      "40 10903.0\n",
      "41 10904.0\n",
      "42 10906.0\n",
      "43 10907.0\n",
      "44 10908.0\n",
      "45 10911.0\n",
      "46 10910.0\n",
      "47 10909.0\n",
      "48 10912.0\n",
      "49 11001.0\n",
      "50 11002.0\n",
      "51 11003.0\n"
     ]
    }
   ],
   "source": [
    "sale_data = clean_invalid(sale_data)\n",
    "none_elevator_df = sale_data.loc[sale_data['電梯'].isna()]\n",
    "# none_elevator_df.shape[0]\n",
    "\n",
    "print('Q: 有多少交易標的中，電梯的欄位是 nan?')\n",
    "for val in none_elevator_df['交易標的'].unique():\n",
    "    n_samples = none_elevator_df.loc[none_elevator_df['交易標的'] == val].shape[0]\n",
    "    print(val, n_samples)\n",
    "\n",
    "print('-'*20)\n",
    "print('Q: 這些電梯欄位是 nan 的資料是分佈在哪些年月？')\n",
    "for i, trading_time in enumerate(none_elevator_df['Month'].unique(), start=1):\n",
    "    print(i, trading_time)"
   ]
  },
  {
   "cell_type": "code",
   "execution_count": 11,
   "id": "d8322335",
   "metadata": {},
   "outputs": [
    {
     "name": "stdout",
     "output_type": "stream",
     "text": [
      "0            4\n",
      "1            1\n",
      "2            1\n",
      "3            1\n",
      "4            1\n",
      "          ... \n",
      "1840480    NaN\n",
      "1840481    NaN\n",
      "1840482    NaN\n",
      "1840483    NaN\n",
      "1840484    NaN\n",
      "Name: 都市土地使用分區, Length: 1840485, dtype: object\n"
     ]
    }
   ],
   "source": [
    "print(data)"
   ]
  },
  {
   "cell_type": "code",
   "execution_count": null,
   "id": "346f4d0e",
   "metadata": {},
   "outputs": [],
   "source": [
    "sale_data['鄉鎮市區'].unique()[:30]"
   ]
  },
  {
   "cell_type": "code",
   "execution_count": null,
   "id": "69f3e433",
   "metadata": {},
   "outputs": [],
   "source": [
    "sale_data['土地位置建物門牌'].unique()[:15]"
   ]
  },
  {
   "cell_type": "code",
   "execution_count": null,
   "id": "8f19b4b9",
   "metadata": {},
   "outputs": [],
   "source": [
    "sale_data.loc[sale_data['非都市土地使用分區'] == '森林區']['建物型態'].unique()"
   ]
  },
  {
   "cell_type": "code",
   "execution_count": null,
   "id": "2af61ca8",
   "metadata": {},
   "outputs": [],
   "source": [
    "sale_data['非都市土地使用編定'].unique()"
   ]
  },
  {
   "cell_type": "code",
   "execution_count": null,
   "id": "70556c47",
   "metadata": {},
   "outputs": [],
   "source": [
    "count = 0\n",
    "for data in sale_data['都市土地使用分區']:\n",
    "    if not isinstance(data, str):\n",
    "        continue\n",
    "\n",
    "    if '非都市' in data:\n",
    "        print(data)\n",
    "        count += 1\n",
    "\n",
    "print(count)"
   ]
  },
  {
   "cell_type": "code",
   "execution_count": null,
   "id": "a69bc25f",
   "metadata": {},
   "outputs": [],
   "source": [
    "sale_data['建物型態'].unique()"
   ]
  },
  {
   "cell_type": "code",
   "execution_count": null,
   "id": "d5bfe935",
   "metadata": {},
   "outputs": [],
   "source": [
    "sale_data.loc[sale_data['建物型態'] == '透天厝']['移轉層次'].unique()"
   ]
  },
  {
   "cell_type": "code",
   "execution_count": null,
   "id": "7af1f8c5",
   "metadata": {},
   "outputs": [],
   "source": [
    "sale_data.loc[sale_data['建物型態'] == '住宅大樓(11層含以上有電梯)']['移轉層次'].unique()"
   ]
  },
  {
   "cell_type": "code",
   "execution_count": null,
   "id": "bd960e01",
   "metadata": {},
   "outputs": [],
   "source": [
    "sale_future_data.loc[sale_future_data['建物型態'] == '透天厝']['移轉層次'].unique()"
   ]
  },
  {
   "cell_type": "code",
   "execution_count": null,
   "id": "b5ab0709",
   "metadata": {},
   "outputs": [],
   "source": [
    "sale_data['車位類別'].unique()"
   ]
  },
  {
   "cell_type": "code",
   "execution_count": null,
   "id": "7ab25c54",
   "metadata": {},
   "outputs": [],
   "source": [
    "sale_data['交易筆棟數'].unique()[:30]"
   ]
  },
  {
   "cell_type": "code",
   "execution_count": null,
   "id": "e754f352",
   "metadata": {},
   "outputs": [],
   "source": [
    "count = 0\n",
    "for data in sale_data.:\n",
    "    if '車位0' in sale_data['交易筆棟數']:\n",
    "        print(data)\n",
    "        count += 1\n",
    "        \n",
    "    if count > 100:\n",
    "        break"
   ]
  },
  {
   "cell_type": "code",
   "execution_count": null,
   "id": "4d5d93f4",
   "metadata": {},
   "outputs": [],
   "source": [
    "sale_data['車位類別'].unique()"
   ]
  },
  {
   "cell_type": "code",
   "execution_count": null,
   "id": "a1741c19",
   "metadata": {},
   "outputs": [],
   "source": [
    "sale_data['交易標的'].unique()"
   ]
  },
  {
   "cell_type": "code",
   "execution_count": null,
   "id": "a061506f",
   "metadata": {},
   "outputs": [],
   "source": [
    "sale_data.loc[sale_data['交易標的'] == '土地'].shape"
   ]
  },
  {
   "cell_type": "code",
   "execution_count": null,
   "id": "188a7af6",
   "metadata": {},
   "outputs": [],
   "source": [
    "sale_data['建物現況格局-廳'].unique()"
   ]
  },
  {
   "cell_type": "code",
   "execution_count": null,
   "id": "5993a666",
   "metadata": {},
   "outputs": [],
   "source": [
    "sale_data['建物現況格局-房'].unique()"
   ]
  },
  {
   "cell_type": "code",
   "execution_count": null,
   "id": "54b23075",
   "metadata": {},
   "outputs": [],
   "source": [
    "sale_data.loc[sale_data['建物現況格局-房'] == '250']"
   ]
  },
  {
   "cell_type": "code",
   "execution_count": null,
   "id": "7cf9b9f8",
   "metadata": {},
   "outputs": [],
   "source": [
    "sale_data['非都市土地使用編定'].unique()"
   ]
  },
  {
   "cell_type": "code",
   "execution_count": null,
   "id": "84c3b7d6",
   "metadata": {},
   "outputs": [],
   "source": [
    "sale_data['土地位置建物門牌'].unique()"
   ]
  },
  {
   "cell_type": "code",
   "execution_count": null,
   "id": "717399ef",
   "metadata": {},
   "outputs": [],
   "source": [
    "sale_data.loc[sale_data['土地位置建物門牌'] == '臺北市中正區和平西路一段６１號地下１.2.3.4層']"
   ]
  },
  {
   "cell_type": "code",
   "execution_count": null,
   "id": "8f4ea052",
   "metadata": {},
   "outputs": [],
   "source": [
    "sale_data['交易筆棟數'].unique().shape\n",
    "print(sale_data['交易筆棟數'].unique()[:50])"
   ]
  },
  {
   "cell_type": "code",
   "execution_count": null,
   "id": "7cf957c3",
   "metadata": {},
   "outputs": [],
   "source": [
    "for row in sale_data['備註'].unique()[:1000]:\n",
    "    print(row)"
   ]
  },
  {
   "cell_type": "code",
   "execution_count": null,
   "id": "4a114d7b",
   "metadata": {},
   "outputs": [],
   "source": [
    "sale_data['主要用途'].unique()[:100]"
   ]
  }
 ],
 "metadata": {
  "kernelspec": {
   "display_name": "Python 3 (ipykernel)",
   "language": "python",
   "name": "python3"
  },
  "language_info": {
   "codemirror_mode": {
    "name": "ipython",
    "version": 3
   },
   "file_extension": ".py",
   "mimetype": "text/x-python",
   "name": "python",
   "nbconvert_exporter": "python",
   "pygments_lexer": "ipython3",
   "version": "3.10.4"
  }
 },
 "nbformat": 4,
 "nbformat_minor": 5
}
