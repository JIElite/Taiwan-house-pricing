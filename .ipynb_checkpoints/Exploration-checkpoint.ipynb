{
 "cells": [
  {
   "cell_type": "code",
   "execution_count": 1,
   "id": "3ed88e23",
   "metadata": {},
   "outputs": [],
   "source": [
    "import pandas as pd"
   ]
  },
  {
   "cell_type": "code",
   "execution_count": 2,
   "id": "c26b075a",
   "metadata": {},
   "outputs": [],
   "source": [
    "sale_data = pd.read_csv('./sale_data.csv', dtype=str)"
   ]
  },
  {
   "cell_type": "code",
   "execution_count": 3,
   "id": "a3d8bbde",
   "metadata": {},
   "outputs": [],
   "source": [
    "sale_future_data = pd.read_csv('./sale_future_data.csv', dtype=str)"
   ]
  },
  {
   "cell_type": "code",
   "execution_count": 4,
   "id": "08ebe84c",
   "metadata": {},
   "outputs": [
    {
     "data": {
      "text/plain": [
       "Index(['鄉鎮市區', '交易標的', '土地位置建物門牌', '土地移轉總面積平方公尺', '都市土地使用分區', '非都市土地使用分區',\n",
       "       '非都市土地使用編定', '交易年月日', '交易筆棟數', '移轉層次', '總樓層數', '建物型態', '主要用途', '主要建材',\n",
       "       '建築完成年月', '建物移轉總面積平方公尺', '建物現況格局-房', '建物現況格局-廳', '建物現況格局-衛',\n",
       "       '建物現況格局-隔間', '有無管理組織', '總價元', '單價元平方公尺', '車位類別', '車位移轉總面積(平方公尺)',\n",
       "       '車位總價元', '備註', '編號', '主建物面積', '附屬建物面積', '陽台面積', '電梯', '移轉編號'],\n",
       "      dtype='object')"
      ]
     },
     "execution_count": 4,
     "metadata": {},
     "output_type": "execute_result"
    }
   ],
   "source": [
    "sale_data.columns"
   ]
  },
  {
   "cell_type": "code",
   "execution_count": null,
   "id": "f9378311",
   "metadata": {},
   "outputs": [],
   "source": []
  },
  {
   "cell_type": "code",
   "execution_count": null,
   "id": "346f4d0e",
   "metadata": {},
   "outputs": [],
   "source": [
    "sale_data['鄉鎮市區'].unique()[:30]"
   ]
  },
  {
   "cell_type": "code",
   "execution_count": null,
   "id": "69f3e433",
   "metadata": {},
   "outputs": [],
   "source": [
    "sale_data['土地位置建物門牌'].unique()[:15]"
   ]
  },
  {
   "cell_type": "code",
   "execution_count": null,
   "id": "8f19b4b9",
   "metadata": {},
   "outputs": [],
   "source": [
    "sale_data.loc[sale_data['非都市土地使用分區'] == '森林區']['建物型態'].unique()"
   ]
  },
  {
   "cell_type": "code",
   "execution_count": null,
   "id": "2af61ca8",
   "metadata": {},
   "outputs": [],
   "source": [
    "sale_data['非都市土地使用編定'].unique()"
   ]
  },
  {
   "cell_type": "code",
   "execution_count": null,
   "id": "70556c47",
   "metadata": {},
   "outputs": [],
   "source": [
    "count = 0\n",
    "for data in sale_data['都市土地使用分區']:\n",
    "    if not isinstance(data, str):\n",
    "        continue\n",
    "\n",
    "    if '非都市' in data:\n",
    "        print(data)\n",
    "        count += 1\n",
    "\n",
    "print(count)"
   ]
  },
  {
   "cell_type": "code",
   "execution_count": null,
   "id": "a69bc25f",
   "metadata": {},
   "outputs": [],
   "source": [
    "sale_data['建物型態'].unique()"
   ]
  },
  {
   "cell_type": "code",
   "execution_count": null,
   "id": "d5bfe935",
   "metadata": {},
   "outputs": [],
   "source": [
    "sale_data.loc[sale_data['建物型態'] == '透天厝']['移轉層次'].unique()"
   ]
  },
  {
   "cell_type": "code",
   "execution_count": null,
   "id": "7af1f8c5",
   "metadata": {},
   "outputs": [],
   "source": [
    "sale_data.loc[sale_data['建物型態'] == '住宅大樓(11層含以上有電梯)']['移轉層次'].unique()"
   ]
  },
  {
   "cell_type": "code",
   "execution_count": null,
   "id": "bd960e01",
   "metadata": {},
   "outputs": [],
   "source": [
    "sale_future_data.loc[sale_future_data['建物型態'] == '透天厝']['移轉層次'].unique()"
   ]
  },
  {
   "cell_type": "code",
   "execution_count": null,
   "id": "b5ab0709",
   "metadata": {},
   "outputs": [],
   "source": [
    "sale_data['車位類別'].unique()"
   ]
  },
  {
   "cell_type": "code",
   "execution_count": null,
   "id": "7ab25c54",
   "metadata": {},
   "outputs": [],
   "source": [
    "sale_data['交易筆棟數'].unique()[:30]"
   ]
  },
  {
   "cell_type": "code",
   "execution_count": null,
   "id": "e754f352",
   "metadata": {},
   "outputs": [],
   "source": [
    "count = 0\n",
    "for data in sale_data.:\n",
    "    if '車位0' in sale_data['交易筆棟數']:\n",
    "        print(data)\n",
    "        count += 1\n",
    "        \n",
    "    if count > 100:\n",
    "        break"
   ]
  },
  {
   "cell_type": "code",
   "execution_count": null,
   "id": "4d5d93f4",
   "metadata": {},
   "outputs": [],
   "source": [
    "sale_data['車位類別'].unique()"
   ]
  },
  {
   "cell_type": "code",
   "execution_count": null,
   "id": "a1741c19",
   "metadata": {},
   "outputs": [],
   "source": [
    "sale_data['交易標的'].unique()"
   ]
  },
  {
   "cell_type": "code",
   "execution_count": null,
   "id": "a061506f",
   "metadata": {},
   "outputs": [],
   "source": [
    "sale_data.loc[sale_data['交易標的'] == '土地'].shape"
   ]
  },
  {
   "cell_type": "code",
   "execution_count": null,
   "id": "188a7af6",
   "metadata": {},
   "outputs": [],
   "source": [
    "sale_data['建物現況格局-廳'].unique()"
   ]
  },
  {
   "cell_type": "code",
   "execution_count": null,
   "id": "5993a666",
   "metadata": {},
   "outputs": [],
   "source": [
    "sale_data['建物現況格局-房'].unique()"
   ]
  },
  {
   "cell_type": "code",
   "execution_count": null,
   "id": "54b23075",
   "metadata": {},
   "outputs": [],
   "source": [
    "sale_data.loc[sale_data['建物現況格局-房'] == '250']"
   ]
  },
  {
   "cell_type": "code",
   "execution_count": null,
   "id": "7cf9b9f8",
   "metadata": {},
   "outputs": [],
   "source": [
    "sale_data['非都市土地使用編定'].unique()"
   ]
  },
  {
   "cell_type": "code",
   "execution_count": null,
   "id": "84c3b7d6",
   "metadata": {},
   "outputs": [],
   "source": [
    "sale_data['土地位置建物門牌'].unique()"
   ]
  },
  {
   "cell_type": "code",
   "execution_count": null,
   "id": "717399ef",
   "metadata": {},
   "outputs": [],
   "source": [
    "sale_data.loc[sale_data['土地位置建物門牌'] == '臺北市中正區和平西路一段６１號地下１.2.3.4層']"
   ]
  },
  {
   "cell_type": "code",
   "execution_count": null,
   "id": "8f4ea052",
   "metadata": {},
   "outputs": [],
   "source": [
    "sale_data['交易筆棟數'].unique().shape\n",
    "print(sale_data['交易筆棟數'].unique()[:50])"
   ]
  },
  {
   "cell_type": "code",
   "execution_count": null,
   "id": "7cf957c3",
   "metadata": {},
   "outputs": [],
   "source": [
    "for row in sale_data['備註'].unique()[:1000]:\n",
    "    print(row)"
   ]
  },
  {
   "cell_type": "code",
   "execution_count": null,
   "id": "4a114d7b",
   "metadata": {},
   "outputs": [],
   "source": [
    "sale_data['主要用途'].unique()[:100]"
   ]
  },
  {
   "cell_type": "code",
   "execution_count": null,
   "id": "2fd95722",
   "metadata": {},
   "outputs": [],
   "source": []
  }
 ],
 "metadata": {
  "kernelspec": {
   "display_name": "Python 3 (ipykernel)",
   "language": "python",
   "name": "python3"
  },
  "language_info": {
   "codemirror_mode": {
    "name": "ipython",
    "version": 3
   },
   "file_extension": ".py",
   "mimetype": "text/x-python",
   "name": "python",
   "nbconvert_exporter": "python",
   "pygments_lexer": "ipython3",
   "version": "3.10.4"
  }
 },
 "nbformat": 4,
 "nbformat_minor": 5
}
